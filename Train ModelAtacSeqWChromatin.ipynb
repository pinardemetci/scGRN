{
 "cells": [
  {
   "cell_type": "markdown",
   "id": "f8e937c5",
   "metadata": {},
   "source": [
    "# Train model using Mouse Brain dataset"
   ]
  },
  {
   "cell_type": "markdown",
   "id": "df641d71",
   "metadata": {},
   "source": [
    "In this notebook, we're going to train our model using the Mouse Brain dataset (GSE60361). \n",
    "\n",
    "This assumes that you've made the graph using the ```Infer GRN.ipynb``` code."
   ]
  },
  {
   "cell_type": "code",
   "execution_count": 1,
   "id": "65a9a75a",
   "metadata": {},
   "outputs": [
    {
     "name": "stdout",
     "output_type": "stream",
     "text": [
      "Torch version: 1.8.0+cu111\n",
      "Cuda available: True\n",
      "Torch geometric version: 2.0.3\n"
     ]
    }
   ],
   "source": [
    "import os\n",
    "\n",
    "import numpy as np\n",
    "import pandas as pd\n",
    "import torch\n",
    "import torch_geometric\n",
    "from torch_geometric.data import Data, Dataset\n",
    "from tqdm import tqdm\n",
    "from datasets.datasetAtacSeqChromatin import AtacSeqChromatinDataset\n",
    "from scipy.special import softmax\n",
    "%matplotlib inline\n",
    "import matplotlib.pyplot as plt\n",
    "from sklearn.manifold import TSNE\n",
    "from tqdm import tqdm\n",
    "from sklearn.metrics import (auc, precision_recall_curve, roc_auc_score,\n",
    "                             roc_curve)\n",
    "from statistics import mean"
   ]
  },
  {
   "cell_type": "markdown",
   "id": "419e7c62",
   "metadata": {},
   "source": [
    "Load up the dataset. Read ```datasetMouseBrain.py``` on how the dataset was built. "
   ]
  },
  {
   "cell_type": "code",
   "execution_count": 2,
   "id": "2da40b66",
   "metadata": {},
   "outputs": [
    {
     "name": "stderr",
     "output_type": "stream",
     "text": [
      "100%|██████████| 103480/103480 [01:28<00:00, 1163.66it/s]\n"
     ]
    }
   ],
   "source": [
    "dataset = AtacSeqChromatinDataset(\"/gpfs/data/rsingh47/hzaki1/atacseqdataChromatin\")"
   ]
  },
  {
   "cell_type": "code",
   "execution_count": 3,
   "id": "fefcae56",
   "metadata": {},
   "outputs": [
    {
     "name": "stdout",
     "output_type": "stream",
     "text": [
      "\n",
      "Dataset: AtacSeqChromatinDataset(1047):\n",
      "====================\n",
      "Number of graphs: 1047\n",
      "Number of features: 2\n",
      "\n",
      "Data(x=[18666, 2], edge_index=[2, 103480], y=[1])\n",
      "=============================================================\n",
      "Number of nodes: 18666\n",
      "Number of edges: 103480\n",
      "Average node degree: 5.54\n",
      "Contains isolated nodes: True\n",
      "Contains self-loops: False\n"
     ]
    },
    {
     "name": "stderr",
     "output_type": "stream",
     "text": [
      "/gpfs/home/hzaki1/celltypefromgrn/env-gpu/lib/python3.7/site-packages/torch_geometric/deprecation.py:13: UserWarning: 'contains_isolated_nodes' is deprecated, use 'has_isolated_nodes' instead\n",
      "  warnings.warn(out)\n",
      "/gpfs/home/hzaki1/celltypefromgrn/env-gpu/lib/python3.7/site-packages/torch_geometric/deprecation.py:13: UserWarning: 'contains_self_loops' is deprecated, use 'has_self_loops' instead\n",
      "  warnings.warn(out)\n"
     ]
    },
    {
     "name": "stdout",
     "output_type": "stream",
     "text": [
      "Is undirected: False\n"
     ]
    }
   ],
   "source": [
    "print()\n",
    "print(f'Dataset: {dataset}:')\n",
    "print('====================')\n",
    "print(f'Number of graphs: {len(dataset)}')\n",
    "print(f'Number of features: {dataset.num_features}')\n",
    "\n",
    "data = dataset[0]  # Get the first graph object.\n",
    "\n",
    "print()\n",
    "print(data)\n",
    "print('=============================================================')\n",
    "\n",
    "# Gather some statistics about the first graph.\n",
    "print(f'Number of nodes: {data.num_nodes}')\n",
    "print(f'Number of edges: {data.num_edges}')\n",
    "print(f'Average node degree: {data.num_edges / data.num_nodes:.2f}')\n",
    "print(f'Contains isolated nodes: {data.contains_isolated_nodes()}')\n",
    "print(f'Contains self-loops: {data.contains_self_loops()}')\n",
    "print(f'Is undirected: {data.is_undirected()}')"
   ]
  },
  {
   "cell_type": "code",
   "execution_count": 4,
   "id": "8a66c7cb",
   "metadata": {},
   "outputs": [
    {
     "name": "stdout",
     "output_type": "stream",
     "text": [
      "Number of training graphs: 837\n",
      "Number of validation graphs: 105\n",
      "Number of test graphs: 105\n"
     ]
    }
   ],
   "source": [
    "shuffle_index = np.loadtxt('shuffle_indices/atacseqShuffleIndex.txt')\n",
    "shuffle_index = shuffle_index.astype(np.int32)\n",
    "train_size, val_size = int(len(shuffle_index)* 0.8), int(len(shuffle_index)* 0.9)\n",
    "train_dataset = [dataset[i] for i in shuffle_index[0:train_size]]\n",
    "val_dataset = [dataset[i] for i in shuffle_index[train_size: val_size]]\n",
    "test_dataset =  [dataset[i] for i in shuffle_index[val_size:]]\n",
    "\n",
    "# train_dataset = torch.load('trainDataset.pt')\n",
    "# test_dataset = torch.load('testDataset.pt')\n",
    "\n",
    "# train_dataset = dataset[:837]\n",
    "# test_dataset = dataset[837:]\n",
    "\n",
    "# train_dataset = dataset[:40]\n",
    "# test_dataset = dataset[40:60]\n",
    "\n",
    "print(f'Number of training graphs: {len(train_dataset)}')\n",
    "print(f'Number of validation graphs: {len(val_dataset)}')\n",
    "print(f'Number of test graphs: {len(test_dataset)}')"
   ]
  },
  {
   "cell_type": "code",
   "execution_count": 5,
   "id": "5dce17cb",
   "metadata": {},
   "outputs": [
    {
     "name": "stderr",
     "output_type": "stream",
     "text": [
      "/gpfs/home/hzaki1/celltypefromgrn/env-gpu/lib/python3.7/site-packages/torch_geometric/deprecation.py:13: UserWarning: 'data.DataLoader' is deprecated, use 'loader.DataLoader' instead\n",
      "  warnings.warn(out)\n"
     ]
    }
   ],
   "source": [
    "from torch_geometric.data import DataLoader\n",
    "\n",
    "train_loader = DataLoader(train_dataset, batch_size=30, shuffle=True)\n",
    "train_loader_testing = DataLoader(train_dataset, batch_size=1, shuffle=True)\n",
    "test_loader = DataLoader(test_dataset, batch_size=1, shuffle=False)"
   ]
  },
  {
   "cell_type": "code",
   "execution_count": 6,
   "id": "ad8a9de2",
   "metadata": {},
   "outputs": [
    {
     "name": "stdout",
     "output_type": "stream",
     "text": [
      "GCN(\n",
      "  (conv1): SAGEConv(2, 128)\n",
      "  (conv2): SAGEConv(128, 128)\n",
      "  (conv3): SAGEConv(128, 128)\n",
      "  (lin): Linear(in_features=128, out_features=4, bias=True)\n",
      ")\n"
     ]
    }
   ],
   "source": [
    "from gcnmodel import GCN\n",
    "device = torch.device('cuda' if torch.cuda.is_available() else 'cpu')\n",
    "\n",
    "model = GCN(hidden_channels=128, data=dataset, output_size=4).to(device)\n",
    "print(model)"
   ]
  },
  {
   "cell_type": "code",
   "execution_count": 7,
   "id": "783ea868",
   "metadata": {
    "scrolled": true
   },
   "outputs": [
    {
     "name": "stderr",
     "output_type": "stream",
     "text": [
      "100%|██████████| 28/28 [00:17<00:00,  1.64it/s]\n"
     ]
    },
    {
     "name": "stdout",
     "output_type": "stream",
     "text": [
      "Epoch: 001, Train Acc: 0.3859, Train AUC: 0.6663, Train AUPR: 0.3924, Test Acc: 0.4095, Test Auc: 0.6786, Test AUPR: 0.3974,  Loss: 1.3101\n"
     ]
    },
    {
     "name": "stderr",
     "output_type": "stream",
     "text": [
      "100%|██████████| 28/28 [00:08<00:00,  3.29it/s]\n"
     ]
    },
    {
     "name": "stdout",
     "output_type": "stream",
     "text": [
      "Epoch: 002, Train Acc: 0.4313, Train AUC: 0.6830, Train AUPR: 0.4098, Test Acc: 0.4190, Test Auc: 0.6753, Test AUPR: 0.3802,  Loss: 1.2746\n"
     ]
    },
    {
     "name": "stderr",
     "output_type": "stream",
     "text": [
      "100%|██████████| 28/28 [00:07<00:00,  3.84it/s]\n"
     ]
    },
    {
     "name": "stdout",
     "output_type": "stream",
     "text": [
      "Epoch: 003, Train Acc: 0.4456, Train AUC: 0.6841, Train AUPR: 0.4147, Test Acc: 0.4190, Test Auc: 0.6708, Test AUPR: 0.3685,  Loss: 1.2283\n"
     ]
    },
    {
     "name": "stderr",
     "output_type": "stream",
     "text": [
      "100%|██████████| 28/28 [00:07<00:00,  3.66it/s]\n"
     ]
    },
    {
     "name": "stdout",
     "output_type": "stream",
     "text": [
      "Epoch: 004, Train Acc: 0.4552, Train AUC: 0.6833, Train AUPR: 0.4158, Test Acc: 0.4000, Test Auc: 0.6589, Test AUPR: 0.3579,  Loss: 1.2355\n"
     ]
    },
    {
     "name": "stderr",
     "output_type": "stream",
     "text": [
      "100%|██████████| 28/28 [00:07<00:00,  3.83it/s]\n"
     ]
    },
    {
     "name": "stdout",
     "output_type": "stream",
     "text": [
      "Epoch: 005, Train Acc: 0.4898, Train AUC: 0.7008, Train AUPR: 0.4337, Test Acc: 0.4190, Test Auc: 0.6727, Test AUPR: 0.3652,  Loss: 1.2167\n"
     ]
    },
    {
     "name": "stderr",
     "output_type": "stream",
     "text": [
      "100%|██████████| 28/28 [00:08<00:00,  3.27it/s]\n"
     ]
    },
    {
     "name": "stdout",
     "output_type": "stream",
     "text": [
      "Epoch: 006, Train Acc: 0.4600, Train AUC: 0.7101, Train AUPR: 0.4431, Test Acc: 0.4476, Test Auc: 0.7077, Test AUPR: 0.4250,  Loss: 1.1825\n"
     ]
    },
    {
     "name": "stderr",
     "output_type": "stream",
     "text": [
      "100%|██████████| 28/28 [00:08<00:00,  3.45it/s]\n"
     ]
    },
    {
     "name": "stdout",
     "output_type": "stream",
     "text": [
      "Epoch: 007, Train Acc: 0.4767, Train AUC: 0.7149, Train AUPR: 0.4460, Test Acc: 0.4095, Test Auc: 0.6802, Test AUPR: 0.3867,  Loss: 1.1922\n"
     ]
    },
    {
     "name": "stderr",
     "output_type": "stream",
     "text": [
      "100%|██████████| 28/28 [00:09<00:00,  2.99it/s]\n"
     ]
    },
    {
     "name": "stdout",
     "output_type": "stream",
     "text": [
      "Epoch: 008, Train Acc: 0.4863, Train AUC: 0.7285, Train AUPR: 0.4716, Test Acc: 0.4476, Test Auc: 0.6912, Test AUPR: 0.4036,  Loss: 1.1807\n"
     ]
    },
    {
     "name": "stderr",
     "output_type": "stream",
     "text": [
      "100%|██████████| 28/28 [00:07<00:00,  3.56it/s]\n"
     ]
    },
    {
     "name": "stdout",
     "output_type": "stream",
     "text": [
      "Epoch: 009, Train Acc: 0.4958, Train AUC: 0.7289, Train AUPR: 0.4651, Test Acc: 0.4476, Test Auc: 0.6929, Test AUPR: 0.4009,  Loss: 1.1781\n"
     ]
    },
    {
     "name": "stderr",
     "output_type": "stream",
     "text": [
      "100%|██████████| 28/28 [00:07<00:00,  3.51it/s]\n"
     ]
    },
    {
     "name": "stdout",
     "output_type": "stream",
     "text": [
      "Epoch: 010, Train Acc: 0.5018, Train AUC: 0.7305, Train AUPR: 0.4759, Test Acc: 0.5143, Test Auc: 0.6952, Test AUPR: 0.4109,  Loss: 1.1744\n"
     ]
    },
    {
     "name": "stderr",
     "output_type": "stream",
     "text": [
      "100%|██████████| 28/28 [00:07<00:00,  3.56it/s]\n"
     ]
    },
    {
     "name": "stdout",
     "output_type": "stream",
     "text": [
      "Epoch: 011, Train Acc: 0.5281, Train AUC: 0.7435, Train AUPR: 0.4870, Test Acc: 0.4286, Test Auc: 0.6888, Test AUPR: 0.3876,  Loss: 1.1540\n"
     ]
    },
    {
     "name": "stderr",
     "output_type": "stream",
     "text": [
      "100%|██████████| 28/28 [00:07<00:00,  3.78it/s]\n"
     ]
    },
    {
     "name": "stdout",
     "output_type": "stream",
     "text": [
      "Epoch: 012, Train Acc: 0.4731, Train AUC: 0.7327, Train AUPR: 0.4762, Test Acc: 0.4095, Test Auc: 0.6607, Test AUPR: 0.3626,  Loss: 1.1753\n"
     ]
    },
    {
     "name": "stderr",
     "output_type": "stream",
     "text": [
      "100%|██████████| 28/28 [00:08<00:00,  3.19it/s]\n"
     ]
    },
    {
     "name": "stdout",
     "output_type": "stream",
     "text": [
      "Epoch: 013, Train Acc: 0.4767, Train AUC: 0.7322, Train AUPR: 0.4708, Test Acc: 0.4857, Test Auc: 0.6997, Test AUPR: 0.4046,  Loss: 1.1610\n"
     ]
    },
    {
     "name": "stderr",
     "output_type": "stream",
     "text": [
      "100%|██████████| 28/28 [00:07<00:00,  3.97it/s]\n"
     ]
    },
    {
     "name": "stdout",
     "output_type": "stream",
     "text": [
      "Epoch: 014, Train Acc: 0.5006, Train AUC: 0.7382, Train AUPR: 0.4874, Test Acc: 0.4476, Test Auc: 0.6962, Test AUPR: 0.4040,  Loss: 1.1501\n"
     ]
    },
    {
     "name": "stderr",
     "output_type": "stream",
     "text": [
      "100%|██████████| 28/28 [00:09<00:00,  2.90it/s]\n"
     ]
    },
    {
     "name": "stdout",
     "output_type": "stream",
     "text": [
      "Epoch: 015, Train Acc: 0.5173, Train AUC: 0.7470, Train AUPR: 0.4889, Test Acc: 0.5143, Test Auc: 0.7104, Test AUPR: 0.4218,  Loss: 1.1538\n"
     ]
    },
    {
     "name": "stderr",
     "output_type": "stream",
     "text": [
      "100%|██████████| 28/28 [00:07<00:00,  3.97it/s]\n"
     ]
    },
    {
     "name": "stdout",
     "output_type": "stream",
     "text": [
      "Epoch: 016, Train Acc: 0.5054, Train AUC: 0.7517, Train AUPR: 0.5027, Test Acc: 0.4095, Test Auc: 0.6932, Test AUPR: 0.3926,  Loss: 1.1418\n"
     ]
    },
    {
     "name": "stderr",
     "output_type": "stream",
     "text": [
      "100%|██████████| 28/28 [00:09<00:00,  2.93it/s]\n"
     ]
    },
    {
     "name": "stdout",
     "output_type": "stream",
     "text": [
      "Epoch: 017, Train Acc: 0.5257, Train AUC: 0.7536, Train AUPR: 0.4934, Test Acc: 0.4667, Test Auc: 0.6978, Test AUPR: 0.4002,  Loss: 1.1371\n"
     ]
    },
    {
     "name": "stderr",
     "output_type": "stream",
     "text": [
      "100%|██████████| 28/28 [00:07<00:00,  3.96it/s]\n"
     ]
    },
    {
     "name": "stdout",
     "output_type": "stream",
     "text": [
      "Epoch: 018, Train Acc: 0.5424, Train AUC: 0.7652, Train AUPR: 0.5126, Test Acc: 0.4857, Test Auc: 0.7057, Test AUPR: 0.3977,  Loss: 1.1289\n"
     ]
    },
    {
     "name": "stderr",
     "output_type": "stream",
     "text": [
      "100%|██████████| 28/28 [00:08<00:00,  3.23it/s]\n"
     ]
    },
    {
     "name": "stdout",
     "output_type": "stream",
     "text": [
      "Epoch: 019, Train Acc: 0.5388, Train AUC: 0.7668, Train AUPR: 0.5254, Test Acc: 0.4667, Test Auc: 0.7162, Test AUPR: 0.4198,  Loss: 1.1144\n"
     ]
    },
    {
     "name": "stderr",
     "output_type": "stream",
     "text": [
      "100%|██████████| 28/28 [00:07<00:00,  3.81it/s]\n"
     ]
    },
    {
     "name": "stdout",
     "output_type": "stream",
     "text": [
      "Epoch: 020, Train Acc: 0.5424, Train AUC: 0.7761, Train AUPR: 0.5327, Test Acc: 0.3810, Test Auc: 0.7157, Test AUPR: 0.4023,  Loss: 1.0991\n"
     ]
    },
    {
     "name": "stderr",
     "output_type": "stream",
     "text": [
      "100%|██████████| 28/28 [00:07<00:00,  3.95it/s]\n"
     ]
    },
    {
     "name": "stdout",
     "output_type": "stream",
     "text": [
      "Epoch: 021, Train Acc: 0.5233, Train AUC: 0.7714, Train AUPR: 0.5205, Test Acc: 0.4190, Test Auc: 0.7129, Test AUPR: 0.4017,  Loss: 1.1231\n"
     ]
    },
    {
     "name": "stderr",
     "output_type": "stream",
     "text": [
      "100%|██████████| 28/28 [00:11<00:00,  2.40it/s]\n"
     ]
    },
    {
     "name": "stdout",
     "output_type": "stream",
     "text": [
      "Epoch: 022, Train Acc: 0.5114, Train AUC: 0.7661, Train AUPR: 0.5157, Test Acc: 0.4476, Test Auc: 0.7201, Test AUPR: 0.4082,  Loss: 1.1006\n"
     ]
    },
    {
     "name": "stderr",
     "output_type": "stream",
     "text": [
      "100%|██████████| 28/28 [00:07<00:00,  3.96it/s]\n"
     ]
    },
    {
     "name": "stdout",
     "output_type": "stream",
     "text": [
      "Epoch: 023, Train Acc: 0.5233, Train AUC: 0.7764, Train AUPR: 0.5327, Test Acc: 0.4667, Test Auc: 0.7192, Test AUPR: 0.3962,  Loss: 1.1118\n"
     ]
    },
    {
     "name": "stderr",
     "output_type": "stream",
     "text": [
      "100%|██████████| 28/28 [00:10<00:00,  2.68it/s]\n"
     ]
    },
    {
     "name": "stdout",
     "output_type": "stream",
     "text": [
      "Epoch: 024, Train Acc: 0.5472, Train AUC: 0.7886, Train AUPR: 0.5519, Test Acc: 0.4571, Test Auc: 0.7274, Test AUPR: 0.4195,  Loss: 1.0905\n"
     ]
    },
    {
     "name": "stderr",
     "output_type": "stream",
     "text": [
      "100%|██████████| 28/28 [00:07<00:00,  3.88it/s]\n"
     ]
    },
    {
     "name": "stdout",
     "output_type": "stream",
     "text": [
      "Epoch: 025, Train Acc: 0.5221, Train AUC: 0.7898, Train AUPR: 0.5571, Test Acc: 0.5524, Test Auc: 0.7491, Test AUPR: 0.4544,  Loss: 1.0809\n"
     ]
    },
    {
     "name": "stderr",
     "output_type": "stream",
     "text": [
      "100%|██████████| 28/28 [00:12<00:00,  2.33it/s]\n"
     ]
    },
    {
     "name": "stdout",
     "output_type": "stream",
     "text": [
      "Epoch: 026, Train Acc: 0.5675, Train AUC: 0.7968, Train AUPR: 0.5608, Test Acc: 0.5524, Test Auc: 0.7760, Test AUPR: 0.5257,  Loss: 1.0726\n"
     ]
    },
    {
     "name": "stderr",
     "output_type": "stream",
     "text": [
      "100%|██████████| 28/28 [00:07<00:00,  3.78it/s]\n"
     ]
    },
    {
     "name": "stdout",
     "output_type": "stream",
     "text": [
      "Epoch: 027, Train Acc: 0.5568, Train AUC: 0.7962, Train AUPR: 0.5518, Test Acc: 0.4952, Test Auc: 0.7554, Test AUPR: 0.4642,  Loss: 1.0594\n"
     ]
    },
    {
     "name": "stderr",
     "output_type": "stream",
     "text": [
      "100%|██████████| 28/28 [00:10<00:00,  2.73it/s]\n"
     ]
    },
    {
     "name": "stdout",
     "output_type": "stream",
     "text": [
      "Epoch: 028, Train Acc: 0.5651, Train AUC: 0.8042, Train AUPR: 0.5789, Test Acc: 0.4857, Test Auc: 0.7537, Test AUPR: 0.4357,  Loss: 1.0729\n"
     ]
    },
    {
     "name": "stderr",
     "output_type": "stream",
     "text": [
      "100%|██████████| 28/28 [00:07<00:00,  3.81it/s]\n"
     ]
    },
    {
     "name": "stdout",
     "output_type": "stream",
     "text": [
      "Epoch: 029, Train Acc: 0.5950, Train AUC: 0.8143, Train AUPR: 0.5938, Test Acc: 0.4952, Test Auc: 0.7768, Test AUPR: 0.4866,  Loss: 1.0572\n"
     ]
    },
    {
     "name": "stderr",
     "output_type": "stream",
     "text": [
      "100%|██████████| 28/28 [00:11<00:00,  2.39it/s]\n"
     ]
    },
    {
     "name": "stdout",
     "output_type": "stream",
     "text": [
      "Epoch: 030, Train Acc: 0.5723, Train AUC: 0.8047, Train AUPR: 0.5830, Test Acc: 0.4952, Test Auc: 0.7495, Test AUPR: 0.4344,  Loss: 1.0627\n"
     ]
    },
    {
     "name": "stderr",
     "output_type": "stream",
     "text": [
      "100%|██████████| 28/28 [00:09<00:00,  2.86it/s]\n"
     ]
    },
    {
     "name": "stdout",
     "output_type": "stream",
     "text": [
      "Epoch: 031, Train Acc: 0.5723, Train AUC: 0.8127, Train AUPR: 0.5886, Test Acc: 0.5048, Test Auc: 0.7600, Test AUPR: 0.4596,  Loss: 1.0439\n"
     ]
    },
    {
     "name": "stderr",
     "output_type": "stream",
     "text": [
      "100%|██████████| 28/28 [00:06<00:00,  4.00it/s]\n"
     ]
    },
    {
     "name": "stdout",
     "output_type": "stream",
     "text": [
      "Epoch: 032, Train Acc: 0.5508, Train AUC: 0.8132, Train AUPR: 0.5888, Test Acc: 0.4952, Test Auc: 0.7610, Test AUPR: 0.4685,  Loss: 1.0243\n"
     ]
    },
    {
     "name": "stderr",
     "output_type": "stream",
     "text": [
      "100%|██████████| 28/28 [00:12<00:00,  2.30it/s]\n"
     ]
    },
    {
     "name": "stdout",
     "output_type": "stream",
     "text": [
      "Epoch: 033, Train Acc: 0.5795, Train AUC: 0.8169, Train AUPR: 0.5999, Test Acc: 0.5429, Test Auc: 0.7730, Test AUPR: 0.4726,  Loss: 1.0488\n"
     ]
    },
    {
     "name": "stderr",
     "output_type": "stream",
     "text": [
      "100%|██████████| 28/28 [00:06<00:00,  4.05it/s]\n"
     ]
    },
    {
     "name": "stdout",
     "output_type": "stream",
     "text": [
      "Epoch: 034, Train Acc: 0.5926, Train AUC: 0.8247, Train AUPR: 0.6139, Test Acc: 0.5524, Test Auc: 0.7915, Test AUPR: 0.5193,  Loss: 1.0274\n"
     ]
    },
    {
     "name": "stderr",
     "output_type": "stream",
     "text": [
      "100%|██████████| 28/28 [00:13<00:00,  2.08it/s]\n"
     ]
    },
    {
     "name": "stdout",
     "output_type": "stream",
     "text": [
      "Epoch: 035, Train Acc: 0.5544, Train AUC: 0.8210, Train AUPR: 0.6195, Test Acc: 0.4476, Test Auc: 0.7390, Test AUPR: 0.4171,  Loss: 0.9892\n"
     ]
    },
    {
     "name": "stderr",
     "output_type": "stream",
     "text": [
      "100%|██████████| 28/28 [00:09<00:00,  3.05it/s]\n"
     ]
    },
    {
     "name": "stdout",
     "output_type": "stream",
     "text": [
      "Epoch: 036, Train Acc: 0.5352, Train AUC: 0.8231, Train AUPR: 0.6040, Test Acc: 0.4476, Test Auc: 0.7735, Test AUPR: 0.5068,  Loss: 1.0561\n"
     ]
    },
    {
     "name": "stderr",
     "output_type": "stream",
     "text": [
      "100%|██████████| 28/28 [00:08<00:00,  3.32it/s]\n"
     ]
    },
    {
     "name": "stdout",
     "output_type": "stream",
     "text": [
      "Epoch: 037, Train Acc: 0.5950, Train AUC: 0.8347, Train AUPR: 0.6309, Test Acc: 0.4952, Test Auc: 0.7740, Test AUPR: 0.4751,  Loss: 1.0079\n"
     ]
    },
    {
     "name": "stderr",
     "output_type": "stream",
     "text": [
      "100%|██████████| 28/28 [00:11<00:00,  2.34it/s]\n"
     ]
    },
    {
     "name": "stdout",
     "output_type": "stream",
     "text": [
      "Epoch: 038, Train Acc: 0.6045, Train AUC: 0.8443, Train AUPR: 0.6571, Test Acc: 0.5143, Test Auc: 0.7775, Test AUPR: 0.4779,  Loss: 0.9796\n"
     ]
    },
    {
     "name": "stderr",
     "output_type": "stream",
     "text": [
      "100%|██████████| 28/28 [00:12<00:00,  2.22it/s]\n"
     ]
    },
    {
     "name": "stdout",
     "output_type": "stream",
     "text": [
      "Epoch: 039, Train Acc: 0.6380, Train AUC: 0.8557, Train AUPR: 0.6735, Test Acc: 0.5810, Test Auc: 0.7905, Test AUPR: 0.5177,  Loss: 1.0083\n"
     ]
    },
    {
     "name": "stderr",
     "output_type": "stream",
     "text": [
      "100%|██████████| 28/28 [00:11<00:00,  2.37it/s]\n"
     ]
    },
    {
     "name": "stdout",
     "output_type": "stream",
     "text": [
      "Epoch: 040, Train Acc: 0.6344, Train AUC: 0.8635, Train AUPR: 0.6926, Test Acc: 0.5333, Test Auc: 0.7805, Test AUPR: 0.5030,  Loss: 0.9540\n"
     ]
    },
    {
     "name": "stderr",
     "output_type": "stream",
     "text": [
      "100%|██████████| 28/28 [00:11<00:00,  2.39it/s]\n"
     ]
    },
    {
     "name": "stdout",
     "output_type": "stream",
     "text": [
      "Epoch: 041, Train Acc: 0.6631, Train AUC: 0.8601, Train AUPR: 0.6907, Test Acc: 0.5810, Test Auc: 0.7865, Test AUPR: 0.5282,  Loss: 0.9696\n"
     ]
    },
    {
     "name": "stderr",
     "output_type": "stream",
     "text": [
      "100%|██████████| 28/28 [00:11<00:00,  2.47it/s]\n"
     ]
    },
    {
     "name": "stdout",
     "output_type": "stream",
     "text": [
      "Epoch: 042, Train Acc: 0.6691, Train AUC: 0.8776, Train AUPR: 0.7044, Test Acc: 0.5524, Test Auc: 0.8115, Test AUPR: 0.5590,  Loss: 0.9263\n"
     ]
    },
    {
     "name": "stderr",
     "output_type": "stream",
     "text": [
      "100%|██████████| 28/28 [00:11<00:00,  2.47it/s]\n"
     ]
    },
    {
     "name": "stdout",
     "output_type": "stream",
     "text": [
      "Epoch: 043, Train Acc: 0.7037, Train AUC: 0.8943, Train AUPR: 0.7395, Test Acc: 0.5810, Test Auc: 0.8237, Test AUPR: 0.5887,  Loss: 0.8886\n"
     ]
    },
    {
     "name": "stderr",
     "output_type": "stream",
     "text": [
      "100%|██████████| 28/28 [00:11<00:00,  2.40it/s]\n"
     ]
    },
    {
     "name": "stdout",
     "output_type": "stream",
     "text": [
      "Epoch: 044, Train Acc: 0.6834, Train AUC: 0.8897, Train AUPR: 0.7268, Test Acc: 0.5905, Test Auc: 0.8184, Test AUPR: 0.5632,  Loss: 0.8441\n"
     ]
    },
    {
     "name": "stderr",
     "output_type": "stream",
     "text": [
      "100%|██████████| 28/28 [00:12<00:00,  2.25it/s]\n"
     ]
    },
    {
     "name": "stdout",
     "output_type": "stream",
     "text": [
      "Epoch: 045, Train Acc: 0.6571, Train AUC: 0.8912, Train AUPR: 0.7248, Test Acc: 0.6095, Test Auc: 0.8320, Test AUPR: 0.5939,  Loss: 0.8687\n"
     ]
    },
    {
     "name": "stderr",
     "output_type": "stream",
     "text": [
      "100%|██████████| 28/28 [00:12<00:00,  2.20it/s]\n"
     ]
    },
    {
     "name": "stdout",
     "output_type": "stream",
     "text": [
      "Epoch: 046, Train Acc: 0.6428, Train AUC: 0.8822, Train AUPR: 0.7007, Test Acc: 0.6000, Test Auc: 0.8245, Test AUPR: 0.6131,  Loss: 0.8726\n"
     ]
    },
    {
     "name": "stderr",
     "output_type": "stream",
     "text": [
      "100%|██████████| 28/28 [00:10<00:00,  2.56it/s]\n"
     ]
    },
    {
     "name": "stdout",
     "output_type": "stream",
     "text": [
      "Epoch: 047, Train Acc: 0.7157, Train AUC: 0.9072, Train AUPR: 0.7627, Test Acc: 0.6000, Test Auc: 0.8259, Test AUPR: 0.5886,  Loss: 0.8291\n"
     ]
    },
    {
     "name": "stderr",
     "output_type": "stream",
     "text": [
      "100%|██████████| 28/28 [00:08<00:00,  3.49it/s]\n"
     ]
    },
    {
     "name": "stdout",
     "output_type": "stream",
     "text": [
      "Epoch: 048, Train Acc: 0.7001, Train AUC: 0.9078, Train AUPR: 0.7699, Test Acc: 0.5619, Test Auc: 0.8311, Test AUPR: 0.5952,  Loss: 0.8397\n"
     ]
    },
    {
     "name": "stderr",
     "output_type": "stream",
     "text": [
      "100%|██████████| 28/28 [00:09<00:00,  2.88it/s]\n"
     ]
    },
    {
     "name": "stdout",
     "output_type": "stream",
     "text": [
      "Epoch: 049, Train Acc: 0.7395, Train AUC: 0.9163, Train AUPR: 0.7888, Test Acc: 0.6000, Test Auc: 0.8380, Test AUPR: 0.6010,  Loss: 0.8064\n"
     ]
    },
    {
     "name": "stderr",
     "output_type": "stream",
     "text": [
      "100%|██████████| 28/28 [00:09<00:00,  3.02it/s]\n"
     ]
    },
    {
     "name": "stdout",
     "output_type": "stream",
     "text": [
      "Epoch: 050, Train Acc: 0.7180, Train AUC: 0.9165, Train AUPR: 0.7784, Test Acc: 0.6095, Test Auc: 0.8445, Test AUPR: 0.6315,  Loss: 0.7899\n"
     ]
    },
    {
     "name": "stderr",
     "output_type": "stream",
     "text": [
      "100%|██████████| 28/28 [00:11<00:00,  2.45it/s]\n"
     ]
    },
    {
     "name": "stdout",
     "output_type": "stream",
     "text": [
      "Epoch: 051, Train Acc: 0.7121, Train AUC: 0.9132, Train AUPR: 0.7611, Test Acc: 0.6000, Test Auc: 0.8363, Test AUPR: 0.6109,  Loss: 0.7867\n"
     ]
    },
    {
     "name": "stderr",
     "output_type": "stream",
     "text": [
      "100%|██████████| 28/28 [00:11<00:00,  2.46it/s]\n"
     ]
    },
    {
     "name": "stdout",
     "output_type": "stream",
     "text": [
      "Epoch: 052, Train Acc: 0.7157, Train AUC: 0.9241, Train AUPR: 0.7954, Test Acc: 0.6286, Test Auc: 0.8419, Test AUPR: 0.6124,  Loss: 0.7735\n"
     ]
    },
    {
     "name": "stderr",
     "output_type": "stream",
     "text": [
      "100%|██████████| 28/28 [00:07<00:00,  3.98it/s]\n"
     ]
    },
    {
     "name": "stdout",
     "output_type": "stream",
     "text": [
      "Epoch: 053, Train Acc: 0.7515, Train AUC: 0.9300, Train AUPR: 0.8143, Test Acc: 0.5905, Test Auc: 0.8362, Test AUPR: 0.6182,  Loss: 0.7403\n"
     ]
    },
    {
     "name": "stderr",
     "output_type": "stream",
     "text": [
      "100%|██████████| 28/28 [00:12<00:00,  2.26it/s]\n"
     ]
    },
    {
     "name": "stdout",
     "output_type": "stream",
     "text": [
      "Epoch: 054, Train Acc: 0.7479, Train AUC: 0.9265, Train AUPR: 0.8039, Test Acc: 0.5429, Test Auc: 0.8382, Test AUPR: 0.6126,  Loss: 0.7597\n"
     ]
    },
    {
     "name": "stderr",
     "output_type": "stream",
     "text": [
      "100%|██████████| 28/28 [00:11<00:00,  2.48it/s]\n"
     ]
    },
    {
     "name": "stdout",
     "output_type": "stream",
     "text": [
      "Epoch: 055, Train Acc: 0.7563, Train AUC: 0.9309, Train AUPR: 0.8220, Test Acc: 0.5810, Test Auc: 0.8296, Test AUPR: 0.6390,  Loss: 0.7451\n"
     ]
    },
    {
     "name": "stderr",
     "output_type": "stream",
     "text": [
      "100%|██████████| 28/28 [00:07<00:00,  3.55it/s]\n"
     ]
    },
    {
     "name": "stdout",
     "output_type": "stream",
     "text": [
      "Epoch: 056, Train Acc: 0.7467, Train AUC: 0.9310, Train AUPR: 0.8069, Test Acc: 0.6000, Test Auc: 0.8386, Test AUPR: 0.6068,  Loss: 0.7210\n"
     ]
    },
    {
     "name": "stderr",
     "output_type": "stream",
     "text": [
      "100%|██████████| 28/28 [00:11<00:00,  2.39it/s]\n"
     ]
    },
    {
     "name": "stdout",
     "output_type": "stream",
     "text": [
      "Epoch: 057, Train Acc: 0.7742, Train AUC: 0.9358, Train AUPR: 0.8257, Test Acc: 0.6095, Test Auc: 0.8507, Test AUPR: 0.6342,  Loss: 0.6880\n"
     ]
    },
    {
     "name": "stderr",
     "output_type": "stream",
     "text": [
      "100%|██████████| 28/28 [00:11<00:00,  2.47it/s]\n"
     ]
    },
    {
     "name": "stdout",
     "output_type": "stream",
     "text": [
      "Epoch: 058, Train Acc: 0.7037, Train AUC: 0.9260, Train AUPR: 0.7980, Test Acc: 0.6190, Test Auc: 0.8580, Test AUPR: 0.6567,  Loss: 0.7069\n"
     ]
    },
    {
     "name": "stderr",
     "output_type": "stream",
     "text": [
      "100%|██████████| 28/28 [00:11<00:00,  2.43it/s]\n"
     ]
    },
    {
     "name": "stdout",
     "output_type": "stream",
     "text": [
      "Epoch: 059, Train Acc: 0.7312, Train AUC: 0.9278, Train AUPR: 0.8038, Test Acc: 0.6095, Test Auc: 0.8558, Test AUPR: 0.6379,  Loss: 0.7488\n"
     ]
    },
    {
     "name": "stderr",
     "output_type": "stream",
     "text": [
      "100%|██████████| 28/28 [00:10<00:00,  2.57it/s]\n"
     ]
    },
    {
     "name": "stdout",
     "output_type": "stream",
     "text": [
      "Epoch: 060, Train Acc: 0.7742, Train AUC: 0.9426, Train AUPR: 0.8405, Test Acc: 0.6190, Test Auc: 0.8610, Test AUPR: 0.6827,  Loss: 0.7107\n"
     ]
    },
    {
     "name": "stderr",
     "output_type": "stream",
     "text": [
      "100%|██████████| 28/28 [00:08<00:00,  3.13it/s]\n"
     ]
    },
    {
     "name": "stdout",
     "output_type": "stream",
     "text": [
      "Epoch: 061, Train Acc: 0.7611, Train AUC: 0.9429, Train AUPR: 0.8486, Test Acc: 0.6286, Test Auc: 0.8582, Test AUPR: 0.6582,  Loss: 0.6534\n"
     ]
    },
    {
     "name": "stderr",
     "output_type": "stream",
     "text": [
      "100%|██████████| 28/28 [00:07<00:00,  3.98it/s]\n"
     ]
    },
    {
     "name": "stdout",
     "output_type": "stream",
     "text": [
      "Epoch: 062, Train Acc: 0.7646, Train AUC: 0.9371, Train AUPR: 0.8331, Test Acc: 0.6190, Test Auc: 0.8493, Test AUPR: 0.6394,  Loss: 0.6852\n"
     ]
    },
    {
     "name": "stderr",
     "output_type": "stream",
     "text": [
      "100%|██████████| 28/28 [00:13<00:00,  2.11it/s]\n"
     ]
    },
    {
     "name": "stdout",
     "output_type": "stream",
     "text": [
      "Epoch: 063, Train Acc: 0.7730, Train AUC: 0.9461, Train AUPR: 0.8486, Test Acc: 0.6190, Test Auc: 0.8655, Test AUPR: 0.6725,  Loss: 0.6626\n"
     ]
    },
    {
     "name": "stderr",
     "output_type": "stream",
     "text": [
      "100%|██████████| 28/28 [00:07<00:00,  3.96it/s]\n"
     ]
    },
    {
     "name": "stdout",
     "output_type": "stream",
     "text": [
      "Epoch: 064, Train Acc: 0.7969, Train AUC: 0.9536, Train AUPR: 0.8706, Test Acc: 0.6095, Test Auc: 0.8585, Test AUPR: 0.6564,  Loss: 0.6317\n"
     ]
    },
    {
     "name": "stderr",
     "output_type": "stream",
     "text": [
      "100%|██████████| 28/28 [00:12<00:00,  2.23it/s]\n"
     ]
    },
    {
     "name": "stdout",
     "output_type": "stream",
     "text": [
      "Epoch: 065, Train Acc: 0.7993, Train AUC: 0.9529, Train AUPR: 0.8735, Test Acc: 0.5619, Test Auc: 0.8479, Test AUPR: 0.6523,  Loss: 0.6486\n"
     ]
    },
    {
     "name": "stderr",
     "output_type": "stream",
     "text": [
      "100%|██████████| 28/28 [00:07<00:00,  3.85it/s]\n"
     ]
    },
    {
     "name": "stdout",
     "output_type": "stream",
     "text": [
      "Epoch: 066, Train Acc: 0.8076, Train AUC: 0.9559, Train AUPR: 0.8792, Test Acc: 0.6000, Test Auc: 0.8666, Test AUPR: 0.6821,  Loss: 0.6011\n"
     ]
    },
    {
     "name": "stderr",
     "output_type": "stream",
     "text": [
      "100%|██████████| 28/28 [00:11<00:00,  2.35it/s]\n"
     ]
    },
    {
     "name": "stdout",
     "output_type": "stream",
     "text": [
      "Epoch: 067, Train Acc: 0.7766, Train AUC: 0.9446, Train AUPR: 0.8507, Test Acc: 0.6381, Test Auc: 0.8514, Test AUPR: 0.6327,  Loss: 0.6467\n"
     ]
    },
    {
     "name": "stderr",
     "output_type": "stream",
     "text": [
      "100%|██████████| 28/28 [00:07<00:00,  3.56it/s]\n"
     ]
    },
    {
     "name": "stdout",
     "output_type": "stream",
     "text": [
      "Epoch: 068, Train Acc: 0.7969, Train AUC: 0.9565, Train AUPR: 0.8761, Test Acc: 0.6190, Test Auc: 0.8615, Test AUPR: 0.6645,  Loss: 0.6602\n"
     ]
    },
    {
     "name": "stderr",
     "output_type": "stream",
     "text": [
      "100%|██████████| 28/28 [00:11<00:00,  2.54it/s]\n"
     ]
    },
    {
     "name": "stdout",
     "output_type": "stream",
     "text": [
      "Epoch: 069, Train Acc: 0.8232, Train AUC: 0.9572, Train AUPR: 0.8779, Test Acc: 0.6095, Test Auc: 0.8560, Test AUPR: 0.6653,  Loss: 0.6332\n"
     ]
    },
    {
     "name": "stderr",
     "output_type": "stream",
     "text": [
      "100%|██████████| 28/28 [00:07<00:00,  3.67it/s]\n"
     ]
    },
    {
     "name": "stdout",
     "output_type": "stream",
     "text": [
      "Epoch: 070, Train Acc: 0.7873, Train AUC: 0.9560, Train AUPR: 0.8754, Test Acc: 0.6286, Test Auc: 0.8473, Test AUPR: 0.6328,  Loss: 0.6167\n"
     ]
    },
    {
     "name": "stderr",
     "output_type": "stream",
     "text": [
      "100%|██████████| 28/28 [00:10<00:00,  2.59it/s]\n"
     ]
    },
    {
     "name": "stdout",
     "output_type": "stream",
     "text": [
      "Epoch: 071, Train Acc: 0.8160, Train AUC: 0.9602, Train AUPR: 0.8910, Test Acc: 0.5905, Test Auc: 0.8367, Test AUPR: 0.6274,  Loss: 0.5841\n"
     ]
    },
    {
     "name": "stderr",
     "output_type": "stream",
     "text": [
      "100%|██████████| 28/28 [00:08<00:00,  3.38it/s]\n"
     ]
    },
    {
     "name": "stdout",
     "output_type": "stream",
     "text": [
      "Epoch: 072, Train Acc: 0.7981, Train AUC: 0.9603, Train AUPR: 0.8844, Test Acc: 0.6286, Test Auc: 0.8612, Test AUPR: 0.6631,  Loss: 0.5946\n"
     ]
    },
    {
     "name": "stderr",
     "output_type": "stream",
     "text": [
      "100%|██████████| 28/28 [00:06<00:00,  4.01it/s]\n"
     ]
    },
    {
     "name": "stdout",
     "output_type": "stream",
     "text": [
      "Epoch: 073, Train Acc: 0.8100, Train AUC: 0.9611, Train AUPR: 0.8885, Test Acc: 0.6381, Test Auc: 0.8537, Test AUPR: 0.6530,  Loss: 0.6104\n"
     ]
    },
    {
     "name": "stderr",
     "output_type": "stream",
     "text": [
      "100%|██████████| 28/28 [00:13<00:00,  2.14it/s]\n"
     ]
    },
    {
     "name": "stdout",
     "output_type": "stream",
     "text": [
      "Epoch: 074, Train Acc: 0.8256, Train AUC: 0.9656, Train AUPR: 0.9009, Test Acc: 0.6286, Test Auc: 0.8574, Test AUPR: 0.6685,  Loss: 0.6106\n"
     ]
    },
    {
     "name": "stderr",
     "output_type": "stream",
     "text": [
      "100%|██████████| 28/28 [00:06<00:00,  4.02it/s]\n"
     ]
    },
    {
     "name": "stdout",
     "output_type": "stream",
     "text": [
      "Epoch: 075, Train Acc: 0.8327, Train AUC: 0.9674, Train AUPR: 0.9042, Test Acc: 0.6095, Test Auc: 0.8580, Test AUPR: 0.6342,  Loss: 0.5530\n"
     ]
    },
    {
     "name": "stderr",
     "output_type": "stream",
     "text": [
      "100%|██████████| 28/28 [00:12<00:00,  2.24it/s]\n"
     ]
    },
    {
     "name": "stdout",
     "output_type": "stream",
     "text": [
      "Epoch: 076, Train Acc: 0.8041, Train AUC: 0.9642, Train AUPR: 0.8962, Test Acc: 0.6000, Test Auc: 0.8414, Test AUPR: 0.6162,  Loss: 0.5378\n"
     ]
    },
    {
     "name": "stderr",
     "output_type": "stream",
     "text": [
      "100%|██████████| 28/28 [00:06<00:00,  4.01it/s]\n"
     ]
    },
    {
     "name": "stdout",
     "output_type": "stream",
     "text": [
      "Epoch: 077, Train Acc: 0.8208, Train AUC: 0.9670, Train AUPR: 0.9032, Test Acc: 0.6190, Test Auc: 0.8479, Test AUPR: 0.6371,  Loss: 0.5532\n"
     ]
    },
    {
     "name": "stderr",
     "output_type": "stream",
     "text": [
      "100%|██████████| 28/28 [00:11<00:00,  2.53it/s]\n"
     ]
    },
    {
     "name": "stdout",
     "output_type": "stream",
     "text": [
      "Epoch: 078, Train Acc: 0.8112, Train AUC: 0.9647, Train AUPR: 0.9012, Test Acc: 0.5905, Test Auc: 0.8326, Test AUPR: 0.6210,  Loss: 0.5544\n"
     ]
    },
    {
     "name": "stderr",
     "output_type": "stream",
     "text": [
      "100%|██████████| 28/28 [00:08<00:00,  3.35it/s]\n"
     ]
    },
    {
     "name": "stdout",
     "output_type": "stream",
     "text": [
      "Epoch: 079, Train Acc: 0.7873, Train AUC: 0.9658, Train AUPR: 0.9011, Test Acc: 0.6095, Test Auc: 0.8346, Test AUPR: 0.6374,  Loss: 0.5710\n"
     ]
    },
    {
     "name": "stderr",
     "output_type": "stream",
     "text": [
      "100%|██████████| 28/28 [00:11<00:00,  2.52it/s]\n"
     ]
    },
    {
     "name": "stdout",
     "output_type": "stream",
     "text": [
      "Epoch: 080, Train Acc: 0.8435, Train AUC: 0.9697, Train AUPR: 0.9097, Test Acc: 0.6571, Test Auc: 0.8600, Test AUPR: 0.6662,  Loss: 0.5523\n"
     ]
    },
    {
     "name": "stderr",
     "output_type": "stream",
     "text": [
      "100%|██████████| 28/28 [00:09<00:00,  3.07it/s]\n"
     ]
    },
    {
     "name": "stdout",
     "output_type": "stream",
     "text": [
      "Epoch: 081, Train Acc: 0.8447, Train AUC: 0.9697, Train AUPR: 0.9089, Test Acc: 0.6000, Test Auc: 0.8424, Test AUPR: 0.6377,  Loss: 0.5759\n"
     ]
    },
    {
     "name": "stderr",
     "output_type": "stream",
     "text": [
      "100%|██████████| 28/28 [00:10<00:00,  2.61it/s]\n"
     ]
    },
    {
     "name": "stdout",
     "output_type": "stream",
     "text": [
      "Epoch: 082, Train Acc: 0.8172, Train AUC: 0.9663, Train AUPR: 0.9062, Test Acc: 0.6286, Test Auc: 0.8469, Test AUPR: 0.6116,  Loss: 0.5598\n"
     ]
    },
    {
     "name": "stderr",
     "output_type": "stream",
     "text": [
      "100%|██████████| 28/28 [00:08<00:00,  3.20it/s]\n"
     ]
    },
    {
     "name": "stdout",
     "output_type": "stream",
     "text": [
      "Epoch: 083, Train Acc: 0.8315, Train AUC: 0.9707, Train AUPR: 0.9182, Test Acc: 0.5619, Test Auc: 0.8310, Test AUPR: 0.6214,  Loss: 0.5515\n"
     ]
    },
    {
     "name": "stderr",
     "output_type": "stream",
     "text": [
      "100%|██████████| 28/28 [00:10<00:00,  2.72it/s]\n"
     ]
    },
    {
     "name": "stdout",
     "output_type": "stream",
     "text": [
      "Epoch: 084, Train Acc: 0.8578, Train AUC: 0.9738, Train AUPR: 0.9258, Test Acc: 0.6000, Test Auc: 0.8534, Test AUPR: 0.6520,  Loss: 0.5149\n"
     ]
    },
    {
     "name": "stderr",
     "output_type": "stream",
     "text": [
      "100%|██████████| 28/28 [00:08<00:00,  3.22it/s]\n"
     ]
    },
    {
     "name": "stdout",
     "output_type": "stream",
     "text": [
      "Epoch: 085, Train Acc: 0.8662, Train AUC: 0.9749, Train AUPR: 0.9272, Test Acc: 0.5810, Test Auc: 0.8505, Test AUPR: 0.6400,  Loss: 0.5447\n"
     ]
    },
    {
     "name": "stderr",
     "output_type": "stream",
     "text": [
      "100%|██████████| 28/28 [00:11<00:00,  2.50it/s]\n"
     ]
    },
    {
     "name": "stdout",
     "output_type": "stream",
     "text": [
      "Epoch: 086, Train Acc: 0.8124, Train AUC: 0.9695, Train AUPR: 0.9135, Test Acc: 0.6095, Test Auc: 0.8529, Test AUPR: 0.6361,  Loss: 0.4969\n"
     ]
    },
    {
     "name": "stderr",
     "output_type": "stream",
     "text": [
      "100%|██████████| 28/28 [00:09<00:00,  3.09it/s]\n"
     ]
    },
    {
     "name": "stdout",
     "output_type": "stream",
     "text": [
      "Epoch: 087, Train Acc: 0.8280, Train AUC: 0.9722, Train AUPR: 0.9187, Test Acc: 0.6190, Test Auc: 0.8505, Test AUPR: 0.6370,  Loss: 0.5052\n"
     ]
    },
    {
     "name": "stderr",
     "output_type": "stream",
     "text": [
      "100%|██████████| 28/28 [00:10<00:00,  2.61it/s]\n"
     ]
    },
    {
     "name": "stdout",
     "output_type": "stream",
     "text": [
      "Epoch: 088, Train Acc: 0.8507, Train AUC: 0.9719, Train AUPR: 0.9201, Test Acc: 0.6286, Test Auc: 0.8506, Test AUPR: 0.6268,  Loss: 0.5449\n"
     ]
    },
    {
     "name": "stderr",
     "output_type": "stream",
     "text": [
      "100%|██████████| 28/28 [00:07<00:00,  3.92it/s]\n"
     ]
    },
    {
     "name": "stdout",
     "output_type": "stream",
     "text": [
      "Epoch: 089, Train Acc: 0.8530, Train AUC: 0.9754, Train AUPR: 0.9291, Test Acc: 0.6286, Test Auc: 0.8554, Test AUPR: 0.6500,  Loss: 0.5285\n"
     ]
    },
    {
     "name": "stderr",
     "output_type": "stream",
     "text": [
      "100%|██████████| 28/28 [00:11<00:00,  2.42it/s]\n"
     ]
    },
    {
     "name": "stdout",
     "output_type": "stream",
     "text": [
      "Epoch: 090, Train Acc: 0.8554, Train AUC: 0.9771, Train AUPR: 0.9314, Test Acc: 0.6571, Test Auc: 0.8533, Test AUPR: 0.6445,  Loss: 0.4852\n"
     ]
    },
    {
     "name": "stderr",
     "output_type": "stream",
     "text": [
      "100%|██████████| 28/28 [00:07<00:00,  3.86it/s]\n"
     ]
    },
    {
     "name": "stdout",
     "output_type": "stream",
     "text": [
      "Epoch: 091, Train Acc: 0.8686, Train AUC: 0.9783, Train AUPR: 0.9341, Test Acc: 0.6095, Test Auc: 0.8607, Test AUPR: 0.6601,  Loss: 0.5237\n"
     ]
    },
    {
     "name": "stderr",
     "output_type": "stream",
     "text": [
      "100%|██████████| 28/28 [00:13<00:00,  2.04it/s]\n"
     ]
    },
    {
     "name": "stdout",
     "output_type": "stream",
     "text": [
      "Epoch: 092, Train Acc: 0.8590, Train AUC: 0.9772, Train AUPR: 0.9324, Test Acc: 0.6000, Test Auc: 0.8531, Test AUPR: 0.6478,  Loss: 0.4714\n"
     ]
    },
    {
     "name": "stderr",
     "output_type": "stream",
     "text": [
      "100%|██████████| 28/28 [00:07<00:00,  3.73it/s]\n"
     ]
    },
    {
     "name": "stdout",
     "output_type": "stream",
     "text": [
      "Epoch: 093, Train Acc: 0.8387, Train AUC: 0.9769, Train AUPR: 0.9296, Test Acc: 0.6667, Test Auc: 0.8462, Test AUPR: 0.6396,  Loss: 0.5120\n"
     ]
    },
    {
     "name": "stderr",
     "output_type": "stream",
     "text": [
      "100%|██████████| 28/28 [00:12<00:00,  2.17it/s]\n"
     ]
    },
    {
     "name": "stdout",
     "output_type": "stream",
     "text": [
      "Epoch: 094, Train Acc: 0.8638, Train AUC: 0.9763, Train AUPR: 0.9340, Test Acc: 0.6381, Test Auc: 0.8500, Test AUPR: 0.6304,  Loss: 0.5304\n"
     ]
    },
    {
     "name": "stderr",
     "output_type": "stream",
     "text": [
      "100%|██████████| 28/28 [00:06<00:00,  4.03it/s]\n"
     ]
    },
    {
     "name": "stdout",
     "output_type": "stream",
     "text": [
      "Epoch: 095, Train Acc: 0.8698, Train AUC: 0.9803, Train AUPR: 0.9376, Test Acc: 0.6857, Test Auc: 0.8620, Test AUPR: 0.6582,  Loss: 0.4779\n"
     ]
    },
    {
     "name": "stderr",
     "output_type": "stream",
     "text": [
      "100%|██████████| 28/28 [00:12<00:00,  2.28it/s]\n"
     ]
    },
    {
     "name": "stdout",
     "output_type": "stream",
     "text": [
      "Epoch: 096, Train Acc: 0.8710, Train AUC: 0.9807, Train AUPR: 0.9418, Test Acc: 0.6095, Test Auc: 0.8417, Test AUPR: 0.6112,  Loss: 0.5026\n"
     ]
    },
    {
     "name": "stderr",
     "output_type": "stream",
     "text": [
      "100%|██████████| 28/28 [00:06<00:00,  4.02it/s]\n"
     ]
    },
    {
     "name": "stdout",
     "output_type": "stream",
     "text": [
      "Epoch: 097, Train Acc: 0.8339, Train AUC: 0.9770, Train AUPR: 0.9302, Test Acc: 0.6667, Test Auc: 0.8545, Test AUPR: 0.6679,  Loss: 0.4629\n"
     ]
    },
    {
     "name": "stderr",
     "output_type": "stream",
     "text": [
      "100%|██████████| 28/28 [00:12<00:00,  2.33it/s]\n"
     ]
    },
    {
     "name": "stdout",
     "output_type": "stream",
     "text": [
      "Epoch: 098, Train Acc: 0.8901, Train AUC: 0.9829, Train AUPR: 0.9470, Test Acc: 0.6000, Test Auc: 0.8522, Test AUPR: 0.6420,  Loss: 0.4632\n"
     ]
    },
    {
     "name": "stderr",
     "output_type": "stream",
     "text": [
      "100%|██████████| 28/28 [00:11<00:00,  2.45it/s]\n"
     ]
    },
    {
     "name": "stdout",
     "output_type": "stream",
     "text": [
      "Epoch: 099, Train Acc: 0.8519, Train AUC: 0.9789, Train AUPR: 0.9339, Test Acc: 0.6476, Test Auc: 0.8512, Test AUPR: 0.6498,  Loss: 0.5094\n"
     ]
    },
    {
     "name": "stderr",
     "output_type": "stream",
     "text": [
      "100%|██████████| 28/28 [00:07<00:00,  3.85it/s]\n"
     ]
    },
    {
     "name": "stdout",
     "output_type": "stream",
     "text": [
      "Epoch: 100, Train Acc: 0.8769, Train AUC: 0.9816, Train AUPR: 0.9427, Test Acc: 0.6571, Test Auc: 0.8591, Test AUPR: 0.6744,  Loss: 0.4620\n"
     ]
    },
    {
     "name": "stderr",
     "output_type": "stream",
     "text": [
      "100%|██████████| 28/28 [00:11<00:00,  2.34it/s]\n"
     ]
    },
    {
     "name": "stdout",
     "output_type": "stream",
     "text": [
      "Epoch: 101, Train Acc: 0.8698, Train AUC: 0.9822, Train AUPR: 0.9453, Test Acc: 0.6476, Test Auc: 0.8540, Test AUPR: 0.6481,  Loss: 0.4654\n"
     ]
    },
    {
     "name": "stderr",
     "output_type": "stream",
     "text": [
      "100%|██████████| 28/28 [00:11<00:00,  2.36it/s]\n"
     ]
    },
    {
     "name": "stdout",
     "output_type": "stream",
     "text": [
      "Epoch: 102, Train Acc: 0.8483, Train AUC: 0.9795, Train AUPR: 0.9387, Test Acc: 0.5905, Test Auc: 0.8472, Test AUPR: 0.6556,  Loss: 0.4855\n"
     ]
    },
    {
     "name": "stderr",
     "output_type": "stream",
     "text": [
      "100%|██████████| 28/28 [00:12<00:00,  2.30it/s]\n"
     ]
    },
    {
     "name": "stdout",
     "output_type": "stream",
     "text": [
      "Epoch: 103, Train Acc: 0.8459, Train AUC: 0.9813, Train AUPR: 0.9421, Test Acc: 0.6762, Test Auc: 0.8584, Test AUPR: 0.6536,  Loss: 0.5024\n"
     ]
    },
    {
     "name": "stderr",
     "output_type": "stream",
     "text": [
      "100%|██████████| 28/28 [00:11<00:00,  2.34it/s]\n"
     ]
    },
    {
     "name": "stdout",
     "output_type": "stream",
     "text": [
      "Epoch: 104, Train Acc: 0.9056, Train AUC: 0.9866, Train AUPR: 0.9560, Test Acc: 0.6476, Test Auc: 0.8507, Test AUPR: 0.6588,  Loss: 0.4313\n"
     ]
    },
    {
     "name": "stderr",
     "output_type": "stream",
     "text": [
      "100%|██████████| 28/28 [00:12<00:00,  2.25it/s]\n"
     ]
    },
    {
     "name": "stdout",
     "output_type": "stream",
     "text": [
      "Epoch: 105, Train Acc: 0.8901, Train AUC: 0.9872, Train AUPR: 0.9602, Test Acc: 0.6286, Test Auc: 0.8542, Test AUPR: 0.6514,  Loss: 0.4068\n"
     ]
    },
    {
     "name": "stderr",
     "output_type": "stream",
     "text": [
      "100%|██████████| 28/28 [00:11<00:00,  2.47it/s]\n"
     ]
    },
    {
     "name": "stdout",
     "output_type": "stream",
     "text": [
      "Epoch: 106, Train Acc: 0.8507, Train AUC: 0.9804, Train AUPR: 0.9395, Test Acc: 0.6667, Test Auc: 0.8686, Test AUPR: 0.6528,  Loss: 0.4415\n"
     ]
    },
    {
     "name": "stderr",
     "output_type": "stream",
     "text": [
      "100%|██████████| 28/28 [00:13<00:00,  2.05it/s]\n"
     ]
    },
    {
     "name": "stdout",
     "output_type": "stream",
     "text": [
      "Epoch: 107, Train Acc: 0.8315, Train AUC: 0.9790, Train AUPR: 0.9333, Test Acc: 0.6476, Test Auc: 0.8594, Test AUPR: 0.6692,  Loss: 0.4638\n"
     ]
    },
    {
     "name": "stderr",
     "output_type": "stream",
     "text": [
      "100%|██████████| 28/28 [00:11<00:00,  2.52it/s]\n"
     ]
    },
    {
     "name": "stdout",
     "output_type": "stream",
     "text": [
      "Epoch: 108, Train Acc: 0.8949, Train AUC: 0.9857, Train AUPR: 0.9538, Test Acc: 0.6190, Test Auc: 0.8485, Test AUPR: 0.6398,  Loss: 0.4583\n"
     ]
    },
    {
     "name": "stderr",
     "output_type": "stream",
     "text": [
      "100%|██████████| 28/28 [00:13<00:00,  2.07it/s]\n"
     ]
    },
    {
     "name": "stdout",
     "output_type": "stream",
     "text": [
      "Epoch: 109, Train Acc: 0.8937, Train AUC: 0.9855, Train AUPR: 0.9546, Test Acc: 0.6190, Test Auc: 0.8389, Test AUPR: 0.6411,  Loss: 0.4364\n"
     ]
    },
    {
     "name": "stderr",
     "output_type": "stream",
     "text": [
      "100%|██████████| 28/28 [00:07<00:00,  3.70it/s]\n"
     ]
    },
    {
     "name": "stdout",
     "output_type": "stream",
     "text": [
      "Epoch: 110, Train Acc: 0.9080, Train AUC: 0.9883, Train AUPR: 0.9624, Test Acc: 0.6095, Test Auc: 0.8390, Test AUPR: 0.6326,  Loss: 0.4053\n"
     ]
    },
    {
     "name": "stderr",
     "output_type": "stream",
     "text": [
      "100%|██████████| 28/28 [00:13<00:00,  2.11it/s]\n"
     ]
    },
    {
     "name": "stdout",
     "output_type": "stream",
     "text": [
      "Epoch: 111, Train Acc: 0.9020, Train AUC: 0.9878, Train AUPR: 0.9599, Test Acc: 0.6667, Test Auc: 0.8631, Test AUPR: 0.6658,  Loss: 0.4245\n"
     ]
    },
    {
     "name": "stderr",
     "output_type": "stream",
     "text": [
      "100%|██████████| 28/28 [00:12<00:00,  2.21it/s]\n"
     ]
    },
    {
     "name": "stdout",
     "output_type": "stream",
     "text": [
      "Epoch: 112, Train Acc: 0.9032, Train AUC: 0.9887, Train AUPR: 0.9620, Test Acc: 0.6667, Test Auc: 0.8507, Test AUPR: 0.6632,  Loss: 0.4079\n"
     ]
    },
    {
     "name": "stderr",
     "output_type": "stream",
     "text": [
      "100%|██████████| 28/28 [00:12<00:00,  2.19it/s]\n"
     ]
    },
    {
     "name": "stdout",
     "output_type": "stream",
     "text": [
      "Epoch: 113, Train Acc: 0.8746, Train AUC: 0.9869, Train AUPR: 0.9593, Test Acc: 0.6667, Test Auc: 0.8531, Test AUPR: 0.6528,  Loss: 0.4092\n"
     ]
    },
    {
     "name": "stderr",
     "output_type": "stream",
     "text": [
      "100%|██████████| 28/28 [00:12<00:00,  2.24it/s]\n"
     ]
    },
    {
     "name": "stdout",
     "output_type": "stream",
     "text": [
      "Epoch: 114, Train Acc: 0.8734, Train AUC: 0.9850, Train AUPR: 0.9558, Test Acc: 0.5905, Test Auc: 0.8382, Test AUPR: 0.6279,  Loss: 0.4327\n"
     ]
    },
    {
     "name": "stderr",
     "output_type": "stream",
     "text": [
      "100%|██████████| 28/28 [00:11<00:00,  2.41it/s]\n"
     ]
    },
    {
     "name": "stdout",
     "output_type": "stream",
     "text": [
      "Epoch: 115, Train Acc: 0.9128, Train AUC: 0.9903, Train AUPR: 0.9692, Test Acc: 0.6952, Test Auc: 0.8551, Test AUPR: 0.6458,  Loss: 0.4144\n"
     ]
    },
    {
     "name": "stderr",
     "output_type": "stream",
     "text": [
      "100%|██████████| 28/28 [00:07<00:00,  3.95it/s]\n"
     ]
    },
    {
     "name": "stdout",
     "output_type": "stream",
     "text": [
      "Epoch: 116, Train Acc: 0.9020, Train AUC: 0.9892, Train AUPR: 0.9668, Test Acc: 0.6190, Test Auc: 0.8440, Test AUPR: 0.6292,  Loss: 0.3916\n"
     ]
    },
    {
     "name": "stderr",
     "output_type": "stream",
     "text": [
      "100%|██████████| 28/28 [00:11<00:00,  2.46it/s]\n"
     ]
    },
    {
     "name": "stdout",
     "output_type": "stream",
     "text": [
      "Epoch: 117, Train Acc: 0.8769, Train AUC: 0.9872, Train AUPR: 0.9571, Test Acc: 0.6381, Test Auc: 0.8403, Test AUPR: 0.6375,  Loss: 0.4169\n"
     ]
    },
    {
     "name": "stderr",
     "output_type": "stream",
     "text": [
      "100%|██████████| 28/28 [00:07<00:00,  3.53it/s]\n"
     ]
    },
    {
     "name": "stdout",
     "output_type": "stream",
     "text": [
      "Epoch: 118, Train Acc: 0.9164, Train AUC: 0.9909, Train AUPR: 0.9721, Test Acc: 0.5810, Test Auc: 0.8259, Test AUPR: 0.6229,  Loss: 0.4151\n"
     ]
    },
    {
     "name": "stderr",
     "output_type": "stream",
     "text": [
      "100%|██████████| 28/28 [00:13<00:00,  2.15it/s]\n"
     ]
    },
    {
     "name": "stdout",
     "output_type": "stream",
     "text": [
      "Epoch: 119, Train Acc: 0.9068, Train AUC: 0.9876, Train AUPR: 0.9588, Test Acc: 0.6095, Test Auc: 0.8273, Test AUPR: 0.6257,  Loss: 0.4158\n"
     ]
    },
    {
     "name": "stderr",
     "output_type": "stream",
     "text": [
      "100%|██████████| 28/28 [00:12<00:00,  2.18it/s]\n"
     ]
    },
    {
     "name": "stdout",
     "output_type": "stream",
     "text": [
      "Epoch: 120, Train Acc: 0.9080, Train AUC: 0.9890, Train AUPR: 0.9662, Test Acc: 0.6381, Test Auc: 0.8419, Test AUPR: 0.6467,  Loss: 0.3898\n"
     ]
    },
    {
     "name": "stderr",
     "output_type": "stream",
     "text": [
      "100%|██████████| 28/28 [00:11<00:00,  2.49it/s]\n"
     ]
    },
    {
     "name": "stdout",
     "output_type": "stream",
     "text": [
      "Epoch: 121, Train Acc: 0.9092, Train AUC: 0.9897, Train AUPR: 0.9681, Test Acc: 0.6286, Test Auc: 0.8305, Test AUPR: 0.6121,  Loss: 0.4083\n"
     ]
    },
    {
     "name": "stderr",
     "output_type": "stream",
     "text": [
      "100%|██████████| 28/28 [00:09<00:00,  2.86it/s]\n"
     ]
    },
    {
     "name": "stdout",
     "output_type": "stream",
     "text": [
      "Epoch: 122, Train Acc: 0.9176, Train AUC: 0.9894, Train AUPR: 0.9644, Test Acc: 0.6000, Test Auc: 0.8385, Test AUPR: 0.6623,  Loss: 0.3718\n"
     ]
    },
    {
     "name": "stderr",
     "output_type": "stream",
     "text": [
      "100%|██████████| 28/28 [00:11<00:00,  2.43it/s]\n"
     ]
    },
    {
     "name": "stdout",
     "output_type": "stream",
     "text": [
      "Epoch: 123, Train Acc: 0.9056, Train AUC: 0.9896, Train AUPR: 0.9647, Test Acc: 0.6476, Test Auc: 0.8329, Test AUPR: 0.6264,  Loss: 0.4111\n"
     ]
    },
    {
     "name": "stderr",
     "output_type": "stream",
     "text": [
      "100%|██████████| 28/28 [00:14<00:00,  1.95it/s]\n"
     ]
    },
    {
     "name": "stdout",
     "output_type": "stream",
     "text": [
      "Epoch: 124, Train Acc: 0.9140, Train AUC: 0.9920, Train AUPR: 0.9735, Test Acc: 0.6667, Test Auc: 0.8537, Test AUPR: 0.6361,  Loss: 0.4188\n"
     ]
    },
    {
     "name": "stderr",
     "output_type": "stream",
     "text": [
      "100%|██████████| 28/28 [00:11<00:00,  2.42it/s]\n"
     ]
    },
    {
     "name": "stdout",
     "output_type": "stream",
     "text": [
      "Epoch: 125, Train Acc: 0.9128, Train AUC: 0.9917, Train AUPR: 0.9711, Test Acc: 0.6381, Test Auc: 0.8358, Test AUPR: 0.6404,  Loss: 0.3649\n"
     ]
    },
    {
     "name": "stderr",
     "output_type": "stream",
     "text": [
      "100%|██████████| 28/28 [00:14<00:00,  1.91it/s]\n"
     ]
    },
    {
     "name": "stdout",
     "output_type": "stream",
     "text": [
      "Epoch: 126, Train Acc: 0.9223, Train AUC: 0.9911, Train AUPR: 0.9708, Test Acc: 0.6381, Test Auc: 0.8343, Test AUPR: 0.6403,  Loss: 0.3867\n"
     ]
    },
    {
     "name": "stderr",
     "output_type": "stream",
     "text": [
      "100%|██████████| 28/28 [00:07<00:00,  3.98it/s]\n"
     ]
    },
    {
     "name": "stdout",
     "output_type": "stream",
     "text": [
      "Epoch: 127, Train Acc: 0.9104, Train AUC: 0.9882, Train AUPR: 0.9594, Test Acc: 0.6571, Test Auc: 0.8479, Test AUPR: 0.6644,  Loss: 0.3942\n"
     ]
    },
    {
     "name": "stderr",
     "output_type": "stream",
     "text": [
      "100%|██████████| 28/28 [00:06<00:00,  4.22it/s]\n"
     ]
    },
    {
     "name": "stdout",
     "output_type": "stream",
     "text": [
      "Epoch: 128, Train Acc: 0.9056, Train AUC: 0.9919, Train AUPR: 0.9737, Test Acc: 0.6476, Test Auc: 0.8373, Test AUPR: 0.6499,  Loss: 0.3836\n"
     ]
    },
    {
     "name": "stderr",
     "output_type": "stream",
     "text": [
      "100%|██████████| 28/28 [00:05<00:00,  4.71it/s]\n"
     ]
    },
    {
     "name": "stdout",
     "output_type": "stream",
     "text": [
      "Epoch: 129, Train Acc: 0.9128, Train AUC: 0.9903, Train AUPR: 0.9689, Test Acc: 0.6381, Test Auc: 0.8308, Test AUPR: 0.6396,  Loss: 0.3767\n"
     ]
    },
    {
     "name": "stderr",
     "output_type": "stream",
     "text": [
      "100%|██████████| 28/28 [00:06<00:00,  4.42it/s]\n"
     ]
    },
    {
     "name": "stdout",
     "output_type": "stream",
     "text": [
      "Epoch: 130, Train Acc: 0.9211, Train AUC: 0.9922, Train AUPR: 0.9734, Test Acc: 0.6571, Test Auc: 0.8603, Test AUPR: 0.6672,  Loss: 0.3324\n"
     ]
    },
    {
     "name": "stderr",
     "output_type": "stream",
     "text": [
      "100%|██████████| 28/28 [00:06<00:00,  4.61it/s]\n"
     ]
    },
    {
     "name": "stdout",
     "output_type": "stream",
     "text": [
      "Epoch: 131, Train Acc: 0.9319, Train AUC: 0.9937, Train AUPR: 0.9805, Test Acc: 0.6190, Test Auc: 0.8288, Test AUPR: 0.6109,  Loss: 0.3792\n"
     ]
    },
    {
     "name": "stderr",
     "output_type": "stream",
     "text": [
      "100%|██████████| 28/28 [00:06<00:00,  4.61it/s]\n"
     ]
    },
    {
     "name": "stdout",
     "output_type": "stream",
     "text": [
      "Epoch: 132, Train Acc: 0.9343, Train AUC: 0.9930, Train AUPR: 0.9773, Test Acc: 0.6762, Test Auc: 0.8529, Test AUPR: 0.6579,  Loss: 0.3666\n"
     ]
    },
    {
     "name": "stderr",
     "output_type": "stream",
     "text": [
      "100%|██████████| 28/28 [00:06<00:00,  4.38it/s]\n"
     ]
    },
    {
     "name": "stdout",
     "output_type": "stream",
     "text": [
      "Epoch: 133, Train Acc: 0.9056, Train AUC: 0.9888, Train AUPR: 0.9651, Test Acc: 0.6571, Test Auc: 0.8496, Test AUPR: 0.6125,  Loss: 0.4127\n"
     ]
    },
    {
     "name": "stderr",
     "output_type": "stream",
     "text": [
      "100%|██████████| 28/28 [00:06<00:00,  4.65it/s]\n"
     ]
    },
    {
     "name": "stdout",
     "output_type": "stream",
     "text": [
      "Epoch: 134, Train Acc: 0.8961, Train AUC: 0.9892, Train AUPR: 0.9646, Test Acc: 0.6286, Test Auc: 0.8445, Test AUPR: 0.6194,  Loss: 0.3473\n"
     ]
    },
    {
     "name": "stderr",
     "output_type": "stream",
     "text": [
      "100%|██████████| 28/28 [00:06<00:00,  4.18it/s]\n"
     ]
    },
    {
     "name": "stdout",
     "output_type": "stream",
     "text": [
      "Epoch: 135, Train Acc: 0.9200, Train AUC: 0.9917, Train AUPR: 0.9757, Test Acc: 0.5619, Test Auc: 0.8263, Test AUPR: 0.6067,  Loss: 0.3552\n"
     ]
    },
    {
     "name": "stderr",
     "output_type": "stream",
     "text": [
      "100%|██████████| 28/28 [00:06<00:00,  4.64it/s]\n"
     ]
    },
    {
     "name": "stdout",
     "output_type": "stream",
     "text": [
      "Epoch: 136, Train Acc: 0.9116, Train AUC: 0.9919, Train AUPR: 0.9731, Test Acc: 0.6762, Test Auc: 0.8435, Test AUPR: 0.6360,  Loss: 0.3767\n"
     ]
    },
    {
     "name": "stderr",
     "output_type": "stream",
     "text": [
      "100%|██████████| 28/28 [00:06<00:00,  4.05it/s]\n"
     ]
    },
    {
     "name": "stdout",
     "output_type": "stream",
     "text": [
      "Epoch: 137, Train Acc: 0.9056, Train AUC: 0.9933, Train AUPR: 0.9788, Test Acc: 0.6286, Test Auc: 0.8346, Test AUPR: 0.6324,  Loss: 0.3392\n"
     ]
    },
    {
     "name": "stderr",
     "output_type": "stream",
     "text": [
      "100%|██████████| 28/28 [00:06<00:00,  4.65it/s]\n"
     ]
    },
    {
     "name": "stdout",
     "output_type": "stream",
     "text": [
      "Epoch: 138, Train Acc: 0.9403, Train AUC: 0.9942, Train AUPR: 0.9813, Test Acc: 0.6286, Test Auc: 0.8479, Test AUPR: 0.6258,  Loss: 0.3100\n"
     ]
    },
    {
     "name": "stderr",
     "output_type": "stream",
     "text": [
      "100%|██████████| 28/28 [00:06<00:00,  4.15it/s]\n"
     ]
    },
    {
     "name": "stdout",
     "output_type": "stream",
     "text": [
      "Epoch: 139, Train Acc: 0.9140, Train AUC: 0.9924, Train AUPR: 0.9732, Test Acc: 0.6190, Test Auc: 0.8530, Test AUPR: 0.6383,  Loss: 0.3418\n"
     ]
    },
    {
     "name": "stderr",
     "output_type": "stream",
     "text": [
      "100%|██████████| 28/28 [00:05<00:00,  4.67it/s]\n"
     ]
    },
    {
     "name": "stdout",
     "output_type": "stream",
     "text": [
      "Epoch: 140, Train Acc: 0.9104, Train AUC: 0.9939, Train AUPR: 0.9787, Test Acc: 0.6571, Test Auc: 0.8429, Test AUPR: 0.6462,  Loss: 0.3615\n"
     ]
    },
    {
     "name": "stderr",
     "output_type": "stream",
     "text": [
      "100%|██████████| 28/28 [00:06<00:00,  4.37it/s]\n"
     ]
    },
    {
     "name": "stdout",
     "output_type": "stream",
     "text": [
      "Epoch: 141, Train Acc: 0.9391, Train AUC: 0.9948, Train AUPR: 0.9820, Test Acc: 0.6476, Test Auc: 0.8526, Test AUPR: 0.6686,  Loss: 0.3612\n"
     ]
    },
    {
     "name": "stderr",
     "output_type": "stream",
     "text": [
      "100%|██████████| 28/28 [00:06<00:00,  4.59it/s]\n"
     ]
    },
    {
     "name": "stdout",
     "output_type": "stream",
     "text": [
      "Epoch: 142, Train Acc: 0.9355, Train AUC: 0.9939, Train AUPR: 0.9799, Test Acc: 0.6095, Test Auc: 0.8431, Test AUPR: 0.6481,  Loss: 0.3535\n"
     ]
    },
    {
     "name": "stderr",
     "output_type": "stream",
     "text": [
      "100%|██████████| 28/28 [00:06<00:00,  4.60it/s]\n"
     ]
    },
    {
     "name": "stdout",
     "output_type": "stream",
     "text": [
      "Epoch: 143, Train Acc: 0.9200, Train AUC: 0.9931, Train AUPR: 0.9766, Test Acc: 0.6476, Test Auc: 0.8409, Test AUPR: 0.6525,  Loss: 0.3519\n"
     ]
    },
    {
     "name": "stderr",
     "output_type": "stream",
     "text": [
      "100%|██████████| 28/28 [00:06<00:00,  4.41it/s]\n"
     ]
    },
    {
     "name": "stdout",
     "output_type": "stream",
     "text": [
      "Epoch: 144, Train Acc: 0.9403, Train AUC: 0.9951, Train AUPR: 0.9839, Test Acc: 0.6476, Test Auc: 0.8374, Test AUPR: 0.6050,  Loss: 0.3255\n"
     ]
    },
    {
     "name": "stderr",
     "output_type": "stream",
     "text": [
      "100%|██████████| 28/28 [00:06<00:00,  4.64it/s]\n"
     ]
    },
    {
     "name": "stdout",
     "output_type": "stream",
     "text": [
      "Epoch: 145, Train Acc: 0.9534, Train AUC: 0.9963, Train AUPR: 0.9866, Test Acc: 0.6571, Test Auc: 0.8493, Test AUPR: 0.6471,  Loss: 0.2924\n"
     ]
    },
    {
     "name": "stderr",
     "output_type": "stream",
     "text": [
      "100%|██████████| 28/28 [00:06<00:00,  4.26it/s]\n"
     ]
    },
    {
     "name": "stdout",
     "output_type": "stream",
     "text": [
      "Epoch: 146, Train Acc: 0.9283, Train AUC: 0.9951, Train AUPR: 0.9842, Test Acc: 0.7048, Test Auc: 0.8661, Test AUPR: 0.6636,  Loss: 0.3140\n"
     ]
    },
    {
     "name": "stderr",
     "output_type": "stream",
     "text": [
      "100%|██████████| 28/28 [00:05<00:00,  4.70it/s]\n"
     ]
    },
    {
     "name": "stdout",
     "output_type": "stream",
     "text": [
      "Epoch: 147, Train Acc: 0.9355, Train AUC: 0.9951, Train AUPR: 0.9839, Test Acc: 0.6381, Test Auc: 0.8505, Test AUPR: 0.6416,  Loss: 0.3723\n"
     ]
    },
    {
     "name": "stderr",
     "output_type": "stream",
     "text": [
      "100%|██████████| 28/28 [00:06<00:00,  4.14it/s]\n"
     ]
    },
    {
     "name": "stdout",
     "output_type": "stream",
     "text": [
      "Epoch: 148, Train Acc: 0.9367, Train AUC: 0.9945, Train AUPR: 0.9820, Test Acc: 0.6476, Test Auc: 0.8502, Test AUPR: 0.6256,  Loss: 0.3177\n"
     ]
    },
    {
     "name": "stderr",
     "output_type": "stream",
     "text": [
      "100%|██████████| 28/28 [00:05<00:00,  4.75it/s]\n"
     ]
    },
    {
     "name": "stdout",
     "output_type": "stream",
     "text": [
      "Epoch: 149, Train Acc: 0.9200, Train AUC: 0.9934, Train AUPR: 0.9785, Test Acc: 0.6476, Test Auc: 0.8413, Test AUPR: 0.6294,  Loss: 0.3233\n"
     ]
    }
   ],
   "source": [
    "optimizer = torch.optim.Adam(model.parameters(), lr=0.005)\n",
    "criterion = torch.nn.CrossEntropyLoss()\n",
    "    \n",
    "def test(loader, size):\n",
    "    model.eval()\n",
    "    output = np.zeros((len(loader), size))\n",
    "    actual = np.zeros((len(loader), size))\n",
    "    accuracy = 0\n",
    "    for ind, data in enumerate(loader):  # Iterate in batches over the training/test dataset.\n",
    "        data.x = torch.reshape(data.x, (data.x.shape[0], 2))\n",
    "        data.x = data.x.type(torch.FloatTensor)\n",
    "        data = data.to(device)\n",
    "        data.x[[0,1],1] = data.x[[1,0],1]\n",
    "        out = model(data.x, data.edge_index, data.batch)\n",
    "        output[ind] = softmax(out.cpu().detach().numpy())\n",
    "        actual[ind][data.y] = 1\n",
    "        accuracy += int((out.argmax(dim=1) == data.y).sum())\n",
    "    all_labels = list(dataset.cellToIndex.keys())\n",
    "    actual = np.array(actual)\n",
    "    precision = dict()\n",
    "    recall = dict()\n",
    "    averageAUROC = []\n",
    "    averageAUPR = []\n",
    "    for (idx, c_label) in enumerate(all_labels):\n",
    "        \n",
    "        fpr, tpr, thresholds = roc_curve(actual[:,idx].astype(int), output[:,idx])\n",
    "        precision[idx], recall[idx], _ = precision_recall_curve(actual[:, idx],\n",
    "                                                        output[:, idx])\n",
    "        averageAUROC.append(auc(fpr, tpr))\n",
    "        averageAUPR.append(round(auc(recall[idx], precision[idx]),4))\n",
    "\n",
    "    return accuracy/len(loader.dataset), mean(averageAUROC), mean(averageAUPR)\n",
    "\n",
    "\n",
    "def train():\n",
    "    model.train()\n",
    "    avgLoss = 0\n",
    "    for data in tqdm(train_loader, total=28):  # Iterate in batches over the training dataset.\n",
    "        data.x = torch.reshape(data.x, (data.x.shape[0], 2))\n",
    "        data.x = data.x.type(torch.FloatTensor)\n",
    "        data = data.to(device)\n",
    "        out = model(data.x, data.edge_index, data.batch)# Perform a single forward pass.\n",
    "        loss = criterion(out, data.y)  # Compute the loss.\n",
    "        loss.backward()  # Derive gradients.\n",
    "        optimizer.step()  # Update parameters based on gradients.\n",
    "        optimizer.zero_grad()  # Clear gradients.\n",
    "        avgLoss += loss\n",
    "    return avgLoss / 28\n",
    "\n",
    "\n",
    "for epoch in range(1, 150):\n",
    "        loss = train()\n",
    "        train_acc, trainAUC, trainAUPR = test(train_loader_testing, 4)\n",
    "        test_acc,testAUC, testAUPR = test(test_loader, 4)\n",
    "        print(f'Epoch: {epoch:03d}, Train Acc: {train_acc:.4f}, Train AUC: {trainAUC:.4f}, Train AUPR: {trainAUPR:.4f}, Test Acc: {test_acc:.4f}, Test Auc: {testAUC:.4f}, Test AUPR: {testAUPR:.4f},  Loss: {loss:.4f}')"
   ]
  },
  {
   "cell_type": "code",
   "execution_count": 8,
   "id": "ab926e3a",
   "metadata": {},
   "outputs": [],
   "source": [
    "torch.save(model.state_dict(), 'model_weightsjun3_atacseqChromatin_data.pth')"
   ]
  },
  {
   "cell_type": "code",
   "execution_count": null,
   "id": "e6260fa3",
   "metadata": {},
   "outputs": [],
   "source": []
  }
 ],
 "metadata": {
  "kernelspec": {
   "display_name": "Python 3 (ipykernel)",
   "language": "python",
   "name": "python3"
  },
  "language_info": {
   "codemirror_mode": {
    "name": "ipython",
    "version": 3
   },
   "file_extension": ".py",
   "mimetype": "text/x-python",
   "name": "python",
   "nbconvert_exporter": "python",
   "pygments_lexer": "ipython3",
   "version": "3.7.4"
  }
 },
 "nbformat": 4,
 "nbformat_minor": 5
}
