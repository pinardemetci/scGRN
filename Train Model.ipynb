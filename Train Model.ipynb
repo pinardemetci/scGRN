{
 "cells": [
  {
   "cell_type": "markdown",
   "id": "f8e937c5",
   "metadata": {},
   "source": [
    "# Train model using Mouse Brain dataset"
   ]
  },
  {
   "cell_type": "markdown",
   "id": "df641d71",
   "metadata": {},
   "source": [
    "In this notebook, we're going to train our model using the Mouse Brain dataset (GSE60361). \n",
    "\n",
    "This assumes that you've made the graph using the ```Infer GRN.ipynb``` code."
   ]
  },
  {
   "cell_type": "code",
   "execution_count": 1,
   "id": "65a9a75a",
   "metadata": {},
   "outputs": [
    {
     "name": "stdout",
     "output_type": "stream",
     "text": [
      "Torch version: 1.8.0+cu111\n",
      "Cuda available: True\n",
      "Torch geometric version: 2.0.3\n"
     ]
    }
   ],
   "source": [
    "import os\n",
    "\n",
    "import numpy as np\n",
    "import pandas as pd\n",
    "import torch\n",
    "import torch_geometric\n",
    "from torch_geometric.data import Data, Dataset\n",
    "from tqdm import tqdm\n",
    "from datasets.datasetMouseBrain import MouseBrainDataset\n",
    "%matplotlib inline\n",
    "import matplotlib.pyplot as plt\n",
    "from sklearn.manifold import TSNE\n",
    "from tqdm import tqdm\n",
    "from scipy.special import softmax\n",
    "from sklearn.metrics import (auc, precision_recall_curve, roc_auc_score,\n",
    "                             roc_curve)\n",
    "from statistics import mean"
   ]
  },
  {
   "cell_type": "markdown",
   "id": "419e7c62",
   "metadata": {},
   "source": [
    "Load up the dataset. Read ```datasetMouseBrain.py``` on how the dataset was built. "
   ]
  },
  {
   "cell_type": "code",
   "execution_count": 2,
   "id": "2da40b66",
   "metadata": {},
   "outputs": [
    {
     "name": "stderr",
     "output_type": "stream",
     "text": [
      "100%|██████████| 243075/243075 [00:09<00:00, 26305.11it/s]\n"
     ]
    }
   ],
   "source": [
    "dataset = MouseBrainDataset(\"/gpfs/data/rsingh47/hzaki1/data\")"
   ]
  },
  {
   "cell_type": "code",
   "execution_count": 3,
   "id": "fefcae56",
   "metadata": {},
   "outputs": [
    {
     "name": "stdout",
     "output_type": "stream",
     "text": [
      "\n",
      "Dataset: MouseBrainDataset(3005):\n",
      "====================\n",
      "Number of graphs: 3005\n",
      "Number of features: 1\n",
      "\n",
      "Data(x=[19972], edge_index=[2, 243075], y=[1])\n",
      "=============================================================\n",
      "Number of nodes: 19972\n",
      "Number of edges: 243075\n",
      "Average node degree: 12.17\n",
      "Contains isolated nodes: True\n",
      "Contains self-loops: False\n",
      "Is undirected: False\n"
     ]
    },
    {
     "name": "stderr",
     "output_type": "stream",
     "text": [
      "/gpfs/home/hzaki1/celltypefromgrn/env-gpu/lib/python3.7/site-packages/torch_geometric/deprecation.py:13: UserWarning: 'contains_isolated_nodes' is deprecated, use 'has_isolated_nodes' instead\n",
      "  warnings.warn(out)\n",
      "/gpfs/home/hzaki1/celltypefromgrn/env-gpu/lib/python3.7/site-packages/torch_geometric/deprecation.py:13: UserWarning: 'contains_self_loops' is deprecated, use 'has_self_loops' instead\n",
      "  warnings.warn(out)\n"
     ]
    }
   ],
   "source": [
    "print()\n",
    "print(f'Dataset: {dataset}:')\n",
    "print('====================')\n",
    "print(f'Number of graphs: {len(dataset)}')\n",
    "print(f'Number of features: {dataset.num_features}')\n",
    "\n",
    "data = dataset[0]  # Get the first graph object.\n",
    "\n",
    "print()\n",
    "print(data)\n",
    "print('=============================================================')\n",
    "\n",
    "# Gather some statistics about the first graph.\n",
    "print(f'Number of nodes: {data.num_nodes}')\n",
    "print(f'Number of edges: {data.num_edges}')\n",
    "print(f'Average node degree: {data.num_edges / data.num_nodes:.2f}')\n",
    "print(f'Contains isolated nodes: {data.contains_isolated_nodes()}')\n",
    "print(f'Contains self-loops: {data.contains_self_loops()}')\n",
    "print(f'Is undirected: {data.is_undirected()}')"
   ]
  },
  {
   "cell_type": "code",
   "execution_count": 4,
   "id": "8a66c7cb",
   "metadata": {},
   "outputs": [
    {
     "name": "stdout",
     "output_type": "stream",
     "text": [
      "Number of training graphs: 2404\n",
      "Number of test graphs: 301\n"
     ]
    }
   ],
   "source": [
    "torch.manual_seed(12345)\n",
    "#dataset = dataset.shuffle()\n",
    "\n",
    "\n",
    "shuffle_index = np.loadtxt('shuffle_indices/shuffleIndex_MouseBrain.txt')\n",
    "shuffle_index = shuffle_index.astype(np.int32)\n",
    "train_size, val_size = int(len(shuffle_index)* 0.8), int(len(shuffle_index)* 0.9)\n",
    "train_dataset = [dataset[i] for i in shuffle_index[0:train_size]]\n",
    "val_dataset = [dataset[i] for i in shuffle_index[train_size: val_size]]\n",
    "test_dataset =  [dataset[i] for i in shuffle_index[val_size:]]\n",
    "\n",
    "# train_dataset = torch.load('trainDataset.pt')\n",
    "# test_dataset = torch.load('testDataset.pt')\n",
    "\n",
    "# train_dataset = dataset[:2403]\n",
    "# test_dataset = dataset[2403:]\n",
    "#test_dataset = dataset[-12:]\n",
    "\n",
    "\n",
    "# train_dataset = dataset[:40]\n",
    "# test_dataset = dataset[40:60]\n",
    "\n",
    "print(f'Number of training graphs: {len(train_dataset)}')\n",
    "print(f'Number of test graphs: {len(test_dataset)}')"
   ]
  },
  {
   "cell_type": "code",
   "execution_count": 5,
   "id": "5dce17cb",
   "metadata": {},
   "outputs": [
    {
     "name": "stderr",
     "output_type": "stream",
     "text": [
      "/gpfs/home/hzaki1/celltypefromgrn/env-gpu/lib/python3.7/site-packages/torch_geometric/deprecation.py:13: UserWarning: 'data.DataLoader' is deprecated, use 'loader.DataLoader' instead\n",
      "  warnings.warn(out)\n"
     ]
    }
   ],
   "source": [
    "from torch_geometric.data import DataLoader\n",
    "\n",
    "train_loader = DataLoader(train_dataset, batch_size=30, shuffle=True)\n",
    "train_loader_testing = DataLoader(train_dataset, batch_size=1, shuffle=True)\n",
    "val_loader = DataLoader(val_dataset, batch_size=1, shuffle=False)\n",
    "test_loader = DataLoader(test_dataset, batch_size=1, shuffle=False)"
   ]
  },
  {
   "cell_type": "code",
   "execution_count": 6,
   "id": "ad8a9de2",
   "metadata": {},
   "outputs": [
    {
     "name": "stdout",
     "output_type": "stream",
     "text": [
      "GCN(\n",
      "  (conv1): SAGEConv(1, 128)\n",
      "  (conv2): SAGEConv(128, 128)\n",
      "  (conv3): SAGEConv(128, 128)\n",
      "  (lin): Linear(in_features=128, out_features=7, bias=True)\n",
      ")\n"
     ]
    }
   ],
   "source": [
    "from gcnmodel import GCN\n",
    "device = torch.device('cuda' if torch.cuda.is_available() else 'cpu')\n",
    "\n",
    "model = GCN(hidden_channels=128, data=dataset, output_size=7).to(device)\n",
    "print(model)"
   ]
  },
  {
   "cell_type": "code",
   "execution_count": 7,
   "id": "783ea868",
   "metadata": {
    "scrolled": true
   },
   "outputs": [
    {
     "name": "stderr",
     "output_type": "stream",
     "text": [
      "100%|██████████| 81/81 [00:09<00:00,  8.44it/s]\n"
     ]
    },
    {
     "name": "stdout",
     "output_type": "stream",
     "text": [
      "Epoch: 001, Train Acc: 0.5017, Train AUC: 0.8089, Train AUPR: 0.3697, Test Acc: 0.4700, Test Auc: 0.7945, Test AUPR: 0.3649,  Loss: 1.6595\n"
     ]
    },
    {
     "name": "stderr",
     "output_type": "stream",
     "text": [
      "100%|██████████| 81/81 [00:09<00:00,  8.70it/s]\n"
     ]
    },
    {
     "name": "stdout",
     "output_type": "stream",
     "text": [
      "Epoch: 002, Train Acc: 0.5391, Train AUC: 0.8563, Train AUPR: 0.4429, Test Acc: 0.5133, Test Auc: 0.8398, Test AUPR: 0.4432,  Loss: 1.3150\n"
     ]
    },
    {
     "name": "stderr",
     "output_type": "stream",
     "text": [
      "100%|██████████| 81/81 [00:09<00:00,  8.67it/s]\n"
     ]
    },
    {
     "name": "stdout",
     "output_type": "stream",
     "text": [
      "Epoch: 003, Train Acc: 0.6019, Train AUC: 0.8748, Train AUPR: 0.4751, Test Acc: 0.5567, Test Auc: 0.8574, Test AUPR: 0.4668,  Loss: 1.1130\n"
     ]
    },
    {
     "name": "stderr",
     "output_type": "stream",
     "text": [
      "100%|██████████| 81/81 [00:09<00:00,  8.65it/s]\n"
     ]
    },
    {
     "name": "stdout",
     "output_type": "stream",
     "text": [
      "Epoch: 004, Train Acc: 0.6102, Train AUC: 0.8930, Train AUPR: 0.5025, Test Acc: 0.5567, Test Auc: 0.8714, Test AUPR: 0.4788,  Loss: 1.0164\n"
     ]
    },
    {
     "name": "stderr",
     "output_type": "stream",
     "text": [
      "100%|██████████| 81/81 [00:09<00:00,  8.65it/s]\n"
     ]
    },
    {
     "name": "stdout",
     "output_type": "stream",
     "text": [
      "Epoch: 005, Train Acc: 0.6560, Train AUC: 0.9129, Train AUPR: 0.5404, Test Acc: 0.6033, Test Auc: 0.8943, Test AUPR: 0.5351,  Loss: 0.9553\n"
     ]
    },
    {
     "name": "stderr",
     "output_type": "stream",
     "text": [
      "100%|██████████| 81/81 [00:09<00:00,  8.63it/s]\n"
     ]
    },
    {
     "name": "stdout",
     "output_type": "stream",
     "text": [
      "Epoch: 006, Train Acc: 0.6622, Train AUC: 0.9195, Train AUPR: 0.5605, Test Acc: 0.6233, Test Auc: 0.9025, Test AUPR: 0.5557,  Loss: 0.9114\n"
     ]
    },
    {
     "name": "stderr",
     "output_type": "stream",
     "text": [
      "100%|██████████| 81/81 [00:09<00:00,  8.63it/s]\n"
     ]
    },
    {
     "name": "stdout",
     "output_type": "stream",
     "text": [
      "Epoch: 007, Train Acc: 0.6647, Train AUC: 0.9251, Train AUPR: 0.5834, Test Acc: 0.6300, Test Auc: 0.9062, Test AUPR: 0.5676,  Loss: 0.8964\n"
     ]
    },
    {
     "name": "stderr",
     "output_type": "stream",
     "text": [
      "100%|██████████| 81/81 [00:09<00:00,  8.62it/s]\n"
     ]
    },
    {
     "name": "stdout",
     "output_type": "stream",
     "text": [
      "Epoch: 008, Train Acc: 0.6814, Train AUC: 0.9277, Train AUPR: 0.5857, Test Acc: 0.6267, Test Auc: 0.9073, Test AUPR: 0.5663,  Loss: 0.8385\n"
     ]
    },
    {
     "name": "stderr",
     "output_type": "stream",
     "text": [
      "100%|██████████| 81/81 [00:09<00:00,  8.61it/s]\n"
     ]
    },
    {
     "name": "stdout",
     "output_type": "stream",
     "text": [
      "Epoch: 009, Train Acc: 0.7184, Train AUC: 0.9350, Train AUPR: 0.6178, Test Acc: 0.6500, Test Auc: 0.9176, Test AUPR: 0.6008,  Loss: 0.8123\n"
     ]
    },
    {
     "name": "stderr",
     "output_type": "stream",
     "text": [
      "100%|██████████| 81/81 [00:09<00:00,  8.62it/s]\n"
     ]
    },
    {
     "name": "stdout",
     "output_type": "stream",
     "text": [
      "Epoch: 010, Train Acc: 0.6976, Train AUC: 0.9378, Train AUPR: 0.6166, Test Acc: 0.6600, Test Auc: 0.9196, Test AUPR: 0.5936,  Loss: 0.7837\n"
     ]
    },
    {
     "name": "stderr",
     "output_type": "stream",
     "text": [
      "100%|██████████| 81/81 [00:09<00:00,  8.62it/s]\n"
     ]
    },
    {
     "name": "stdout",
     "output_type": "stream",
     "text": [
      "Epoch: 011, Train Acc: 0.7067, Train AUC: 0.9393, Train AUPR: 0.6209, Test Acc: 0.6433, Test Auc: 0.9184, Test AUPR: 0.5939,  Loss: 0.7619\n"
     ]
    },
    {
     "name": "stderr",
     "output_type": "stream",
     "text": [
      "100%|██████████| 81/81 [00:09<00:00,  8.62it/s]\n"
     ]
    },
    {
     "name": "stdout",
     "output_type": "stream",
     "text": [
      "Epoch: 012, Train Acc: 0.7209, Train AUC: 0.9385, Train AUPR: 0.6278, Test Acc: 0.6767, Test Auc: 0.9212, Test AUPR: 0.6057,  Loss: 0.7439\n"
     ]
    },
    {
     "name": "stderr",
     "output_type": "stream",
     "text": [
      "100%|██████████| 81/81 [00:09<00:00,  8.62it/s]\n"
     ]
    },
    {
     "name": "stdout",
     "output_type": "stream",
     "text": [
      "Epoch: 013, Train Acc: 0.7400, Train AUC: 0.9451, Train AUPR: 0.6445, Test Acc: 0.6933, Test Auc: 0.9255, Test AUPR: 0.6279,  Loss: 0.7387\n"
     ]
    },
    {
     "name": "stderr",
     "output_type": "stream",
     "text": [
      "100%|██████████| 81/81 [00:09<00:00,  8.61it/s]\n"
     ]
    },
    {
     "name": "stdout",
     "output_type": "stream",
     "text": [
      "Epoch: 014, Train Acc: 0.7363, Train AUC: 0.9459, Train AUPR: 0.6479, Test Acc: 0.6833, Test Auc: 0.9272, Test AUPR: 0.6271,  Loss: 0.7213\n"
     ]
    },
    {
     "name": "stderr",
     "output_type": "stream",
     "text": [
      "100%|██████████| 81/81 [00:09<00:00,  8.62it/s]\n"
     ]
    },
    {
     "name": "stdout",
     "output_type": "stream",
     "text": [
      "Epoch: 015, Train Acc: 0.7463, Train AUC: 0.9472, Train AUPR: 0.6517, Test Acc: 0.6767, Test Auc: 0.9300, Test AUPR: 0.6268,  Loss: 0.7195\n"
     ]
    },
    {
     "name": "stderr",
     "output_type": "stream",
     "text": [
      "100%|██████████| 81/81 [00:09<00:00,  8.62it/s]\n"
     ]
    },
    {
     "name": "stdout",
     "output_type": "stream",
     "text": [
      "Epoch: 016, Train Acc: 0.7533, Train AUC: 0.9466, Train AUPR: 0.6540, Test Acc: 0.7167, Test Auc: 0.9292, Test AUPR: 0.6384,  Loss: 0.7238\n"
     ]
    },
    {
     "name": "stderr",
     "output_type": "stream",
     "text": [
      "100%|██████████| 81/81 [00:09<00:00,  8.61it/s]\n"
     ]
    },
    {
     "name": "stdout",
     "output_type": "stream",
     "text": [
      "Epoch: 017, Train Acc: 0.7479, Train AUC: 0.9469, Train AUPR: 0.6550, Test Acc: 0.6867, Test Auc: 0.9286, Test AUPR: 0.6285,  Loss: 0.7536\n"
     ]
    },
    {
     "name": "stderr",
     "output_type": "stream",
     "text": [
      "100%|██████████| 81/81 [00:09<00:00,  8.61it/s]\n"
     ]
    },
    {
     "name": "stdout",
     "output_type": "stream",
     "text": [
      "Epoch: 018, Train Acc: 0.7483, Train AUC: 0.9483, Train AUPR: 0.6606, Test Acc: 0.6800, Test Auc: 0.9310, Test AUPR: 0.6457,  Loss: 0.6979\n"
     ]
    },
    {
     "name": "stderr",
     "output_type": "stream",
     "text": [
      "100%|██████████| 81/81 [00:09<00:00,  8.62it/s]\n"
     ]
    },
    {
     "name": "stdout",
     "output_type": "stream",
     "text": [
      "Epoch: 019, Train Acc: 0.7567, Train AUC: 0.9506, Train AUPR: 0.6721, Test Acc: 0.6833, Test Auc: 0.9371, Test AUPR: 0.6501,  Loss: 0.7046\n"
     ]
    },
    {
     "name": "stderr",
     "output_type": "stream",
     "text": [
      "100%|██████████| 81/81 [00:09<00:00,  8.62it/s]\n"
     ]
    },
    {
     "name": "stdout",
     "output_type": "stream",
     "text": [
      "Epoch: 020, Train Acc: 0.7267, Train AUC: 0.9480, Train AUPR: 0.6660, Test Acc: 0.6467, Test Auc: 0.9314, Test AUPR: 0.6341,  Loss: 0.6973\n"
     ]
    },
    {
     "name": "stderr",
     "output_type": "stream",
     "text": [
      "100%|██████████| 81/81 [00:09<00:00,  8.62it/s]\n"
     ]
    },
    {
     "name": "stdout",
     "output_type": "stream",
     "text": [
      "Epoch: 021, Train Acc: 0.7512, Train AUC: 0.9516, Train AUPR: 0.6732, Test Acc: 0.6767, Test Auc: 0.9321, Test AUPR: 0.6409,  Loss: 0.7080\n"
     ]
    },
    {
     "name": "stderr",
     "output_type": "stream",
     "text": [
      "100%|██████████| 81/81 [00:09<00:00,  8.61it/s]\n"
     ]
    },
    {
     "name": "stdout",
     "output_type": "stream",
     "text": [
      "Epoch: 022, Train Acc: 0.7691, Train AUC: 0.9515, Train AUPR: 0.6807, Test Acc: 0.7033, Test Auc: 0.9361, Test AUPR: 0.6594,  Loss: 0.7108\n"
     ]
    },
    {
     "name": "stderr",
     "output_type": "stream",
     "text": [
      "100%|██████████| 81/81 [00:09<00:00,  8.62it/s]\n"
     ]
    },
    {
     "name": "stdout",
     "output_type": "stream",
     "text": [
      "Epoch: 023, Train Acc: 0.7700, Train AUC: 0.9540, Train AUPR: 0.6863, Test Acc: 0.7033, Test Auc: 0.9400, Test AUPR: 0.6641,  Loss: 0.7029\n"
     ]
    },
    {
     "name": "stderr",
     "output_type": "stream",
     "text": [
      "100%|██████████| 81/81 [00:09<00:00,  8.62it/s]\n"
     ]
    },
    {
     "name": "stdout",
     "output_type": "stream",
     "text": [
      "Epoch: 024, Train Acc: 0.7567, Train AUC: 0.9540, Train AUPR: 0.6842, Test Acc: 0.6967, Test Auc: 0.9370, Test AUPR: 0.6537,  Loss: 0.6904\n"
     ]
    },
    {
     "name": "stderr",
     "output_type": "stream",
     "text": [
      "100%|██████████| 81/81 [00:09<00:00,  8.62it/s]\n"
     ]
    },
    {
     "name": "stdout",
     "output_type": "stream",
     "text": [
      "Epoch: 025, Train Acc: 0.7662, Train AUC: 0.9553, Train AUPR: 0.6941, Test Acc: 0.6967, Test Auc: 0.9383, Test AUPR: 0.6645,  Loss: 0.6605\n"
     ]
    },
    {
     "name": "stderr",
     "output_type": "stream",
     "text": [
      "100%|██████████| 81/81 [00:09<00:00,  8.61it/s]\n"
     ]
    },
    {
     "name": "stdout",
     "output_type": "stream",
     "text": [
      "Epoch: 026, Train Acc: 0.7417, Train AUC: 0.9527, Train AUPR: 0.6784, Test Acc: 0.6800, Test Auc: 0.9374, Test AUPR: 0.6573,  Loss: 0.6654\n"
     ]
    },
    {
     "name": "stderr",
     "output_type": "stream",
     "text": [
      "100%|██████████| 81/81 [00:09<00:00,  8.62it/s]\n"
     ]
    },
    {
     "name": "stdout",
     "output_type": "stream",
     "text": [
      "Epoch: 027, Train Acc: 0.7542, Train AUC: 0.9546, Train AUPR: 0.6931, Test Acc: 0.6767, Test Auc: 0.9361, Test AUPR: 0.6735,  Loss: 0.6641\n"
     ]
    },
    {
     "name": "stderr",
     "output_type": "stream",
     "text": [
      "100%|██████████| 81/81 [00:09<00:00,  8.62it/s]\n"
     ]
    },
    {
     "name": "stdout",
     "output_type": "stream",
     "text": [
      "Epoch: 028, Train Acc: 0.7679, Train AUC: 0.9580, Train AUPR: 0.7005, Test Acc: 0.7067, Test Auc: 0.9401, Test AUPR: 0.6723,  Loss: 0.6663\n"
     ]
    },
    {
     "name": "stderr",
     "output_type": "stream",
     "text": [
      "100%|██████████| 81/81 [00:09<00:00,  8.61it/s]\n"
     ]
    },
    {
     "name": "stdout",
     "output_type": "stream",
     "text": [
      "Epoch: 029, Train Acc: 0.7750, Train AUC: 0.9573, Train AUPR: 0.7021, Test Acc: 0.7233, Test Auc: 0.9421, Test AUPR: 0.6810,  Loss: 0.6561\n"
     ]
    },
    {
     "name": "stderr",
     "output_type": "stream",
     "text": [
      "100%|██████████| 81/81 [00:09<00:00,  8.61it/s]\n"
     ]
    },
    {
     "name": "stdout",
     "output_type": "stream",
     "text": [
      "Epoch: 030, Train Acc: 0.7388, Train AUC: 0.9540, Train AUPR: 0.6943, Test Acc: 0.6767, Test Auc: 0.9363, Test AUPR: 0.6685,  Loss: 0.6720\n"
     ]
    },
    {
     "name": "stderr",
     "output_type": "stream",
     "text": [
      "100%|██████████| 81/81 [00:09<00:00,  8.62it/s]\n"
     ]
    },
    {
     "name": "stdout",
     "output_type": "stream",
     "text": [
      "Epoch: 031, Train Acc: 0.7733, Train AUC: 0.9594, Train AUPR: 0.7126, Test Acc: 0.7000, Test Auc: 0.9431, Test AUPR: 0.6880,  Loss: 0.6501\n"
     ]
    },
    {
     "name": "stderr",
     "output_type": "stream",
     "text": [
      "100%|██████████| 81/81 [00:09<00:00,  8.62it/s]\n"
     ]
    },
    {
     "name": "stdout",
     "output_type": "stream",
     "text": [
      "Epoch: 032, Train Acc: 0.7608, Train AUC: 0.9569, Train AUPR: 0.7084, Test Acc: 0.6967, Test Auc: 0.9390, Test AUPR: 0.6864,  Loss: 0.6442\n"
     ]
    },
    {
     "name": "stderr",
     "output_type": "stream",
     "text": [
      "100%|██████████| 81/81 [00:09<00:00,  8.62it/s]\n"
     ]
    },
    {
     "name": "stdout",
     "output_type": "stream",
     "text": [
      "Epoch: 033, Train Acc: 0.7841, Train AUC: 0.9601, Train AUPR: 0.7191, Test Acc: 0.7333, Test Auc: 0.9463, Test AUPR: 0.6801,  Loss: 0.6269\n"
     ]
    },
    {
     "name": "stderr",
     "output_type": "stream",
     "text": [
      "100%|██████████| 81/81 [00:09<00:00,  8.61it/s]\n"
     ]
    },
    {
     "name": "stdout",
     "output_type": "stream",
     "text": [
      "Epoch: 034, Train Acc: 0.7571, Train AUC: 0.9589, Train AUPR: 0.7125, Test Acc: 0.6767, Test Auc: 0.9435, Test AUPR: 0.6788,  Loss: 0.6505\n"
     ]
    },
    {
     "name": "stderr",
     "output_type": "stream",
     "text": [
      "100%|██████████| 81/81 [00:09<00:00,  8.61it/s]\n"
     ]
    },
    {
     "name": "stdout",
     "output_type": "stream",
     "text": [
      "Epoch: 035, Train Acc: 0.7533, Train AUC: 0.9595, Train AUPR: 0.7087, Test Acc: 0.6967, Test Auc: 0.9407, Test AUPR: 0.6722,  Loss: 0.6506\n"
     ]
    },
    {
     "name": "stderr",
     "output_type": "stream",
     "text": [
      "100%|██████████| 81/81 [00:09<00:00,  8.62it/s]\n"
     ]
    },
    {
     "name": "stdout",
     "output_type": "stream",
     "text": [
      "Epoch: 036, Train Acc: 0.7775, Train AUC: 0.9588, Train AUPR: 0.7154, Test Acc: 0.7100, Test Auc: 0.9433, Test AUPR: 0.6591,  Loss: 0.6317\n"
     ]
    },
    {
     "name": "stderr",
     "output_type": "stream",
     "text": [
      "100%|██████████| 81/81 [00:09<00:00,  8.62it/s]\n"
     ]
    },
    {
     "name": "stdout",
     "output_type": "stream",
     "text": [
      "Epoch: 037, Train Acc: 0.7587, Train AUC: 0.9604, Train AUPR: 0.7150, Test Acc: 0.6933, Test Auc: 0.9460, Test AUPR: 0.6796,  Loss: 0.6491\n"
     ]
    },
    {
     "name": "stderr",
     "output_type": "stream",
     "text": [
      "100%|██████████| 81/81 [00:09<00:00,  8.62it/s]\n"
     ]
    },
    {
     "name": "stdout",
     "output_type": "stream",
     "text": [
      "Epoch: 038, Train Acc: 0.7725, Train AUC: 0.9600, Train AUPR: 0.7196, Test Acc: 0.7000, Test Auc: 0.9427, Test AUPR: 0.6800,  Loss: 0.6407\n"
     ]
    },
    {
     "name": "stderr",
     "output_type": "stream",
     "text": [
      "100%|██████████| 81/81 [00:09<00:00,  8.62it/s]\n"
     ]
    },
    {
     "name": "stdout",
     "output_type": "stream",
     "text": [
      "Epoch: 039, Train Acc: 0.7745, Train AUC: 0.9605, Train AUPR: 0.7168, Test Acc: 0.7133, Test Auc: 0.9426, Test AUPR: 0.6820,  Loss: 0.6299\n"
     ]
    },
    {
     "name": "stderr",
     "output_type": "stream",
     "text": [
      "100%|██████████| 81/81 [00:09<00:00,  8.61it/s]\n"
     ]
    },
    {
     "name": "stdout",
     "output_type": "stream",
     "text": [
      "Epoch: 040, Train Acc: 0.7812, Train AUC: 0.9616, Train AUPR: 0.7280, Test Acc: 0.7033, Test Auc: 0.9456, Test AUPR: 0.6850,  Loss: 0.6161\n"
     ]
    },
    {
     "name": "stderr",
     "output_type": "stream",
     "text": [
      "100%|██████████| 81/81 [00:09<00:00,  8.61it/s]\n"
     ]
    },
    {
     "name": "stdout",
     "output_type": "stream",
     "text": [
      "Epoch: 041, Train Acc: 0.7833, Train AUC: 0.9632, Train AUPR: 0.7308, Test Acc: 0.7100, Test Auc: 0.9448, Test AUPR: 0.6824,  Loss: 0.6200\n"
     ]
    },
    {
     "name": "stderr",
     "output_type": "stream",
     "text": [
      "100%|██████████| 81/81 [00:09<00:00,  8.59it/s]\n"
     ]
    },
    {
     "name": "stdout",
     "output_type": "stream",
     "text": [
      "Epoch: 042, Train Acc: 0.7829, Train AUC: 0.9626, Train AUPR: 0.7279, Test Acc: 0.6933, Test Auc: 0.9453, Test AUPR: 0.6820,  Loss: 0.6275\n"
     ]
    },
    {
     "name": "stderr",
     "output_type": "stream",
     "text": [
      "100%|██████████| 81/81 [00:09<00:00,  8.61it/s]\n"
     ]
    },
    {
     "name": "stdout",
     "output_type": "stream",
     "text": [
      "Epoch: 043, Train Acc: 0.7775, Train AUC: 0.9633, Train AUPR: 0.7332, Test Acc: 0.6933, Test Auc: 0.9452, Test AUPR: 0.6893,  Loss: 0.6091\n"
     ]
    },
    {
     "name": "stderr",
     "output_type": "stream",
     "text": [
      "100%|██████████| 81/81 [00:09<00:00,  8.61it/s]\n"
     ]
    },
    {
     "name": "stdout",
     "output_type": "stream",
     "text": [
      "Epoch: 044, Train Acc: 0.7650, Train AUC: 0.9612, Train AUPR: 0.7289, Test Acc: 0.6567, Test Auc: 0.9421, Test AUPR: 0.6724,  Loss: 0.6180\n"
     ]
    },
    {
     "name": "stderr",
     "output_type": "stream",
     "text": [
      "100%|██████████| 81/81 [00:09<00:00,  8.62it/s]\n"
     ]
    },
    {
     "name": "stdout",
     "output_type": "stream",
     "text": [
      "Epoch: 045, Train Acc: 0.7833, Train AUC: 0.9646, Train AUPR: 0.7383, Test Acc: 0.7233, Test Auc: 0.9464, Test AUPR: 0.6820,  Loss: 0.6074\n"
     ]
    },
    {
     "name": "stderr",
     "output_type": "stream",
     "text": [
      "100%|██████████| 81/81 [00:09<00:00,  8.62it/s]\n"
     ]
    },
    {
     "name": "stdout",
     "output_type": "stream",
     "text": [
      "Epoch: 046, Train Acc: 0.7903, Train AUC: 0.9650, Train AUPR: 0.7399, Test Acc: 0.7000, Test Auc: 0.9451, Test AUPR: 0.6936,  Loss: 0.5986\n"
     ]
    },
    {
     "name": "stderr",
     "output_type": "stream",
     "text": [
      "100%|██████████| 81/81 [00:09<00:00,  8.62it/s]\n"
     ]
    },
    {
     "name": "stdout",
     "output_type": "stream",
     "text": [
      "Epoch: 047, Train Acc: 0.7824, Train AUC: 0.9653, Train AUPR: 0.7404, Test Acc: 0.7100, Test Auc: 0.9477, Test AUPR: 0.6830,  Loss: 0.6082\n"
     ]
    },
    {
     "name": "stderr",
     "output_type": "stream",
     "text": [
      "100%|██████████| 81/81 [00:09<00:00,  8.62it/s]\n"
     ]
    },
    {
     "name": "stdout",
     "output_type": "stream",
     "text": [
      "Epoch: 048, Train Acc: 0.7874, Train AUC: 0.9651, Train AUPR: 0.7424, Test Acc: 0.7167, Test Auc: 0.9474, Test AUPR: 0.6841,  Loss: 0.6046\n"
     ]
    },
    {
     "name": "stderr",
     "output_type": "stream",
     "text": [
      "100%|██████████| 81/81 [00:09<00:00,  8.62it/s]\n"
     ]
    },
    {
     "name": "stdout",
     "output_type": "stream",
     "text": [
      "Epoch: 049, Train Acc: 0.7870, Train AUC: 0.9655, Train AUPR: 0.7436, Test Acc: 0.7000, Test Auc: 0.9478, Test AUPR: 0.6793,  Loss: 0.6009\n"
     ]
    },
    {
     "name": "stderr",
     "output_type": "stream",
     "text": [
      "100%|██████████| 81/81 [00:09<00:00,  8.62it/s]\n"
     ]
    },
    {
     "name": "stdout",
     "output_type": "stream",
     "text": [
      "Epoch: 050, Train Acc: 0.7596, Train AUC: 0.9644, Train AUPR: 0.7316, Test Acc: 0.6867, Test Auc: 0.9453, Test AUPR: 0.6865,  Loss: 0.5894\n"
     ]
    },
    {
     "name": "stderr",
     "output_type": "stream",
     "text": [
      "100%|██████████| 81/81 [00:09<00:00,  8.62it/s]\n"
     ]
    },
    {
     "name": "stdout",
     "output_type": "stream",
     "text": [
      "Epoch: 051, Train Acc: 0.7949, Train AUC: 0.9651, Train AUPR: 0.7463, Test Acc: 0.7233, Test Auc: 0.9491, Test AUPR: 0.6817,  Loss: 0.5977\n"
     ]
    },
    {
     "name": "stderr",
     "output_type": "stream",
     "text": [
      "100%|██████████| 81/81 [00:09<00:00,  8.62it/s]\n"
     ]
    },
    {
     "name": "stdout",
     "output_type": "stream",
     "text": [
      "Epoch: 052, Train Acc: 0.7783, Train AUC: 0.9635, Train AUPR: 0.7356, Test Acc: 0.7000, Test Auc: 0.9422, Test AUPR: 0.6664,  Loss: 0.5849\n"
     ]
    },
    {
     "name": "stderr",
     "output_type": "stream",
     "text": [
      "100%|██████████| 81/81 [00:09<00:00,  8.60it/s]\n"
     ]
    },
    {
     "name": "stdout",
     "output_type": "stream",
     "text": [
      "Epoch: 053, Train Acc: 0.8045, Train AUC: 0.9672, Train AUPR: 0.7506, Test Acc: 0.7100, Test Auc: 0.9493, Test AUPR: 0.7023,  Loss: 0.5918\n"
     ]
    },
    {
     "name": "stderr",
     "output_type": "stream",
     "text": [
      "100%|██████████| 81/81 [00:09<00:00,  8.61it/s]\n"
     ]
    },
    {
     "name": "stdout",
     "output_type": "stream",
     "text": [
      "Epoch: 054, Train Acc: 0.8028, Train AUC: 0.9685, Train AUPR: 0.7577, Test Acc: 0.7433, Test Auc: 0.9505, Test AUPR: 0.6861,  Loss: 0.5979\n"
     ]
    },
    {
     "name": "stderr",
     "output_type": "stream",
     "text": [
      "100%|██████████| 81/81 [00:09<00:00,  8.62it/s]\n"
     ]
    },
    {
     "name": "stdout",
     "output_type": "stream",
     "text": [
      "Epoch: 055, Train Acc: 0.7895, Train AUC: 0.9684, Train AUPR: 0.7585, Test Acc: 0.7167, Test Auc: 0.9512, Test AUPR: 0.6909,  Loss: 0.5758\n"
     ]
    },
    {
     "name": "stderr",
     "output_type": "stream",
     "text": [
      "100%|██████████| 81/81 [00:09<00:00,  8.61it/s]\n"
     ]
    },
    {
     "name": "stdout",
     "output_type": "stream",
     "text": [
      "Epoch: 056, Train Acc: 0.8037, Train AUC: 0.9682, Train AUPR: 0.7586, Test Acc: 0.7267, Test Auc: 0.9497, Test AUPR: 0.6845,  Loss: 0.5827\n"
     ]
    },
    {
     "name": "stderr",
     "output_type": "stream",
     "text": [
      "100%|██████████| 81/81 [00:09<00:00,  8.61it/s]\n"
     ]
    },
    {
     "name": "stdout",
     "output_type": "stream",
     "text": [
      "Epoch: 057, Train Acc: 0.7962, Train AUC: 0.9686, Train AUPR: 0.7623, Test Acc: 0.7433, Test Auc: 0.9518, Test AUPR: 0.6930,  Loss: 0.5872\n"
     ]
    },
    {
     "name": "stderr",
     "output_type": "stream",
     "text": [
      "100%|██████████| 81/81 [00:09<00:00,  8.62it/s]\n"
     ]
    },
    {
     "name": "stdout",
     "output_type": "stream",
     "text": [
      "Epoch: 058, Train Acc: 0.7966, Train AUC: 0.9692, Train AUPR: 0.7629, Test Acc: 0.7167, Test Auc: 0.9503, Test AUPR: 0.6843,  Loss: 0.5852\n"
     ]
    },
    {
     "name": "stderr",
     "output_type": "stream",
     "text": [
      "100%|██████████| 81/81 [00:09<00:00,  8.62it/s]\n"
     ]
    },
    {
     "name": "stdout",
     "output_type": "stream",
     "text": [
      "Epoch: 059, Train Acc: 0.7999, Train AUC: 0.9689, Train AUPR: 0.7600, Test Acc: 0.7267, Test Auc: 0.9499, Test AUPR: 0.6884,  Loss: 0.5953\n"
     ]
    },
    {
     "name": "stderr",
     "output_type": "stream",
     "text": [
      "100%|██████████| 81/81 [00:09<00:00,  8.62it/s]\n"
     ]
    },
    {
     "name": "stdout",
     "output_type": "stream",
     "text": [
      "Epoch: 060, Train Acc: 0.8053, Train AUC: 0.9698, Train AUPR: 0.7664, Test Acc: 0.7300, Test Auc: 0.9514, Test AUPR: 0.6935,  Loss: 0.5744\n"
     ]
    },
    {
     "name": "stderr",
     "output_type": "stream",
     "text": [
      "100%|██████████| 81/81 [00:09<00:00,  8.61it/s]\n"
     ]
    },
    {
     "name": "stdout",
     "output_type": "stream",
     "text": [
      "Epoch: 061, Train Acc: 0.8132, Train AUC: 0.9695, Train AUPR: 0.7643, Test Acc: 0.7467, Test Auc: 0.9510, Test AUPR: 0.6954,  Loss: 0.5598\n"
     ]
    },
    {
     "name": "stderr",
     "output_type": "stream",
     "text": [
      "100%|██████████| 81/81 [00:09<00:00,  8.62it/s]\n"
     ]
    },
    {
     "name": "stdout",
     "output_type": "stream",
     "text": [
      "Epoch: 062, Train Acc: 0.8062, Train AUC: 0.9711, Train AUPR: 0.7742, Test Acc: 0.7333, Test Auc: 0.9547, Test AUPR: 0.6963,  Loss: 0.5899\n"
     ]
    },
    {
     "name": "stderr",
     "output_type": "stream",
     "text": [
      "100%|██████████| 81/81 [00:09<00:00,  8.62it/s]\n"
     ]
    },
    {
     "name": "stdout",
     "output_type": "stream",
     "text": [
      "Epoch: 063, Train Acc: 0.8136, Train AUC: 0.9710, Train AUPR: 0.7723, Test Acc: 0.7467, Test Auc: 0.9548, Test AUPR: 0.7003,  Loss: 0.5737\n"
     ]
    },
    {
     "name": "stderr",
     "output_type": "stream",
     "text": [
      "100%|██████████| 81/81 [00:09<00:00,  8.62it/s]\n"
     ]
    },
    {
     "name": "stdout",
     "output_type": "stream",
     "text": [
      "Epoch: 064, Train Acc: 0.8012, Train AUC: 0.9705, Train AUPR: 0.7701, Test Acc: 0.7400, Test Auc: 0.9522, Test AUPR: 0.6973,  Loss: 0.5663\n"
     ]
    },
    {
     "name": "stderr",
     "output_type": "stream",
     "text": [
      "100%|██████████| 81/81 [00:09<00:00,  8.61it/s]\n"
     ]
    },
    {
     "name": "stdout",
     "output_type": "stream",
     "text": [
      "Epoch: 065, Train Acc: 0.8070, Train AUC: 0.9714, Train AUPR: 0.7728, Test Acc: 0.7300, Test Auc: 0.9545, Test AUPR: 0.7027,  Loss: 0.5554\n"
     ]
    },
    {
     "name": "stderr",
     "output_type": "stream",
     "text": [
      "100%|██████████| 81/81 [00:09<00:00,  8.62it/s]\n"
     ]
    },
    {
     "name": "stdout",
     "output_type": "stream",
     "text": [
      "Epoch: 066, Train Acc: 0.7874, Train AUC: 0.9717, Train AUPR: 0.7762, Test Acc: 0.7033, Test Auc: 0.9534, Test AUPR: 0.6948,  Loss: 0.5623\n"
     ]
    },
    {
     "name": "stderr",
     "output_type": "stream",
     "text": [
      "100%|██████████| 81/81 [00:09<00:00,  8.61it/s]\n"
     ]
    },
    {
     "name": "stdout",
     "output_type": "stream",
     "text": [
      "Epoch: 067, Train Acc: 0.7945, Train AUC: 0.9709, Train AUPR: 0.7704, Test Acc: 0.7267, Test Auc: 0.9525, Test AUPR: 0.6931,  Loss: 0.5721\n"
     ]
    },
    {
     "name": "stderr",
     "output_type": "stream",
     "text": [
      "100%|██████████| 81/81 [00:09<00:00,  8.61it/s]\n"
     ]
    },
    {
     "name": "stdout",
     "output_type": "stream",
     "text": [
      "Epoch: 068, Train Acc: 0.8174, Train AUC: 0.9735, Train AUPR: 0.7861, Test Acc: 0.7300, Test Auc: 0.9562, Test AUPR: 0.7023,  Loss: 0.5818\n"
     ]
    },
    {
     "name": "stderr",
     "output_type": "stream",
     "text": [
      "100%|██████████| 81/81 [00:09<00:00,  8.62it/s]\n"
     ]
    },
    {
     "name": "stdout",
     "output_type": "stream",
     "text": [
      "Epoch: 069, Train Acc: 0.8141, Train AUC: 0.9724, Train AUPR: 0.7773, Test Acc: 0.7300, Test Auc: 0.9530, Test AUPR: 0.6917,  Loss: 0.5505\n"
     ]
    },
    {
     "name": "stderr",
     "output_type": "stream",
     "text": [
      "100%|██████████| 81/81 [00:09<00:00,  8.62it/s]\n"
     ]
    },
    {
     "name": "stdout",
     "output_type": "stream",
     "text": [
      "Epoch: 070, Train Acc: 0.7899, Train AUC: 0.9722, Train AUPR: 0.7806, Test Acc: 0.7167, Test Auc: 0.9544, Test AUPR: 0.7016,  Loss: 0.5485\n"
     ]
    },
    {
     "name": "stderr",
     "output_type": "stream",
     "text": [
      "100%|██████████| 81/81 [00:09<00:00,  8.61it/s]\n"
     ]
    },
    {
     "name": "stdout",
     "output_type": "stream",
     "text": [
      "Epoch: 071, Train Acc: 0.8203, Train AUC: 0.9736, Train AUPR: 0.7832, Test Acc: 0.7300, Test Auc: 0.9555, Test AUPR: 0.7025,  Loss: 0.5566\n"
     ]
    },
    {
     "name": "stderr",
     "output_type": "stream",
     "text": [
      "100%|██████████| 81/81 [00:09<00:00,  8.63it/s]\n"
     ]
    },
    {
     "name": "stdout",
     "output_type": "stream",
     "text": [
      "Epoch: 072, Train Acc: 0.8203, Train AUC: 0.9711, Train AUPR: 0.7768, Test Acc: 0.7300, Test Auc: 0.9529, Test AUPR: 0.6967,  Loss: 0.5389\n"
     ]
    },
    {
     "name": "stderr",
     "output_type": "stream",
     "text": [
      "100%|██████████| 81/81 [00:09<00:00,  8.63it/s]\n"
     ]
    },
    {
     "name": "stdout",
     "output_type": "stream",
     "text": [
      "Epoch: 073, Train Acc: 0.8174, Train AUC: 0.9738, Train AUPR: 0.7848, Test Acc: 0.7367, Test Auc: 0.9529, Test AUPR: 0.6932,  Loss: 0.5427\n"
     ]
    },
    {
     "name": "stderr",
     "output_type": "stream",
     "text": [
      "100%|██████████| 81/81 [00:09<00:00,  8.61it/s]\n"
     ]
    },
    {
     "name": "stdout",
     "output_type": "stream",
     "text": [
      "Epoch: 074, Train Acc: 0.8153, Train AUC: 0.9742, Train AUPR: 0.7907, Test Acc: 0.7200, Test Auc: 0.9559, Test AUPR: 0.6997,  Loss: 0.5364\n"
     ]
    },
    {
     "name": "stderr",
     "output_type": "stream",
     "text": [
      "100%|██████████| 81/81 [00:09<00:00,  8.62it/s]\n"
     ]
    },
    {
     "name": "stdout",
     "output_type": "stream",
     "text": [
      "Epoch: 075, Train Acc: 0.8228, Train AUC: 0.9741, Train AUPR: 0.7887, Test Acc: 0.7433, Test Auc: 0.9571, Test AUPR: 0.6930,  Loss: 0.5522\n"
     ]
    },
    {
     "name": "stderr",
     "output_type": "stream",
     "text": [
      "100%|██████████| 81/81 [00:09<00:00,  8.62it/s]\n"
     ]
    },
    {
     "name": "stdout",
     "output_type": "stream",
     "text": [
      "Epoch: 076, Train Acc: 0.8236, Train AUC: 0.9736, Train AUPR: 0.7854, Test Acc: 0.7467, Test Auc: 0.9553, Test AUPR: 0.7020,  Loss: 0.5558\n"
     ]
    },
    {
     "name": "stderr",
     "output_type": "stream",
     "text": [
      "100%|██████████| 81/81 [00:09<00:00,  8.60it/s]\n"
     ]
    },
    {
     "name": "stdout",
     "output_type": "stream",
     "text": [
      "Epoch: 077, Train Acc: 0.8153, Train AUC: 0.9745, Train AUPR: 0.7922, Test Acc: 0.7533, Test Auc: 0.9565, Test AUPR: 0.6992,  Loss: 0.5509\n"
     ]
    },
    {
     "name": "stderr",
     "output_type": "stream",
     "text": [
      "100%|██████████| 81/81 [00:09<00:00,  8.61it/s]\n"
     ]
    },
    {
     "name": "stdout",
     "output_type": "stream",
     "text": [
      "Epoch: 078, Train Acc: 0.8153, Train AUC: 0.9739, Train AUPR: 0.7884, Test Acc: 0.7533, Test Auc: 0.9567, Test AUPR: 0.7171,  Loss: 0.5480\n"
     ]
    },
    {
     "name": "stderr",
     "output_type": "stream",
     "text": [
      "100%|██████████| 81/81 [00:09<00:00,  8.61it/s]\n"
     ]
    },
    {
     "name": "stdout",
     "output_type": "stream",
     "text": [
      "Epoch: 079, Train Acc: 0.8053, Train AUC: 0.9734, Train AUPR: 0.7887, Test Acc: 0.7233, Test Auc: 0.9521, Test AUPR: 0.6970,  Loss: 0.5456\n"
     ]
    },
    {
     "name": "stderr",
     "output_type": "stream",
     "text": [
      "100%|██████████| 81/81 [00:09<00:00,  8.62it/s]\n"
     ]
    },
    {
     "name": "stdout",
     "output_type": "stream",
     "text": [
      "Epoch: 080, Train Acc: 0.8024, Train AUC: 0.9730, Train AUPR: 0.7832, Test Acc: 0.7267, Test Auc: 0.9503, Test AUPR: 0.6966,  Loss: 0.5384\n"
     ]
    },
    {
     "name": "stderr",
     "output_type": "stream",
     "text": [
      "100%|██████████| 81/81 [00:09<00:00,  8.62it/s]\n"
     ]
    },
    {
     "name": "stdout",
     "output_type": "stream",
     "text": [
      "Epoch: 081, Train Acc: 0.8382, Train AUC: 0.9758, Train AUPR: 0.7987, Test Acc: 0.7600, Test Auc: 0.9553, Test AUPR: 0.7053,  Loss: 0.5264\n"
     ]
    },
    {
     "name": "stderr",
     "output_type": "stream",
     "text": [
      "100%|██████████| 81/81 [00:09<00:00,  8.62it/s]\n"
     ]
    },
    {
     "name": "stdout",
     "output_type": "stream",
     "text": [
      "Epoch: 082, Train Acc: 0.8245, Train AUC: 0.9762, Train AUPR: 0.7999, Test Acc: 0.7133, Test Auc: 0.9569, Test AUPR: 0.7169,  Loss: 0.5492\n"
     ]
    },
    {
     "name": "stderr",
     "output_type": "stream",
     "text": [
      "100%|██████████| 81/81 [00:09<00:00,  8.62it/s]\n"
     ]
    },
    {
     "name": "stdout",
     "output_type": "stream",
     "text": [
      "Epoch: 083, Train Acc: 0.8124, Train AUC: 0.9749, Train AUPR: 0.7932, Test Acc: 0.7367, Test Auc: 0.9536, Test AUPR: 0.7011,  Loss: 0.5288\n"
     ]
    },
    {
     "name": "stderr",
     "output_type": "stream",
     "text": [
      "100%|██████████| 81/81 [00:09<00:00,  8.60it/s]\n"
     ]
    },
    {
     "name": "stdout",
     "output_type": "stream",
     "text": [
      "Epoch: 084, Train Acc: 0.7991, Train AUC: 0.9730, Train AUPR: 0.7874, Test Acc: 0.7367, Test Auc: 0.9514, Test AUPR: 0.6997,  Loss: 0.5414\n"
     ]
    },
    {
     "name": "stderr",
     "output_type": "stream",
     "text": [
      "100%|██████████| 81/81 [00:09<00:00,  8.62it/s]\n"
     ]
    },
    {
     "name": "stdout",
     "output_type": "stream",
     "text": [
      "Epoch: 085, Train Acc: 0.8136, Train AUC: 0.9757, Train AUPR: 0.7992, Test Acc: 0.7300, Test Auc: 0.9548, Test AUPR: 0.7025,  Loss: 0.5460\n"
     ]
    },
    {
     "name": "stderr",
     "output_type": "stream",
     "text": [
      "100%|██████████| 81/81 [00:09<00:00,  8.62it/s]\n"
     ]
    },
    {
     "name": "stdout",
     "output_type": "stream",
     "text": [
      "Epoch: 086, Train Acc: 0.8386, Train AUC: 0.9765, Train AUPR: 0.8043, Test Acc: 0.7667, Test Auc: 0.9557, Test AUPR: 0.7039,  Loss: 0.5373\n"
     ]
    },
    {
     "name": "stderr",
     "output_type": "stream",
     "text": [
      "100%|██████████| 81/81 [00:09<00:00,  8.62it/s]\n"
     ]
    },
    {
     "name": "stdout",
     "output_type": "stream",
     "text": [
      "Epoch: 087, Train Acc: 0.8232, Train AUC: 0.9761, Train AUPR: 0.8057, Test Acc: 0.7467, Test Auc: 0.9579, Test AUPR: 0.7188,  Loss: 0.5304\n"
     ]
    },
    {
     "name": "stderr",
     "output_type": "stream",
     "text": [
      "100%|██████████| 81/81 [00:09<00:00,  8.62it/s]\n"
     ]
    },
    {
     "name": "stdout",
     "output_type": "stream",
     "text": [
      "Epoch: 088, Train Acc: 0.8232, Train AUC: 0.9770, Train AUPR: 0.8068, Test Acc: 0.7400, Test Auc: 0.9586, Test AUPR: 0.7122,  Loss: 0.5311\n"
     ]
    },
    {
     "name": "stderr",
     "output_type": "stream",
     "text": [
      "100%|██████████| 81/81 [00:09<00:00,  8.61it/s]\n"
     ]
    },
    {
     "name": "stdout",
     "output_type": "stream",
     "text": [
      "Epoch: 089, Train Acc: 0.8028, Train AUC: 0.9737, Train AUPR: 0.7927, Test Acc: 0.7067, Test Auc: 0.9504, Test AUPR: 0.6834,  Loss: 0.5177\n"
     ]
    },
    {
     "name": "stderr",
     "output_type": "stream",
     "text": [
      "100%|██████████| 81/81 [00:09<00:00,  8.62it/s]\n"
     ]
    },
    {
     "name": "stdout",
     "output_type": "stream",
     "text": [
      "Epoch: 090, Train Acc: 0.8161, Train AUC: 0.9761, Train AUPR: 0.8042, Test Acc: 0.7300, Test Auc: 0.9548, Test AUPR: 0.6994,  Loss: 0.5302\n"
     ]
    },
    {
     "name": "stderr",
     "output_type": "stream",
     "text": [
      "100%|██████████| 81/81 [00:09<00:00,  8.55it/s]\n"
     ]
    },
    {
     "name": "stdout",
     "output_type": "stream",
     "text": [
      "Epoch: 091, Train Acc: 0.8440, Train AUC: 0.9768, Train AUPR: 0.8070, Test Acc: 0.7667, Test Auc: 0.9565, Test AUPR: 0.7145,  Loss: 0.5226\n"
     ]
    },
    {
     "name": "stderr",
     "output_type": "stream",
     "text": [
      "100%|██████████| 81/81 [00:09<00:00,  8.62it/s]\n"
     ]
    },
    {
     "name": "stdout",
     "output_type": "stream",
     "text": [
      "Epoch: 092, Train Acc: 0.8153, Train AUC: 0.9771, Train AUPR: 0.8098, Test Acc: 0.7433, Test Auc: 0.9563, Test AUPR: 0.7230,  Loss: 0.5057\n"
     ]
    },
    {
     "name": "stderr",
     "output_type": "stream",
     "text": [
      "100%|██████████| 81/81 [00:09<00:00,  8.62it/s]\n"
     ]
    },
    {
     "name": "stdout",
     "output_type": "stream",
     "text": [
      "Epoch: 093, Train Acc: 0.8332, Train AUC: 0.9767, Train AUPR: 0.8053, Test Acc: 0.7433, Test Auc: 0.9543, Test AUPR: 0.6992,  Loss: 0.4924\n"
     ]
    },
    {
     "name": "stderr",
     "output_type": "stream",
     "text": [
      "100%|██████████| 81/81 [00:09<00:00,  8.62it/s]\n"
     ]
    },
    {
     "name": "stdout",
     "output_type": "stream",
     "text": [
      "Epoch: 094, Train Acc: 0.8240, Train AUC: 0.9778, Train AUPR: 0.8118, Test Acc: 0.7433, Test Auc: 0.9576, Test AUPR: 0.7120,  Loss: 0.5046\n"
     ]
    },
    {
     "name": "stderr",
     "output_type": "stream",
     "text": [
      "100%|██████████| 81/81 [00:09<00:00,  8.62it/s]\n"
     ]
    },
    {
     "name": "stdout",
     "output_type": "stream",
     "text": [
      "Epoch: 095, Train Acc: 0.8328, Train AUC: 0.9785, Train AUPR: 0.8134, Test Acc: 0.7433, Test Auc: 0.9577, Test AUPR: 0.7179,  Loss: 0.5023\n"
     ]
    },
    {
     "name": "stderr",
     "output_type": "stream",
     "text": [
      "100%|██████████| 81/81 [00:09<00:00,  8.62it/s]\n"
     ]
    },
    {
     "name": "stdout",
     "output_type": "stream",
     "text": [
      "Epoch: 096, Train Acc: 0.8436, Train AUC: 0.9781, Train AUPR: 0.8180, Test Acc: 0.7500, Test Auc: 0.9577, Test AUPR: 0.7319,  Loss: 0.5356\n"
     ]
    },
    {
     "name": "stderr",
     "output_type": "stream",
     "text": [
      "100%|██████████| 81/81 [00:09<00:00,  8.63it/s]\n"
     ]
    },
    {
     "name": "stdout",
     "output_type": "stream",
     "text": [
      "Epoch: 097, Train Acc: 0.8353, Train AUC: 0.9785, Train AUPR: 0.8195, Test Acc: 0.7800, Test Auc: 0.9583, Test AUPR: 0.7192,  Loss: 0.5038\n"
     ]
    },
    {
     "name": "stderr",
     "output_type": "stream",
     "text": [
      "100%|██████████| 81/81 [00:09<00:00,  8.62it/s]\n"
     ]
    },
    {
     "name": "stdout",
     "output_type": "stream",
     "text": [
      "Epoch: 098, Train Acc: 0.8403, Train AUC: 0.9794, Train AUPR: 0.8210, Test Acc: 0.7800, Test Auc: 0.9613, Test AUPR: 0.7344,  Loss: 0.5101\n"
     ]
    },
    {
     "name": "stderr",
     "output_type": "stream",
     "text": [
      "100%|██████████| 81/81 [00:09<00:00,  8.62it/s]\n"
     ]
    },
    {
     "name": "stdout",
     "output_type": "stream",
     "text": [
      "Epoch: 099, Train Acc: 0.8511, Train AUC: 0.9800, Train AUPR: 0.8228, Test Acc: 0.7700, Test Auc: 0.9601, Test AUPR: 0.7258,  Loss: 0.4909\n"
     ]
    },
    {
     "name": "stderr",
     "output_type": "stream",
     "text": [
      "100%|██████████| 81/81 [00:09<00:00,  8.62it/s]\n"
     ]
    },
    {
     "name": "stdout",
     "output_type": "stream",
     "text": [
      "Epoch: 100, Train Acc: 0.8390, Train AUC: 0.9791, Train AUPR: 0.8178, Test Acc: 0.7533, Test Auc: 0.9588, Test AUPR: 0.7220,  Loss: 0.5016\n"
     ]
    },
    {
     "name": "stderr",
     "output_type": "stream",
     "text": [
      "100%|██████████| 81/81 [00:09<00:00,  8.62it/s]\n"
     ]
    },
    {
     "name": "stdout",
     "output_type": "stream",
     "text": [
      "Epoch: 101, Train Acc: 0.8544, Train AUC: 0.9801, Train AUPR: 0.8265, Test Acc: 0.7700, Test Auc: 0.9590, Test AUPR: 0.7200,  Loss: 0.5086\n"
     ]
    },
    {
     "name": "stderr",
     "output_type": "stream",
     "text": [
      "100%|██████████| 81/81 [00:09<00:00,  8.63it/s]\n"
     ]
    },
    {
     "name": "stdout",
     "output_type": "stream",
     "text": [
      "Epoch: 102, Train Acc: 0.8365, Train AUC: 0.9790, Train AUPR: 0.8195, Test Acc: 0.7633, Test Auc: 0.9605, Test AUPR: 0.7190,  Loss: 0.4926\n"
     ]
    },
    {
     "name": "stderr",
     "output_type": "stream",
     "text": [
      "100%|██████████| 81/81 [00:09<00:00,  8.65it/s]\n"
     ]
    },
    {
     "name": "stdout",
     "output_type": "stream",
     "text": [
      "Epoch: 103, Train Acc: 0.8457, Train AUC: 0.9803, Train AUPR: 0.8289, Test Acc: 0.7667, Test Auc: 0.9610, Test AUPR: 0.7355,  Loss: 0.4777\n"
     ]
    },
    {
     "name": "stderr",
     "output_type": "stream",
     "text": [
      "100%|██████████| 81/81 [00:09<00:00,  8.65it/s]\n"
     ]
    },
    {
     "name": "stdout",
     "output_type": "stream",
     "text": [
      "Epoch: 104, Train Acc: 0.8486, Train AUC: 0.9803, Train AUPR: 0.8320, Test Acc: 0.7467, Test Auc: 0.9579, Test AUPR: 0.7242,  Loss: 0.4711\n"
     ]
    },
    {
     "name": "stderr",
     "output_type": "stream",
     "text": [
      "100%|██████████| 81/81 [00:09<00:00,  8.66it/s]\n"
     ]
    },
    {
     "name": "stdout",
     "output_type": "stream",
     "text": [
      "Epoch: 105, Train Acc: 0.8303, Train AUC: 0.9786, Train AUPR: 0.8236, Test Acc: 0.7500, Test Auc: 0.9578, Test AUPR: 0.7131,  Loss: 0.4832\n"
     ]
    },
    {
     "name": "stderr",
     "output_type": "stream",
     "text": [
      "100%|██████████| 81/81 [00:09<00:00,  8.66it/s]\n"
     ]
    },
    {
     "name": "stdout",
     "output_type": "stream",
     "text": [
      "Epoch: 106, Train Acc: 0.8490, Train AUC: 0.9802, Train AUPR: 0.8295, Test Acc: 0.7500, Test Auc: 0.9584, Test AUPR: 0.7300,  Loss: 0.5144\n"
     ]
    },
    {
     "name": "stderr",
     "output_type": "stream",
     "text": [
      "100%|██████████| 81/81 [00:09<00:00,  8.65it/s]\n"
     ]
    },
    {
     "name": "stdout",
     "output_type": "stream",
     "text": [
      "Epoch: 107, Train Acc: 0.8548, Train AUC: 0.9802, Train AUPR: 0.8325, Test Acc: 0.7767, Test Auc: 0.9585, Test AUPR: 0.7307,  Loss: 0.4778\n"
     ]
    },
    {
     "name": "stderr",
     "output_type": "stream",
     "text": [
      "100%|██████████| 81/81 [00:09<00:00,  8.64it/s]\n"
     ]
    },
    {
     "name": "stdout",
     "output_type": "stream",
     "text": [
      "Epoch: 108, Train Acc: 0.8286, Train AUC: 0.9795, Train AUPR: 0.8226, Test Acc: 0.7567, Test Auc: 0.9595, Test AUPR: 0.7288,  Loss: 0.4923\n"
     ]
    },
    {
     "name": "stderr",
     "output_type": "stream",
     "text": [
      "100%|██████████| 81/81 [00:09<00:00,  8.64it/s]\n"
     ]
    },
    {
     "name": "stdout",
     "output_type": "stream",
     "text": [
      "Epoch: 109, Train Acc: 0.8365, Train AUC: 0.9809, Train AUPR: 0.8381, Test Acc: 0.7500, Test Auc: 0.9613, Test AUPR: 0.7314,  Loss: 0.4879\n"
     ]
    },
    {
     "name": "stderr",
     "output_type": "stream",
     "text": [
      "100%|██████████| 81/81 [00:09<00:00,  8.64it/s]\n"
     ]
    },
    {
     "name": "stdout",
     "output_type": "stream",
     "text": [
      "Epoch: 110, Train Acc: 0.8374, Train AUC: 0.9813, Train AUPR: 0.8389, Test Acc: 0.7533, Test Auc: 0.9589, Test AUPR: 0.7249,  Loss: 0.4870\n"
     ]
    },
    {
     "name": "stderr",
     "output_type": "stream",
     "text": [
      "100%|██████████| 81/81 [00:09<00:00,  8.65it/s]\n"
     ]
    },
    {
     "name": "stdout",
     "output_type": "stream",
     "text": [
      "Epoch: 111, Train Acc: 0.8519, Train AUC: 0.9816, Train AUPR: 0.8372, Test Acc: 0.7833, Test Auc: 0.9633, Test AUPR: 0.7407,  Loss: 0.4834\n"
     ]
    },
    {
     "name": "stderr",
     "output_type": "stream",
     "text": [
      "100%|██████████| 81/81 [00:09<00:00,  8.66it/s]\n"
     ]
    },
    {
     "name": "stdout",
     "output_type": "stream",
     "text": [
      "Epoch: 112, Train Acc: 0.8486, Train AUC: 0.9813, Train AUPR: 0.8415, Test Acc: 0.7600, Test Auc: 0.9608, Test AUPR: 0.7343,  Loss: 0.4836\n"
     ]
    },
    {
     "name": "stderr",
     "output_type": "stream",
     "text": [
      "100%|██████████| 81/81 [00:09<00:00,  8.64it/s]\n"
     ]
    },
    {
     "name": "stdout",
     "output_type": "stream",
     "text": [
      "Epoch: 113, Train Acc: 0.8636, Train AUC: 0.9830, Train AUPR: 0.8469, Test Acc: 0.7967, Test Auc: 0.9635, Test AUPR: 0.7417,  Loss: 0.4676\n"
     ]
    },
    {
     "name": "stderr",
     "output_type": "stream",
     "text": [
      "100%|██████████| 81/81 [00:09<00:00,  8.64it/s]\n"
     ]
    },
    {
     "name": "stdout",
     "output_type": "stream",
     "text": [
      "Epoch: 114, Train Acc: 0.8532, Train AUC: 0.9817, Train AUPR: 0.8469, Test Acc: 0.7600, Test Auc: 0.9631, Test AUPR: 0.7387,  Loss: 0.4767\n"
     ]
    },
    {
     "name": "stderr",
     "output_type": "stream",
     "text": [
      "100%|██████████| 81/81 [00:09<00:00,  8.60it/s]\n"
     ]
    },
    {
     "name": "stdout",
     "output_type": "stream",
     "text": [
      "Epoch: 115, Train Acc: 0.8278, Train AUC: 0.9815, Train AUPR: 0.8353, Test Acc: 0.7700, Test Auc: 0.9604, Test AUPR: 0.7420,  Loss: 0.4632\n"
     ]
    },
    {
     "name": "stderr",
     "output_type": "stream",
     "text": [
      "100%|██████████| 81/81 [00:09<00:00,  8.63it/s]\n"
     ]
    },
    {
     "name": "stdout",
     "output_type": "stream",
     "text": [
      "Epoch: 116, Train Acc: 0.8544, Train AUC: 0.9822, Train AUPR: 0.8432, Test Acc: 0.7700, Test Auc: 0.9600, Test AUPR: 0.7357,  Loss: 0.4624\n"
     ]
    },
    {
     "name": "stderr",
     "output_type": "stream",
     "text": [
      "100%|██████████| 81/81 [00:09<00:00,  8.64it/s]\n"
     ]
    },
    {
     "name": "stdout",
     "output_type": "stream",
     "text": [
      "Epoch: 117, Train Acc: 0.8502, Train AUC: 0.9825, Train AUPR: 0.8448, Test Acc: 0.7767, Test Auc: 0.9618, Test AUPR: 0.7439,  Loss: 0.4625\n"
     ]
    },
    {
     "name": "stderr",
     "output_type": "stream",
     "text": [
      "100%|██████████| 81/81 [00:09<00:00,  8.63it/s]\n"
     ]
    },
    {
     "name": "stdout",
     "output_type": "stream",
     "text": [
      "Epoch: 118, Train Acc: 0.8482, Train AUC: 0.9809, Train AUPR: 0.8387, Test Acc: 0.7700, Test Auc: 0.9594, Test AUPR: 0.7269,  Loss: 0.4755\n"
     ]
    },
    {
     "name": "stderr",
     "output_type": "stream",
     "text": [
      "100%|██████████| 81/81 [00:09<00:00,  8.62it/s]\n"
     ]
    },
    {
     "name": "stdout",
     "output_type": "stream",
     "text": [
      "Epoch: 119, Train Acc: 0.8661, Train AUC: 0.9833, Train AUPR: 0.8539, Test Acc: 0.8000, Test Auc: 0.9616, Test AUPR: 0.7397,  Loss: 0.4382\n"
     ]
    },
    {
     "name": "stderr",
     "output_type": "stream",
     "text": [
      "100%|██████████| 81/81 [00:09<00:00,  8.62it/s]\n"
     ]
    },
    {
     "name": "stdout",
     "output_type": "stream",
     "text": [
      "Epoch: 120, Train Acc: 0.8473, Train AUC: 0.9827, Train AUPR: 0.8433, Test Acc: 0.7700, Test Auc: 0.9625, Test AUPR: 0.7402,  Loss: 0.4473\n"
     ]
    },
    {
     "name": "stderr",
     "output_type": "stream",
     "text": [
      "100%|██████████| 81/81 [00:09<00:00,  8.59it/s]\n"
     ]
    },
    {
     "name": "stdout",
     "output_type": "stream",
     "text": [
      "Epoch: 121, Train Acc: 0.8511, Train AUC: 0.9825, Train AUPR: 0.8496, Test Acc: 0.7933, Test Auc: 0.9616, Test AUPR: 0.7383,  Loss: 0.4513\n"
     ]
    },
    {
     "name": "stderr",
     "output_type": "stream",
     "text": [
      "100%|██████████| 81/81 [00:09<00:00,  8.62it/s]\n"
     ]
    },
    {
     "name": "stdout",
     "output_type": "stream",
     "text": [
      "Epoch: 122, Train Acc: 0.8631, Train AUC: 0.9831, Train AUPR: 0.8519, Test Acc: 0.7867, Test Auc: 0.9624, Test AUPR: 0.7371,  Loss: 0.4349\n"
     ]
    },
    {
     "name": "stderr",
     "output_type": "stream",
     "text": [
      "100%|██████████| 81/81 [00:09<00:00,  8.62it/s]\n"
     ]
    },
    {
     "name": "stdout",
     "output_type": "stream",
     "text": [
      "Epoch: 123, Train Acc: 0.8465, Train AUC: 0.9825, Train AUPR: 0.8504, Test Acc: 0.7733, Test Auc: 0.9618, Test AUPR: 0.7327,  Loss: 0.4488\n"
     ]
    },
    {
     "name": "stderr",
     "output_type": "stream",
     "text": [
      "100%|██████████| 81/81 [00:09<00:00,  8.61it/s]\n"
     ]
    },
    {
     "name": "stdout",
     "output_type": "stream",
     "text": [
      "Epoch: 124, Train Acc: 0.8611, Train AUC: 0.9840, Train AUPR: 0.8573, Test Acc: 0.7900, Test Auc: 0.9646, Test AUPR: 0.7542,  Loss: 0.4591\n"
     ]
    },
    {
     "name": "stderr",
     "output_type": "stream",
     "text": [
      "100%|██████████| 81/81 [00:09<00:00,  8.61it/s]\n"
     ]
    },
    {
     "name": "stdout",
     "output_type": "stream",
     "text": [
      "Epoch: 125, Train Acc: 0.8681, Train AUC: 0.9837, Train AUPR: 0.8520, Test Acc: 0.7867, Test Auc: 0.9625, Test AUPR: 0.7420,  Loss: 0.4452\n"
     ]
    },
    {
     "name": "stderr",
     "output_type": "stream",
     "text": [
      "100%|██████████| 81/81 [00:09<00:00,  8.59it/s]\n"
     ]
    },
    {
     "name": "stdout",
     "output_type": "stream",
     "text": [
      "Epoch: 126, Train Acc: 0.8623, Train AUC: 0.9833, Train AUPR: 0.8540, Test Acc: 0.7967, Test Auc: 0.9625, Test AUPR: 0.7486,  Loss: 0.4464\n"
     ]
    },
    {
     "name": "stderr",
     "output_type": "stream",
     "text": [
      "100%|██████████| 81/81 [00:09<00:00,  8.62it/s]\n"
     ]
    },
    {
     "name": "stdout",
     "output_type": "stream",
     "text": [
      "Epoch: 127, Train Acc: 0.8710, Train AUC: 0.9852, Train AUPR: 0.8631, Test Acc: 0.8033, Test Auc: 0.9660, Test AUPR: 0.7595,  Loss: 0.4495\n"
     ]
    },
    {
     "name": "stderr",
     "output_type": "stream",
     "text": [
      "100%|██████████| 81/81 [00:09<00:00,  8.61it/s]\n"
     ]
    },
    {
     "name": "stdout",
     "output_type": "stream",
     "text": [
      "Epoch: 128, Train Acc: 0.8544, Train AUC: 0.9836, Train AUPR: 0.8516, Test Acc: 0.7933, Test Auc: 0.9639, Test AUPR: 0.7512,  Loss: 0.4502\n"
     ]
    },
    {
     "name": "stderr",
     "output_type": "stream",
     "text": [
      "100%|██████████| 81/81 [00:09<00:00,  8.62it/s]\n"
     ]
    },
    {
     "name": "stdout",
     "output_type": "stream",
     "text": [
      "Epoch: 129, Train Acc: 0.8719, Train AUC: 0.9855, Train AUPR: 0.8681, Test Acc: 0.7933, Test Auc: 0.9639, Test AUPR: 0.7496,  Loss: 0.4543\n"
     ]
    },
    {
     "name": "stderr",
     "output_type": "stream",
     "text": [
      "100%|██████████| 81/81 [00:09<00:00,  8.61it/s]\n"
     ]
    },
    {
     "name": "stdout",
     "output_type": "stream",
     "text": [
      "Epoch: 130, Train Acc: 0.8594, Train AUC: 0.9845, Train AUPR: 0.8614, Test Acc: 0.7733, Test Auc: 0.9634, Test AUPR: 0.7482,  Loss: 0.4398\n"
     ]
    },
    {
     "name": "stderr",
     "output_type": "stream",
     "text": [
      "100%|██████████| 81/81 [00:09<00:00,  8.61it/s]\n"
     ]
    },
    {
     "name": "stdout",
     "output_type": "stream",
     "text": [
      "Epoch: 131, Train Acc: 0.8731, Train AUC: 0.9837, Train AUPR: 0.8600, Test Acc: 0.8067, Test Auc: 0.9656, Test AUPR: 0.7584,  Loss: 0.4377\n"
     ]
    },
    {
     "name": "stderr",
     "output_type": "stream",
     "text": [
      "100%|██████████| 81/81 [00:09<00:00,  8.61it/s]\n"
     ]
    },
    {
     "name": "stdout",
     "output_type": "stream",
     "text": [
      "Epoch: 132, Train Acc: 0.8648, Train AUC: 0.9847, Train AUPR: 0.8662, Test Acc: 0.7733, Test Auc: 0.9628, Test AUPR: 0.7472,  Loss: 0.4274\n"
     ]
    },
    {
     "name": "stderr",
     "output_type": "stream",
     "text": [
      "100%|██████████| 81/81 [00:09<00:00,  8.62it/s]\n"
     ]
    },
    {
     "name": "stdout",
     "output_type": "stream",
     "text": [
      "Epoch: 133, Train Acc: 0.8623, Train AUC: 0.9851, Train AUPR: 0.8665, Test Acc: 0.7800, Test Auc: 0.9655, Test AUPR: 0.7600,  Loss: 0.4444\n"
     ]
    },
    {
     "name": "stderr",
     "output_type": "stream",
     "text": [
      "100%|██████████| 81/81 [00:09<00:00,  8.62it/s]\n"
     ]
    },
    {
     "name": "stdout",
     "output_type": "stream",
     "text": [
      "Epoch: 134, Train Acc: 0.8515, Train AUC: 0.9846, Train AUPR: 0.8687, Test Acc: 0.7867, Test Auc: 0.9654, Test AUPR: 0.7603,  Loss: 0.4247\n"
     ]
    },
    {
     "name": "stderr",
     "output_type": "stream",
     "text": [
      "100%|██████████| 81/81 [00:09<00:00,  8.61it/s]\n"
     ]
    },
    {
     "name": "stdout",
     "output_type": "stream",
     "text": [
      "Epoch: 135, Train Acc: 0.8752, Train AUC: 0.9864, Train AUPR: 0.8791, Test Acc: 0.7733, Test Auc: 0.9627, Test AUPR: 0.7500,  Loss: 0.4361\n"
     ]
    },
    {
     "name": "stderr",
     "output_type": "stream",
     "text": [
      "100%|██████████| 81/81 [00:09<00:00,  8.62it/s]\n"
     ]
    },
    {
     "name": "stdout",
     "output_type": "stream",
     "text": [
      "Epoch: 136, Train Acc: 0.8544, Train AUC: 0.9855, Train AUPR: 0.8758, Test Acc: 0.7633, Test Auc: 0.9628, Test AUPR: 0.7568,  Loss: 0.4161\n"
     ]
    },
    {
     "name": "stderr",
     "output_type": "stream",
     "text": [
      "100%|██████████| 81/81 [00:09<00:00,  8.62it/s]\n"
     ]
    },
    {
     "name": "stdout",
     "output_type": "stream",
     "text": [
      "Epoch: 137, Train Acc: 0.8748, Train AUC: 0.9866, Train AUPR: 0.8766, Test Acc: 0.7967, Test Auc: 0.9652, Test AUPR: 0.7619,  Loss: 0.4500\n"
     ]
    },
    {
     "name": "stderr",
     "output_type": "stream",
     "text": [
      "100%|██████████| 81/81 [00:09<00:00,  8.61it/s]\n"
     ]
    },
    {
     "name": "stdout",
     "output_type": "stream",
     "text": [
      "Epoch: 138, Train Acc: 0.8710, Train AUC: 0.9850, Train AUPR: 0.8688, Test Acc: 0.8000, Test Auc: 0.9642, Test AUPR: 0.7585,  Loss: 0.4233\n"
     ]
    },
    {
     "name": "stderr",
     "output_type": "stream",
     "text": [
      "100%|██████████| 81/81 [00:09<00:00,  8.62it/s]\n"
     ]
    },
    {
     "name": "stdout",
     "output_type": "stream",
     "text": [
      "Epoch: 139, Train Acc: 0.8648, Train AUC: 0.9864, Train AUPR: 0.8776, Test Acc: 0.8067, Test Auc: 0.9650, Test AUPR: 0.7597,  Loss: 0.4223\n"
     ]
    },
    {
     "name": "stderr",
     "output_type": "stream",
     "text": [
      "100%|██████████| 81/81 [00:09<00:00,  8.59it/s]\n"
     ]
    },
    {
     "name": "stdout",
     "output_type": "stream",
     "text": [
      "Epoch: 140, Train Acc: 0.8752, Train AUC: 0.9870, Train AUPR: 0.8838, Test Acc: 0.7800, Test Auc: 0.9651, Test AUPR: 0.7552,  Loss: 0.4258\n"
     ]
    },
    {
     "name": "stderr",
     "output_type": "stream",
     "text": [
      "100%|██████████| 81/81 [00:09<00:00,  8.62it/s]\n"
     ]
    },
    {
     "name": "stdout",
     "output_type": "stream",
     "text": [
      "Epoch: 141, Train Acc: 0.8819, Train AUC: 0.9872, Train AUPR: 0.8863, Test Acc: 0.7967, Test Auc: 0.9643, Test AUPR: 0.7609,  Loss: 0.4171\n"
     ]
    },
    {
     "name": "stderr",
     "output_type": "stream",
     "text": [
      "100%|██████████| 81/81 [00:09<00:00,  8.62it/s]\n"
     ]
    },
    {
     "name": "stdout",
     "output_type": "stream",
     "text": [
      "Epoch: 142, Train Acc: 0.8686, Train AUC: 0.9866, Train AUPR: 0.8789, Test Acc: 0.7933, Test Auc: 0.9649, Test AUPR: 0.7740,  Loss: 0.4123\n"
     ]
    },
    {
     "name": "stderr",
     "output_type": "stream",
     "text": [
      "100%|██████████| 81/81 [00:09<00:00,  8.62it/s]\n"
     ]
    },
    {
     "name": "stdout",
     "output_type": "stream",
     "text": [
      "Epoch: 143, Train Acc: 0.8752, Train AUC: 0.9868, Train AUPR: 0.8826, Test Acc: 0.7933, Test Auc: 0.9641, Test AUPR: 0.7561,  Loss: 0.3972\n"
     ]
    },
    {
     "name": "stderr",
     "output_type": "stream",
     "text": [
      "100%|██████████| 81/81 [00:09<00:00,  8.62it/s]\n"
     ]
    },
    {
     "name": "stdout",
     "output_type": "stream",
     "text": [
      "Epoch: 144, Train Acc: 0.8498, Train AUC: 0.9859, Train AUPR: 0.8750, Test Acc: 0.7900, Test Auc: 0.9650, Test AUPR: 0.7643,  Loss: 0.4124\n"
     ]
    },
    {
     "name": "stderr",
     "output_type": "stream",
     "text": [
      "100%|██████████| 81/81 [00:09<00:00,  8.62it/s]\n"
     ]
    },
    {
     "name": "stdout",
     "output_type": "stream",
     "text": [
      "Epoch: 145, Train Acc: 0.8831, Train AUC: 0.9875, Train AUPR: 0.8831, Test Acc: 0.8067, Test Auc: 0.9646, Test AUPR: 0.7626,  Loss: 0.4172\n"
     ]
    },
    {
     "name": "stderr",
     "output_type": "stream",
     "text": [
      "100%|██████████| 81/81 [00:09<00:00,  8.59it/s]\n"
     ]
    },
    {
     "name": "stdout",
     "output_type": "stream",
     "text": [
      "Epoch: 146, Train Acc: 0.8814, Train AUC: 0.9867, Train AUPR: 0.8870, Test Acc: 0.8267, Test Auc: 0.9670, Test AUPR: 0.7675,  Loss: 0.4241\n"
     ]
    },
    {
     "name": "stderr",
     "output_type": "stream",
     "text": [
      "100%|██████████| 81/81 [00:09<00:00,  8.62it/s]\n"
     ]
    },
    {
     "name": "stdout",
     "output_type": "stream",
     "text": [
      "Epoch: 147, Train Acc: 0.8852, Train AUC: 0.9874, Train AUPR: 0.8823, Test Acc: 0.7967, Test Auc: 0.9676, Test AUPR: 0.7762,  Loss: 0.4152\n"
     ]
    },
    {
     "name": "stderr",
     "output_type": "stream",
     "text": [
      "100%|██████████| 81/81 [00:09<00:00,  8.61it/s]\n"
     ]
    },
    {
     "name": "stdout",
     "output_type": "stream",
     "text": [
      "Epoch: 148, Train Acc: 0.8939, Train AUC: 0.9882, Train AUPR: 0.8928, Test Acc: 0.7933, Test Auc: 0.9663, Test AUPR: 0.7714,  Loss: 0.4273\n"
     ]
    },
    {
     "name": "stderr",
     "output_type": "stream",
     "text": [
      "100%|██████████| 81/81 [00:09<00:00,  8.61it/s]\n"
     ]
    },
    {
     "name": "stdout",
     "output_type": "stream",
     "text": [
      "Epoch: 149, Train Acc: 0.8802, Train AUC: 0.9868, Train AUPR: 0.8820, Test Acc: 0.8167, Test Auc: 0.9660, Test AUPR: 0.7745,  Loss: 0.3976\n"
     ]
    },
    {
     "name": "stderr",
     "output_type": "stream",
     "text": [
      "100%|██████████| 81/81 [00:09<00:00,  8.62it/s]\n"
     ]
    },
    {
     "name": "stdout",
     "output_type": "stream",
     "text": [
      "Epoch: 150, Train Acc: 0.8898, Train AUC: 0.9880, Train AUPR: 0.8934, Test Acc: 0.7933, Test Auc: 0.9642, Test AUPR: 0.7588,  Loss: 0.4020\n"
     ]
    },
    {
     "name": "stderr",
     "output_type": "stream",
     "text": [
      "100%|██████████| 81/81 [00:09<00:00,  8.62it/s]\n"
     ]
    },
    {
     "name": "stdout",
     "output_type": "stream",
     "text": [
      "Epoch: 151, Train Acc: 0.8785, Train AUC: 0.9878, Train AUPR: 0.8909, Test Acc: 0.7933, Test Auc: 0.9649, Test AUPR: 0.7689,  Loss: 0.3997\n"
     ]
    },
    {
     "name": "stderr",
     "output_type": "stream",
     "text": [
      "100%|██████████| 81/81 [00:09<00:00,  8.62it/s]\n"
     ]
    },
    {
     "name": "stdout",
     "output_type": "stream",
     "text": [
      "Epoch: 152, Train Acc: 0.8935, Train AUC: 0.9884, Train AUPR: 0.8920, Test Acc: 0.8000, Test Auc: 0.9657, Test AUPR: 0.7709,  Loss: 0.4032\n"
     ]
    },
    {
     "name": "stderr",
     "output_type": "stream",
     "text": [
      "100%|██████████| 81/81 [00:09<00:00,  8.62it/s]\n"
     ]
    },
    {
     "name": "stdout",
     "output_type": "stream",
     "text": [
      "Epoch: 153, Train Acc: 0.8881, Train AUC: 0.9885, Train AUPR: 0.8917, Test Acc: 0.7833, Test Auc: 0.9649, Test AUPR: 0.7646,  Loss: 0.3813\n"
     ]
    },
    {
     "name": "stderr",
     "output_type": "stream",
     "text": [
      "100%|██████████| 81/81 [00:09<00:00,  8.62it/s]\n"
     ]
    },
    {
     "name": "stdout",
     "output_type": "stream",
     "text": [
      "Epoch: 154, Train Acc: 0.8939, Train AUC: 0.9890, Train AUPR: 0.8947, Test Acc: 0.8100, Test Auc: 0.9669, Test AUPR: 0.7770,  Loss: 0.3819\n"
     ]
    },
    {
     "name": "stderr",
     "output_type": "stream",
     "text": [
      "100%|██████████| 81/81 [00:09<00:00,  8.62it/s]\n"
     ]
    },
    {
     "name": "stdout",
     "output_type": "stream",
     "text": [
      "Epoch: 155, Train Acc: 0.8914, Train AUC: 0.9880, Train AUPR: 0.8899, Test Acc: 0.7933, Test Auc: 0.9666, Test AUPR: 0.7693,  Loss: 0.4108\n"
     ]
    },
    {
     "name": "stderr",
     "output_type": "stream",
     "text": [
      "100%|██████████| 81/81 [00:09<00:00,  8.63it/s]\n"
     ]
    },
    {
     "name": "stdout",
     "output_type": "stream",
     "text": [
      "Epoch: 156, Train Acc: 0.9018, Train AUC: 0.9893, Train AUPR: 0.8985, Test Acc: 0.8167, Test Auc: 0.9647, Test AUPR: 0.7643,  Loss: 0.3939\n"
     ]
    },
    {
     "name": "stderr",
     "output_type": "stream",
     "text": [
      "100%|██████████| 81/81 [00:09<00:00,  8.62it/s]\n"
     ]
    },
    {
     "name": "stdout",
     "output_type": "stream",
     "text": [
      "Epoch: 157, Train Acc: 0.8993, Train AUC: 0.9890, Train AUPR: 0.8973, Test Acc: 0.8033, Test Auc: 0.9640, Test AUPR: 0.7625,  Loss: 0.3916\n"
     ]
    },
    {
     "name": "stderr",
     "output_type": "stream",
     "text": [
      "100%|██████████| 81/81 [00:09<00:00,  8.62it/s]\n"
     ]
    },
    {
     "name": "stdout",
     "output_type": "stream",
     "text": [
      "Epoch: 158, Train Acc: 0.8943, Train AUC: 0.9893, Train AUPR: 0.8986, Test Acc: 0.8000, Test Auc: 0.9643, Test AUPR: 0.7700,  Loss: 0.3785\n"
     ]
    },
    {
     "name": "stderr",
     "output_type": "stream",
     "text": [
      "100%|██████████| 81/81 [00:09<00:00,  8.45it/s]\n"
     ]
    },
    {
     "name": "stdout",
     "output_type": "stream",
     "text": [
      "Epoch: 159, Train Acc: 0.8802, Train AUC: 0.9883, Train AUPR: 0.8938, Test Acc: 0.7833, Test Auc: 0.9655, Test AUPR: 0.7674,  Loss: 0.3736\n"
     ]
    },
    {
     "name": "stderr",
     "output_type": "stream",
     "text": [
      "100%|██████████| 81/81 [00:09<00:00,  8.62it/s]\n"
     ]
    },
    {
     "name": "stdout",
     "output_type": "stream",
     "text": [
      "Epoch: 160, Train Acc: 0.8877, Train AUC: 0.9892, Train AUPR: 0.8991, Test Acc: 0.8033, Test Auc: 0.9681, Test AUPR: 0.7788,  Loss: 0.3642\n"
     ]
    },
    {
     "name": "stderr",
     "output_type": "stream",
     "text": [
      "100%|██████████| 81/81 [00:09<00:00,  8.62it/s]\n"
     ]
    },
    {
     "name": "stdout",
     "output_type": "stream",
     "text": [
      "Epoch: 161, Train Acc: 0.8948, Train AUC: 0.9893, Train AUPR: 0.9021, Test Acc: 0.8033, Test Auc: 0.9664, Test AUPR: 0.7720,  Loss: 0.3825\n"
     ]
    },
    {
     "name": "stderr",
     "output_type": "stream",
     "text": [
      "100%|██████████| 81/81 [00:09<00:00,  8.62it/s]\n"
     ]
    },
    {
     "name": "stdout",
     "output_type": "stream",
     "text": [
      "Epoch: 162, Train Acc: 0.8985, Train AUC: 0.9893, Train AUPR: 0.8962, Test Acc: 0.7867, Test Auc: 0.9652, Test AUPR: 0.7649,  Loss: 0.3842\n"
     ]
    },
    {
     "name": "stderr",
     "output_type": "stream",
     "text": [
      "100%|██████████| 81/81 [00:09<00:00,  8.62it/s]\n"
     ]
    },
    {
     "name": "stdout",
     "output_type": "stream",
     "text": [
      "Epoch: 163, Train Acc: 0.8931, Train AUC: 0.9901, Train AUPR: 0.9027, Test Acc: 0.7933, Test Auc: 0.9664, Test AUPR: 0.7835,  Loss: 0.3703\n"
     ]
    },
    {
     "name": "stderr",
     "output_type": "stream",
     "text": [
      "100%|██████████| 81/81 [00:09<00:00,  8.62it/s]\n"
     ]
    },
    {
     "name": "stdout",
     "output_type": "stream",
     "text": [
      "Epoch: 164, Train Acc: 0.8989, Train AUC: 0.9893, Train AUPR: 0.9010, Test Acc: 0.8100, Test Auc: 0.9664, Test AUPR: 0.7791,  Loss: 0.3770\n"
     ]
    },
    {
     "name": "stderr",
     "output_type": "stream",
     "text": [
      "100%|██████████| 81/81 [00:09<00:00,  8.59it/s]\n"
     ]
    },
    {
     "name": "stdout",
     "output_type": "stream",
     "text": [
      "Epoch: 165, Train Acc: 0.8864, Train AUC: 0.9884, Train AUPR: 0.8945, Test Acc: 0.8100, Test Auc: 0.9630, Test AUPR: 0.7724,  Loss: 0.3879\n"
     ]
    },
    {
     "name": "stderr",
     "output_type": "stream",
     "text": [
      "100%|██████████| 81/81 [00:09<00:00,  8.61it/s]\n"
     ]
    },
    {
     "name": "stdout",
     "output_type": "stream",
     "text": [
      "Epoch: 166, Train Acc: 0.9010, Train AUC: 0.9900, Train AUPR: 0.8998, Test Acc: 0.8200, Test Auc: 0.9680, Test AUPR: 0.7827,  Loss: 0.3525\n"
     ]
    },
    {
     "name": "stderr",
     "output_type": "stream",
     "text": [
      "100%|██████████| 81/81 [00:09<00:00,  8.62it/s]\n"
     ]
    },
    {
     "name": "stdout",
     "output_type": "stream",
     "text": [
      "Epoch: 167, Train Acc: 0.8927, Train AUC: 0.9885, Train AUPR: 0.8934, Test Acc: 0.8033, Test Auc: 0.9644, Test AUPR: 0.7747,  Loss: 0.3652\n"
     ]
    },
    {
     "name": "stderr",
     "output_type": "stream",
     "text": [
      "100%|██████████| 81/81 [00:09<00:00,  8.62it/s]\n"
     ]
    },
    {
     "name": "stdout",
     "output_type": "stream",
     "text": [
      "Epoch: 168, Train Acc: 0.9081, Train AUC: 0.9907, Train AUPR: 0.9073, Test Acc: 0.8067, Test Auc: 0.9666, Test AUPR: 0.7780,  Loss: 0.3561\n"
     ]
    },
    {
     "name": "stderr",
     "output_type": "stream",
     "text": [
      "100%|██████████| 81/81 [00:09<00:00,  8.61it/s]\n"
     ]
    },
    {
     "name": "stdout",
     "output_type": "stream",
     "text": [
      "Epoch: 169, Train Acc: 0.8798, Train AUC: 0.9888, Train AUPR: 0.8943, Test Acc: 0.7900, Test Auc: 0.9622, Test AUPR: 0.7584,  Loss: 0.3512\n"
     ]
    },
    {
     "name": "stderr",
     "output_type": "stream",
     "text": [
      "100%|██████████| 81/81 [00:09<00:00,  8.62it/s]\n"
     ]
    },
    {
     "name": "stdout",
     "output_type": "stream",
     "text": [
      "Epoch: 170, Train Acc: 0.9072, Train AUC: 0.9908, Train AUPR: 0.9088, Test Acc: 0.8300, Test Auc: 0.9686, Test AUPR: 0.7832,  Loss: 0.3624\n"
     ]
    },
    {
     "name": "stderr",
     "output_type": "stream",
     "text": [
      "100%|██████████| 81/81 [00:09<00:00,  8.56it/s]\n"
     ]
    },
    {
     "name": "stdout",
     "output_type": "stream",
     "text": [
      "Epoch: 171, Train Acc: 0.8948, Train AUC: 0.9894, Train AUPR: 0.9007, Test Acc: 0.8067, Test Auc: 0.9674, Test AUPR: 0.7755,  Loss: 0.3737\n"
     ]
    },
    {
     "name": "stderr",
     "output_type": "stream",
     "text": [
      "100%|██████████| 81/81 [00:09<00:00,  8.62it/s]\n"
     ]
    },
    {
     "name": "stdout",
     "output_type": "stream",
     "text": [
      "Epoch: 172, Train Acc: 0.9043, Train AUC: 0.9902, Train AUPR: 0.9092, Test Acc: 0.8167, Test Auc: 0.9679, Test AUPR: 0.7744,  Loss: 0.3539\n"
     ]
    },
    {
     "name": "stderr",
     "output_type": "stream",
     "text": [
      "100%|██████████| 81/81 [00:09<00:00,  8.62it/s]\n"
     ]
    },
    {
     "name": "stdout",
     "output_type": "stream",
     "text": [
      "Epoch: 173, Train Acc: 0.8931, Train AUC: 0.9899, Train AUPR: 0.9035, Test Acc: 0.8000, Test Auc: 0.9652, Test AUPR: 0.7788,  Loss: 0.3502\n"
     ]
    },
    {
     "name": "stderr",
     "output_type": "stream",
     "text": [
      "100%|██████████| 81/81 [00:09<00:00,  8.62it/s]\n"
     ]
    },
    {
     "name": "stdout",
     "output_type": "stream",
     "text": [
      "Epoch: 174, Train Acc: 0.9089, Train AUC: 0.9911, Train AUPR: 0.9120, Test Acc: 0.8233, Test Auc: 0.9685, Test AUPR: 0.7830,  Loss: 0.3718\n"
     ]
    },
    {
     "name": "stderr",
     "output_type": "stream",
     "text": [
      "100%|██████████| 81/81 [00:09<00:00,  8.62it/s]\n"
     ]
    },
    {
     "name": "stdout",
     "output_type": "stream",
     "text": [
      "Epoch: 175, Train Acc: 0.9072, Train AUC: 0.9908, Train AUPR: 0.9111, Test Acc: 0.8167, Test Auc: 0.9675, Test AUPR: 0.7801,  Loss: 0.3497\n"
     ]
    },
    {
     "name": "stderr",
     "output_type": "stream",
     "text": [
      "100%|██████████| 81/81 [00:09<00:00,  8.62it/s]\n"
     ]
    },
    {
     "name": "stdout",
     "output_type": "stream",
     "text": [
      "Epoch: 176, Train Acc: 0.9052, Train AUC: 0.9905, Train AUPR: 0.9090, Test Acc: 0.8167, Test Auc: 0.9649, Test AUPR: 0.7780,  Loss: 0.3584\n"
     ]
    },
    {
     "name": "stderr",
     "output_type": "stream",
     "text": [
      "100%|██████████| 81/81 [00:09<00:00,  8.61it/s]\n"
     ]
    },
    {
     "name": "stdout",
     "output_type": "stream",
     "text": [
      "Epoch: 177, Train Acc: 0.9064, Train AUC: 0.9901, Train AUPR: 0.9056, Test Acc: 0.8067, Test Auc: 0.9659, Test AUPR: 0.7756,  Loss: 0.3606\n"
     ]
    },
    {
     "name": "stderr",
     "output_type": "stream",
     "text": [
      "100%|██████████| 81/81 [00:09<00:00,  8.61it/s]\n"
     ]
    },
    {
     "name": "stdout",
     "output_type": "stream",
     "text": [
      "Epoch: 178, Train Acc: 0.9118, Train AUC: 0.9912, Train AUPR: 0.9118, Test Acc: 0.8200, Test Auc: 0.9683, Test AUPR: 0.7802,  Loss: 0.3596\n"
     ]
    },
    {
     "name": "stderr",
     "output_type": "stream",
     "text": [
      "100%|██████████| 81/81 [00:09<00:00,  8.63it/s]\n"
     ]
    },
    {
     "name": "stdout",
     "output_type": "stream",
     "text": [
      "Epoch: 179, Train Acc: 0.9072, Train AUC: 0.9903, Train AUPR: 0.9052, Test Acc: 0.8200, Test Auc: 0.9667, Test AUPR: 0.7778,  Loss: 0.3353\n"
     ]
    },
    {
     "name": "stderr",
     "output_type": "stream",
     "text": [
      "100%|██████████| 81/81 [00:09<00:00,  8.62it/s]\n"
     ]
    },
    {
     "name": "stdout",
     "output_type": "stream",
     "text": [
      "Epoch: 180, Train Acc: 0.9139, Train AUC: 0.9913, Train AUPR: 0.9122, Test Acc: 0.8133, Test Auc: 0.9654, Test AUPR: 0.7770,  Loss: 0.3408\n"
     ]
    },
    {
     "name": "stderr",
     "output_type": "stream",
     "text": [
      "100%|██████████| 81/81 [00:09<00:00,  8.61it/s]\n"
     ]
    },
    {
     "name": "stdout",
     "output_type": "stream",
     "text": [
      "Epoch: 181, Train Acc: 0.9035, Train AUC: 0.9904, Train AUPR: 0.9047, Test Acc: 0.8033, Test Auc: 0.9674, Test AUPR: 0.7783,  Loss: 0.3490\n"
     ]
    },
    {
     "name": "stderr",
     "output_type": "stream",
     "text": [
      "100%|██████████| 81/81 [00:09<00:00,  8.62it/s]\n"
     ]
    },
    {
     "name": "stdout",
     "output_type": "stream",
     "text": [
      "Epoch: 182, Train Acc: 0.8790, Train AUC: 0.9909, Train AUPR: 0.9094, Test Acc: 0.8000, Test Auc: 0.9685, Test AUPR: 0.7844,  Loss: 0.3439\n"
     ]
    },
    {
     "name": "stderr",
     "output_type": "stream",
     "text": [
      "100%|██████████| 81/81 [00:09<00:00,  8.62it/s]\n"
     ]
    },
    {
     "name": "stdout",
     "output_type": "stream",
     "text": [
      "Epoch: 183, Train Acc: 0.8960, Train AUC: 0.9904, Train AUPR: 0.9071, Test Acc: 0.7933, Test Auc: 0.9658, Test AUPR: 0.7752,  Loss: 0.3761\n"
     ]
    },
    {
     "name": "stderr",
     "output_type": "stream",
     "text": [
      "100%|██████████| 81/81 [00:09<00:00,  8.62it/s]\n"
     ]
    },
    {
     "name": "stdout",
     "output_type": "stream",
     "text": [
      "Epoch: 184, Train Acc: 0.9143, Train AUC: 0.9913, Train AUPR: 0.9125, Test Acc: 0.8233, Test Auc: 0.9684, Test AUPR: 0.7920,  Loss: 0.3374\n"
     ]
    },
    {
     "name": "stderr",
     "output_type": "stream",
     "text": [
      "100%|██████████| 81/81 [00:09<00:00,  8.61it/s]\n"
     ]
    },
    {
     "name": "stdout",
     "output_type": "stream",
     "text": [
      "Epoch: 185, Train Acc: 0.9006, Train AUC: 0.9912, Train AUPR: 0.9136, Test Acc: 0.8000, Test Auc: 0.9702, Test AUPR: 0.7892,  Loss: 0.3388\n"
     ]
    },
    {
     "name": "stderr",
     "output_type": "stream",
     "text": [
      "100%|██████████| 81/81 [00:09<00:00,  8.62it/s]\n"
     ]
    },
    {
     "name": "stdout",
     "output_type": "stream",
     "text": [
      "Epoch: 186, Train Acc: 0.9052, Train AUC: 0.9908, Train AUPR: 0.9082, Test Acc: 0.8067, Test Auc: 0.9670, Test AUPR: 0.7792,  Loss: 0.3355\n"
     ]
    },
    {
     "name": "stderr",
     "output_type": "stream",
     "text": [
      "100%|██████████| 81/81 [00:09<00:00,  8.62it/s]\n"
     ]
    },
    {
     "name": "stdout",
     "output_type": "stream",
     "text": [
      "Epoch: 187, Train Acc: 0.8910, Train AUC: 0.9903, Train AUPR: 0.9035, Test Acc: 0.8133, Test Auc: 0.9667, Test AUPR: 0.7766,  Loss: 0.3493\n"
     ]
    },
    {
     "name": "stderr",
     "output_type": "stream",
     "text": [
      "100%|██████████| 81/81 [00:09<00:00,  8.62it/s]\n"
     ]
    },
    {
     "name": "stdout",
     "output_type": "stream",
     "text": [
      "Epoch: 188, Train Acc: 0.9093, Train AUC: 0.9917, Train AUPR: 0.9151, Test Acc: 0.8233, Test Auc: 0.9685, Test AUPR: 0.7835,  Loss: 0.3419\n"
     ]
    },
    {
     "name": "stderr",
     "output_type": "stream",
     "text": [
      "100%|██████████| 81/81 [00:09<00:00,  8.62it/s]\n"
     ]
    },
    {
     "name": "stdout",
     "output_type": "stream",
     "text": [
      "Epoch: 189, Train Acc: 0.9047, Train AUC: 0.9905, Train AUPR: 0.9095, Test Acc: 0.7967, Test Auc: 0.9670, Test AUPR: 0.7752,  Loss: 0.3405\n"
     ]
    },
    {
     "name": "stderr",
     "output_type": "stream",
     "text": [
      "100%|██████████| 81/81 [00:09<00:00,  8.62it/s]\n"
     ]
    },
    {
     "name": "stdout",
     "output_type": "stream",
     "text": [
      "Epoch: 190, Train Acc: 0.9060, Train AUC: 0.9913, Train AUPR: 0.9100, Test Acc: 0.8133, Test Auc: 0.9673, Test AUPR: 0.7833,  Loss: 0.3498\n"
     ]
    },
    {
     "name": "stderr",
     "output_type": "stream",
     "text": [
      "100%|██████████| 81/81 [00:09<00:00,  8.62it/s]\n"
     ]
    },
    {
     "name": "stdout",
     "output_type": "stream",
     "text": [
      "Epoch: 191, Train Acc: 0.9118, Train AUC: 0.9912, Train AUPR: 0.9115, Test Acc: 0.8133, Test Auc: 0.9651, Test AUPR: 0.7713,  Loss: 0.3296\n"
     ]
    },
    {
     "name": "stderr",
     "output_type": "stream",
     "text": [
      "100%|██████████| 81/81 [00:09<00:00,  8.62it/s]\n"
     ]
    },
    {
     "name": "stdout",
     "output_type": "stream",
     "text": [
      "Epoch: 192, Train Acc: 0.9131, Train AUC: 0.9917, Train AUPR: 0.9171, Test Acc: 0.8100, Test Auc: 0.9671, Test AUPR: 0.7901,  Loss: 0.3558\n"
     ]
    },
    {
     "name": "stderr",
     "output_type": "stream",
     "text": [
      "100%|██████████| 81/81 [00:09<00:00,  8.62it/s]\n"
     ]
    },
    {
     "name": "stdout",
     "output_type": "stream",
     "text": [
      "Epoch: 193, Train Acc: 0.9156, Train AUC: 0.9919, Train AUPR: 0.9163, Test Acc: 0.8200, Test Auc: 0.9686, Test AUPR: 0.7838,  Loss: 0.3362\n"
     ]
    },
    {
     "name": "stderr",
     "output_type": "stream",
     "text": [
      "100%|██████████| 81/81 [00:09<00:00,  8.62it/s]\n"
     ]
    },
    {
     "name": "stdout",
     "output_type": "stream",
     "text": [
      "Epoch: 194, Train Acc: 0.9164, Train AUC: 0.9920, Train AUPR: 0.9202, Test Acc: 0.8233, Test Auc: 0.9684, Test AUPR: 0.7870,  Loss: 0.3273\n"
     ]
    },
    {
     "name": "stderr",
     "output_type": "stream",
     "text": [
      "100%|██████████| 81/81 [00:09<00:00,  8.61it/s]\n"
     ]
    },
    {
     "name": "stdout",
     "output_type": "stream",
     "text": [
      "Epoch: 195, Train Acc: 0.9181, Train AUC: 0.9920, Train AUPR: 0.9186, Test Acc: 0.8300, Test Auc: 0.9669, Test AUPR: 0.7849,  Loss: 0.3406\n"
     ]
    },
    {
     "name": "stderr",
     "output_type": "stream",
     "text": [
      "100%|██████████| 81/81 [00:09<00:00,  8.58it/s]\n"
     ]
    },
    {
     "name": "stdout",
     "output_type": "stream",
     "text": [
      "Epoch: 196, Train Acc: 0.9151, Train AUC: 0.9920, Train AUPR: 0.9170, Test Acc: 0.8100, Test Auc: 0.9674, Test AUPR: 0.7732,  Loss: 0.3190\n"
     ]
    },
    {
     "name": "stderr",
     "output_type": "stream",
     "text": [
      "100%|██████████| 81/81 [00:09<00:00,  8.62it/s]\n"
     ]
    },
    {
     "name": "stdout",
     "output_type": "stream",
     "text": [
      "Epoch: 197, Train Acc: 0.9085, Train AUC: 0.9916, Train AUPR: 0.9152, Test Acc: 0.8067, Test Auc: 0.9671, Test AUPR: 0.7807,  Loss: 0.3237\n"
     ]
    },
    {
     "name": "stderr",
     "output_type": "stream",
     "text": [
      "100%|██████████| 81/81 [00:09<00:00,  8.61it/s]\n"
     ]
    },
    {
     "name": "stdout",
     "output_type": "stream",
     "text": [
      "Epoch: 198, Train Acc: 0.9052, Train AUC: 0.9917, Train AUPR: 0.9139, Test Acc: 0.8100, Test Auc: 0.9682, Test AUPR: 0.7827,  Loss: 0.3244\n"
     ]
    },
    {
     "name": "stderr",
     "output_type": "stream",
     "text": [
      "100%|██████████| 81/81 [00:09<00:00,  8.61it/s]\n"
     ]
    },
    {
     "name": "stdout",
     "output_type": "stream",
     "text": [
      "Epoch: 199, Train Acc: 0.9226, Train AUC: 0.9929, Train AUPR: 0.9258, Test Acc: 0.8300, Test Auc: 0.9685, Test AUPR: 0.7948,  Loss: 0.3335\n"
     ]
    },
    {
     "name": "stderr",
     "output_type": "stream",
     "text": [
      "100%|██████████| 81/81 [00:09<00:00,  8.62it/s]\n"
     ]
    },
    {
     "name": "stdout",
     "output_type": "stream",
     "text": [
      "Epoch: 200, Train Acc: 0.8927, Train AUC: 0.9918, Train AUPR: 0.9144, Test Acc: 0.8067, Test Auc: 0.9674, Test AUPR: 0.7917,  Loss: 0.3308\n"
     ]
    },
    {
     "name": "stderr",
     "output_type": "stream",
     "text": [
      "100%|██████████| 81/81 [00:09<00:00,  8.62it/s]\n"
     ]
    },
    {
     "name": "stdout",
     "output_type": "stream",
     "text": [
      "Epoch: 201, Train Acc: 0.9022, Train AUC: 0.9920, Train AUPR: 0.9199, Test Acc: 0.8300, Test Auc: 0.9684, Test AUPR: 0.7905,  Loss: 0.3371\n"
     ]
    },
    {
     "name": "stderr",
     "output_type": "stream",
     "text": [
      "100%|██████████| 81/81 [00:09<00:00,  8.57it/s]\n"
     ]
    },
    {
     "name": "stdout",
     "output_type": "stream",
     "text": [
      "Epoch: 202, Train Acc: 0.9156, Train AUC: 0.9921, Train AUPR: 0.9166, Test Acc: 0.8033, Test Auc: 0.9685, Test AUPR: 0.7884,  Loss: 0.3368\n"
     ]
    },
    {
     "name": "stderr",
     "output_type": "stream",
     "text": [
      "100%|██████████| 81/81 [00:09<00:00,  8.62it/s]\n"
     ]
    },
    {
     "name": "stdout",
     "output_type": "stream",
     "text": [
      "Epoch: 203, Train Acc: 0.9189, Train AUC: 0.9928, Train AUPR: 0.9242, Test Acc: 0.8300, Test Auc: 0.9695, Test AUPR: 0.7919,  Loss: 0.3164\n"
     ]
    },
    {
     "name": "stderr",
     "output_type": "stream",
     "text": [
      "100%|██████████| 81/81 [00:09<00:00,  8.62it/s]\n"
     ]
    },
    {
     "name": "stdout",
     "output_type": "stream",
     "text": [
      "Epoch: 204, Train Acc: 0.9268, Train AUC: 0.9932, Train AUPR: 0.9295, Test Acc: 0.8233, Test Auc: 0.9694, Test AUPR: 0.7983,  Loss: 0.3036\n"
     ]
    },
    {
     "name": "stderr",
     "output_type": "stream",
     "text": [
      "100%|██████████| 81/81 [00:09<00:00,  8.62it/s]\n"
     ]
    },
    {
     "name": "stdout",
     "output_type": "stream",
     "text": [
      "Epoch: 205, Train Acc: 0.9164, Train AUC: 0.9928, Train AUPR: 0.9247, Test Acc: 0.8333, Test Auc: 0.9687, Test AUPR: 0.8008,  Loss: 0.3275\n"
     ]
    },
    {
     "name": "stderr",
     "output_type": "stream",
     "text": [
      "100%|██████████| 81/81 [00:09<00:00,  8.62it/s]\n"
     ]
    },
    {
     "name": "stdout",
     "output_type": "stream",
     "text": [
      "Epoch: 206, Train Acc: 0.9222, Train AUC: 0.9925, Train AUPR: 0.9220, Test Acc: 0.8267, Test Auc: 0.9682, Test AUPR: 0.7839,  Loss: 0.3299\n"
     ]
    },
    {
     "name": "stderr",
     "output_type": "stream",
     "text": [
      "100%|██████████| 81/81 [00:09<00:00,  8.62it/s]\n"
     ]
    },
    {
     "name": "stdout",
     "output_type": "stream",
     "text": [
      "Epoch: 207, Train Acc: 0.9251, Train AUC: 0.9930, Train AUPR: 0.9270, Test Acc: 0.8100, Test Auc: 0.9679, Test AUPR: 0.7865,  Loss: 0.3262\n"
     ]
    },
    {
     "name": "stderr",
     "output_type": "stream",
     "text": [
      "100%|██████████| 81/81 [00:09<00:00,  8.60it/s]\n"
     ]
    },
    {
     "name": "stdout",
     "output_type": "stream",
     "text": [
      "Epoch: 208, Train Acc: 0.9272, Train AUC: 0.9929, Train AUPR: 0.9243, Test Acc: 0.8200, Test Auc: 0.9685, Test AUPR: 0.7930,  Loss: 0.3095\n"
     ]
    },
    {
     "name": "stderr",
     "output_type": "stream",
     "text": [
      "100%|██████████| 81/81 [00:09<00:00,  8.59it/s]\n"
     ]
    },
    {
     "name": "stdout",
     "output_type": "stream",
     "text": [
      "Epoch: 209, Train Acc: 0.9118, Train AUC: 0.9931, Train AUPR: 0.9214, Test Acc: 0.8200, Test Auc: 0.9674, Test AUPR: 0.7954,  Loss: 0.3075\n"
     ]
    },
    {
     "name": "stderr",
     "output_type": "stream",
     "text": [
      "100%|██████████| 81/81 [00:09<00:00,  8.61it/s]\n"
     ]
    },
    {
     "name": "stdout",
     "output_type": "stream",
     "text": [
      "Epoch: 210, Train Acc: 0.9185, Train AUC: 0.9930, Train AUPR: 0.9214, Test Acc: 0.8367, Test Auc: 0.9690, Test AUPR: 0.8010,  Loss: 0.3137\n"
     ]
    },
    {
     "name": "stderr",
     "output_type": "stream",
     "text": [
      "100%|██████████| 81/81 [00:09<00:00,  8.61it/s]\n"
     ]
    },
    {
     "name": "stdout",
     "output_type": "stream",
     "text": [
      "Epoch: 211, Train Acc: 0.9226, Train AUC: 0.9934, Train AUPR: 0.9283, Test Acc: 0.8267, Test Auc: 0.9703, Test AUPR: 0.7984,  Loss: 0.3182\n"
     ]
    },
    {
     "name": "stderr",
     "output_type": "stream",
     "text": [
      "100%|██████████| 81/81 [00:09<00:00,  8.62it/s]\n"
     ]
    },
    {
     "name": "stdout",
     "output_type": "stream",
     "text": [
      "Epoch: 212, Train Acc: 0.9309, Train AUC: 0.9929, Train AUPR: 0.9275, Test Acc: 0.8333, Test Auc: 0.9698, Test AUPR: 0.7931,  Loss: 0.3164\n"
     ]
    },
    {
     "name": "stderr",
     "output_type": "stream",
     "text": [
      "100%|██████████| 81/81 [00:09<00:00,  8.62it/s]\n"
     ]
    },
    {
     "name": "stdout",
     "output_type": "stream",
     "text": [
      "Epoch: 213, Train Acc: 0.9101, Train AUC: 0.9925, Train AUPR: 0.9233, Test Acc: 0.8233, Test Auc: 0.9658, Test AUPR: 0.7890,  Loss: 0.3108\n"
     ]
    },
    {
     "name": "stderr",
     "output_type": "stream",
     "text": [
      "100%|██████████| 81/81 [00:09<00:00,  8.62it/s]\n"
     ]
    },
    {
     "name": "stdout",
     "output_type": "stream",
     "text": [
      "Epoch: 214, Train Acc: 0.9077, Train AUC: 0.9926, Train AUPR: 0.9214, Test Acc: 0.8067, Test Auc: 0.9679, Test AUPR: 0.7891,  Loss: 0.3154\n"
     ]
    },
    {
     "name": "stderr",
     "output_type": "stream",
     "text": [
      "100%|██████████| 81/81 [00:09<00:00,  8.61it/s]\n"
     ]
    },
    {
     "name": "stdout",
     "output_type": "stream",
     "text": [
      "Epoch: 215, Train Acc: 0.9168, Train AUC: 0.9933, Train AUPR: 0.9294, Test Acc: 0.8333, Test Auc: 0.9712, Test AUPR: 0.8011,  Loss: 0.3051\n"
     ]
    },
    {
     "name": "stderr",
     "output_type": "stream",
     "text": [
      "100%|██████████| 81/81 [00:09<00:00,  8.62it/s]\n"
     ]
    },
    {
     "name": "stdout",
     "output_type": "stream",
     "text": [
      "Epoch: 216, Train Acc: 0.8993, Train AUC: 0.9922, Train AUPR: 0.9232, Test Acc: 0.8000, Test Auc: 0.9639, Test AUPR: 0.7786,  Loss: 0.3024\n"
     ]
    },
    {
     "name": "stderr",
     "output_type": "stream",
     "text": [
      "100%|██████████| 81/81 [00:09<00:00,  8.61it/s]\n"
     ]
    },
    {
     "name": "stdout",
     "output_type": "stream",
     "text": [
      "Epoch: 217, Train Acc: 0.9268, Train AUC: 0.9934, Train AUPR: 0.9308, Test Acc: 0.8367, Test Auc: 0.9690, Test AUPR: 0.7940,  Loss: 0.3132\n"
     ]
    },
    {
     "name": "stderr",
     "output_type": "stream",
     "text": [
      "100%|██████████| 81/81 [00:09<00:00,  8.61it/s]\n"
     ]
    },
    {
     "name": "stdout",
     "output_type": "stream",
     "text": [
      "Epoch: 218, Train Acc: 0.9364, Train AUC: 0.9939, Train AUPR: 0.9348, Test Acc: 0.8400, Test Auc: 0.9704, Test AUPR: 0.8027,  Loss: 0.3032\n"
     ]
    },
    {
     "name": "stderr",
     "output_type": "stream",
     "text": [
      "100%|██████████| 81/81 [00:09<00:00,  8.62it/s]\n"
     ]
    },
    {
     "name": "stdout",
     "output_type": "stream",
     "text": [
      "Epoch: 219, Train Acc: 0.9264, Train AUC: 0.9935, Train AUPR: 0.9295, Test Acc: 0.8433, Test Auc: 0.9710, Test AUPR: 0.8015,  Loss: 0.3124\n"
     ]
    },
    {
     "name": "stderr",
     "output_type": "stream",
     "text": [
      "100%|██████████| 81/81 [00:09<00:00,  8.61it/s]\n"
     ]
    },
    {
     "name": "stdout",
     "output_type": "stream",
     "text": [
      "Epoch: 220, Train Acc: 0.9093, Train AUC: 0.9934, Train AUPR: 0.9295, Test Acc: 0.8300, Test Auc: 0.9717, Test AUPR: 0.8029,  Loss: 0.2950\n"
     ]
    },
    {
     "name": "stderr",
     "output_type": "stream",
     "text": [
      "100%|██████████| 81/81 [00:09<00:00,  8.57it/s]\n"
     ]
    },
    {
     "name": "stdout",
     "output_type": "stream",
     "text": [
      "Epoch: 221, Train Acc: 0.9251, Train AUC: 0.9935, Train AUPR: 0.9327, Test Acc: 0.8233, Test Auc: 0.9710, Test AUPR: 0.7993,  Loss: 0.2972\n"
     ]
    },
    {
     "name": "stderr",
     "output_type": "stream",
     "text": [
      "100%|██████████| 81/81 [00:09<00:00,  8.62it/s]\n"
     ]
    },
    {
     "name": "stdout",
     "output_type": "stream",
     "text": [
      "Epoch: 222, Train Acc: 0.9276, Train AUC: 0.9939, Train AUPR: 0.9357, Test Acc: 0.8200, Test Auc: 0.9720, Test AUPR: 0.8006,  Loss: 0.3128\n"
     ]
    },
    {
     "name": "stderr",
     "output_type": "stream",
     "text": [
      "100%|██████████| 81/81 [00:09<00:00,  8.62it/s]\n"
     ]
    },
    {
     "name": "stdout",
     "output_type": "stream",
     "text": [
      "Epoch: 223, Train Acc: 0.9197, Train AUC: 0.9937, Train AUPR: 0.9317, Test Acc: 0.8133, Test Auc: 0.9701, Test AUPR: 0.7930,  Loss: 0.3277\n"
     ]
    },
    {
     "name": "stderr",
     "output_type": "stream",
     "text": [
      "100%|██████████| 81/81 [00:09<00:00,  8.62it/s]\n"
     ]
    },
    {
     "name": "stdout",
     "output_type": "stream",
     "text": [
      "Epoch: 224, Train Acc: 0.9214, Train AUC: 0.9937, Train AUPR: 0.9305, Test Acc: 0.8267, Test Auc: 0.9727, Test AUPR: 0.8066,  Loss: 0.3107\n"
     ]
    },
    {
     "name": "stderr",
     "output_type": "stream",
     "text": [
      "100%|██████████| 81/81 [00:09<00:00,  8.62it/s]\n"
     ]
    },
    {
     "name": "stdout",
     "output_type": "stream",
     "text": [
      "Epoch: 225, Train Acc: 0.9201, Train AUC: 0.9934, Train AUPR: 0.9316, Test Acc: 0.8167, Test Auc: 0.9685, Test AUPR: 0.7971,  Loss: 0.3029\n"
     ]
    },
    {
     "name": "stderr",
     "output_type": "stream",
     "text": [
      "100%|██████████| 81/81 [00:09<00:00,  8.61it/s]\n"
     ]
    },
    {
     "name": "stdout",
     "output_type": "stream",
     "text": [
      "Epoch: 226, Train Acc: 0.9118, Train AUC: 0.9933, Train AUPR: 0.9317, Test Acc: 0.8167, Test Auc: 0.9702, Test AUPR: 0.7925,  Loss: 0.2839\n"
     ]
    },
    {
     "name": "stderr",
     "output_type": "stream",
     "text": [
      "100%|██████████| 81/81 [00:09<00:00,  8.56it/s]\n"
     ]
    },
    {
     "name": "stdout",
     "output_type": "stream",
     "text": [
      "Epoch: 227, Train Acc: 0.9347, Train AUC: 0.9942, Train AUPR: 0.9380, Test Acc: 0.8433, Test Auc: 0.9731, Test AUPR: 0.8192,  Loss: 0.2903\n"
     ]
    },
    {
     "name": "stderr",
     "output_type": "stream",
     "text": [
      "100%|██████████| 81/81 [00:09<00:00,  8.62it/s]\n"
     ]
    },
    {
     "name": "stdout",
     "output_type": "stream",
     "text": [
      "Epoch: 228, Train Acc: 0.9339, Train AUC: 0.9943, Train AUPR: 0.9366, Test Acc: 0.8400, Test Auc: 0.9717, Test AUPR: 0.8085,  Loss: 0.2725\n"
     ]
    },
    {
     "name": "stderr",
     "output_type": "stream",
     "text": [
      "100%|██████████| 81/81 [00:09<00:00,  8.62it/s]\n"
     ]
    },
    {
     "name": "stdout",
     "output_type": "stream",
     "text": [
      "Epoch: 229, Train Acc: 0.9168, Train AUC: 0.9939, Train AUPR: 0.9333, Test Acc: 0.8233, Test Auc: 0.9704, Test AUPR: 0.7943,  Loss: 0.3203\n"
     ]
    },
    {
     "name": "stderr",
     "output_type": "stream",
     "text": [
      "100%|██████████| 81/81 [00:09<00:00,  8.62it/s]\n"
     ]
    },
    {
     "name": "stdout",
     "output_type": "stream",
     "text": [
      "Epoch: 230, Train Acc: 0.8948, Train AUC: 0.9930, Train AUPR: 0.9289, Test Acc: 0.8000, Test Auc: 0.9696, Test AUPR: 0.7906,  Loss: 0.3070\n"
     ]
    },
    {
     "name": "stderr",
     "output_type": "stream",
     "text": [
      "100%|██████████| 81/81 [00:09<00:00,  8.62it/s]\n"
     ]
    },
    {
     "name": "stdout",
     "output_type": "stream",
     "text": [
      "Epoch: 231, Train Acc: 0.9018, Train AUC: 0.9929, Train AUPR: 0.9252, Test Acc: 0.8200, Test Auc: 0.9691, Test AUPR: 0.7979,  Loss: 0.2897\n"
     ]
    },
    {
     "name": "stderr",
     "output_type": "stream",
     "text": [
      "100%|██████████| 81/81 [00:09<00:00,  8.62it/s]\n"
     ]
    },
    {
     "name": "stdout",
     "output_type": "stream",
     "text": [
      "Epoch: 232, Train Acc: 0.9205, Train AUC: 0.9941, Train AUPR: 0.9353, Test Acc: 0.8100, Test Auc: 0.9699, Test AUPR: 0.8013,  Loss: 0.2967\n"
     ]
    },
    {
     "name": "stderr",
     "output_type": "stream",
     "text": [
      "100%|██████████| 81/81 [00:09<00:00,  8.61it/s]\n"
     ]
    },
    {
     "name": "stdout",
     "output_type": "stream",
     "text": [
      "Epoch: 233, Train Acc: 0.9197, Train AUC: 0.9939, Train AUPR: 0.9364, Test Acc: 0.8300, Test Auc: 0.9726, Test AUPR: 0.7988,  Loss: 0.2842\n"
     ]
    },
    {
     "name": "stderr",
     "output_type": "stream",
     "text": [
      "100%|██████████| 81/81 [00:09<00:00,  8.61it/s]\n"
     ]
    },
    {
     "name": "stdout",
     "output_type": "stream",
     "text": [
      "Epoch: 234, Train Acc: 0.9368, Train AUC: 0.9946, Train AUPR: 0.9395, Test Acc: 0.8167, Test Auc: 0.9712, Test AUPR: 0.7990,  Loss: 0.2851\n"
     ]
    },
    {
     "name": "stderr",
     "output_type": "stream",
     "text": [
      "100%|██████████| 81/81 [00:09<00:00,  8.62it/s]\n"
     ]
    },
    {
     "name": "stdout",
     "output_type": "stream",
     "text": [
      "Epoch: 235, Train Acc: 0.9230, Train AUC: 0.9944, Train AUPR: 0.9390, Test Acc: 0.8333, Test Auc: 0.9695, Test AUPR: 0.8049,  Loss: 0.2779\n"
     ]
    },
    {
     "name": "stderr",
     "output_type": "stream",
     "text": [
      "100%|██████████| 81/81 [00:09<00:00,  8.62it/s]\n"
     ]
    },
    {
     "name": "stdout",
     "output_type": "stream",
     "text": [
      "Epoch: 236, Train Acc: 0.9380, Train AUC: 0.9950, Train AUPR: 0.9428, Test Acc: 0.8367, Test Auc: 0.9729, Test AUPR: 0.8152,  Loss: 0.2837\n"
     ]
    },
    {
     "name": "stderr",
     "output_type": "stream",
     "text": [
      "100%|██████████| 81/81 [00:09<00:00,  8.62it/s]\n"
     ]
    },
    {
     "name": "stdout",
     "output_type": "stream",
     "text": [
      "Epoch: 237, Train Acc: 0.9305, Train AUC: 0.9942, Train AUPR: 0.9378, Test Acc: 0.8333, Test Auc: 0.9709, Test AUPR: 0.7999,  Loss: 0.2922\n"
     ]
    },
    {
     "name": "stderr",
     "output_type": "stream",
     "text": [
      "100%|██████████| 81/81 [00:09<00:00,  8.62it/s]\n"
     ]
    },
    {
     "name": "stdout",
     "output_type": "stream",
     "text": [
      "Epoch: 238, Train Acc: 0.9351, Train AUC: 0.9949, Train AUPR: 0.9439, Test Acc: 0.8300, Test Auc: 0.9728, Test AUPR: 0.8078,  Loss: 0.2810\n"
     ]
    },
    {
     "name": "stderr",
     "output_type": "stream",
     "text": [
      "100%|██████████| 81/81 [00:09<00:00,  8.60it/s]\n"
     ]
    },
    {
     "name": "stdout",
     "output_type": "stream",
     "text": [
      "Epoch: 239, Train Acc: 0.9297, Train AUC: 0.9947, Train AUPR: 0.9434, Test Acc: 0.8267, Test Auc: 0.9698, Test AUPR: 0.7920,  Loss: 0.2877\n"
     ]
    },
    {
     "name": "stderr",
     "output_type": "stream",
     "text": [
      "100%|██████████| 81/81 [00:09<00:00,  8.61it/s]\n"
     ]
    },
    {
     "name": "stdout",
     "output_type": "stream",
     "text": [
      "Epoch: 240, Train Acc: 0.9222, Train AUC: 0.9947, Train AUPR: 0.9440, Test Acc: 0.8233, Test Auc: 0.9693, Test AUPR: 0.7877,  Loss: 0.2778\n"
     ]
    },
    {
     "name": "stderr",
     "output_type": "stream",
     "text": [
      "100%|██████████| 81/81 [00:09<00:00,  8.61it/s]\n"
     ]
    },
    {
     "name": "stdout",
     "output_type": "stream",
     "text": [
      "Epoch: 241, Train Acc: 0.9459, Train AUC: 0.9950, Train AUPR: 0.9465, Test Acc: 0.8467, Test Auc: 0.9730, Test AUPR: 0.8081,  Loss: 0.2884\n"
     ]
    },
    {
     "name": "stderr",
     "output_type": "stream",
     "text": [
      "100%|██████████| 81/81 [00:09<00:00,  8.61it/s]\n"
     ]
    },
    {
     "name": "stdout",
     "output_type": "stream",
     "text": [
      "Epoch: 242, Train Acc: 0.9343, Train AUC: 0.9944, Train AUPR: 0.9412, Test Acc: 0.8300, Test Auc: 0.9712, Test AUPR: 0.7972,  Loss: 0.2772\n"
     ]
    },
    {
     "name": "stderr",
     "output_type": "stream",
     "text": [
      "100%|██████████| 81/81 [00:09<00:00,  8.61it/s]\n"
     ]
    },
    {
     "name": "stdout",
     "output_type": "stream",
     "text": [
      "Epoch: 243, Train Acc: 0.9089, Train AUC: 0.9942, Train AUPR: 0.9397, Test Acc: 0.8167, Test Auc: 0.9713, Test AUPR: 0.7948,  Loss: 0.2916\n"
     ]
    },
    {
     "name": "stderr",
     "output_type": "stream",
     "text": [
      "100%|██████████| 81/81 [00:09<00:00,  8.61it/s]\n"
     ]
    },
    {
     "name": "stdout",
     "output_type": "stream",
     "text": [
      "Epoch: 244, Train Acc: 0.9334, Train AUC: 0.9949, Train AUPR: 0.9420, Test Acc: 0.8267, Test Auc: 0.9716, Test AUPR: 0.7897,  Loss: 0.2822\n"
     ]
    },
    {
     "name": "stderr",
     "output_type": "stream",
     "text": [
      "100%|██████████| 81/81 [00:09<00:00,  8.61it/s]\n"
     ]
    },
    {
     "name": "stdout",
     "output_type": "stream",
     "text": [
      "Epoch: 245, Train Acc: 0.9347, Train AUC: 0.9949, Train AUPR: 0.9444, Test Acc: 0.8200, Test Auc: 0.9719, Test AUPR: 0.8037,  Loss: 0.2909\n"
     ]
    },
    {
     "name": "stderr",
     "output_type": "stream",
     "text": [
      "100%|██████████| 81/81 [00:09<00:00,  8.56it/s]\n"
     ]
    },
    {
     "name": "stdout",
     "output_type": "stream",
     "text": [
      "Epoch: 246, Train Acc: 0.9235, Train AUC: 0.9946, Train AUPR: 0.9410, Test Acc: 0.8200, Test Auc: 0.9718, Test AUPR: 0.7932,  Loss: 0.2866\n"
     ]
    },
    {
     "name": "stderr",
     "output_type": "stream",
     "text": [
      "100%|██████████| 81/81 [00:09<00:00,  8.60it/s]\n"
     ]
    },
    {
     "name": "stdout",
     "output_type": "stream",
     "text": [
      "Epoch: 247, Train Acc: 0.9405, Train AUC: 0.9952, Train AUPR: 0.9462, Test Acc: 0.8300, Test Auc: 0.9700, Test AUPR: 0.7906,  Loss: 0.2813\n"
     ]
    },
    {
     "name": "stderr",
     "output_type": "stream",
     "text": [
      "100%|██████████| 81/81 [00:09<00:00,  8.61it/s]\n"
     ]
    },
    {
     "name": "stdout",
     "output_type": "stream",
     "text": [
      "Epoch: 248, Train Acc: 0.9314, Train AUC: 0.9952, Train AUPR: 0.9475, Test Acc: 0.8267, Test Auc: 0.9701, Test AUPR: 0.7996,  Loss: 0.2781\n"
     ]
    },
    {
     "name": "stderr",
     "output_type": "stream",
     "text": [
      "100%|██████████| 81/81 [00:09<00:00,  8.61it/s]\n"
     ]
    },
    {
     "name": "stdout",
     "output_type": "stream",
     "text": [
      "Epoch: 249, Train Acc: 0.9297, Train AUC: 0.9948, Train AUPR: 0.9420, Test Acc: 0.8233, Test Auc: 0.9701, Test AUPR: 0.7930,  Loss: 0.2954\n"
     ]
    }
   ],
   "source": [
    "optimizer = torch.optim.Adam(model.parameters(), lr=0.001)\n",
    "criterion = torch.nn.CrossEntropyLoss()\n",
    "\n",
    "    \n",
    "def test(loader, size):\n",
    "    model.eval()\n",
    "    output = np.zeros((len(loader), size))\n",
    "    actual = np.zeros((len(loader), size))\n",
    "    accuracy = 0\n",
    "    for ind, data in enumerate(loader):  # Iterate in batches over the training/test dataset.\n",
    "        data.x = torch.reshape(data.x, (data.x.shape[0], 1))\n",
    "        data.x = data.x.type(torch.FloatTensor)\n",
    "        data = data.to(device)\n",
    "        out = model(data.x, data.edge_index, data.batch)\n",
    "        output[ind] = softmax(out.cpu().detach().numpy())\n",
    "        actual[ind][data.y] = 1\n",
    "        accuracy += int((out.argmax(dim=1) == data.y).sum())\n",
    "    all_labels = list(dataset.cellToIndex.keys())\n",
    "    actual = np.array(actual)\n",
    "    precision = dict()\n",
    "    recall = dict()\n",
    "    averageAUROC = []\n",
    "    averageAUPR = []\n",
    "    for (idx, c_label) in enumerate(all_labels):\n",
    "        fpr, tpr, thresholds = roc_curve(actual[:,idx].astype(int), output[:,idx])\n",
    "        precision[idx], recall[idx], _ = precision_recall_curve(actual[:, idx],\n",
    "                                                        output[:, idx])\n",
    "        averageAUROC.append(auc(fpr, tpr))\n",
    "        averageAUPR.append(round(auc(recall[idx], precision[idx]),4))\n",
    "\n",
    "    return accuracy/len(loader.dataset), mean(averageAUROC), mean(averageAUPR)\n",
    "\n",
    "\n",
    "def train():\n",
    "    model.train()\n",
    "    avgLoss = 0\n",
    "    for data in tqdm(train_loader, total=81):  # Iterate in batches over the training dataset.\n",
    "        data.x = torch.reshape(data.x, (data.x.shape[0], 1))\n",
    "        data.x = data.x.type(torch.FloatTensor)\n",
    "        data = data.to(device)\n",
    "        out = model(data.x, data.edge_index, data.batch)# Perform a single forward pass.\n",
    "        loss = criterion(out, data.y)  # Compute the loss.\n",
    "        loss.backward()  # Derive gradients.\n",
    "        optimizer.step()  # Update parameters based on gradients.\n",
    "        optimizer.zero_grad()  # Clear gradients.\n",
    "        avgLoss += loss\n",
    "    return avgLoss / 81\n",
    "\n",
    "\n",
    "for epoch in range(1, 250):\n",
    "    loss = train()\n",
    "    train_acc, trainAUC, trainAUPR = test(train_loader_testing, 7)\n",
    "    test_acc,testAUC, testAUPR = test(val_loader, 7)\n",
    "    print(f'Epoch: {epoch:03d}, Train Acc: {train_acc:.4f}, Train AUC: {trainAUC:.4f}, Train AUPR: {trainAUPR:.4f}, Test Acc: {test_acc:.4f}, Test Auc: {testAUC:.4f}, Test AUPR: {testAUPR:.4f},  Loss: {loss:.4f}')"
   ]
  },
  {
   "cell_type": "code",
   "execution_count": null,
   "id": "b97aba3d",
   "metadata": {},
   "outputs": [],
   "source": []
  }
 ],
 "metadata": {
  "kernelspec": {
   "display_name": "Python 3 (ipykernel)",
   "language": "python",
   "name": "python3"
  },
  "language_info": {
   "codemirror_mode": {
    "name": "ipython",
    "version": 3
   },
   "file_extension": ".py",
   "mimetype": "text/x-python",
   "name": "python",
   "nbconvert_exporter": "python",
   "pygments_lexer": "ipython3",
   "version": "3.7.4"
  }
 },
 "nbformat": 4,
 "nbformat_minor": 5
}
