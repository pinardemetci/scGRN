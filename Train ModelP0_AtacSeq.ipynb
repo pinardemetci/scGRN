{
 "cells": [
  {
   "cell_type": "markdown",
   "id": "f8e937c5",
   "metadata": {},
   "source": [
    "# Train model using Mouse Brain dataset"
   ]
  },
  {
   "cell_type": "markdown",
   "id": "df641d71",
   "metadata": {},
   "source": [
    "In this notebook, we're going to train our model using the Mouse Brain dataset (GSE60361). \n",
    "\n",
    "This assumes that you've made the graph using the ```Infer GRN.ipynb``` code."
   ]
  },
  {
   "cell_type": "code",
   "execution_count": 1,
   "id": "65a9a75a",
   "metadata": {},
   "outputs": [
    {
     "name": "stdout",
     "output_type": "stream",
     "text": [
      "Torch version: 1.8.0+cu111\n",
      "Cuda available: True\n",
      "Torch geometric version: 2.0.3\n"
     ]
    }
   ],
   "source": [
    "import os\n",
    "\n",
    "import numpy as np\n",
    "import pandas as pd\n",
    "import torch\n",
    "import torch_geometric\n",
    "from torch_geometric.data import Data, Dataset\n",
    "from tqdm import tqdm\n",
    "from datasets.datasetPatacseq import AtacSeqDataset\n",
    "from scipy.special import softmax\n",
    "%matplotlib inline\n",
    "import matplotlib.pyplot as plt\n",
    "from sklearn.manifold import TSNE\n",
    "from tqdm import tqdm\n",
    "from sklearn.metrics import (auc, precision_recall_curve, roc_auc_score,\n",
    "                             roc_curve)\n",
    "from statistics import mean"
   ]
  },
  {
   "cell_type": "markdown",
   "id": "419e7c62",
   "metadata": {},
   "source": [
    "Load up the dataset. Read ```datasetMouseBrain.py``` on how the dataset was built. "
   ]
  },
  {
   "cell_type": "code",
   "execution_count": 2,
   "id": "2da40b66",
   "metadata": {},
   "outputs": [
    {
     "name": "stderr",
     "output_type": "stream",
     "text": [
      "100%|██████████| 96185/96185 [01:33<00:00, 1029.51it/s]\n",
      "Processing...\n",
      "100%|██████████| 5081/5081 [02:49<00:00, 30.06it/s]\n",
      "Done!\n"
     ]
    }
   ],
   "source": [
    "dataset = AtacSeqDataset(\"/gpfs/data/rsingh47/hzaki1/atacseqdataP0\", atacseq=False)"
   ]
  },
  {
   "cell_type": "code",
   "execution_count": 3,
   "id": "fefcae56",
   "metadata": {},
   "outputs": [
    {
     "name": "stdout",
     "output_type": "stream",
     "text": [
      "\n",
      "Dataset: AtacSeqDataset(5081):\n",
      "====================\n",
      "Number of graphs: 5081\n",
      "Number of features: 1\n",
      "\n",
      "Data(x=[19322], edge_index=[2, 96185], y=[1])\n",
      "=============================================================\n",
      "Number of nodes: 19322\n",
      "Number of edges: 96185\n",
      "Average node degree: 4.98\n",
      "Contains isolated nodes: True\n",
      "Contains self-loops: False\n",
      "Is undirected: False\n"
     ]
    },
    {
     "name": "stderr",
     "output_type": "stream",
     "text": [
      "/gpfs/home/hzaki1/celltypefromgrn/env-gpu/lib/python3.7/site-packages/torch_geometric/deprecation.py:13: UserWarning: 'contains_isolated_nodes' is deprecated, use 'has_isolated_nodes' instead\n",
      "  warnings.warn(out)\n",
      "/gpfs/home/hzaki1/celltypefromgrn/env-gpu/lib/python3.7/site-packages/torch_geometric/deprecation.py:13: UserWarning: 'contains_self_loops' is deprecated, use 'has_self_loops' instead\n",
      "  warnings.warn(out)\n"
     ]
    }
   ],
   "source": [
    "print()\n",
    "print(f'Dataset: {dataset}:')\n",
    "print('====================')\n",
    "print(f'Number of graphs: {len(dataset)}')\n",
    "print(f'Number of features: {dataset.num_features}')\n",
    "\n",
    "data = dataset[0]  # Get the first graph object.\n",
    "\n",
    "print()\n",
    "print(data)\n",
    "print('=============================================================')\n",
    "\n",
    "# Gather some statistics about the first graph.\n",
    "print(f'Number of nodes: {data.num_nodes}')\n",
    "print(f'Number of edges: {data.num_edges}')\n",
    "print(f'Average node degree: {data.num_edges / data.num_nodes:.2f}')\n",
    "print(f'Contains isolated nodes: {data.contains_isolated_nodes()}')\n",
    "print(f'Contains self-loops: {data.contains_self_loops()}')\n",
    "print(f'Is undirected: {data.is_undirected()}')"
   ]
  },
  {
   "cell_type": "code",
   "execution_count": 4,
   "id": "8a66c7cb",
   "metadata": {},
   "outputs": [
    {
     "name": "stdout",
     "output_type": "stream",
     "text": [
      "Number of training graphs: 4064\n",
      "Number of test graphs: 1017\n"
     ]
    }
   ],
   "source": [
    "torch.manual_seed(12345)\n",
    "dataset = dataset.shuffle()\n",
    "\n",
    "\n",
    "# shuffle_index = np.loadtxt('shuffle_indices/shuffleIndex_MouseBrain.txt')\n",
    "# shuffle_index = shuffle_index.astype(np.int32)\n",
    "# train_size, val_size = int(len(shuffle_index)* 0.8), int(len(shuffle_index)* 0.9)\n",
    "# train_dataset = [dataset[i] for i in shuffle_index[0:train_size]]\n",
    "# val_dataset = [dataset[i] for i in shuffle_index[train_size: val_size]]\n",
    "# test_dataset =  [dataset[i] for i in shuffle_index[val_size:]]\n",
    "\n",
    "# train_dataset = torch.load('trainDataset.pt')\n",
    "# test_dataset = torch.load('testDataset.pt')\n",
    "\n",
    "train_dataset = dataset[:4064]\n",
    "test_dataset = dataset[4064:]\n",
    "\n",
    "# train_dataset = dataset[:40]\n",
    "# test_dataset = dataset[40:60]\n",
    "\n",
    "print(f'Number of training graphs: {len(train_dataset)}')\n",
    "print(f'Number of test graphs: {len(test_dataset)}')"
   ]
  },
  {
   "cell_type": "code",
   "execution_count": 5,
   "id": "5dce17cb",
   "metadata": {},
   "outputs": [
    {
     "name": "stderr",
     "output_type": "stream",
     "text": [
      "/gpfs/home/hzaki1/celltypefromgrn/env-gpu/lib/python3.7/site-packages/torch_geometric/deprecation.py:13: UserWarning: 'data.DataLoader' is deprecated, use 'loader.DataLoader' instead\n",
      "  warnings.warn(out)\n"
     ]
    }
   ],
   "source": [
    "from torch_geometric.data import DataLoader\n",
    "\n",
    "train_loader = DataLoader(train_dataset, batch_size=30, shuffle=True)\n",
    "train_loader_testing = DataLoader(train_dataset, batch_size=1, shuffle=True)\n",
    "test_loader = DataLoader(test_dataset, batch_size=1, shuffle=False)"
   ]
  },
  {
   "cell_type": "code",
   "execution_count": 28,
   "id": "ad8a9de2",
   "metadata": {},
   "outputs": [
    {
     "name": "stdout",
     "output_type": "stream",
     "text": [
      "GCN(\n",
      "  (conv1): SAGEConv(1, 128)\n",
      "  (conv2): SAGEConv(128, 128)\n",
      "  (conv3): SAGEConv(128, 128)\n",
      "  (lin): Linear(in_features=128, out_features=9, bias=True)\n",
      ")\n"
     ]
    }
   ],
   "source": [
    "from gcnmodel import GCN\n",
    "device = torch.device('cuda' if torch.cuda.is_available() else 'cpu')\n",
    "\n",
    "model = GCN(hidden_channels=128, data=dataset, output_size=9).to(device)\n",
    "print(model)"
   ]
  },
  {
   "cell_type": "code",
   "execution_count": null,
   "id": "783ea868",
   "metadata": {
    "scrolled": true
   },
   "outputs": [
    {
     "name": "stderr",
     "output_type": "stream",
     "text": [
      "100%|██████████| 136/136 [03:25<00:00,  1.51s/it]\n"
     ]
    },
    {
     "name": "stdout",
     "output_type": "stream",
     "text": [
      "Epoch: 001, Train Acc: 0.6321, Train AUC: 0.5100, Train AUPR: 0.1148, Test Acc: 0.5988, Test Auc: 0.5128, Test AUPR: 0.1186,  Loss: 1.2904\n"
     ]
    },
    {
     "name": "stderr",
     "output_type": "stream",
     "text": [
      "100%|██████████| 136/136 [03:29<00:00,  1.54s/it]\n"
     ]
    },
    {
     "name": "stdout",
     "output_type": "stream",
     "text": [
      "Epoch: 002, Train Acc: 0.6321, Train AUC: 0.5215, Train AUPR: 0.1174, Test Acc: 0.5988, Test Auc: 0.5199, Test AUPR: 0.1225,  Loss: 1.2390\n"
     ]
    },
    {
     "name": "stderr",
     "output_type": "stream",
     "text": [
      "100%|██████████| 136/136 [03:05<00:00,  1.36s/it]\n"
     ]
    },
    {
     "name": "stdout",
     "output_type": "stream",
     "text": [
      "Epoch: 003, Train Acc: 0.6321, Train AUC: 0.5173, Train AUPR: 0.1166, Test Acc: 0.5988, Test Auc: 0.5205, Test AUPR: 0.1184,  Loss: 1.2389\n"
     ]
    },
    {
     "name": "stderr",
     "output_type": "stream",
     "text": [
      "100%|██████████| 136/136 [01:42<00:00,  1.33it/s]\n"
     ]
    },
    {
     "name": "stdout",
     "output_type": "stream",
     "text": [
      "Epoch: 004, Train Acc: 0.6321, Train AUC: 0.5291, Train AUPR: 0.1188, Test Acc: 0.5988, Test Auc: 0.5237, Test AUPR: 0.1201,  Loss: 1.2377\n"
     ]
    },
    {
     "name": "stderr",
     "output_type": "stream",
     "text": [
      "100%|██████████| 136/136 [01:37<00:00,  1.39it/s]\n"
     ]
    },
    {
     "name": "stdout",
     "output_type": "stream",
     "text": [
      "Epoch: 005, Train Acc: 0.6321, Train AUC: 0.5345, Train AUPR: 0.1194, Test Acc: 0.5988, Test Auc: 0.5234, Test AUPR: 0.1219,  Loss: 1.2359\n"
     ]
    },
    {
     "name": "stderr",
     "output_type": "stream",
     "text": [
      "100%|██████████| 136/136 [01:18<00:00,  1.73it/s]\n"
     ]
    },
    {
     "name": "stdout",
     "output_type": "stream",
     "text": [
      "Epoch: 006, Train Acc: 0.6321, Train AUC: 0.5322, Train AUPR: 0.1184, Test Acc: 0.5988, Test Auc: 0.5209, Test AUPR: 0.1205,  Loss: 1.2387\n"
     ]
    },
    {
     "name": "stderr",
     "output_type": "stream",
     "text": [
      "100%|██████████| 136/136 [00:58<00:00,  2.33it/s]\n"
     ]
    },
    {
     "name": "stdout",
     "output_type": "stream",
     "text": [
      "Epoch: 007, Train Acc: 0.6321, Train AUC: 0.5310, Train AUPR: 0.1192, Test Acc: 0.5988, Test Auc: 0.5261, Test AUPR: 0.1215,  Loss: 1.2346\n"
     ]
    },
    {
     "name": "stderr",
     "output_type": "stream",
     "text": [
      "100%|██████████| 136/136 [00:47<00:00,  2.87it/s]\n"
     ]
    },
    {
     "name": "stdout",
     "output_type": "stream",
     "text": [
      "Epoch: 008, Train Acc: 0.6321, Train AUC: 0.5375, Train AUPR: 0.1199, Test Acc: 0.5988, Test Auc: 0.5267, Test AUPR: 0.1248,  Loss: 1.2359\n"
     ]
    },
    {
     "name": "stderr",
     "output_type": "stream",
     "text": [
      "100%|██████████| 136/136 [01:06<00:00,  2.05it/s]\n"
     ]
    },
    {
     "name": "stdout",
     "output_type": "stream",
     "text": [
      "Epoch: 009, Train Acc: 0.6321, Train AUC: 0.5376, Train AUPR: 0.1197, Test Acc: 0.5988, Test Auc: 0.5271, Test AUPR: 0.1311,  Loss: 1.2422\n"
     ]
    },
    {
     "name": "stderr",
     "output_type": "stream",
     "text": [
      "100%|██████████| 136/136 [00:48<00:00,  2.78it/s]\n"
     ]
    },
    {
     "name": "stdout",
     "output_type": "stream",
     "text": [
      "Epoch: 010, Train Acc: 0.6321, Train AUC: 0.5384, Train AUPR: 0.1196, Test Acc: 0.5988, Test Auc: 0.5267, Test AUPR: 0.1229,  Loss: 1.2332\n"
     ]
    },
    {
     "name": "stderr",
     "output_type": "stream",
     "text": [
      "100%|██████████| 136/136 [02:16<00:00,  1.00s/it]\n"
     ]
    },
    {
     "name": "stdout",
     "output_type": "stream",
     "text": [
      "Epoch: 011, Train Acc: 0.6321, Train AUC: 0.5414, Train AUPR: 0.1201, Test Acc: 0.5988, Test Auc: 0.5256, Test AUPR: 0.1313,  Loss: 1.2300\n"
     ]
    },
    {
     "name": "stderr",
     "output_type": "stream",
     "text": [
      "100%|██████████| 136/136 [02:01<00:00,  1.12it/s]\n"
     ]
    },
    {
     "name": "stdout",
     "output_type": "stream",
     "text": [
      "Epoch: 012, Train Acc: 0.6321, Train AUC: 0.5837, Train AUPR: 0.1357, Test Acc: 0.5988, Test Auc: 0.5685, Test AUPR: 0.1298,  Loss: 1.2307\n"
     ]
    },
    {
     "name": "stderr",
     "output_type": "stream",
     "text": [
      "100%|██████████| 136/136 [01:45<00:00,  1.29it/s]\n"
     ]
    },
    {
     "name": "stdout",
     "output_type": "stream",
     "text": [
      "Epoch: 013, Train Acc: 0.6321, Train AUC: 0.5872, Train AUPR: 0.1378, Test Acc: 0.5988, Test Auc: 0.5845, Test AUPR: 0.1339,  Loss: 1.2238\n"
     ]
    },
    {
     "name": "stderr",
     "output_type": "stream",
     "text": [
      "100%|██████████| 136/136 [02:27<00:00,  1.08s/it]\n"
     ]
    },
    {
     "name": "stdout",
     "output_type": "stream",
     "text": [
      "Epoch: 014, Train Acc: 0.6321, Train AUC: 0.5912, Train AUPR: 0.1382, Test Acc: 0.5988, Test Auc: 0.5888, Test AUPR: 0.1374,  Loss: 1.2191\n"
     ]
    },
    {
     "name": "stderr",
     "output_type": "stream",
     "text": [
      "100%|██████████| 136/136 [02:24<00:00,  1.06s/it]\n"
     ]
    },
    {
     "name": "stdout",
     "output_type": "stream",
     "text": [
      "Epoch: 015, Train Acc: 0.6321, Train AUC: 0.5938, Train AUPR: 0.1395, Test Acc: 0.5988, Test Auc: 0.5929, Test AUPR: 0.1384,  Loss: 1.2266\n"
     ]
    },
    {
     "name": "stderr",
     "output_type": "stream",
     "text": [
      "100%|██████████| 136/136 [02:23<00:00,  1.05s/it]\n"
     ]
    },
    {
     "name": "stdout",
     "output_type": "stream",
     "text": [
      "Epoch: 016, Train Acc: 0.6321, Train AUC: 0.5984, Train AUPR: 0.1402, Test Acc: 0.5988, Test Auc: 0.5890, Test AUPR: 0.1377,  Loss: 1.2206\n"
     ]
    },
    {
     "name": "stderr",
     "output_type": "stream",
     "text": [
      "100%|██████████| 136/136 [02:24<00:00,  1.06s/it]\n"
     ]
    },
    {
     "name": "stdout",
     "output_type": "stream",
     "text": [
      "Epoch: 017, Train Acc: 0.6321, Train AUC: 0.5925, Train AUPR: 0.1407, Test Acc: 0.5988, Test Auc: 0.5987, Test AUPR: 0.1433,  Loss: 1.2243\n"
     ]
    },
    {
     "name": "stderr",
     "output_type": "stream",
     "text": [
      "100%|██████████| 136/136 [02:03<00:00,  1.11it/s]\n"
     ]
    },
    {
     "name": "stdout",
     "output_type": "stream",
     "text": [
      "Epoch: 018, Train Acc: 0.6321, Train AUC: 0.6013, Train AUPR: 0.1430, Test Acc: 0.5988, Test Auc: 0.6036, Test AUPR: 0.1425,  Loss: 1.2145\n"
     ]
    },
    {
     "name": "stderr",
     "output_type": "stream",
     "text": [
      "100%|██████████| 136/136 [01:45<00:00,  1.29it/s]\n"
     ]
    },
    {
     "name": "stdout",
     "output_type": "stream",
     "text": [
      "Epoch: 019, Train Acc: 0.6321, Train AUC: 0.6049, Train AUPR: 0.1470, Test Acc: 0.5988, Test Auc: 0.6038, Test AUPR: 0.1458,  Loss: 1.2105\n"
     ]
    },
    {
     "name": "stderr",
     "output_type": "stream",
     "text": [
      "100%|██████████| 136/136 [02:24<00:00,  1.06s/it]\n"
     ]
    },
    {
     "name": "stdout",
     "output_type": "stream",
     "text": [
      "Epoch: 020, Train Acc: 0.6321, Train AUC: 0.6100, Train AUPR: 0.1461, Test Acc: 0.5988, Test Auc: 0.5923, Test AUPR: 0.1430,  Loss: 1.2170\n"
     ]
    },
    {
     "name": "stderr",
     "output_type": "stream",
     "text": [
      "100%|██████████| 136/136 [02:23<00:00,  1.06s/it]\n"
     ]
    },
    {
     "name": "stdout",
     "output_type": "stream",
     "text": [
      "Epoch: 021, Train Acc: 0.6321, Train AUC: 0.6113, Train AUPR: 0.1446, Test Acc: 0.5988, Test Auc: 0.6059, Test AUPR: 0.1435,  Loss: 1.2123\n"
     ]
    },
    {
     "name": "stderr",
     "output_type": "stream",
     "text": [
      "100%|██████████| 136/136 [00:59<00:00,  2.27it/s]\n"
     ]
    },
    {
     "name": "stdout",
     "output_type": "stream",
     "text": [
      "Epoch: 022, Train Acc: 0.6321, Train AUC: 0.6155, Train AUPR: 0.1536, Test Acc: 0.5988, Test Auc: 0.6115, Test AUPR: 0.1512,  Loss: 1.2084\n"
     ]
    },
    {
     "name": "stderr",
     "output_type": "stream",
     "text": [
      "100%|██████████| 136/136 [00:43<00:00,  3.12it/s]\n"
     ]
    },
    {
     "name": "stdout",
     "output_type": "stream",
     "text": [
      "Epoch: 023, Train Acc: 0.6321, Train AUC: 0.6120, Train AUPR: 0.1515, Test Acc: 0.5988, Test Auc: 0.6046, Test AUPR: 0.1496,  Loss: 1.2054\n"
     ]
    },
    {
     "name": "stderr",
     "output_type": "stream",
     "text": [
      "100%|██████████| 136/136 [00:49<00:00,  2.73it/s]\n"
     ]
    },
    {
     "name": "stdout",
     "output_type": "stream",
     "text": [
      "Epoch: 024, Train Acc: 0.6321, Train AUC: 0.6187, Train AUPR: 0.1524, Test Acc: 0.5988, Test Auc: 0.6165, Test AUPR: 0.1553,  Loss: 1.2007\n"
     ]
    },
    {
     "name": "stderr",
     "output_type": "stream",
     "text": [
      "100%|██████████| 136/136 [00:48<00:00,  2.80it/s]\n"
     ]
    },
    {
     "name": "stdout",
     "output_type": "stream",
     "text": [
      "Epoch: 025, Train Acc: 0.6321, Train AUC: 0.6230, Train AUPR: 0.1545, Test Acc: 0.5988, Test Auc: 0.6149, Test AUPR: 0.1577,  Loss: 1.1996\n"
     ]
    },
    {
     "name": "stderr",
     "output_type": "stream",
     "text": [
      "100%|██████████| 136/136 [01:37<00:00,  1.39it/s]\n"
     ]
    },
    {
     "name": "stdout",
     "output_type": "stream",
     "text": [
      "Epoch: 026, Train Acc: 0.6324, Train AUC: 0.6286, Train AUPR: 0.1559, Test Acc: 0.5988, Test Auc: 0.6230, Test AUPR: 0.1580,  Loss: 1.1990\n"
     ]
    },
    {
     "name": "stderr",
     "output_type": "stream",
     "text": [
      "100%|██████████| 136/136 [00:52<00:00,  2.58it/s]\n"
     ]
    },
    {
     "name": "stdout",
     "output_type": "stream",
     "text": [
      "Epoch: 027, Train Acc: 0.6321, Train AUC: 0.6375, Train AUPR: 0.1614, Test Acc: 0.5988, Test Auc: 0.6323, Test AUPR: 0.1637,  Loss: 1.1913\n"
     ]
    },
    {
     "name": "stderr",
     "output_type": "stream",
     "text": [
      "100%|██████████| 136/136 [00:47<00:00,  2.84it/s]\n"
     ]
    },
    {
     "name": "stdout",
     "output_type": "stream",
     "text": [
      "Epoch: 028, Train Acc: 0.6334, Train AUC: 0.6453, Train AUPR: 0.1611, Test Acc: 0.5988, Test Auc: 0.6487, Test AUPR: 0.1628,  Loss: 1.1862\n"
     ]
    },
    {
     "name": "stderr",
     "output_type": "stream",
     "text": [
      "100%|██████████| 136/136 [01:02<00:00,  2.18it/s]\n"
     ]
    },
    {
     "name": "stdout",
     "output_type": "stream",
     "text": [
      "Epoch: 029, Train Acc: 0.6321, Train AUC: 0.6543, Train AUPR: 0.1667, Test Acc: 0.5988, Test Auc: 0.6437, Test AUPR: 0.1623,  Loss: 1.1830\n"
     ]
    },
    {
     "name": "stderr",
     "output_type": "stream",
     "text": [
      "100%|██████████| 136/136 [00:54<00:00,  2.48it/s]\n"
     ]
    },
    {
     "name": "stdout",
     "output_type": "stream",
     "text": [
      "Epoch: 030, Train Acc: 0.6329, Train AUC: 0.6660, Train AUPR: 0.1711, Test Acc: 0.5988, Test Auc: 0.6569, Test AUPR: 0.1695,  Loss: 1.1799\n"
     ]
    },
    {
     "name": "stderr",
     "output_type": "stream",
     "text": [
      "100%|██████████| 136/136 [00:44<00:00,  3.05it/s]\n"
     ]
    },
    {
     "name": "stdout",
     "output_type": "stream",
     "text": [
      "Epoch: 031, Train Acc: 0.6321, Train AUC: 0.6764, Train AUPR: 0.1763, Test Acc: 0.5988, Test Auc: 0.6594, Test AUPR: 0.1705,  Loss: 1.1789\n"
     ]
    },
    {
     "name": "stderr",
     "output_type": "stream",
     "text": [
      "100%|██████████| 136/136 [01:03<00:00,  2.14it/s]\n"
     ]
    },
    {
     "name": "stdout",
     "output_type": "stream",
     "text": [
      "Epoch: 032, Train Acc: 0.6356, Train AUC: 0.6752, Train AUPR: 0.1695, Test Acc: 0.6057, Test Auc: 0.6556, Test AUPR: 0.1777,  Loss: 1.1737\n"
     ]
    },
    {
     "name": "stderr",
     "output_type": "stream",
     "text": [
      "100%|██████████| 136/136 [00:57<00:00,  2.35it/s]\n"
     ]
    },
    {
     "name": "stdout",
     "output_type": "stream",
     "text": [
      "Epoch: 033, Train Acc: 0.6336, Train AUC: 0.6877, Train AUPR: 0.1789, Test Acc: 0.5988, Test Auc: 0.6657, Test AUPR: 0.1737,  Loss: 1.1701\n"
     ]
    },
    {
     "name": "stderr",
     "output_type": "stream",
     "text": [
      "100%|██████████| 136/136 [00:57<00:00,  2.38it/s]\n"
     ]
    },
    {
     "name": "stdout",
     "output_type": "stream",
     "text": [
      "Epoch: 034, Train Acc: 0.6375, Train AUC: 0.6917, Train AUPR: 0.1808, Test Acc: 0.6028, Test Auc: 0.6724, Test AUPR: 0.1791,  Loss: 1.1701\n"
     ]
    },
    {
     "name": "stderr",
     "output_type": "stream",
     "text": [
      "100%|██████████| 136/136 [00:57<00:00,  2.39it/s]\n"
     ]
    },
    {
     "name": "stdout",
     "output_type": "stream",
     "text": [
      "Epoch: 035, Train Acc: 0.6371, Train AUC: 0.6938, Train AUPR: 0.1799, Test Acc: 0.6018, Test Auc: 0.6786, Test AUPR: 0.1792,  Loss: 1.1683\n"
     ]
    },
    {
     "name": "stderr",
     "output_type": "stream",
     "text": [
      "100%|██████████| 136/136 [01:00<00:00,  2.26it/s]\n"
     ]
    },
    {
     "name": "stdout",
     "output_type": "stream",
     "text": [
      "Epoch: 036, Train Acc: 0.6341, Train AUC: 0.6933, Train AUPR: 0.1809, Test Acc: 0.6028, Test Auc: 0.6776, Test AUPR: 0.1878,  Loss: 1.1701\n"
     ]
    },
    {
     "name": "stderr",
     "output_type": "stream",
     "text": [
      "100%|██████████| 136/136 [00:45<00:00,  2.96it/s]\n"
     ]
    },
    {
     "name": "stdout",
     "output_type": "stream",
     "text": [
      "Epoch: 037, Train Acc: 0.6380, Train AUC: 0.7026, Train AUPR: 0.1827, Test Acc: 0.6146, Test Auc: 0.6758, Test AUPR: 0.1776,  Loss: 1.1597\n"
     ]
    },
    {
     "name": "stderr",
     "output_type": "stream",
     "text": [
      "100%|██████████| 136/136 [00:49<00:00,  2.73it/s]\n"
     ]
    },
    {
     "name": "stdout",
     "output_type": "stream",
     "text": [
      "Epoch: 038, Train Acc: 0.6344, Train AUC: 0.7047, Train AUPR: 0.1835, Test Acc: 0.6028, Test Auc: 0.6840, Test AUPR: 0.1777,  Loss: 1.1628\n"
     ]
    },
    {
     "name": "stderr",
     "output_type": "stream",
     "text": [
      "100%|██████████| 136/136 [00:43<00:00,  3.12it/s]\n"
     ]
    },
    {
     "name": "stdout",
     "output_type": "stream",
     "text": [
      "Epoch: 039, Train Acc: 0.6358, Train AUC: 0.7098, Train AUPR: 0.1876, Test Acc: 0.6047, Test Auc: 0.6857, Test AUPR: 0.1782,  Loss: 1.1544\n"
     ]
    },
    {
     "name": "stderr",
     "output_type": "stream",
     "text": [
      "100%|██████████| 136/136 [00:44<00:00,  3.07it/s]\n"
     ]
    },
    {
     "name": "stdout",
     "output_type": "stream",
     "text": [
      "Epoch: 040, Train Acc: 0.6358, Train AUC: 0.7111, Train AUPR: 0.1857, Test Acc: 0.6047, Test Auc: 0.6796, Test AUPR: 0.1784,  Loss: 1.1528\n"
     ]
    },
    {
     "name": "stderr",
     "output_type": "stream",
     "text": [
      "100%|██████████| 136/136 [00:42<00:00,  3.21it/s]\n"
     ]
    },
    {
     "name": "stdout",
     "output_type": "stream",
     "text": [
      "Epoch: 041, Train Acc: 0.6407, Train AUC: 0.7127, Train AUPR: 0.1900, Test Acc: 0.6077, Test Auc: 0.6829, Test AUPR: 0.1826,  Loss: 1.1549\n"
     ]
    },
    {
     "name": "stderr",
     "output_type": "stream",
     "text": [
      "100%|██████████| 136/136 [00:45<00:00,  2.96it/s]\n"
     ]
    },
    {
     "name": "stdout",
     "output_type": "stream",
     "text": [
      "Epoch: 042, Train Acc: 0.6427, Train AUC: 0.7133, Train AUPR: 0.1893, Test Acc: 0.6047, Test Auc: 0.6902, Test AUPR: 0.1799,  Loss: 1.1429\n"
     ]
    },
    {
     "name": "stderr",
     "output_type": "stream",
     "text": [
      "100%|██████████| 136/136 [00:44<00:00,  3.07it/s]\n"
     ]
    },
    {
     "name": "stdout",
     "output_type": "stream",
     "text": [
      "Epoch: 043, Train Acc: 0.6439, Train AUC: 0.7173, Train AUPR: 0.1932, Test Acc: 0.6077, Test Auc: 0.6940, Test AUPR: 0.1849,  Loss: 1.1469\n"
     ]
    },
    {
     "name": "stderr",
     "output_type": "stream",
     "text": [
      "100%|██████████| 136/136 [00:45<00:00,  3.02it/s]\n"
     ]
    },
    {
     "name": "stdout",
     "output_type": "stream",
     "text": [
      "Epoch: 044, Train Acc: 0.6403, Train AUC: 0.7131, Train AUPR: 0.1921, Test Acc: 0.6077, Test Auc: 0.6914, Test AUPR: 0.1794,  Loss: 1.1528\n"
     ]
    },
    {
     "name": "stderr",
     "output_type": "stream",
     "text": [
      "100%|██████████| 136/136 [00:52<00:00,  2.57it/s]\n"
     ]
    },
    {
     "name": "stdout",
     "output_type": "stream",
     "text": [
      "Epoch: 045, Train Acc: 0.6442, Train AUC: 0.7205, Train AUPR: 0.1943, Test Acc: 0.6116, Test Auc: 0.6879, Test AUPR: 0.1831,  Loss: 1.1456\n"
     ]
    },
    {
     "name": "stderr",
     "output_type": "stream",
     "text": [
      "100%|██████████| 136/136 [01:16<00:00,  1.78it/s]\n"
     ]
    },
    {
     "name": "stdout",
     "output_type": "stream",
     "text": [
      "Epoch: 046, Train Acc: 0.6442, Train AUC: 0.7204, Train AUPR: 0.1958, Test Acc: 0.6155, Test Auc: 0.6951, Test AUPR: 0.1883,  Loss: 1.1478\n"
     ]
    },
    {
     "name": "stderr",
     "output_type": "stream",
     "text": [
      "100%|██████████| 136/136 [01:21<00:00,  1.68it/s]\n"
     ]
    },
    {
     "name": "stdout",
     "output_type": "stream",
     "text": [
      "Epoch: 047, Train Acc: 0.6398, Train AUC: 0.7192, Train AUPR: 0.1947, Test Acc: 0.6057, Test Auc: 0.6899, Test AUPR: 0.1855,  Loss: 1.1454\n"
     ]
    },
    {
     "name": "stderr",
     "output_type": "stream",
     "text": [
      "100%|██████████| 136/136 [01:48<00:00,  1.26it/s]\n"
     ]
    },
    {
     "name": "stdout",
     "output_type": "stream",
     "text": [
      "Epoch: 048, Train Acc: 0.6383, Train AUC: 0.7259, Train AUPR: 0.1939, Test Acc: 0.6047, Test Auc: 0.6932, Test AUPR: 0.1848,  Loss: 1.1449\n"
     ]
    },
    {
     "name": "stderr",
     "output_type": "stream",
     "text": [
      "100%|██████████| 136/136 [02:06<00:00,  1.07it/s]\n"
     ]
    },
    {
     "name": "stdout",
     "output_type": "stream",
     "text": [
      "Epoch: 049, Train Acc: 0.6454, Train AUC: 0.7234, Train AUPR: 0.1992, Test Acc: 0.6165, Test Auc: 0.6957, Test AUPR: 0.1858,  Loss: 1.1389\n"
     ]
    },
    {
     "name": "stderr",
     "output_type": "stream",
     "text": [
      "100%|██████████| 136/136 [01:45<00:00,  1.29it/s]\n"
     ]
    },
    {
     "name": "stdout",
     "output_type": "stream",
     "text": [
      "Epoch: 050, Train Acc: 0.6427, Train AUC: 0.7242, Train AUPR: 0.1973, Test Acc: 0.6087, Test Auc: 0.6915, Test AUPR: 0.1867,  Loss: 1.1445\n"
     ]
    },
    {
     "name": "stderr",
     "output_type": "stream",
     "text": [
      "100%|██████████| 136/136 [01:46<00:00,  1.28it/s]\n"
     ]
    },
    {
     "name": "stdout",
     "output_type": "stream",
     "text": [
      "Epoch: 051, Train Acc: 0.6442, Train AUC: 0.7313, Train AUPR: 0.1996, Test Acc: 0.6126, Test Auc: 0.6962, Test AUPR: 0.1869,  Loss: 1.1422\n"
     ]
    },
    {
     "name": "stderr",
     "output_type": "stream",
     "text": [
      "100%|██████████| 136/136 [01:46<00:00,  1.28it/s]\n"
     ]
    },
    {
     "name": "stdout",
     "output_type": "stream",
     "text": [
      "Epoch: 052, Train Acc: 0.6454, Train AUC: 0.7294, Train AUPR: 0.2029, Test Acc: 0.6126, Test Auc: 0.6965, Test AUPR: 0.1887,  Loss: 1.1345\n"
     ]
    },
    {
     "name": "stderr",
     "output_type": "stream",
     "text": [
      "100%|██████████| 136/136 [01:44<00:00,  1.30it/s]\n"
     ]
    },
    {
     "name": "stdout",
     "output_type": "stream",
     "text": [
      "Epoch: 053, Train Acc: 0.6405, Train AUC: 0.7343, Train AUPR: 0.2020, Test Acc: 0.6077, Test Auc: 0.6982, Test AUPR: 0.1879,  Loss: 1.1358\n"
     ]
    },
    {
     "name": "stderr",
     "output_type": "stream",
     "text": [
      "100%|██████████| 136/136 [01:46<00:00,  1.28it/s]\n"
     ]
    },
    {
     "name": "stdout",
     "output_type": "stream",
     "text": [
      "Epoch: 054, Train Acc: 0.6383, Train AUC: 0.7356, Train AUPR: 0.2026, Test Acc: 0.6087, Test Auc: 0.6955, Test AUPR: 0.1889,  Loss: 1.1408\n"
     ]
    },
    {
     "name": "stderr",
     "output_type": "stream",
     "text": [
      "100%|██████████| 136/136 [01:46<00:00,  1.28it/s]\n"
     ]
    },
    {
     "name": "stdout",
     "output_type": "stream",
     "text": [
      "Epoch: 055, Train Acc: 0.6407, Train AUC: 0.7338, Train AUPR: 0.2031, Test Acc: 0.6067, Test Auc: 0.6939, Test AUPR: 0.1894,  Loss: 1.1280\n"
     ]
    },
    {
     "name": "stderr",
     "output_type": "stream",
     "text": [
      "100%|██████████| 136/136 [01:46<00:00,  1.28it/s]\n"
     ]
    },
    {
     "name": "stdout",
     "output_type": "stream",
     "text": [
      "Epoch: 056, Train Acc: 0.6437, Train AUC: 0.7360, Train AUPR: 0.2085, Test Acc: 0.6096, Test Auc: 0.6983, Test AUPR: 0.1870,  Loss: 1.1264\n"
     ]
    },
    {
     "name": "stderr",
     "output_type": "stream",
     "text": [
      "100%|██████████| 136/136 [01:46<00:00,  1.28it/s]\n"
     ]
    },
    {
     "name": "stdout",
     "output_type": "stream",
     "text": [
      "Epoch: 057, Train Acc: 0.6469, Train AUC: 0.7402, Train AUPR: 0.2100, Test Acc: 0.6116, Test Auc: 0.7003, Test AUPR: 0.1929,  Loss: 1.1343\n"
     ]
    },
    {
     "name": "stderr",
     "output_type": "stream",
     "text": [
      "100%|██████████| 136/136 [01:46<00:00,  1.28it/s]\n"
     ]
    },
    {
     "name": "stdout",
     "output_type": "stream",
     "text": [
      "Epoch: 058, Train Acc: 0.6442, Train AUC: 0.7434, Train AUPR: 0.2079, Test Acc: 0.6077, Test Auc: 0.7016, Test AUPR: 0.1918,  Loss: 1.1238\n"
     ]
    },
    {
     "name": "stderr",
     "output_type": "stream",
     "text": [
      "100%|██████████| 136/136 [01:46<00:00,  1.28it/s]\n"
     ]
    },
    {
     "name": "stdout",
     "output_type": "stream",
     "text": [
      "Epoch: 059, Train Acc: 0.6361, Train AUC: 0.7404, Train AUPR: 0.2037, Test Acc: 0.6067, Test Auc: 0.6956, Test AUPR: 0.1831,  Loss: 1.1217\n"
     ]
    },
    {
     "name": "stderr",
     "output_type": "stream",
     "text": [
      "100%|██████████| 136/136 [00:45<00:00,  3.00it/s]\n"
     ]
    },
    {
     "name": "stdout",
     "output_type": "stream",
     "text": [
      "Epoch: 060, Train Acc: 0.6442, Train AUC: 0.7425, Train AUPR: 0.2072, Test Acc: 0.6116, Test Auc: 0.6962, Test AUPR: 0.1919,  Loss: 1.1378\n"
     ]
    },
    {
     "name": "stderr",
     "output_type": "stream",
     "text": [
      "100%|██████████| 136/136 [00:43<00:00,  3.12it/s]\n"
     ]
    },
    {
     "name": "stdout",
     "output_type": "stream",
     "text": [
      "Epoch: 061, Train Acc: 0.6462, Train AUC: 0.7462, Train AUPR: 0.2124, Test Acc: 0.6096, Test Auc: 0.7005, Test AUPR: 0.1938,  Loss: 1.1187\n"
     ]
    },
    {
     "name": "stderr",
     "output_type": "stream",
     "text": [
      "100%|██████████| 136/136 [00:43<00:00,  3.14it/s]\n"
     ]
    },
    {
     "name": "stdout",
     "output_type": "stream",
     "text": [
      "Epoch: 062, Train Acc: 0.6427, Train AUC: 0.7515, Train AUPR: 0.2159, Test Acc: 0.6096, Test Auc: 0.7025, Test AUPR: 0.1925,  Loss: 1.1154\n"
     ]
    },
    {
     "name": "stderr",
     "output_type": "stream",
     "text": [
      "100%|██████████| 136/136 [00:42<00:00,  3.20it/s]\n"
     ]
    },
    {
     "name": "stdout",
     "output_type": "stream",
     "text": [
      "Epoch: 063, Train Acc: 0.6444, Train AUC: 0.7480, Train AUPR: 0.2145, Test Acc: 0.6126, Test Auc: 0.7003, Test AUPR: 0.1951,  Loss: 1.1182\n"
     ]
    },
    {
     "name": "stderr",
     "output_type": "stream",
     "text": [
      "100%|██████████| 136/136 [00:43<00:00,  3.14it/s]\n"
     ]
    },
    {
     "name": "stdout",
     "output_type": "stream",
     "text": [
      "Epoch: 064, Train Acc: 0.6511, Train AUC: 0.7484, Train AUPR: 0.2235, Test Acc: 0.6146, Test Auc: 0.7009, Test AUPR: 0.1959,  Loss: 1.1189\n"
     ]
    },
    {
     "name": "stderr",
     "output_type": "stream",
     "text": [
      "100%|██████████| 136/136 [00:42<00:00,  3.17it/s]\n"
     ]
    },
    {
     "name": "stdout",
     "output_type": "stream",
     "text": [
      "Epoch: 065, Train Acc: 0.6508, Train AUC: 0.7574, Train AUPR: 0.2270, Test Acc: 0.6155, Test Auc: 0.7067, Test AUPR: 0.1955,  Loss: 1.1158\n"
     ]
    },
    {
     "name": "stderr",
     "output_type": "stream",
     "text": [
      "100%|██████████| 136/136 [00:43<00:00,  3.15it/s]\n"
     ]
    },
    {
     "name": "stdout",
     "output_type": "stream",
     "text": [
      "Epoch: 066, Train Acc: 0.6516, Train AUC: 0.7567, Train AUPR: 0.2260, Test Acc: 0.6165, Test Auc: 0.7048, Test AUPR: 0.1960,  Loss: 1.1147\n"
     ]
    },
    {
     "name": "stderr",
     "output_type": "stream",
     "text": [
      "100%|██████████| 136/136 [00:43<00:00,  3.11it/s]\n"
     ]
    },
    {
     "name": "stdout",
     "output_type": "stream",
     "text": [
      "Epoch: 067, Train Acc: 0.6511, Train AUC: 0.7583, Train AUPR: 0.2278, Test Acc: 0.6224, Test Auc: 0.7067, Test AUPR: 0.2040,  Loss: 1.1110\n"
     ]
    },
    {
     "name": "stderr",
     "output_type": "stream",
     "text": [
      "100%|██████████| 136/136 [00:41<00:00,  3.30it/s]\n"
     ]
    },
    {
     "name": "stdout",
     "output_type": "stream",
     "text": [
      "Epoch: 068, Train Acc: 0.6467, Train AUC: 0.7586, Train AUPR: 0.2261, Test Acc: 0.6106, Test Auc: 0.7067, Test AUPR: 0.1970,  Loss: 1.1082\n"
     ]
    },
    {
     "name": "stderr",
     "output_type": "stream",
     "text": [
      "100%|██████████| 136/136 [00:42<00:00,  3.17it/s]\n"
     ]
    },
    {
     "name": "stdout",
     "output_type": "stream",
     "text": [
      "Epoch: 069, Train Acc: 0.6508, Train AUC: 0.7647, Train AUPR: 0.2297, Test Acc: 0.6136, Test Auc: 0.7031, Test AUPR: 0.1944,  Loss: 1.1051\n"
     ]
    },
    {
     "name": "stderr",
     "output_type": "stream",
     "text": [
      "100%|██████████| 136/136 [00:43<00:00,  3.15it/s]\n"
     ]
    },
    {
     "name": "stdout",
     "output_type": "stream",
     "text": [
      "Epoch: 070, Train Acc: 0.6474, Train AUC: 0.7650, Train AUPR: 0.2327, Test Acc: 0.6146, Test Auc: 0.7064, Test AUPR: 0.1969,  Loss: 1.1089\n"
     ]
    },
    {
     "name": "stderr",
     "output_type": "stream",
     "text": [
      "100%|██████████| 136/136 [00:42<00:00,  3.17it/s]\n"
     ]
    },
    {
     "name": "stdout",
     "output_type": "stream",
     "text": [
      "Epoch: 071, Train Acc: 0.6489, Train AUC: 0.7700, Train AUPR: 0.2345, Test Acc: 0.6146, Test Auc: 0.7080, Test AUPR: 0.1977,  Loss: 1.1033\n"
     ]
    },
    {
     "name": "stderr",
     "output_type": "stream",
     "text": [
      "100%|██████████| 136/136 [00:42<00:00,  3.20it/s]\n"
     ]
    },
    {
     "name": "stdout",
     "output_type": "stream",
     "text": [
      "Epoch: 072, Train Acc: 0.6479, Train AUC: 0.7704, Train AUPR: 0.2293, Test Acc: 0.6126, Test Auc: 0.7070, Test AUPR: 0.1977,  Loss: 1.0963\n"
     ]
    },
    {
     "name": "stderr",
     "output_type": "stream",
     "text": [
      "100%|██████████| 136/136 [00:43<00:00,  3.11it/s]\n"
     ]
    },
    {
     "name": "stdout",
     "output_type": "stream",
     "text": [
      "Epoch: 073, Train Acc: 0.6476, Train AUC: 0.7708, Train AUPR: 0.2343, Test Acc: 0.6214, Test Auc: 0.7057, Test AUPR: 0.1915,  Loss: 1.0988\n"
     ]
    },
    {
     "name": "stderr",
     "output_type": "stream",
     "text": [
      "100%|██████████| 136/136 [00:43<00:00,  3.15it/s]\n"
     ]
    },
    {
     "name": "stdout",
     "output_type": "stream",
     "text": [
      "Epoch: 074, Train Acc: 0.6506, Train AUC: 0.7699, Train AUPR: 0.2313, Test Acc: 0.6146, Test Auc: 0.7086, Test AUPR: 0.2005,  Loss: 1.0962\n"
     ]
    },
    {
     "name": "stderr",
     "output_type": "stream",
     "text": [
      "100%|██████████| 136/136 [00:43<00:00,  3.11it/s]\n"
     ]
    },
    {
     "name": "stdout",
     "output_type": "stream",
     "text": [
      "Epoch: 075, Train Acc: 0.6486, Train AUC: 0.7727, Train AUPR: 0.2333, Test Acc: 0.6116, Test Auc: 0.7091, Test AUPR: 0.2011,  Loss: 1.0930\n"
     ]
    },
    {
     "name": "stderr",
     "output_type": "stream",
     "text": [
      "100%|██████████| 136/136 [00:44<00:00,  3.05it/s]\n"
     ]
    },
    {
     "name": "stdout",
     "output_type": "stream",
     "text": [
      "Epoch: 076, Train Acc: 0.6535, Train AUC: 0.7766, Train AUPR: 0.2439, Test Acc: 0.6175, Test Auc: 0.7104, Test AUPR: 0.1978,  Loss: 1.0948\n"
     ]
    },
    {
     "name": "stderr",
     "output_type": "stream",
     "text": [
      "100%|██████████| 136/136 [00:42<00:00,  3.20it/s]\n"
     ]
    },
    {
     "name": "stdout",
     "output_type": "stream",
     "text": [
      "Epoch: 077, Train Acc: 0.6535, Train AUC: 0.7819, Train AUPR: 0.2419, Test Acc: 0.6175, Test Auc: 0.7086, Test AUPR: 0.1938,  Loss: 1.0868\n"
     ]
    },
    {
     "name": "stderr",
     "output_type": "stream",
     "text": [
      "100%|██████████| 136/136 [00:44<00:00,  3.09it/s]\n"
     ]
    },
    {
     "name": "stdout",
     "output_type": "stream",
     "text": [
      "Epoch: 078, Train Acc: 0.6560, Train AUC: 0.7849, Train AUPR: 0.2445, Test Acc: 0.6244, Test Auc: 0.7078, Test AUPR: 0.1939,  Loss: 1.0864\n"
     ]
    },
    {
     "name": "stderr",
     "output_type": "stream",
     "text": [
      "100%|██████████| 136/136 [00:42<00:00,  3.19it/s]\n"
     ]
    },
    {
     "name": "stdout",
     "output_type": "stream",
     "text": [
      "Epoch: 079, Train Acc: 0.6513, Train AUC: 0.7807, Train AUPR: 0.2416, Test Acc: 0.6165, Test Auc: 0.7145, Test AUPR: 0.2013,  Loss: 1.0851\n"
     ]
    },
    {
     "name": "stderr",
     "output_type": "stream",
     "text": [
      "100%|██████████| 136/136 [00:42<00:00,  3.18it/s]\n"
     ]
    },
    {
     "name": "stdout",
     "output_type": "stream",
     "text": [
      "Epoch: 080, Train Acc: 0.6479, Train AUC: 0.7823, Train AUPR: 0.2331, Test Acc: 0.6165, Test Auc: 0.7049, Test AUPR: 0.1907,  Loss: 1.0885\n"
     ]
    },
    {
     "name": "stderr",
     "output_type": "stream",
     "text": [
      "100%|██████████| 136/136 [00:43<00:00,  3.12it/s]\n"
     ]
    },
    {
     "name": "stdout",
     "output_type": "stream",
     "text": [
      "Epoch: 081, Train Acc: 0.6609, Train AUC: 0.7872, Train AUPR: 0.2518, Test Acc: 0.6273, Test Auc: 0.7124, Test AUPR: 0.1991,  Loss: 1.0810\n"
     ]
    },
    {
     "name": "stderr",
     "output_type": "stream",
     "text": [
      "100%|██████████| 136/136 [00:41<00:00,  3.24it/s]\n"
     ]
    },
    {
     "name": "stdout",
     "output_type": "stream",
     "text": [
      "Epoch: 082, Train Acc: 0.6521, Train AUC: 0.7886, Train AUPR: 0.2539, Test Acc: 0.6195, Test Auc: 0.7147, Test AUPR: 0.2085,  Loss: 1.0801\n"
     ]
    },
    {
     "name": "stderr",
     "output_type": "stream",
     "text": [
      "100%|██████████| 136/136 [00:42<00:00,  3.17it/s]\n"
     ]
    },
    {
     "name": "stdout",
     "output_type": "stream",
     "text": [
      "Epoch: 083, Train Acc: 0.6604, Train AUC: 0.7872, Train AUPR: 0.2543, Test Acc: 0.6283, Test Auc: 0.7126, Test AUPR: 0.1980,  Loss: 1.0734\n"
     ]
    },
    {
     "name": "stderr",
     "output_type": "stream",
     "text": [
      "100%|██████████| 136/136 [00:43<00:00,  3.15it/s]\n"
     ]
    },
    {
     "name": "stdout",
     "output_type": "stream",
     "text": [
      "Epoch: 084, Train Acc: 0.6494, Train AUC: 0.7884, Train AUPR: 0.2491, Test Acc: 0.6175, Test Auc: 0.7099, Test AUPR: 0.1984,  Loss: 1.0660\n"
     ]
    },
    {
     "name": "stderr",
     "output_type": "stream",
     "text": [
      "100%|██████████| 136/136 [00:42<00:00,  3.18it/s]\n"
     ]
    },
    {
     "name": "stdout",
     "output_type": "stream",
     "text": [
      "Epoch: 085, Train Acc: 0.6617, Train AUC: 0.7900, Train AUPR: 0.2574, Test Acc: 0.6293, Test Auc: 0.7177, Test AUPR: 0.2018,  Loss: 1.0717\n"
     ]
    },
    {
     "name": "stderr",
     "output_type": "stream",
     "text": [
      "100%|██████████| 136/136 [00:42<00:00,  3.22it/s]\n"
     ]
    },
    {
     "name": "stdout",
     "output_type": "stream",
     "text": [
      "Epoch: 086, Train Acc: 0.6526, Train AUC: 0.7914, Train AUPR: 0.2478, Test Acc: 0.6165, Test Auc: 0.7049, Test AUPR: 0.2004,  Loss: 1.0798\n"
     ]
    },
    {
     "name": "stderr",
     "output_type": "stream",
     "text": [
      "100%|██████████| 136/136 [00:46<00:00,  2.94it/s]\n"
     ]
    },
    {
     "name": "stdout",
     "output_type": "stream",
     "text": [
      "Epoch: 087, Train Acc: 0.6548, Train AUC: 0.7948, Train AUPR: 0.2579, Test Acc: 0.6165, Test Auc: 0.7126, Test AUPR: 0.2025,  Loss: 1.0779\n"
     ]
    },
    {
     "name": "stderr",
     "output_type": "stream",
     "text": [
      "100%|██████████| 136/136 [00:44<00:00,  3.05it/s]\n"
     ]
    },
    {
     "name": "stdout",
     "output_type": "stream",
     "text": [
      "Epoch: 088, Train Acc: 0.6555, Train AUC: 0.8008, Train AUPR: 0.2620, Test Acc: 0.6195, Test Auc: 0.7153, Test AUPR: 0.2002,  Loss: 1.0686\n"
     ]
    },
    {
     "name": "stderr",
     "output_type": "stream",
     "text": [
      "100%|██████████| 136/136 [00:43<00:00,  3.12it/s]\n"
     ]
    },
    {
     "name": "stdout",
     "output_type": "stream",
     "text": [
      "Epoch: 089, Train Acc: 0.6597, Train AUC: 0.8028, Train AUPR: 0.2634, Test Acc: 0.6273, Test Auc: 0.7197, Test AUPR: 0.2050,  Loss: 1.0714\n"
     ]
    },
    {
     "name": "stderr",
     "output_type": "stream",
     "text": [
      "100%|██████████| 136/136 [00:42<00:00,  3.23it/s]\n"
     ]
    },
    {
     "name": "stdout",
     "output_type": "stream",
     "text": [
      "Epoch: 090, Train Acc: 0.6538, Train AUC: 0.7962, Train AUPR: 0.2576, Test Acc: 0.6214, Test Auc: 0.7123, Test AUPR: 0.1984,  Loss: 1.0587\n"
     ]
    },
    {
     "name": "stderr",
     "output_type": "stream",
     "text": [
      "100%|██████████| 136/136 [00:41<00:00,  3.26it/s]\n"
     ]
    },
    {
     "name": "stdout",
     "output_type": "stream",
     "text": [
      "Epoch: 091, Train Acc: 0.6528, Train AUC: 0.7990, Train AUPR: 0.2668, Test Acc: 0.6214, Test Auc: 0.7214, Test AUPR: 0.2048,  Loss: 1.0605\n"
     ]
    },
    {
     "name": "stderr",
     "output_type": "stream",
     "text": [
      "100%|██████████| 136/136 [00:42<00:00,  3.21it/s]\n"
     ]
    },
    {
     "name": "stdout",
     "output_type": "stream",
     "text": [
      "Epoch: 092, Train Acc: 0.6575, Train AUC: 0.8060, Train AUPR: 0.2665, Test Acc: 0.6234, Test Auc: 0.7173, Test AUPR: 0.2065,  Loss: 1.0627\n"
     ]
    },
    {
     "name": "stderr",
     "output_type": "stream",
     "text": [
      "100%|██████████| 136/136 [00:41<00:00,  3.26it/s]\n"
     ]
    },
    {
     "name": "stdout",
     "output_type": "stream",
     "text": [
      "Epoch: 093, Train Acc: 0.6649, Train AUC: 0.8054, Train AUPR: 0.2739, Test Acc: 0.6332, Test Auc: 0.7197, Test AUPR: 0.2065,  Loss: 1.0590\n"
     ]
    },
    {
     "name": "stderr",
     "output_type": "stream",
     "text": [
      "100%|██████████| 136/136 [00:42<00:00,  3.22it/s]\n"
     ]
    },
    {
     "name": "stdout",
     "output_type": "stream",
     "text": [
      "Epoch: 094, Train Acc: 0.6619, Train AUC: 0.8088, Train AUPR: 0.2695, Test Acc: 0.6273, Test Auc: 0.7224, Test AUPR: 0.2031,  Loss: 1.0506\n"
     ]
    },
    {
     "name": "stderr",
     "output_type": "stream",
     "text": [
      "100%|██████████| 136/136 [00:42<00:00,  3.20it/s]\n"
     ]
    },
    {
     "name": "stdout",
     "output_type": "stream",
     "text": [
      "Epoch: 095, Train Acc: 0.6585, Train AUC: 0.8044, Train AUPR: 0.2656, Test Acc: 0.6273, Test Auc: 0.7177, Test AUPR: 0.2056,  Loss: 1.0531\n"
     ]
    },
    {
     "name": "stderr",
     "output_type": "stream",
     "text": [
      "100%|██████████| 136/136 [00:41<00:00,  3.26it/s]\n"
     ]
    },
    {
     "name": "stdout",
     "output_type": "stream",
     "text": [
      "Epoch: 096, Train Acc: 0.6604, Train AUC: 0.8095, Train AUPR: 0.2705, Test Acc: 0.6303, Test Auc: 0.7218, Test AUPR: 0.2154,  Loss: 1.0567\n"
     ]
    },
    {
     "name": "stderr",
     "output_type": "stream",
     "text": [
      "100%|██████████| 136/136 [00:41<00:00,  3.27it/s]\n"
     ]
    },
    {
     "name": "stdout",
     "output_type": "stream",
     "text": [
      "Epoch: 097, Train Acc: 0.6560, Train AUC: 0.8112, Train AUPR: 0.2752, Test Acc: 0.6244, Test Auc: 0.7206, Test AUPR: 0.2149,  Loss: 1.0529\n"
     ]
    },
    {
     "name": "stderr",
     "output_type": "stream",
     "text": [
      "100%|██████████| 136/136 [00:42<00:00,  3.19it/s]\n"
     ]
    },
    {
     "name": "stdout",
     "output_type": "stream",
     "text": [
      "Epoch: 098, Train Acc: 0.6646, Train AUC: 0.8047, Train AUPR: 0.2780, Test Acc: 0.6352, Test Auc: 0.7177, Test AUPR: 0.2215,  Loss: 1.0426\n"
     ]
    },
    {
     "name": "stderr",
     "output_type": "stream",
     "text": [
      "100%|██████████| 136/136 [00:41<00:00,  3.30it/s]\n"
     ]
    },
    {
     "name": "stdout",
     "output_type": "stream",
     "text": [
      "Epoch: 099, Train Acc: 0.6555, Train AUC: 0.8087, Train AUPR: 0.2775, Test Acc: 0.6205, Test Auc: 0.7215, Test AUPR: 0.2198,  Loss: 1.0541\n"
     ]
    },
    {
     "name": "stderr",
     "output_type": "stream",
     "text": [
      "100%|██████████| 136/136 [00:41<00:00,  3.26it/s]\n"
     ]
    },
    {
     "name": "stdout",
     "output_type": "stream",
     "text": [
      "Epoch: 100, Train Acc: 0.6639, Train AUC: 0.8159, Train AUPR: 0.2829, Test Acc: 0.6244, Test Auc: 0.7219, Test AUPR: 0.2091,  Loss: 1.0527\n"
     ]
    },
    {
     "name": "stderr",
     "output_type": "stream",
     "text": [
      "100%|██████████| 136/136 [00:42<00:00,  3.21it/s]\n"
     ]
    },
    {
     "name": "stdout",
     "output_type": "stream",
     "text": [
      "Epoch: 101, Train Acc: 0.6602, Train AUC: 0.8129, Train AUPR: 0.2877, Test Acc: 0.6323, Test Auc: 0.7223, Test AUPR: 0.2208,  Loss: 1.0442\n"
     ]
    },
    {
     "name": "stderr",
     "output_type": "stream",
     "text": [
      "100%|██████████| 136/136 [00:41<00:00,  3.31it/s]\n"
     ]
    },
    {
     "name": "stdout",
     "output_type": "stream",
     "text": [
      "Epoch: 102, Train Acc: 0.6700, Train AUC: 0.8186, Train AUPR: 0.2866, Test Acc: 0.6352, Test Auc: 0.7224, Test AUPR: 0.2164,  Loss: 1.0454\n"
     ]
    },
    {
     "name": "stderr",
     "output_type": "stream",
     "text": [
      "100%|██████████| 136/136 [00:42<00:00,  3.23it/s]\n"
     ]
    },
    {
     "name": "stdout",
     "output_type": "stream",
     "text": [
      "Epoch: 103, Train Acc: 0.6612, Train AUC: 0.8172, Train AUPR: 0.2887, Test Acc: 0.6224, Test Auc: 0.7232, Test AUPR: 0.2241,  Loss: 1.0435\n"
     ]
    },
    {
     "name": "stderr",
     "output_type": "stream",
     "text": [
      "100%|██████████| 136/136 [00:43<00:00,  3.15it/s]\n"
     ]
    },
    {
     "name": "stdout",
     "output_type": "stream",
     "text": [
      "Epoch: 104, Train Acc: 0.6737, Train AUC: 0.8188, Train AUPR: 0.2947, Test Acc: 0.6352, Test Auc: 0.7229, Test AUPR: 0.2424,  Loss: 1.0283\n"
     ]
    },
    {
     "name": "stderr",
     "output_type": "stream",
     "text": [
      "100%|██████████| 136/136 [00:41<00:00,  3.24it/s]\n"
     ]
    },
    {
     "name": "stdout",
     "output_type": "stream",
     "text": [
      "Epoch: 105, Train Acc: 0.6607, Train AUC: 0.8106, Train AUPR: 0.2903, Test Acc: 0.6234, Test Auc: 0.7227, Test AUPR: 0.2248,  Loss: 1.0390\n"
     ]
    },
    {
     "name": "stderr",
     "output_type": "stream",
     "text": [
      "100%|██████████| 136/136 [00:42<00:00,  3.20it/s]\n"
     ]
    },
    {
     "name": "stdout",
     "output_type": "stream",
     "text": [
      "Epoch: 106, Train Acc: 0.6631, Train AUC: 0.8163, Train AUPR: 0.2906, Test Acc: 0.6273, Test Auc: 0.7264, Test AUPR: 0.2321,  Loss: 1.0333\n"
     ]
    },
    {
     "name": "stderr",
     "output_type": "stream",
     "text": [
      "100%|██████████| 136/136 [00:42<00:00,  3.20it/s]\n"
     ]
    },
    {
     "name": "stdout",
     "output_type": "stream",
     "text": [
      "Epoch: 107, Train Acc: 0.6587, Train AUC: 0.8149, Train AUPR: 0.2875, Test Acc: 0.6254, Test Auc: 0.7296, Test AUPR: 0.2316,  Loss: 1.0333\n"
     ]
    },
    {
     "name": "stderr",
     "output_type": "stream",
     "text": [
      "100%|██████████| 136/136 [00:45<00:00,  2.96it/s]\n"
     ]
    },
    {
     "name": "stdout",
     "output_type": "stream",
     "text": [
      "Epoch: 108, Train Acc: 0.6772, Train AUC: 0.8261, Train AUPR: 0.3025, Test Acc: 0.6382, Test Auc: 0.7222, Test AUPR: 0.2230,  Loss: 1.0371\n"
     ]
    },
    {
     "name": "stderr",
     "output_type": "stream",
     "text": [
      "100%|██████████| 136/136 [00:43<00:00,  3.12it/s]\n"
     ]
    },
    {
     "name": "stdout",
     "output_type": "stream",
     "text": [
      "Epoch: 109, Train Acc: 0.6636, Train AUC: 0.8215, Train AUPR: 0.3023, Test Acc: 0.6323, Test Auc: 0.7233, Test AUPR: 0.2248,  Loss: 1.0355\n"
     ]
    },
    {
     "name": "stderr",
     "output_type": "stream",
     "text": [
      "100%|██████████| 136/136 [00:41<00:00,  3.24it/s]\n"
     ]
    },
    {
     "name": "stdout",
     "output_type": "stream",
     "text": [
      "Epoch: 110, Train Acc: 0.6698, Train AUC: 0.8273, Train AUPR: 0.3033, Test Acc: 0.6342, Test Auc: 0.7251, Test AUPR: 0.2346,  Loss: 1.0338\n"
     ]
    },
    {
     "name": "stderr",
     "output_type": "stream",
     "text": [
      "100%|██████████| 136/136 [00:41<00:00,  3.25it/s]\n"
     ]
    },
    {
     "name": "stdout",
     "output_type": "stream",
     "text": [
      "Epoch: 111, Train Acc: 0.6710, Train AUC: 0.8256, Train AUPR: 0.3054, Test Acc: 0.6303, Test Auc: 0.7239, Test AUPR: 0.2246,  Loss: 1.0233\n"
     ]
    },
    {
     "name": "stderr",
     "output_type": "stream",
     "text": [
      "100%|██████████| 136/136 [00:42<00:00,  3.17it/s]\n"
     ]
    },
    {
     "name": "stdout",
     "output_type": "stream",
     "text": [
      "Epoch: 112, Train Acc: 0.6671, Train AUC: 0.8245, Train AUPR: 0.3070, Test Acc: 0.6283, Test Auc: 0.7231, Test AUPR: 0.2218,  Loss: 1.0301\n"
     ]
    },
    {
     "name": "stderr",
     "output_type": "stream",
     "text": [
      "100%|██████████| 136/136 [00:41<00:00,  3.24it/s]\n"
     ]
    },
    {
     "name": "stdout",
     "output_type": "stream",
     "text": [
      "Epoch: 113, Train Acc: 0.6752, Train AUC: 0.8319, Train AUPR: 0.3165, Test Acc: 0.6391, Test Auc: 0.7256, Test AUPR: 0.2226,  Loss: 1.0239\n"
     ]
    },
    {
     "name": "stderr",
     "output_type": "stream",
     "text": [
      "100%|██████████| 136/136 [00:42<00:00,  3.19it/s]\n"
     ]
    },
    {
     "name": "stdout",
     "output_type": "stream",
     "text": [
      "Epoch: 114, Train Acc: 0.6735, Train AUC: 0.8315, Train AUPR: 0.3158, Test Acc: 0.6401, Test Auc: 0.7236, Test AUPR: 0.2217,  Loss: 1.0200\n"
     ]
    },
    {
     "name": "stderr",
     "output_type": "stream",
     "text": [
      "100%|██████████| 136/136 [00:43<00:00,  3.13it/s]\n"
     ]
    },
    {
     "name": "stdout",
     "output_type": "stream",
     "text": [
      "Epoch: 115, Train Acc: 0.6754, Train AUC: 0.8339, Train AUPR: 0.3188, Test Acc: 0.6332, Test Auc: 0.7169, Test AUPR: 0.2246,  Loss: 1.0283\n"
     ]
    },
    {
     "name": "stderr",
     "output_type": "stream",
     "text": [
      "100%|██████████| 136/136 [00:43<00:00,  3.15it/s]\n"
     ]
    },
    {
     "name": "stdout",
     "output_type": "stream",
     "text": [
      "Epoch: 116, Train Acc: 0.6737, Train AUC: 0.8336, Train AUPR: 0.3211, Test Acc: 0.6332, Test Auc: 0.7280, Test AUPR: 0.2367,  Loss: 1.0124\n"
     ]
    },
    {
     "name": "stderr",
     "output_type": "stream",
     "text": [
      "100%|██████████| 136/136 [00:44<00:00,  3.02it/s]\n"
     ]
    },
    {
     "name": "stdout",
     "output_type": "stream",
     "text": [
      "Epoch: 117, Train Acc: 0.6752, Train AUC: 0.8332, Train AUPR: 0.3208, Test Acc: 0.6352, Test Auc: 0.7309, Test AUPR: 0.2247,  Loss: 1.0094\n"
     ]
    },
    {
     "name": "stderr",
     "output_type": "stream",
     "text": [
      "100%|██████████| 136/136 [00:44<00:00,  3.07it/s]\n"
     ]
    },
    {
     "name": "stdout",
     "output_type": "stream",
     "text": [
      "Epoch: 118, Train Acc: 0.6651, Train AUC: 0.8245, Train AUPR: 0.3171, Test Acc: 0.6352, Test Auc: 0.7270, Test AUPR: 0.2344,  Loss: 1.0094\n"
     ]
    },
    {
     "name": "stderr",
     "output_type": "stream",
     "text": [
      "100%|██████████| 136/136 [00:43<00:00,  3.15it/s]\n"
     ]
    },
    {
     "name": "stdout",
     "output_type": "stream",
     "text": [
      "Epoch: 119, Train Acc: 0.6767, Train AUC: 0.8345, Train AUPR: 0.3257, Test Acc: 0.6382, Test Auc: 0.7307, Test AUPR: 0.2279,  Loss: 1.0173\n"
     ]
    },
    {
     "name": "stderr",
     "output_type": "stream",
     "text": [
      "100%|██████████| 136/136 [00:43<00:00,  3.10it/s]\n"
     ]
    },
    {
     "name": "stdout",
     "output_type": "stream",
     "text": [
      "Epoch: 120, Train Acc: 0.6816, Train AUC: 0.8367, Train AUPR: 0.3326, Test Acc: 0.6441, Test Auc: 0.7287, Test AUPR: 0.2215,  Loss: 1.0078\n"
     ]
    },
    {
     "name": "stderr",
     "output_type": "stream",
     "text": [
      "100%|██████████| 136/136 [00:42<00:00,  3.17it/s]\n"
     ]
    },
    {
     "name": "stdout",
     "output_type": "stream",
     "text": [
      "Epoch: 121, Train Acc: 0.6796, Train AUC: 0.8339, Train AUPR: 0.3268, Test Acc: 0.6411, Test Auc: 0.7316, Test AUPR: 0.2251,  Loss: 1.0095\n"
     ]
    },
    {
     "name": "stderr",
     "output_type": "stream",
     "text": [
      "100%|██████████| 136/136 [00:42<00:00,  3.19it/s]\n"
     ]
    },
    {
     "name": "stdout",
     "output_type": "stream",
     "text": [
      "Epoch: 122, Train Acc: 0.6772, Train AUC: 0.8356, Train AUPR: 0.3353, Test Acc: 0.6332, Test Auc: 0.7276, Test AUPR: 0.2380,  Loss: 1.0001\n"
     ]
    },
    {
     "name": "stderr",
     "output_type": "stream",
     "text": [
      "100%|██████████| 136/136 [00:42<00:00,  3.17it/s]\n"
     ]
    },
    {
     "name": "stdout",
     "output_type": "stream",
     "text": [
      "Epoch: 123, Train Acc: 0.6663, Train AUC: 0.8312, Train AUPR: 0.3312, Test Acc: 0.6264, Test Auc: 0.7284, Test AUPR: 0.2434,  Loss: 1.0208\n"
     ]
    },
    {
     "name": "stderr",
     "output_type": "stream",
     "text": [
      "100%|██████████| 136/136 [00:42<00:00,  3.20it/s]\n"
     ]
    },
    {
     "name": "stdout",
     "output_type": "stream",
     "text": [
      "Epoch: 124, Train Acc: 0.6794, Train AUC: 0.8365, Train AUPR: 0.3358, Test Acc: 0.6401, Test Auc: 0.7295, Test AUPR: 0.2422,  Loss: 0.9985\n"
     ]
    },
    {
     "name": "stderr",
     "output_type": "stream",
     "text": [
      "100%|██████████| 136/136 [00:42<00:00,  3.18it/s]\n"
     ]
    },
    {
     "name": "stdout",
     "output_type": "stream",
     "text": [
      "Epoch: 125, Train Acc: 0.6772, Train AUC: 0.8412, Train AUPR: 0.3381, Test Acc: 0.6431, Test Auc: 0.7277, Test AUPR: 0.2385,  Loss: 0.9925\n"
     ]
    },
    {
     "name": "stderr",
     "output_type": "stream",
     "text": [
      "100%|██████████| 136/136 [00:43<00:00,  3.11it/s]\n"
     ]
    },
    {
     "name": "stdout",
     "output_type": "stream",
     "text": [
      "Epoch: 126, Train Acc: 0.6796, Train AUC: 0.8430, Train AUPR: 0.3443, Test Acc: 0.6382, Test Auc: 0.7279, Test AUPR: 0.2355,  Loss: 0.9916\n"
     ]
    },
    {
     "name": "stderr",
     "output_type": "stream",
     "text": [
      "100%|██████████| 136/136 [00:42<00:00,  3.19it/s]\n"
     ]
    },
    {
     "name": "stdout",
     "output_type": "stream",
     "text": [
      "Epoch: 127, Train Acc: 0.6821, Train AUC: 0.8415, Train AUPR: 0.3478, Test Acc: 0.6323, Test Auc: 0.7283, Test AUPR: 0.2415,  Loss: 0.9952\n"
     ]
    },
    {
     "name": "stderr",
     "output_type": "stream",
     "text": [
      "100%|██████████| 136/136 [00:42<00:00,  3.21it/s]\n"
     ]
    },
    {
     "name": "stdout",
     "output_type": "stream",
     "text": [
      "Epoch: 128, Train Acc: 0.6777, Train AUC: 0.8382, Train AUPR: 0.3457, Test Acc: 0.6332, Test Auc: 0.7290, Test AUPR: 0.2456,  Loss: 0.9907\n"
     ]
    },
    {
     "name": "stderr",
     "output_type": "stream",
     "text": [
      "100%|██████████| 136/136 [00:43<00:00,  3.11it/s]\n"
     ]
    },
    {
     "name": "stdout",
     "output_type": "stream",
     "text": [
      "Epoch: 129, Train Acc: 0.6809, Train AUC: 0.8428, Train AUPR: 0.3511, Test Acc: 0.6362, Test Auc: 0.7240, Test AUPR: 0.2358,  Loss: 0.9881\n"
     ]
    },
    {
     "name": "stderr",
     "output_type": "stream",
     "text": [
      "100%|██████████| 136/136 [00:42<00:00,  3.21it/s]\n"
     ]
    },
    {
     "name": "stdout",
     "output_type": "stream",
     "text": [
      "Epoch: 130, Train Acc: 0.6853, Train AUC: 0.8466, Train AUPR: 0.3622, Test Acc: 0.6441, Test Auc: 0.7299, Test AUPR: 0.2375,  Loss: 0.9893\n"
     ]
    },
    {
     "name": "stderr",
     "output_type": "stream",
     "text": [
      "100%|██████████| 136/136 [00:43<00:00,  3.12it/s]\n"
     ]
    },
    {
     "name": "stdout",
     "output_type": "stream",
     "text": [
      "Epoch: 131, Train Acc: 0.6873, Train AUC: 0.8452, Train AUPR: 0.3550, Test Acc: 0.6391, Test Auc: 0.7263, Test AUPR: 0.2268,  Loss: 0.9953\n"
     ]
    },
    {
     "name": "stderr",
     "output_type": "stream",
     "text": [
      "100%|██████████| 136/136 [00:44<00:00,  3.08it/s]\n"
     ]
    },
    {
     "name": "stdout",
     "output_type": "stream",
     "text": [
      "Epoch: 132, Train Acc: 0.6836, Train AUC: 0.8471, Train AUPR: 0.3610, Test Acc: 0.6401, Test Auc: 0.7293, Test AUPR: 0.2256,  Loss: 0.9864\n"
     ]
    },
    {
     "name": "stderr",
     "output_type": "stream",
     "text": [
      "100%|██████████| 136/136 [00:42<00:00,  3.23it/s]\n"
     ]
    },
    {
     "name": "stdout",
     "output_type": "stream",
     "text": [
      "Epoch: 133, Train Acc: 0.6823, Train AUC: 0.8463, Train AUPR: 0.3634, Test Acc: 0.6362, Test Auc: 0.7310, Test AUPR: 0.2283,  Loss: 0.9830\n"
     ]
    },
    {
     "name": "stderr",
     "output_type": "stream",
     "text": [
      "100%|██████████| 136/136 [00:42<00:00,  3.22it/s]\n"
     ]
    },
    {
     "name": "stdout",
     "output_type": "stream",
     "text": [
      "Epoch: 134, Train Acc: 0.6843, Train AUC: 0.8465, Train AUPR: 0.3655, Test Acc: 0.6382, Test Auc: 0.7319, Test AUPR: 0.2268,  Loss: 0.9856\n"
     ]
    },
    {
     "name": "stderr",
     "output_type": "stream",
     "text": [
      "100%|██████████| 136/136 [00:40<00:00,  3.39it/s]\n"
     ]
    },
    {
     "name": "stdout",
     "output_type": "stream",
     "text": [
      "Epoch: 135, Train Acc: 0.6892, Train AUC: 0.8477, Train AUPR: 0.3610, Test Acc: 0.6313, Test Auc: 0.7329, Test AUPR: 0.2338,  Loss: 0.9872\n"
     ]
    },
    {
     "name": "stderr",
     "output_type": "stream",
     "text": [
      "100%|██████████| 136/136 [00:40<00:00,  3.40it/s]\n"
     ]
    },
    {
     "name": "stdout",
     "output_type": "stream",
     "text": [
      "Epoch: 136, Train Acc: 0.6710, Train AUC: 0.8487, Train AUPR: 0.3579, Test Acc: 0.6313, Test Auc: 0.7293, Test AUPR: 0.2214,  Loss: 0.9835\n"
     ]
    },
    {
     "name": "stderr",
     "output_type": "stream",
     "text": [
      "100%|██████████| 136/136 [00:40<00:00,  3.36it/s]\n"
     ]
    },
    {
     "name": "stdout",
     "output_type": "stream",
     "text": [
      "Epoch: 137, Train Acc: 0.6818, Train AUC: 0.8537, Train AUPR: 0.3716, Test Acc: 0.6332, Test Auc: 0.7302, Test AUPR: 0.2265,  Loss: 0.9862\n"
     ]
    },
    {
     "name": "stderr",
     "output_type": "stream",
     "text": [
      "100%|██████████| 136/136 [00:39<00:00,  3.43it/s]\n"
     ]
    },
    {
     "name": "stdout",
     "output_type": "stream",
     "text": [
      "Epoch: 138, Train Acc: 0.6838, Train AUC: 0.8503, Train AUPR: 0.3721, Test Acc: 0.6303, Test Auc: 0.7352, Test AUPR: 0.2388,  Loss: 0.9853\n"
     ]
    },
    {
     "name": "stderr",
     "output_type": "stream",
     "text": [
      "100%|██████████| 136/136 [00:36<00:00,  3.68it/s]\n"
     ]
    },
    {
     "name": "stdout",
     "output_type": "stream",
     "text": [
      "Epoch: 139, Train Acc: 0.6853, Train AUC: 0.8507, Train AUPR: 0.3717, Test Acc: 0.6401, Test Auc: 0.7285, Test AUPR: 0.2281,  Loss: 0.9899\n"
     ]
    },
    {
     "name": "stderr",
     "output_type": "stream",
     "text": [
      "100%|██████████| 136/136 [00:35<00:00,  3.80it/s]\n"
     ]
    },
    {
     "name": "stdout",
     "output_type": "stream",
     "text": [
      "Epoch: 140, Train Acc: 0.6973, Train AUC: 0.8567, Train AUPR: 0.3770, Test Acc: 0.6401, Test Auc: 0.7237, Test AUPR: 0.2322,  Loss: 0.9751\n"
     ]
    },
    {
     "name": "stderr",
     "output_type": "stream",
     "text": [
      "100%|██████████| 136/136 [00:36<00:00,  3.71it/s]\n"
     ]
    },
    {
     "name": "stdout",
     "output_type": "stream",
     "text": [
      "Epoch: 141, Train Acc: 0.6996, Train AUC: 0.8571, Train AUPR: 0.3872, Test Acc: 0.6431, Test Auc: 0.7241, Test AUPR: 0.2328,  Loss: 0.9767\n"
     ]
    },
    {
     "name": "stderr",
     "output_type": "stream",
     "text": [
      "100%|██████████| 136/136 [00:36<00:00,  3.70it/s]\n"
     ]
    },
    {
     "name": "stdout",
     "output_type": "stream",
     "text": [
      "Epoch: 142, Train Acc: 0.6897, Train AUC: 0.8579, Train AUPR: 0.3824, Test Acc: 0.6391, Test Auc: 0.7246, Test AUPR: 0.2247,  Loss: 0.9824\n"
     ]
    },
    {
     "name": "stderr",
     "output_type": "stream",
     "text": [
      "100%|██████████| 136/136 [00:35<00:00,  3.87it/s]\n"
     ]
    },
    {
     "name": "stdout",
     "output_type": "stream",
     "text": [
      "Epoch: 143, Train Acc: 0.6929, Train AUC: 0.8565, Train AUPR: 0.3735, Test Acc: 0.6342, Test Auc: 0.7220, Test AUPR: 0.2271,  Loss: 0.9771\n"
     ]
    },
    {
     "name": "stderr",
     "output_type": "stream",
     "text": [
      "100%|██████████| 136/136 [00:35<00:00,  3.83it/s]\n"
     ]
    },
    {
     "name": "stdout",
     "output_type": "stream",
     "text": [
      "Epoch: 144, Train Acc: 0.6993, Train AUC: 0.8605, Train AUPR: 0.3882, Test Acc: 0.6372, Test Auc: 0.7262, Test AUPR: 0.2232,  Loss: 0.9668\n"
     ]
    },
    {
     "name": "stderr",
     "output_type": "stream",
     "text": [
      "100%|██████████| 136/136 [00:35<00:00,  3.85it/s]\n"
     ]
    },
    {
     "name": "stdout",
     "output_type": "stream",
     "text": [
      "Epoch: 145, Train Acc: 0.6924, Train AUC: 0.8562, Train AUPR: 0.3871, Test Acc: 0.6342, Test Auc: 0.7247, Test AUPR: 0.2300,  Loss: 0.9646\n"
     ]
    },
    {
     "name": "stderr",
     "output_type": "stream",
     "text": [
      "100%|██████████| 136/136 [00:36<00:00,  3.74it/s]\n"
     ]
    },
    {
     "name": "stdout",
     "output_type": "stream",
     "text": [
      "Epoch: 146, Train Acc: 0.6892, Train AUC: 0.8610, Train AUPR: 0.3912, Test Acc: 0.6264, Test Auc: 0.7255, Test AUPR: 0.2304,  Loss: 0.9622\n"
     ]
    },
    {
     "name": "stderr",
     "output_type": "stream",
     "text": [
      "100%|██████████| 136/136 [00:35<00:00,  3.85it/s]\n"
     ]
    },
    {
     "name": "stdout",
     "output_type": "stream",
     "text": [
      "Epoch: 147, Train Acc: 0.6885, Train AUC: 0.8561, Train AUPR: 0.3882, Test Acc: 0.6391, Test Auc: 0.7260, Test AUPR: 0.2283,  Loss: 0.9664\n"
     ]
    },
    {
     "name": "stderr",
     "output_type": "stream",
     "text": [
      "100%|██████████| 136/136 [00:35<00:00,  3.86it/s]\n"
     ]
    },
    {
     "name": "stdout",
     "output_type": "stream",
     "text": [
      "Epoch: 148, Train Acc: 0.6816, Train AUC: 0.8592, Train AUPR: 0.3901, Test Acc: 0.6303, Test Auc: 0.7249, Test AUPR: 0.2406,  Loss: 0.9630\n"
     ]
    },
    {
     "name": "stderr",
     "output_type": "stream",
     "text": [
      "100%|██████████| 136/136 [00:35<00:00,  3.85it/s]\n"
     ]
    },
    {
     "name": "stdout",
     "output_type": "stream",
     "text": [
      "Epoch: 149, Train Acc: 0.6949, Train AUC: 0.8596, Train AUPR: 0.3901, Test Acc: 0.6421, Test Auc: 0.7270, Test AUPR: 0.2376,  Loss: 0.9603\n"
     ]
    },
    {
     "name": "stderr",
     "output_type": "stream",
     "text": [
      "100%|██████████| 136/136 [00:36<00:00,  3.71it/s]\n"
     ]
    },
    {
     "name": "stdout",
     "output_type": "stream",
     "text": [
      "Epoch: 150, Train Acc: 0.6902, Train AUC: 0.8629, Train AUPR: 0.3946, Test Acc: 0.6391, Test Auc: 0.7211, Test AUPR: 0.2273,  Loss: 0.9615\n"
     ]
    },
    {
     "name": "stderr",
     "output_type": "stream",
     "text": [
      "100%|██████████| 136/136 [00:36<00:00,  3.73it/s]\n"
     ]
    },
    {
     "name": "stdout",
     "output_type": "stream",
     "text": [
      "Epoch: 151, Train Acc: 0.6961, Train AUC: 0.8623, Train AUPR: 0.4006, Test Acc: 0.6372, Test Auc: 0.7205, Test AUPR: 0.2253,  Loss: 0.9538\n"
     ]
    },
    {
     "name": "stderr",
     "output_type": "stream",
     "text": [
      "100%|██████████| 136/136 [00:35<00:00,  3.87it/s]\n"
     ]
    },
    {
     "name": "stdout",
     "output_type": "stream",
     "text": [
      "Epoch: 152, Train Acc: 0.6922, Train AUC: 0.8600, Train AUPR: 0.4063, Test Acc: 0.6362, Test Auc: 0.7268, Test AUPR: 0.2279,  Loss: 0.9597\n"
     ]
    },
    {
     "name": "stderr",
     "output_type": "stream",
     "text": [
      "100%|██████████| 136/136 [00:35<00:00,  3.86it/s]\n"
     ]
    },
    {
     "name": "stdout",
     "output_type": "stream",
     "text": [
      "Epoch: 153, Train Acc: 0.6973, Train AUC: 0.8612, Train AUPR: 0.4125, Test Acc: 0.6382, Test Auc: 0.7280, Test AUPR: 0.2337,  Loss: 0.9496\n"
     ]
    },
    {
     "name": "stderr",
     "output_type": "stream",
     "text": [
      "100%|██████████| 136/136 [00:36<00:00,  3.72it/s]\n"
     ]
    },
    {
     "name": "stdout",
     "output_type": "stream",
     "text": [
      "Epoch: 154, Train Acc: 0.6969, Train AUC: 0.8621, Train AUPR: 0.4053, Test Acc: 0.6401, Test Auc: 0.7279, Test AUPR: 0.2401,  Loss: 0.9676\n"
     ]
    },
    {
     "name": "stderr",
     "output_type": "stream",
     "text": [
      "100%|██████████| 136/136 [00:36<00:00,  3.71it/s]\n"
     ]
    },
    {
     "name": "stdout",
     "output_type": "stream",
     "text": [
      "Epoch: 155, Train Acc: 0.6845, Train AUC: 0.8591, Train AUPR: 0.3944, Test Acc: 0.6362, Test Auc: 0.7277, Test AUPR: 0.2328,  Loss: 0.9723\n"
     ]
    },
    {
     "name": "stderr",
     "output_type": "stream",
     "text": [
      "100%|██████████| 136/136 [00:36<00:00,  3.71it/s]\n"
     ]
    },
    {
     "name": "stdout",
     "output_type": "stream",
     "text": [
      "Epoch: 156, Train Acc: 0.7025, Train AUC: 0.8662, Train AUPR: 0.4190, Test Acc: 0.6352, Test Auc: 0.7232, Test AUPR: 0.2193,  Loss: 0.9549\n"
     ]
    },
    {
     "name": "stderr",
     "output_type": "stream",
     "text": [
      "100%|██████████| 136/136 [00:35<00:00,  3.86it/s]\n"
     ]
    },
    {
     "name": "stdout",
     "output_type": "stream",
     "text": [
      "Epoch: 157, Train Acc: 0.7042, Train AUC: 0.8661, Train AUPR: 0.4116, Test Acc: 0.6332, Test Auc: 0.7196, Test AUPR: 0.2360,  Loss: 0.9484\n"
     ]
    },
    {
     "name": "stderr",
     "output_type": "stream",
     "text": [
      "100%|██████████| 136/136 [00:35<00:00,  3.85it/s]\n"
     ]
    },
    {
     "name": "stdout",
     "output_type": "stream",
     "text": [
      "Epoch: 158, Train Acc: 0.6976, Train AUC: 0.8656, Train AUPR: 0.4137, Test Acc: 0.6391, Test Auc: 0.7193, Test AUPR: 0.2361,  Loss: 0.9552\n"
     ]
    },
    {
     "name": "stderr",
     "output_type": "stream",
     "text": [
      "100%|██████████| 136/136 [00:36<00:00,  3.71it/s]\n"
     ]
    },
    {
     "name": "stdout",
     "output_type": "stream",
     "text": [
      "Epoch: 159, Train Acc: 0.7000, Train AUC: 0.8702, Train AUPR: 0.4114, Test Acc: 0.6372, Test Auc: 0.7203, Test AUPR: 0.2213,  Loss: 0.9538\n"
     ]
    },
    {
     "name": "stderr",
     "output_type": "stream",
     "text": [
      "100%|██████████| 136/136 [00:35<00:00,  3.86it/s]\n"
     ]
    },
    {
     "name": "stdout",
     "output_type": "stream",
     "text": [
      "Epoch: 160, Train Acc: 0.6937, Train AUC: 0.8606, Train AUPR: 0.4055, Test Acc: 0.6382, Test Auc: 0.7283, Test AUPR: 0.2206,  Loss: 0.9444\n"
     ]
    },
    {
     "name": "stderr",
     "output_type": "stream",
     "text": [
      "100%|██████████| 136/136 [00:35<00:00,  3.85it/s]\n"
     ]
    },
    {
     "name": "stdout",
     "output_type": "stream",
     "text": [
      "Epoch: 161, Train Acc: 0.6937, Train AUC: 0.8658, Train AUPR: 0.4189, Test Acc: 0.6382, Test Auc: 0.7270, Test AUPR: 0.2319,  Loss: 0.9543\n"
     ]
    },
    {
     "name": "stderr",
     "output_type": "stream",
     "text": [
      "100%|██████████| 136/136 [00:35<00:00,  3.85it/s]\n"
     ]
    },
    {
     "name": "stdout",
     "output_type": "stream",
     "text": [
      "Epoch: 162, Train Acc: 0.6961, Train AUC: 0.8690, Train AUPR: 0.4149, Test Acc: 0.6323, Test Auc: 0.7279, Test AUPR: 0.2301,  Loss: 0.9515\n"
     ]
    },
    {
     "name": "stderr",
     "output_type": "stream",
     "text": [
      "100%|██████████| 136/136 [00:36<00:00,  3.70it/s]\n"
     ]
    },
    {
     "name": "stdout",
     "output_type": "stream",
     "text": [
      "Epoch: 163, Train Acc: 0.6843, Train AUC: 0.8659, Train AUPR: 0.4130, Test Acc: 0.6323, Test Auc: 0.7276, Test AUPR: 0.2239,  Loss: 0.9615\n"
     ]
    },
    {
     "name": "stderr",
     "output_type": "stream",
     "text": [
      "100%|██████████| 136/136 [00:36<00:00,  3.69it/s]\n"
     ]
    },
    {
     "name": "stdout",
     "output_type": "stream",
     "text": [
      "Epoch: 164, Train Acc: 0.6848, Train AUC: 0.8662, Train AUPR: 0.4258, Test Acc: 0.6323, Test Auc: 0.7253, Test AUPR: 0.2313,  Loss: 0.9526\n"
     ]
    },
    {
     "name": "stderr",
     "output_type": "stream",
     "text": [
      "100%|██████████| 136/136 [00:35<00:00,  3.79it/s]\n"
     ]
    },
    {
     "name": "stdout",
     "output_type": "stream",
     "text": [
      "Epoch: 165, Train Acc: 0.7055, Train AUC: 0.8702, Train AUPR: 0.4265, Test Acc: 0.6411, Test Auc: 0.7273, Test AUPR: 0.2223,  Loss: 0.9415\n"
     ]
    },
    {
     "name": "stderr",
     "output_type": "stream",
     "text": [
      "100%|██████████| 136/136 [00:35<00:00,  3.86it/s]\n"
     ]
    },
    {
     "name": "stdout",
     "output_type": "stream",
     "text": [
      "Epoch: 166, Train Acc: 0.6932, Train AUC: 0.8676, Train AUPR: 0.4287, Test Acc: 0.6323, Test Auc: 0.7270, Test AUPR: 0.2249,  Loss: 0.9428\n"
     ]
    },
    {
     "name": "stderr",
     "output_type": "stream",
     "text": [
      "100%|██████████| 136/136 [00:35<00:00,  3.84it/s]\n"
     ]
    },
    {
     "name": "stdout",
     "output_type": "stream",
     "text": [
      "Epoch: 167, Train Acc: 0.7057, Train AUC: 0.8738, Train AUPR: 0.4333, Test Acc: 0.6411, Test Auc: 0.7267, Test AUPR: 0.2229,  Loss: 0.9441\n"
     ]
    },
    {
     "name": "stderr",
     "output_type": "stream",
     "text": [
      "100%|██████████| 136/136 [00:36<00:00,  3.69it/s]\n"
     ]
    },
    {
     "name": "stdout",
     "output_type": "stream",
     "text": [
      "Epoch: 168, Train Acc: 0.7030, Train AUC: 0.8710, Train AUPR: 0.4268, Test Acc: 0.6421, Test Auc: 0.7203, Test AUPR: 0.2329,  Loss: 0.9355\n"
     ]
    },
    {
     "name": "stderr",
     "output_type": "stream",
     "text": [
      "100%|██████████| 136/136 [00:36<00:00,  3.69it/s]\n"
     ]
    },
    {
     "name": "stdout",
     "output_type": "stream",
     "text": [
      "Epoch: 169, Train Acc: 0.7013, Train AUC: 0.8710, Train AUPR: 0.4326, Test Acc: 0.6421, Test Auc: 0.7251, Test AUPR: 0.2246,  Loss: 0.9331\n"
     ]
    },
    {
     "name": "stderr",
     "output_type": "stream",
     "text": [
      "100%|██████████| 136/136 [00:36<00:00,  3.70it/s]\n"
     ]
    },
    {
     "name": "stdout",
     "output_type": "stream",
     "text": [
      "Epoch: 170, Train Acc: 0.6875, Train AUC: 0.8667, Train AUPR: 0.4269, Test Acc: 0.6313, Test Auc: 0.7316, Test AUPR: 0.2361,  Loss: 0.9434\n"
     ]
    },
    {
     "name": "stderr",
     "output_type": "stream",
     "text": [
      "100%|██████████| 136/136 [00:35<00:00,  3.86it/s]\n"
     ]
    },
    {
     "name": "stdout",
     "output_type": "stream",
     "text": [
      "Epoch: 171, Train Acc: 0.6895, Train AUC: 0.8723, Train AUPR: 0.4350, Test Acc: 0.6362, Test Auc: 0.7239, Test AUPR: 0.2206,  Loss: 0.9390\n"
     ]
    },
    {
     "name": "stderr",
     "output_type": "stream",
     "text": [
      "100%|██████████| 136/136 [00:36<00:00,  3.75it/s]\n"
     ]
    },
    {
     "name": "stdout",
     "output_type": "stream",
     "text": [
      "Epoch: 172, Train Acc: 0.7008, Train AUC: 0.8759, Train AUPR: 0.4437, Test Acc: 0.6342, Test Auc: 0.7229, Test AUPR: 0.2304,  Loss: 0.9393\n"
     ]
    },
    {
     "name": "stderr",
     "output_type": "stream",
     "text": [
      "100%|██████████| 136/136 [01:33<00:00,  1.46it/s]\n"
     ]
    },
    {
     "name": "stdout",
     "output_type": "stream",
     "text": [
      "Epoch: 173, Train Acc: 0.7018, Train AUC: 0.8727, Train AUPR: 0.4428, Test Acc: 0.6313, Test Auc: 0.7201, Test AUPR: 0.2299,  Loss: 0.9375\n"
     ]
    },
    {
     "name": "stderr",
     "output_type": "stream",
     "text": [
      "100%|██████████| 136/136 [01:33<00:00,  1.45it/s]\n"
     ]
    },
    {
     "name": "stdout",
     "output_type": "stream",
     "text": [
      "Epoch: 174, Train Acc: 0.6991, Train AUC: 0.8740, Train AUPR: 0.4467, Test Acc: 0.6391, Test Auc: 0.7213, Test AUPR: 0.2253,  Loss: 0.9338\n"
     ]
    },
    {
     "name": "stderr",
     "output_type": "stream",
     "text": [
      "100%|██████████| 136/136 [01:32<00:00,  1.47it/s]\n"
     ]
    },
    {
     "name": "stdout",
     "output_type": "stream",
     "text": [
      "Epoch: 175, Train Acc: 0.7055, Train AUC: 0.8741, Train AUPR: 0.4453, Test Acc: 0.6421, Test Auc: 0.7233, Test AUPR: 0.2390,  Loss: 0.9373\n"
     ]
    },
    {
     "name": "stderr",
     "output_type": "stream",
     "text": [
      "100%|██████████| 136/136 [01:33<00:00,  1.46it/s]\n"
     ]
    },
    {
     "name": "stdout",
     "output_type": "stream",
     "text": [
      "Epoch: 176, Train Acc: 0.6964, Train AUC: 0.8724, Train AUPR: 0.4421, Test Acc: 0.6352, Test Auc: 0.7170, Test AUPR: 0.2315,  Loss: 0.9201\n"
     ]
    },
    {
     "name": "stderr",
     "output_type": "stream",
     "text": [
      "100%|██████████| 136/136 [01:38<00:00,  1.38it/s]\n"
     ]
    },
    {
     "name": "stdout",
     "output_type": "stream",
     "text": [
      "Epoch: 177, Train Acc: 0.6956, Train AUC: 0.8759, Train AUPR: 0.4467, Test Acc: 0.6382, Test Auc: 0.7174, Test AUPR: 0.2202,  Loss: 0.9311\n"
     ]
    },
    {
     "name": "stderr",
     "output_type": "stream",
     "text": [
      "100%|██████████| 136/136 [01:38<00:00,  1.38it/s]\n"
     ]
    },
    {
     "name": "stdout",
     "output_type": "stream",
     "text": [
      "Epoch: 178, Train Acc: 0.7042, Train AUC: 0.8789, Train AUPR: 0.4524, Test Acc: 0.6283, Test Auc: 0.7194, Test AUPR: 0.2287,  Loss: 0.9290\n"
     ]
    },
    {
     "name": "stderr",
     "output_type": "stream",
     "text": [
      "100%|██████████| 136/136 [01:37<00:00,  1.39it/s]\n"
     ]
    },
    {
     "name": "stdout",
     "output_type": "stream",
     "text": [
      "Epoch: 179, Train Acc: 0.7077, Train AUC: 0.8786, Train AUPR: 0.4512, Test Acc: 0.6332, Test Auc: 0.7216, Test AUPR: 0.2264,  Loss: 0.9325\n"
     ]
    },
    {
     "name": "stderr",
     "output_type": "stream",
     "text": [
      "100%|██████████| 136/136 [01:38<00:00,  1.38it/s]\n"
     ]
    },
    {
     "name": "stdout",
     "output_type": "stream",
     "text": [
      "Epoch: 180, Train Acc: 0.7020, Train AUC: 0.8759, Train AUPR: 0.4496, Test Acc: 0.6401, Test Auc: 0.7123, Test AUPR: 0.2368,  Loss: 0.9321\n"
     ]
    },
    {
     "name": "stderr",
     "output_type": "stream",
     "text": [
      "100%|██████████| 136/136 [01:36<00:00,  1.41it/s]\n"
     ]
    },
    {
     "name": "stdout",
     "output_type": "stream",
     "text": [
      "Epoch: 181, Train Acc: 0.7101, Train AUC: 0.8820, Train AUPR: 0.4638, Test Acc: 0.6352, Test Auc: 0.7157, Test AUPR: 0.2281,  Loss: 0.9320\n"
     ]
    },
    {
     "name": "stderr",
     "output_type": "stream",
     "text": [
      "100%|██████████| 136/136 [01:39<00:00,  1.36it/s]\n"
     ]
    },
    {
     "name": "stdout",
     "output_type": "stream",
     "text": [
      "Epoch: 182, Train Acc: 0.7092, Train AUC: 0.8721, Train AUPR: 0.4617, Test Acc: 0.6323, Test Auc: 0.7227, Test AUPR: 0.2389,  Loss: 0.9205\n"
     ]
    },
    {
     "name": "stderr",
     "output_type": "stream",
     "text": [
      "100%|██████████| 136/136 [01:36<00:00,  1.40it/s]\n"
     ]
    },
    {
     "name": "stdout",
     "output_type": "stream",
     "text": [
      "Epoch: 183, Train Acc: 0.7087, Train AUC: 0.8791, Train AUPR: 0.4617, Test Acc: 0.6313, Test Auc: 0.7235, Test AUPR: 0.2238,  Loss: 0.9183\n"
     ]
    },
    {
     "name": "stderr",
     "output_type": "stream",
     "text": [
      "100%|██████████| 136/136 [01:38<00:00,  1.39it/s]\n"
     ]
    },
    {
     "name": "stdout",
     "output_type": "stream",
     "text": [
      "Epoch: 184, Train Acc: 0.7037, Train AUC: 0.8757, Train AUPR: 0.4562, Test Acc: 0.6352, Test Auc: 0.7221, Test AUPR: 0.2188,  Loss: 0.9288\n"
     ]
    },
    {
     "name": "stderr",
     "output_type": "stream",
     "text": [
      "100%|██████████| 136/136 [01:35<00:00,  1.43it/s]\n"
     ]
    },
    {
     "name": "stdout",
     "output_type": "stream",
     "text": [
      "Epoch: 185, Train Acc: 0.7045, Train AUC: 0.8791, Train AUPR: 0.4565, Test Acc: 0.6421, Test Auc: 0.7160, Test AUPR: 0.2308,  Loss: 0.9217\n"
     ]
    },
    {
     "name": "stderr",
     "output_type": "stream",
     "text": [
      "100%|██████████| 136/136 [00:35<00:00,  3.84it/s]\n"
     ]
    },
    {
     "name": "stdout",
     "output_type": "stream",
     "text": [
      "Epoch: 186, Train Acc: 0.7104, Train AUC: 0.8805, Train AUPR: 0.4687, Test Acc: 0.6303, Test Auc: 0.7159, Test AUPR: 0.2262,  Loss: 0.9224\n"
     ]
    },
    {
     "name": "stderr",
     "output_type": "stream",
     "text": [
      "100%|██████████| 136/136 [01:38<00:00,  1.38it/s]\n"
     ]
    },
    {
     "name": "stdout",
     "output_type": "stream",
     "text": [
      "Epoch: 187, Train Acc: 0.6988, Train AUC: 0.8785, Train AUPR: 0.4564, Test Acc: 0.6372, Test Auc: 0.7209, Test AUPR: 0.2241,  Loss: 0.9283\n"
     ]
    },
    {
     "name": "stderr",
     "output_type": "stream",
     "text": [
      "100%|██████████| 136/136 [00:36<00:00,  3.74it/s]\n"
     ]
    },
    {
     "name": "stdout",
     "output_type": "stream",
     "text": [
      "Epoch: 188, Train Acc: 0.7028, Train AUC: 0.8805, Train AUPR: 0.4661, Test Acc: 0.6431, Test Auc: 0.7194, Test AUPR: 0.2294,  Loss: 0.9196\n"
     ]
    },
    {
     "name": "stderr",
     "output_type": "stream",
     "text": [
      "100%|██████████| 136/136 [01:33<00:00,  1.45it/s]\n"
     ]
    },
    {
     "name": "stdout",
     "output_type": "stream",
     "text": [
      "Epoch: 189, Train Acc: 0.7104, Train AUC: 0.8821, Train AUPR: 0.4715, Test Acc: 0.6342, Test Auc: 0.7218, Test AUPR: 0.2263,  Loss: 0.9225\n"
     ]
    },
    {
     "name": "stderr",
     "output_type": "stream",
     "text": [
      "100%|██████████| 136/136 [01:34<00:00,  1.44it/s]\n"
     ]
    },
    {
     "name": "stdout",
     "output_type": "stream",
     "text": [
      "Epoch: 190, Train Acc: 0.7101, Train AUC: 0.8833, Train AUPR: 0.4713, Test Acc: 0.6323, Test Auc: 0.7183, Test AUPR: 0.2190,  Loss: 0.9203\n"
     ]
    },
    {
     "name": "stderr",
     "output_type": "stream",
     "text": [
      "100%|██████████| 136/136 [01:35<00:00,  1.42it/s]\n"
     ]
    }
   ],
   "source": [
    "optimizer = torch.optim.Adam(model.parameters(), lr=0.001)\n",
    "criterion = torch.nn.CrossEntropyLoss()\n",
    "    \n",
    "def test(loader, size):\n",
    "    model.eval()\n",
    "    output = np.zeros((len(loader), size))\n",
    "    actual = np.zeros((len(loader), size))\n",
    "    accuracy = 0\n",
    "    for ind, data in enumerate(loader):  # Iterate in batches over the training/test dataset.\n",
    "        data.x = torch.reshape(data.x, (data.x.shape[0], 1))\n",
    "        data.x = data.x.type(torch.FloatTensor)\n",
    "        data = data.to(device)\n",
    "        out = model(data.x, data.edge_index, data.batch)\n",
    "        output[ind] = softmax(out.cpu().detach().numpy())\n",
    "        actual[ind][data.y] = 1\n",
    "        accuracy += int((out.argmax(dim=1) == data.y).sum())\n",
    "    all_labels = list(dataset.cellToIndex.keys())\n",
    "    actual = np.array(actual)\n",
    "    precision = dict()\n",
    "    recall = dict()\n",
    "    averageAUROC = []\n",
    "    averageAUPR = []\n",
    "    for idx in range(9):\n",
    "        \n",
    "        fpr, tpr, thresholds = roc_curve(actual[:,idx].astype(int), output[:,idx])\n",
    "        precision[idx], recall[idx], _ = precision_recall_curve(actual[:, idx],\n",
    "                                                        output[:, idx])\n",
    "        averageAUROC.append(auc(fpr, tpr))\n",
    "        averageAUPR.append(round(auc(recall[idx], precision[idx]),4))\n",
    "\n",
    "    return accuracy/len(loader.dataset), mean(averageAUROC), mean(averageAUPR)\n",
    "\n",
    "\n",
    "def train():\n",
    "    model.train()\n",
    "    avgLoss = 0\n",
    "    for data in tqdm(train_loader, total=136):  # Iterate in batches over the training dataset.\n",
    "        data.x = torch.reshape(data.x, (data.x.shape[0], 1))\n",
    "        data.x = data.x.type(torch.FloatTensor)\n",
    "        data = data.to(device)\n",
    "        out = model(data.x, data.edge_index, data.batch)# Perform a single forward pass.\n",
    "        loss = criterion(out, data.y)  # Compute the loss.\n",
    "        loss.backward()  # Derive gradients.\n",
    "        optimizer.step()  # Update parameters based on gradients.\n",
    "        optimizer.zero_grad()  # Clear gradients.\n",
    "        avgLoss += loss\n",
    "    return avgLoss / 136\n",
    "\n",
    "\n",
    "for epoch in range(1, 250):\n",
    "        loss = train()\n",
    "        train_acc, trainAUC, trainAUPR = test(train_loader_testing, 9)\n",
    "        test_acc,testAUC, testAUPR = test(test_loader, 9)\n",
    "        print(f'Epoch: {epoch:03d}, Train Acc: {train_acc:.4f}, Train AUC: {trainAUC:.4f}, Train AUPR: {trainAUPR:.4f}, Test Acc: {test_acc:.4f}, Test Auc: {testAUC:.4f}, Test AUPR: {testAUPR:.4f},  Loss: {loss:.4f}')"
   ]
  },
  {
   "cell_type": "code",
   "execution_count": null,
   "id": "ab926e3a",
   "metadata": {},
   "outputs": [],
   "source": [
    "torch.save(model.state_dict(), 'model_weightsP0_condensed_labels.pth')"
   ]
  },
  {
   "cell_type": "code",
   "execution_count": 9,
   "id": "ab1d7687",
   "metadata": {},
   "outputs": [
    {
     "ename": "RuntimeError",
     "evalue": "Error(s) in loading state_dict for GCN:\n\tsize mismatch for lin.weight: copying a param with shape torch.Size([19, 128]) from checkpoint, the shape in current model is torch.Size([4, 128]).\n\tsize mismatch for lin.bias: copying a param with shape torch.Size([19]) from checkpoint, the shape in current model is torch.Size([4]).",
     "output_type": "error",
     "traceback": [
      "\u001b[0;31m---------------------------------------------------------------------------\u001b[0m",
      "\u001b[0;31mRuntimeError\u001b[0m                              Traceback (most recent call last)",
      "\u001b[0;32m<ipython-input-9-f6b14577a03b>\u001b[0m in \u001b[0;36m<module>\u001b[0;34m\u001b[0m\n\u001b[1;32m      1\u001b[0m \u001b[0mmodel\u001b[0m \u001b[0;34m=\u001b[0m \u001b[0mGCN\u001b[0m\u001b[0;34m(\u001b[0m\u001b[0mhidden_channels\u001b[0m\u001b[0;34m=\u001b[0m\u001b[0;36m128\u001b[0m\u001b[0;34m,\u001b[0m \u001b[0mdata\u001b[0m\u001b[0;34m=\u001b[0m\u001b[0mdataset\u001b[0m\u001b[0;34m,\u001b[0m \u001b[0moutput_size\u001b[0m\u001b[0;34m=\u001b[0m\u001b[0;36m4\u001b[0m\u001b[0;34m)\u001b[0m\u001b[0;34m.\u001b[0m\u001b[0mto\u001b[0m\u001b[0;34m(\u001b[0m\u001b[0mdevice\u001b[0m\u001b[0;34m)\u001b[0m\u001b[0;34m\u001b[0m\u001b[0;34m\u001b[0m\u001b[0m\n\u001b[0;32m----> 2\u001b[0;31m \u001b[0mmodel\u001b[0m\u001b[0;34m.\u001b[0m\u001b[0mload_state_dict\u001b[0m\u001b[0;34m(\u001b[0m\u001b[0mtorch\u001b[0m\u001b[0;34m.\u001b[0m\u001b[0mload\u001b[0m\u001b[0;34m(\u001b[0m\u001b[0;34m'model_weightsDec23_atacseq.pth'\u001b[0m\u001b[0;34m)\u001b[0m\u001b[0;34m)\u001b[0m\u001b[0;34m\u001b[0m\u001b[0;34m\u001b[0m\u001b[0m\n\u001b[0m\u001b[1;32m      3\u001b[0m \u001b[0mtest_acc\u001b[0m\u001b[0;34m,\u001b[0m\u001b[0mtestAUC\u001b[0m\u001b[0;34m,\u001b[0m \u001b[0mtestAUPR\u001b[0m \u001b[0;34m=\u001b[0m \u001b[0mtest\u001b[0m\u001b[0;34m(\u001b[0m\u001b[0mtest_loader\u001b[0m\u001b[0;34m,\u001b[0m \u001b[0;36m4\u001b[0m\u001b[0;34m)\u001b[0m\u001b[0;34m\u001b[0m\u001b[0;34m\u001b[0m\u001b[0m\n\u001b[1;32m      4\u001b[0m \u001b[0mprint\u001b[0m\u001b[0;34m(\u001b[0m\u001b[0;34mf'Test Acc: {test_acc:.4f}, Test Auc: {testAUC:.4f}, Test AUPR: {testAUPR:.4f}'\u001b[0m\u001b[0;34m)\u001b[0m\u001b[0;34m\u001b[0m\u001b[0;34m\u001b[0m\u001b[0m\n",
      "\u001b[0;32m/gpfs/home/hzaki1/celltypefromgrn/env/lib/python3.7/site-packages/torch/nn/modules/module.py\u001b[0m in \u001b[0;36mload_state_dict\u001b[0;34m(self, state_dict, strict)\u001b[0m\n\u001b[1;32m   1481\u001b[0m         \u001b[0;32mif\u001b[0m \u001b[0mlen\u001b[0m\u001b[0;34m(\u001b[0m\u001b[0merror_msgs\u001b[0m\u001b[0;34m)\u001b[0m \u001b[0;34m>\u001b[0m \u001b[0;36m0\u001b[0m\u001b[0;34m:\u001b[0m\u001b[0;34m\u001b[0m\u001b[0;34m\u001b[0m\u001b[0m\n\u001b[1;32m   1482\u001b[0m             raise RuntimeError('Error(s) in loading state_dict for {}:\\n\\t{}'.format(\n\u001b[0;32m-> 1483\u001b[0;31m                                self.__class__.__name__, \"\\n\\t\".join(error_msgs)))\n\u001b[0m\u001b[1;32m   1484\u001b[0m         \u001b[0;32mreturn\u001b[0m \u001b[0m_IncompatibleKeys\u001b[0m\u001b[0;34m(\u001b[0m\u001b[0mmissing_keys\u001b[0m\u001b[0;34m,\u001b[0m \u001b[0munexpected_keys\u001b[0m\u001b[0;34m)\u001b[0m\u001b[0;34m\u001b[0m\u001b[0;34m\u001b[0m\u001b[0m\n\u001b[1;32m   1485\u001b[0m \u001b[0;34m\u001b[0m\u001b[0m\n",
      "\u001b[0;31mRuntimeError\u001b[0m: Error(s) in loading state_dict for GCN:\n\tsize mismatch for lin.weight: copying a param with shape torch.Size([19, 128]) from checkpoint, the shape in current model is torch.Size([4, 128]).\n\tsize mismatch for lin.bias: copying a param with shape torch.Size([19]) from checkpoint, the shape in current model is torch.Size([4])."
     ]
    }
   ],
   "source": [
    "model = GCN(hidden_channels=128, data=dataset, output_size=4).to(device)\n",
    "model.load_state_dict(torch.load('model_weightsDec23_atacseq.pth'))\n",
    "test_acc,testAUC, testAUPR = test(test_loader, 4)\n",
    "print(f'Test Acc: {test_acc:.4f}, Test Auc: {testAUC:.4f}, Test AUPR: {testAUPR:.4f}')"
   ]
  },
  {
   "cell_type": "code",
   "execution_count": 11,
   "id": "7d61cb4e",
   "metadata": {},
   "outputs": [],
   "source": [
    "all_labels = list(dataset.cellToIndex.values())"
   ]
  }
 ],
 "metadata": {
  "kernelspec": {
   "display_name": "Python 3 (ipykernel)",
   "language": "python",
   "name": "python3"
  },
  "language_info": {
   "codemirror_mode": {
    "name": "ipython",
    "version": 3
   },
   "file_extension": ".py",
   "mimetype": "text/x-python",
   "name": "python",
   "nbconvert_exporter": "python",
   "pygments_lexer": "ipython3",
   "version": "3.7.4"
  }
 },
 "nbformat": 4,
 "nbformat_minor": 5
}
