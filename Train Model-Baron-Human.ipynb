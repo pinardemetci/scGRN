{
 "cells": [
  {
   "cell_type": "markdown",
   "id": "522dfa62",
   "metadata": {},
   "source": [
    "# Train Model on Baron - Human Dataset"
   ]
  },
  {
   "cell_type": "markdown",
   "id": "df641d71",
   "metadata": {},
   "source": [
    "In this notebook, we're going to train our model using the Baron Human dataset. \n",
    "\n",
    "This assumes that you've made the graph using the ```Infer GRN.ipynb``` code."
   ]
  },
  {
   "cell_type": "code",
   "execution_count": 1,
   "id": "65a9a75a",
   "metadata": {},
   "outputs": [
    {
     "name": "stdout",
     "output_type": "stream",
     "text": [
      "Torch version: 1.9.0+cu102\n",
      "Cuda available: True\n",
      "Torch geometric version: 1.7.1\n"
     ]
    }
   ],
   "source": [
    "import os\n",
    "\n",
    "import numpy as np\n",
    "import pandas as pd\n",
    "import torch\n",
    "import torch_geometric\n",
    "from torch_geometric.data import Data, Dataset\n",
    "from tqdm import tqdm\n",
    "from datasetbaronhuman import BaronHumanDataset\n",
    "%matplotlib inline\n",
    "import matplotlib.pyplot as plt\n",
    "from sklearn.manifold import TSNE\n",
    "from tqdm import tqdm\n",
    "from sklearn.metrics import roc_auc_score, precision_recall_curve, auc"
   ]
  },
  {
   "cell_type": "code",
   "execution_count": 2,
   "id": "2da40b66",
   "metadata": {},
   "outputs": [
    {
     "name": "stderr",
     "output_type": "stream",
     "text": [
      "100%|██████████| 181366/181366 [00:12<00:00, 14057.97it/s]\n"
     ]
    }
   ],
   "source": [
    "dataset = BaronHumanDataset(\"/gpfs/data/rsingh47/hzaki1/data-baron-human\")"
   ]
  },
  {
   "cell_type": "code",
   "execution_count": 3,
   "id": "fefcae56",
   "metadata": {},
   "outputs": [
    {
     "name": "stdout",
     "output_type": "stream",
     "text": [
      "\n",
      "Dataset: BaronHumanDataset(8569):\n",
      "====================\n",
      "Number of graphs: 8569\n",
      "Number of features: 1\n",
      "\n",
      "Data(edge_index=[2, 181366], x=[17499], y=[1])\n",
      "=============================================================\n",
      "Number of nodes: 17499\n",
      "Number of edges: 181366\n",
      "Average node degree: 10.36\n",
      "Contains isolated nodes: True\n",
      "Contains self-loops: False\n",
      "Is undirected: False\n"
     ]
    }
   ],
   "source": [
    "print()\n",
    "print(f'Dataset: {dataset}:')\n",
    "print('====================')\n",
    "print(f'Number of graphs: {len(dataset)}')\n",
    "print(f'Number of features: {dataset.num_features}')\n",
    "\n",
    "data = dataset[0]  # Get the first graph object.\n",
    "\n",
    "print()\n",
    "print(data)\n",
    "print('=============================================================')\n",
    "\n",
    "# Gather some statistics about the first graph.\n",
    "print(f'Number of nodes: {data.num_nodes}')\n",
    "print(f'Number of edges: {data.num_edges}')\n",
    "print(f'Average node degree: {data.num_edges / data.num_nodes:.2f}')\n",
    "print(f'Contains isolated nodes: {data.contains_isolated_nodes()}')\n",
    "print(f'Contains self-loops: {data.contains_self_loops()}')\n",
    "print(f'Is undirected: {data.is_undirected()}')"
   ]
  },
  {
   "cell_type": "code",
   "execution_count": 5,
   "id": "4e68ef27",
   "metadata": {},
   "outputs": [],
   "source": [
    "shuffle_index = np.loadtxt('shuffle_index_BaronHuman.txt')\n",
    "shuffle_index = shuffle_index.astype(np.int32)\n",
    "train_size, val_size = int(len(shuffle_index)* 0.8), int(len(shuffle_index)* 0.9)\n",
    "train_data = [dataset[i] for i in shuffle_index[0:train_size]]\n",
    "val_data = [dataset[i] for i in shuffle_index[train_size: val_size]]\n",
    "test_data =  [dataset[i] for i in shuffle_index[val_size:]]"
   ]
  },
  {
   "cell_type": "code",
   "execution_count": null,
   "id": "8a66c7cb",
   "metadata": {},
   "outputs": [],
   "source": [
    "# torch.manual_seed(12345)\n",
    "# dataset = dataset.shuffle()\n",
    "\n",
    "# #train_dataset = torch.load('trainDataset.pt')\n",
    "# #test_dataset = torch.load('testDataset.pt')\n",
    "\n",
    "# train_dataset = dataset[:6856]\n",
    "# test_dataset = dataset[6856:]\n",
    "# #test_dataset = dataset[-12:]\n",
    "\n",
    "\n",
    "# # train_dataset = dataset[:40]\n",
    "# # test_dataset = dataset[40:60]\n",
    "\n",
    "# print(f'Number of training graphs: {len(train_dataset)}')\n",
    "# print(f'Number of test graphs: {len(test_dataset)}')"
   ]
  },
  {
   "cell_type": "code",
   "execution_count": 6,
   "id": "5dce17cb",
   "metadata": {},
   "outputs": [],
   "source": [
    "from torch_geometric.data import DataLoader\n",
    "\n",
    "train_loader = DataLoader(train_data, batch_size=30, shuffle=True)\n",
    "val_loader = DataLoader(val_data, batch_size=30, shuffle=True)\n",
    "test_loader = DataLoader(test_data, batch_size=30, shuffle=False)"
   ]
  },
  {
   "cell_type": "code",
   "execution_count": 7,
   "id": "ad8a9de2",
   "metadata": {},
   "outputs": [
    {
     "name": "stdout",
     "output_type": "stream",
     "text": [
      "GCN(\n",
      "  (conv1): SAGEConv(1, 128)\n",
      "  (conv2): SAGEConv(128, 128)\n",
      "  (conv3): SAGEConv(128, 128)\n",
      "  (lin): Linear(in_features=128, out_features=14, bias=True)\n",
      ")\n"
     ]
    }
   ],
   "source": [
    "from gcnmodel import GCN\n",
    "device = torch.device('cuda' if torch.cuda.is_available() else 'cpu')\n",
    "model = GCN(hidden_channels=128, data=dataset, output_size=14).to(device)\n",
    "print(model)"
   ]
  },
  {
   "cell_type": "code",
   "execution_count": 17,
   "id": "783ea868",
   "metadata": {
    "scrolled": true
   },
   "outputs": [
    {
     "name": "stderr",
     "output_type": "stream",
     "text": [
      "100%|██████████| 229/229 [00:33<00:00,  6.84it/s]\n",
      "  0%|          | 1/229 [00:00<00:30,  7.46it/s]"
     ]
    },
    {
     "name": "stdout",
     "output_type": "stream",
     "text": [
      "Epoch: 001, Train Acc: 0.4624, Train AUC: 0.7457, Test Acc: 0.4784, Test Auc: 0.7442, Loss: 3.1140\n"
     ]
    },
    {
     "name": "stderr",
     "output_type": "stream",
     "text": [
      "100%|██████████| 229/229 [00:33<00:00,  6.80it/s]\n",
      "  0%|          | 1/229 [00:00<00:30,  7.38it/s]"
     ]
    },
    {
     "name": "stdout",
     "output_type": "stream",
     "text": [
      "Epoch: 002, Train Acc: 0.5179, Train AUC: 0.7810, Test Acc: 0.5344, Test Auc: 0.7783, Loss: 1.5396\n"
     ]
    },
    {
     "name": "stderr",
     "output_type": "stream",
     "text": [
      "100%|██████████| 229/229 [00:34<00:00,  6.64it/s]\n",
      "  0%|          | 1/229 [00:00<00:30,  7.44it/s]"
     ]
    },
    {
     "name": "stdout",
     "output_type": "stream",
     "text": [
      "Epoch: 003, Train Acc: 0.5381, Train AUC: 0.7766, Test Acc: 0.5566, Test Auc: 0.7705, Loss: 1.5051\n"
     ]
    },
    {
     "name": "stderr",
     "output_type": "stream",
     "text": [
      "100%|██████████| 229/229 [00:34<00:00,  6.62it/s]\n",
      "  0%|          | 1/229 [00:00<00:28,  7.95it/s]"
     ]
    },
    {
     "name": "stdout",
     "output_type": "stream",
     "text": [
      "Epoch: 004, Train Acc: 0.5498, Train AUC: 0.7740, Test Acc: 0.5601, Test Auc: 0.7618, Loss: 1.4639\n"
     ]
    },
    {
     "name": "stderr",
     "output_type": "stream",
     "text": [
      "100%|██████████| 229/229 [00:34<00:00,  6.62it/s]\n",
      "  0%|          | 1/229 [00:00<00:28,  8.10it/s]"
     ]
    },
    {
     "name": "stdout",
     "output_type": "stream",
     "text": [
      "Epoch: 005, Train Acc: 0.5733, Train AUC: 0.7765, Test Acc: 0.5928, Test Auc: 0.7618, Loss: 1.4355\n"
     ]
    },
    {
     "name": "stderr",
     "output_type": "stream",
     "text": [
      "100%|██████████| 229/229 [00:34<00:00,  6.58it/s]\n",
      "  0%|          | 1/229 [00:00<00:29,  7.69it/s]"
     ]
    },
    {
     "name": "stdout",
     "output_type": "stream",
     "text": [
      "Epoch: 006, Train Acc: 0.5592, Train AUC: 0.8058, Test Acc: 0.5508, Test Auc: 0.7977, Loss: 1.4027\n"
     ]
    },
    {
     "name": "stderr",
     "output_type": "stream",
     "text": [
      "100%|██████████| 229/229 [00:34<00:00,  6.58it/s]\n",
      "  0%|          | 1/229 [00:00<00:30,  7.43it/s]"
     ]
    },
    {
     "name": "stdout",
     "output_type": "stream",
     "text": [
      "Epoch: 007, Train Acc: 0.5558, Train AUC: 0.7995, Test Acc: 0.5624, Test Auc: 0.7863, Loss: 1.3748\n"
     ]
    },
    {
     "name": "stderr",
     "output_type": "stream",
     "text": [
      "100%|██████████| 229/229 [00:34<00:00,  6.61it/s]\n",
      "  0%|          | 1/229 [00:00<00:31,  7.18it/s]"
     ]
    },
    {
     "name": "stdout",
     "output_type": "stream",
     "text": [
      "Epoch: 008, Train Acc: 0.6121, Train AUC: 0.8050, Test Acc: 0.6126, Test Auc: 0.7959, Loss: 1.3562\n"
     ]
    },
    {
     "name": "stderr",
     "output_type": "stream",
     "text": [
      "100%|██████████| 229/229 [00:34<00:00,  6.62it/s]\n",
      "  0%|          | 1/229 [00:00<00:29,  7.74it/s]"
     ]
    },
    {
     "name": "stdout",
     "output_type": "stream",
     "text": [
      "Epoch: 009, Train Acc: 0.5985, Train AUC: 0.8053, Test Acc: 0.5939, Test Auc: 0.7915, Loss: 1.3442\n"
     ]
    },
    {
     "name": "stderr",
     "output_type": "stream",
     "text": [
      "100%|██████████| 229/229 [00:34<00:00,  6.59it/s]\n",
      "  0%|          | 1/229 [00:00<00:31,  7.16it/s]"
     ]
    },
    {
     "name": "stdout",
     "output_type": "stream",
     "text": [
      "Epoch: 010, Train Acc: 0.5555, Train AUC: 0.7991, Test Acc: 0.5543, Test Auc: 0.7841, Loss: 1.4116\n"
     ]
    },
    {
     "name": "stderr",
     "output_type": "stream",
     "text": [
      "100%|██████████| 229/229 [00:33<00:00,  6.74it/s]\n",
      "  0%|          | 1/229 [00:00<00:31,  7.27it/s]"
     ]
    },
    {
     "name": "stdout",
     "output_type": "stream",
     "text": [
      "Epoch: 011, Train Acc: 0.6044, Train AUC: 0.8053, Test Acc: 0.6243, Test Auc: 0.7962, Loss: 1.3433\n"
     ]
    },
    {
     "name": "stderr",
     "output_type": "stream",
     "text": [
      "100%|██████████| 229/229 [00:33<00:00,  6.76it/s]\n",
      "  0%|          | 1/229 [00:00<00:29,  7.62it/s]"
     ]
    },
    {
     "name": "stdout",
     "output_type": "stream",
     "text": [
      "Epoch: 012, Train Acc: 0.6280, Train AUC: 0.8070, Test Acc: 0.6371, Test Auc: 0.7952, Loss: 1.3649\n"
     ]
    },
    {
     "name": "stderr",
     "output_type": "stream",
     "text": [
      "100%|██████████| 229/229 [00:33<00:00,  6.76it/s]\n",
      "  0%|          | 1/229 [00:00<00:31,  7.21it/s]"
     ]
    },
    {
     "name": "stdout",
     "output_type": "stream",
     "text": [
      "Epoch: 013, Train Acc: 0.6232, Train AUC: 0.8049, Test Acc: 0.6359, Test Auc: 0.7930, Loss: 1.3253\n"
     ]
    },
    {
     "name": "stderr",
     "output_type": "stream",
     "text": [
      "100%|██████████| 229/229 [00:34<00:00,  6.61it/s]\n",
      "  0%|          | 1/229 [00:00<00:31,  7.27it/s]"
     ]
    },
    {
     "name": "stdout",
     "output_type": "stream",
     "text": [
      "Epoch: 014, Train Acc: 0.6375, Train AUC: 0.8035, Test Acc: 0.6476, Test Auc: 0.7890, Loss: 1.2940\n"
     ]
    },
    {
     "name": "stderr",
     "output_type": "stream",
     "text": [
      "100%|██████████| 229/229 [00:34<00:00,  6.61it/s]\n",
      "  0%|          | 1/229 [00:00<00:31,  7.31it/s]"
     ]
    },
    {
     "name": "stdout",
     "output_type": "stream",
     "text": [
      "Epoch: 015, Train Acc: 0.6006, Train AUC: 0.8149, Test Acc: 0.6056, Test Auc: 0.8019, Loss: 1.2781\n"
     ]
    },
    {
     "name": "stderr",
     "output_type": "stream",
     "text": [
      "100%|██████████| 229/229 [00:34<00:00,  6.57it/s]\n",
      "  0%|          | 1/229 [00:00<00:31,  7.20it/s]"
     ]
    },
    {
     "name": "stdout",
     "output_type": "stream",
     "text": [
      "Epoch: 016, Train Acc: 0.5999, Train AUC: 0.8092, Test Acc: 0.6009, Test Auc: 0.7964, Loss: 1.2476\n"
     ]
    },
    {
     "name": "stderr",
     "output_type": "stream",
     "text": [
      "100%|██████████| 229/229 [00:34<00:00,  6.58it/s]\n",
      "  0%|          | 1/229 [00:00<00:31,  7.24it/s]"
     ]
    },
    {
     "name": "stdout",
     "output_type": "stream",
     "text": [
      "Epoch: 017, Train Acc: 0.6408, Train AUC: 0.8246, Test Acc: 0.6429, Test Auc: 0.8146, Loss: 1.2778\n"
     ]
    },
    {
     "name": "stderr",
     "output_type": "stream",
     "text": [
      "100%|██████████| 229/229 [00:34<00:00,  6.61it/s]\n",
      "  0%|          | 1/229 [00:00<00:31,  7.26it/s]"
     ]
    },
    {
     "name": "stdout",
     "output_type": "stream",
     "text": [
      "Epoch: 018, Train Acc: 0.6136, Train AUC: 0.8288, Test Acc: 0.6126, Test Auc: 0.8158, Loss: 1.2240\n"
     ]
    },
    {
     "name": "stderr",
     "output_type": "stream",
     "text": [
      "100%|██████████| 229/229 [00:34<00:00,  6.62it/s]\n",
      "  0%|          | 1/229 [00:00<00:31,  7.23it/s]"
     ]
    },
    {
     "name": "stdout",
     "output_type": "stream",
     "text": [
      "Epoch: 019, Train Acc: 0.6340, Train AUC: 0.8337, Test Acc: 0.6348, Test Auc: 0.8200, Loss: 1.2134\n"
     ]
    },
    {
     "name": "stderr",
     "output_type": "stream",
     "text": [
      "100%|██████████| 229/229 [00:34<00:00,  6.60it/s]\n",
      "  0%|          | 1/229 [00:00<00:31,  7.22it/s]"
     ]
    },
    {
     "name": "stdout",
     "output_type": "stream",
     "text": [
      "Epoch: 020, Train Acc: 0.6671, Train AUC: 0.8348, Test Acc: 0.6768, Test Auc: 0.8243, Loss: 1.1832\n"
     ]
    },
    {
     "name": "stderr",
     "output_type": "stream",
     "text": [
      "100%|██████████| 229/229 [00:34<00:00,  6.57it/s]\n",
      "  0%|          | 1/229 [00:00<00:31,  7.30it/s]"
     ]
    },
    {
     "name": "stdout",
     "output_type": "stream",
     "text": [
      "Epoch: 021, Train Acc: 0.6635, Train AUC: 0.8426, Test Acc: 0.6593, Test Auc: 0.8296, Loss: 1.1816\n"
     ]
    },
    {
     "name": "stderr",
     "output_type": "stream",
     "text": [
      "100%|██████████| 229/229 [00:33<00:00,  6.75it/s]\n",
      "  0%|          | 1/229 [00:00<00:29,  7.79it/s]"
     ]
    },
    {
     "name": "stdout",
     "output_type": "stream",
     "text": [
      "Epoch: 022, Train Acc: 0.6573, Train AUC: 0.8383, Test Acc: 0.6569, Test Auc: 0.8230, Loss: 1.1685\n"
     ]
    },
    {
     "name": "stderr",
     "output_type": "stream",
     "text": [
      "100%|██████████| 229/229 [00:33<00:00,  6.75it/s]\n",
      "  0%|          | 1/229 [00:00<00:29,  7.77it/s]"
     ]
    },
    {
     "name": "stdout",
     "output_type": "stream",
     "text": [
      "Epoch: 023, Train Acc: 0.6942, Train AUC: 0.8464, Test Acc: 0.6849, Test Auc: 0.8371, Loss: 1.1290\n"
     ]
    },
    {
     "name": "stderr",
     "output_type": "stream",
     "text": [
      "100%|██████████| 229/229 [00:34<00:00,  6.73it/s]\n",
      "  0%|          | 1/229 [00:00<00:31,  7.21it/s]"
     ]
    },
    {
     "name": "stdout",
     "output_type": "stream",
     "text": [
      "Epoch: 024, Train Acc: 0.6336, Train AUC: 0.8345, Test Acc: 0.6429, Test Auc: 0.8204, Loss: 1.1583\n"
     ]
    },
    {
     "name": "stderr",
     "output_type": "stream",
     "text": [
      "100%|██████████| 229/229 [00:34<00:00,  6.62it/s]\n",
      "  0%|          | 1/229 [00:00<00:29,  7.71it/s]"
     ]
    },
    {
     "name": "stdout",
     "output_type": "stream",
     "text": [
      "Epoch: 025, Train Acc: 0.6624, Train AUC: 0.8444, Test Acc: 0.6581, Test Auc: 0.8254, Loss: 1.1741\n"
     ]
    },
    {
     "name": "stderr",
     "output_type": "stream",
     "text": [
      "100%|██████████| 229/229 [00:34<00:00,  6.58it/s]\n",
      "  0%|          | 1/229 [00:00<00:31,  7.19it/s]"
     ]
    },
    {
     "name": "stdout",
     "output_type": "stream",
     "text": [
      "Epoch: 026, Train Acc: 0.6608, Train AUC: 0.8354, Test Acc: 0.6709, Test Auc: 0.8182, Loss: 1.1380\n"
     ]
    },
    {
     "name": "stderr",
     "output_type": "stream",
     "text": [
      "100%|██████████| 229/229 [00:34<00:00,  6.57it/s]\n",
      "  0%|          | 1/229 [00:00<00:31,  7.27it/s]"
     ]
    },
    {
     "name": "stdout",
     "output_type": "stream",
     "text": [
      "Epoch: 027, Train Acc: 0.6617, Train AUC: 0.8496, Test Acc: 0.6511, Test Auc: 0.8305, Loss: 1.1265\n"
     ]
    },
    {
     "name": "stderr",
     "output_type": "stream",
     "text": [
      "100%|██████████| 229/229 [00:34<00:00,  6.62it/s]\n",
      "  0%|          | 1/229 [00:00<00:31,  7.24it/s]"
     ]
    },
    {
     "name": "stdout",
     "output_type": "stream",
     "text": [
      "Epoch: 028, Train Acc: 0.6957, Train AUC: 0.8593, Test Acc: 0.6954, Test Auc: 0.8413, Loss: 1.1180\n"
     ]
    },
    {
     "name": "stderr",
     "output_type": "stream",
     "text": [
      "100%|██████████| 229/229 [00:34<00:00,  6.61it/s]\n",
      "  0%|          | 1/229 [00:00<00:30,  7.42it/s]"
     ]
    },
    {
     "name": "stdout",
     "output_type": "stream",
     "text": [
      "Epoch: 029, Train Acc: 0.7002, Train AUC: 0.8543, Test Acc: 0.6966, Test Auc: 0.8381, Loss: 1.0906\n"
     ]
    },
    {
     "name": "stderr",
     "output_type": "stream",
     "text": [
      "100%|██████████| 229/229 [00:34<00:00,  6.62it/s]\n",
      "  0%|          | 1/229 [00:00<00:32,  7.11it/s]"
     ]
    },
    {
     "name": "stdout",
     "output_type": "stream",
     "text": [
      "Epoch: 030, Train Acc: 0.7091, Train AUC: 0.8578, Test Acc: 0.6919, Test Auc: 0.8424, Loss: 1.0707\n"
     ]
    },
    {
     "name": "stderr",
     "output_type": "stream",
     "text": [
      "100%|██████████| 229/229 [00:34<00:00,  6.57it/s]\n",
      "  0%|          | 1/229 [00:00<00:31,  7.23it/s]"
     ]
    },
    {
     "name": "stdout",
     "output_type": "stream",
     "text": [
      "Epoch: 031, Train Acc: 0.7098, Train AUC: 0.8704, Test Acc: 0.6908, Test Auc: 0.8540, Loss: 1.0458\n"
     ]
    },
    {
     "name": "stderr",
     "output_type": "stream",
     "text": [
      "100%|██████████| 229/229 [00:34<00:00,  6.59it/s]\n",
      "  0%|          | 1/229 [00:00<00:29,  7.72it/s]"
     ]
    },
    {
     "name": "stdout",
     "output_type": "stream",
     "text": [
      "Epoch: 032, Train Acc: 0.7419, Train AUC: 0.8644, Test Acc: 0.7165, Test Auc: 0.8430, Loss: 1.0397\n"
     ]
    },
    {
     "name": "stderr",
     "output_type": "stream",
     "text": [
      "100%|██████████| 229/229 [00:33<00:00,  6.75it/s]\n",
      "  0%|          | 1/229 [00:00<00:29,  7.63it/s]"
     ]
    },
    {
     "name": "stdout",
     "output_type": "stream",
     "text": [
      "Epoch: 033, Train Acc: 0.7307, Train AUC: 0.8695, Test Acc: 0.6908, Test Auc: 0.8471, Loss: 1.0087\n"
     ]
    },
    {
     "name": "stderr",
     "output_type": "stream",
     "text": [
      "100%|██████████| 229/229 [00:33<00:00,  6.75it/s]\n",
      "  0%|          | 1/229 [00:00<00:30,  7.55it/s]"
     ]
    },
    {
     "name": "stdout",
     "output_type": "stream",
     "text": [
      "Epoch: 034, Train Acc: 0.7068, Train AUC: 0.8844, Test Acc: 0.6861, Test Auc: 0.8608, Loss: 0.9909\n"
     ]
    },
    {
     "name": "stderr",
     "output_type": "stream",
     "text": [
      "100%|██████████| 229/229 [00:34<00:00,  6.67it/s]\n",
      "  0%|          | 1/229 [00:00<00:31,  7.21it/s]"
     ]
    },
    {
     "name": "stdout",
     "output_type": "stream",
     "text": [
      "Epoch: 035, Train Acc: 0.7498, Train AUC: 0.8894, Test Acc: 0.7095, Test Auc: 0.8618, Loss: 0.9635\n"
     ]
    },
    {
     "name": "stderr",
     "output_type": "stream",
     "text": [
      "100%|██████████| 229/229 [00:34<00:00,  6.59it/s]\n",
      "  0%|          | 1/229 [00:00<00:31,  7.27it/s]"
     ]
    },
    {
     "name": "stdout",
     "output_type": "stream",
     "text": [
      "Epoch: 036, Train Acc: 0.7507, Train AUC: 0.9117, Test Acc: 0.7141, Test Auc: 0.8888, Loss: 0.9535\n"
     ]
    },
    {
     "name": "stderr",
     "output_type": "stream",
     "text": [
      "100%|██████████| 229/229 [00:34<00:00,  6.57it/s]\n",
      "  0%|          | 1/229 [00:00<00:30,  7.58it/s]"
     ]
    },
    {
     "name": "stdout",
     "output_type": "stream",
     "text": [
      "Epoch: 037, Train Acc: 0.7447, Train AUC: 0.9043, Test Acc: 0.7106, Test Auc: 0.8759, Loss: 0.9192\n"
     ]
    },
    {
     "name": "stderr",
     "output_type": "stream",
     "text": [
      "100%|██████████| 229/229 [00:34<00:00,  6.61it/s]\n",
      "  0%|          | 1/229 [00:00<00:31,  7.15it/s]"
     ]
    },
    {
     "name": "stdout",
     "output_type": "stream",
     "text": [
      "Epoch: 038, Train Acc: 0.7653, Train AUC: 0.9061, Test Acc: 0.7316, Test Auc: 0.8840, Loss: 0.8985\n"
     ]
    },
    {
     "name": "stderr",
     "output_type": "stream",
     "text": [
      "100%|██████████| 229/229 [00:34<00:00,  6.61it/s]\n",
      "  0%|          | 1/229 [00:00<00:31,  7.28it/s]"
     ]
    },
    {
     "name": "stdout",
     "output_type": "stream",
     "text": [
      "Epoch: 039, Train Acc: 0.7555, Train AUC: 0.9071, Test Acc: 0.7305, Test Auc: 0.8790, Loss: 0.8858\n"
     ]
    },
    {
     "name": "stderr",
     "output_type": "stream",
     "text": [
      "100%|██████████| 229/229 [00:34<00:00,  6.61it/s]\n",
      "  0%|          | 1/229 [00:00<00:30,  7.39it/s]"
     ]
    },
    {
     "name": "stdout",
     "output_type": "stream",
     "text": [
      "Epoch: 040, Train Acc: 0.7771, Train AUC: 0.9141, Test Acc: 0.7445, Test Auc: 0.8897, Loss: 0.8522\n"
     ]
    },
    {
     "name": "stderr",
     "output_type": "stream",
     "text": [
      "100%|██████████| 229/229 [00:34<00:00,  6.57it/s]\n",
      "  0%|          | 1/229 [00:00<00:31,  7.23it/s]"
     ]
    },
    {
     "name": "stdout",
     "output_type": "stream",
     "text": [
      "Epoch: 041, Train Acc: 0.7975, Train AUC: 0.9169, Test Acc: 0.7655, Test Auc: 0.8936, Loss: 0.8250\n"
     ]
    },
    {
     "name": "stderr",
     "output_type": "stream",
     "text": [
      "100%|██████████| 229/229 [00:34<00:00,  6.57it/s]\n",
      "  0%|          | 1/229 [00:00<00:31,  7.22it/s]"
     ]
    },
    {
     "name": "stdout",
     "output_type": "stream",
     "text": [
      "Epoch: 042, Train Acc: 0.7829, Train AUC: 0.9259, Test Acc: 0.7445, Test Auc: 0.9032, Loss: 0.7934\n"
     ]
    },
    {
     "name": "stderr",
     "output_type": "stream",
     "text": [
      "100%|██████████| 229/229 [00:34<00:00,  6.61it/s]\n",
      "  0%|          | 1/229 [00:00<00:29,  7.69it/s]"
     ]
    },
    {
     "name": "stdout",
     "output_type": "stream",
     "text": [
      "Epoch: 043, Train Acc: 0.7778, Train AUC: 0.9213, Test Acc: 0.7690, Test Auc: 0.8952, Loss: 0.8072\n"
     ]
    },
    {
     "name": "stderr",
     "output_type": "stream",
     "text": [
      "100%|██████████| 229/229 [00:33<00:00,  6.76it/s]\n",
      "  0%|          | 1/229 [00:00<00:29,  7.85it/s]"
     ]
    },
    {
     "name": "stdout",
     "output_type": "stream",
     "text": [
      "Epoch: 044, Train Acc: 0.8118, Train AUC: 0.9318, Test Acc: 0.7713, Test Auc: 0.9078, Loss: 0.7743\n"
     ]
    },
    {
     "name": "stderr",
     "output_type": "stream",
     "text": [
      "100%|██████████| 229/229 [00:33<00:00,  6.76it/s]\n",
      "  0%|          | 1/229 [00:00<00:29,  7.83it/s]"
     ]
    },
    {
     "name": "stdout",
     "output_type": "stream",
     "text": [
      "Epoch: 045, Train Acc: 0.8076, Train AUC: 0.9268, Test Acc: 0.7725, Test Auc: 0.9000, Loss: 0.7675\n"
     ]
    },
    {
     "name": "stderr",
     "output_type": "stream",
     "text": [
      "100%|██████████| 229/229 [00:34<00:00,  6.60it/s]\n",
      "  0%|          | 1/229 [00:00<00:31,  7.17it/s]"
     ]
    },
    {
     "name": "stdout",
     "output_type": "stream",
     "text": [
      "Epoch: 046, Train Acc: 0.8324, Train AUC: 0.9328, Test Acc: 0.7981, Test Auc: 0.9055, Loss: 0.7393\n"
     ]
    },
    {
     "name": "stderr",
     "output_type": "stream",
     "text": [
      "100%|██████████| 229/229 [00:34<00:00,  6.57it/s]\n",
      "  0%|          | 1/229 [00:00<00:31,  7.29it/s]"
     ]
    },
    {
     "name": "stdout",
     "output_type": "stream",
     "text": [
      "Epoch: 047, Train Acc: 0.8163, Train AUC: 0.9361, Test Acc: 0.7771, Test Auc: 0.9137, Loss: 0.7284\n"
     ]
    },
    {
     "name": "stderr",
     "output_type": "stream",
     "text": [
      "100%|██████████| 229/229 [00:34<00:00,  6.60it/s]\n",
      "  0%|          | 1/229 [00:00<00:31,  7.23it/s]"
     ]
    },
    {
     "name": "stdout",
     "output_type": "stream",
     "text": [
      "Epoch: 048, Train Acc: 0.7457, Train AUC: 0.9422, Test Acc: 0.7130, Test Auc: 0.9215, Loss: 0.7044\n"
     ]
    },
    {
     "name": "stderr",
     "output_type": "stream",
     "text": [
      "100%|██████████| 229/229 [00:34<00:00,  6.61it/s]\n",
      "  0%|          | 1/229 [00:00<00:31,  7.20it/s]"
     ]
    },
    {
     "name": "stdout",
     "output_type": "stream",
     "text": [
      "Epoch: 049, Train Acc: 0.8395, Train AUC: 0.9398, Test Acc: 0.7911, Test Auc: 0.9152, Loss: 0.7107\n"
     ]
    },
    {
     "name": "stderr",
     "output_type": "stream",
     "text": [
      "100%|██████████| 229/229 [00:34<00:00,  6.61it/s]\n",
      "  0%|          | 1/229 [00:00<00:31,  7.13it/s]"
     ]
    },
    {
     "name": "stdout",
     "output_type": "stream",
     "text": [
      "Epoch: 050, Train Acc: 0.8464, Train AUC: 0.9401, Test Acc: 0.8028, Test Auc: 0.9114, Loss: 0.6829\n"
     ]
    },
    {
     "name": "stderr",
     "output_type": "stream",
     "text": [
      "100%|██████████| 229/229 [00:34<00:00,  6.57it/s]\n",
      "  0%|          | 1/229 [00:00<00:31,  7.19it/s]"
     ]
    },
    {
     "name": "stdout",
     "output_type": "stream",
     "text": [
      "Epoch: 051, Train Acc: 0.8465, Train AUC: 0.9438, Test Acc: 0.8133, Test Auc: 0.9218, Loss: 0.6670\n"
     ]
    },
    {
     "name": "stderr",
     "output_type": "stream",
     "text": [
      "100%|██████████| 229/229 [00:34<00:00,  6.57it/s]\n",
      "  0%|          | 1/229 [00:00<00:32,  7.10it/s]"
     ]
    },
    {
     "name": "stdout",
     "output_type": "stream",
     "text": [
      "Epoch: 052, Train Acc: 0.8389, Train AUC: 0.9392, Test Acc: 0.7806, Test Auc: 0.9124, Loss: 0.6669\n"
     ]
    },
    {
     "name": "stderr",
     "output_type": "stream",
     "text": [
      "100%|██████████| 229/229 [00:34<00:00,  6.62it/s]\n",
      "  0%|          | 1/229 [00:00<00:31,  7.22it/s]"
     ]
    },
    {
     "name": "stdout",
     "output_type": "stream",
     "text": [
      "Epoch: 053, Train Acc: 0.8563, Train AUC: 0.9416, Test Acc: 0.8121, Test Auc: 0.9175, Loss: 0.6589\n"
     ]
    },
    {
     "name": "stderr",
     "output_type": "stream",
     "text": [
      "100%|██████████| 229/229 [00:34<00:00,  6.62it/s]\n",
      "  0%|          | 1/229 [00:00<00:29,  7.76it/s]"
     ]
    },
    {
     "name": "stdout",
     "output_type": "stream",
     "text": [
      "Epoch: 054, Train Acc: 0.8544, Train AUC: 0.9447, Test Acc: 0.8075, Test Auc: 0.9235, Loss: 0.6510\n"
     ]
    },
    {
     "name": "stderr",
     "output_type": "stream",
     "text": [
      "100%|██████████| 229/229 [00:33<00:00,  6.75it/s]\n",
      "  0%|          | 1/229 [00:00<00:29,  7.62it/s]"
     ]
    },
    {
     "name": "stdout",
     "output_type": "stream",
     "text": [
      "Epoch: 055, Train Acc: 0.8530, Train AUC: 0.9487, Test Acc: 0.8133, Test Auc: 0.9238, Loss: 0.6411\n"
     ]
    },
    {
     "name": "stderr",
     "output_type": "stream",
     "text": [
      "100%|██████████| 229/229 [00:33<00:00,  6.75it/s]\n",
      "  0%|          | 1/229 [00:00<00:31,  7.17it/s]"
     ]
    },
    {
     "name": "stdout",
     "output_type": "stream",
     "text": [
      "Epoch: 056, Train Acc: 0.8525, Train AUC: 0.9511, Test Acc: 0.8051, Test Auc: 0.9280, Loss: 0.6252\n"
     ]
    },
    {
     "name": "stderr",
     "output_type": "stream",
     "text": [
      "100%|██████████| 229/229 [00:34<00:00,  6.57it/s]\n",
      "  0%|          | 1/229 [00:00<00:30,  7.36it/s]"
     ]
    },
    {
     "name": "stdout",
     "output_type": "stream",
     "text": [
      "Epoch: 057, Train Acc: 0.8543, Train AUC: 0.9481, Test Acc: 0.8191, Test Auc: 0.9233, Loss: 0.6151\n"
     ]
    },
    {
     "name": "stderr",
     "output_type": "stream",
     "text": [
      "100%|██████████| 229/229 [00:34<00:00,  6.59it/s]\n",
      "  0%|          | 1/229 [00:00<00:29,  7.61it/s]"
     ]
    },
    {
     "name": "stdout",
     "output_type": "stream",
     "text": [
      "Epoch: 058, Train Acc: 0.8521, Train AUC: 0.9498, Test Acc: 0.8098, Test Auc: 0.9248, Loss: 0.6166\n"
     ]
    },
    {
     "name": "stderr",
     "output_type": "stream",
     "text": [
      "100%|██████████| 229/229 [00:34<00:00,  6.62it/s]\n",
      "  0%|          | 1/229 [00:00<00:29,  7.63it/s]"
     ]
    },
    {
     "name": "stdout",
     "output_type": "stream",
     "text": [
      "Epoch: 059, Train Acc: 0.8827, Train AUC: 0.9559, Test Acc: 0.8343, Test Auc: 0.9365, Loss: 0.6240\n"
     ]
    },
    {
     "name": "stderr",
     "output_type": "stream",
     "text": [
      "100%|██████████| 229/229 [00:34<00:00,  6.60it/s]\n",
      "  0%|          | 1/229 [00:00<00:31,  7.16it/s]"
     ]
    },
    {
     "name": "stdout",
     "output_type": "stream",
     "text": [
      "Epoch: 060, Train Acc: 0.8862, Train AUC: 0.9517, Test Acc: 0.8320, Test Auc: 0.9303, Loss: 0.5957\n"
     ]
    },
    {
     "name": "stderr",
     "output_type": "stream",
     "text": [
      "100%|██████████| 229/229 [00:34<00:00,  6.56it/s]\n",
      "  0%|          | 1/229 [00:00<00:31,  7.25it/s]"
     ]
    },
    {
     "name": "stdout",
     "output_type": "stream",
     "text": [
      "Epoch: 061, Train Acc: 0.8814, Train AUC: 0.9553, Test Acc: 0.8425, Test Auc: 0.9343, Loss: 0.5949\n"
     ]
    },
    {
     "name": "stderr",
     "output_type": "stream",
     "text": [
      "100%|██████████| 229/229 [00:34<00:00,  6.56it/s]\n",
      "  0%|          | 1/229 [00:00<00:31,  7.20it/s]"
     ]
    },
    {
     "name": "stdout",
     "output_type": "stream",
     "text": [
      "Epoch: 062, Train Acc: 0.8709, Train AUC: 0.9577, Test Acc: 0.8378, Test Auc: 0.9362, Loss: 0.5646\n"
     ]
    },
    {
     "name": "stderr",
     "output_type": "stream",
     "text": [
      "100%|██████████| 229/229 [00:34<00:00,  6.61it/s]\n",
      "  0%|          | 1/229 [00:00<00:31,  7.22it/s]"
     ]
    },
    {
     "name": "stdout",
     "output_type": "stream",
     "text": [
      "Epoch: 063, Train Acc: 0.8877, Train AUC: 0.9544, Test Acc: 0.8378, Test Auc: 0.9360, Loss: 0.5713\n"
     ]
    },
    {
     "name": "stderr",
     "output_type": "stream",
     "text": [
      "100%|██████████| 229/229 [00:34<00:00,  6.61it/s]\n",
      "  0%|          | 1/229 [00:00<00:29,  7.82it/s]"
     ]
    },
    {
     "name": "stdout",
     "output_type": "stream",
     "text": [
      "Epoch: 064, Train Acc: 0.8853, Train AUC: 0.9585, Test Acc: 0.8518, Test Auc: 0.9387, Loss: 0.5854\n"
     ]
    },
    {
     "name": "stderr",
     "output_type": "stream",
     "text": [
      "100%|██████████| 229/229 [00:34<00:00,  6.67it/s]\n",
      "  0%|          | 1/229 [00:00<00:30,  7.42it/s]"
     ]
    },
    {
     "name": "stdout",
     "output_type": "stream",
     "text": [
      "Epoch: 065, Train Acc: 0.8923, Train AUC: 0.9599, Test Acc: 0.8530, Test Auc: 0.9439, Loss: 0.5602\n"
     ]
    },
    {
     "name": "stderr",
     "output_type": "stream",
     "text": [
      "100%|██████████| 229/229 [00:33<00:00,  6.75it/s]\n",
      "  0%|          | 1/229 [00:00<00:28,  7.86it/s]"
     ]
    },
    {
     "name": "stdout",
     "output_type": "stream",
     "text": [
      "Epoch: 066, Train Acc: 0.8938, Train AUC: 0.9575, Test Acc: 0.8541, Test Auc: 0.9360, Loss: 0.5625\n"
     ]
    },
    {
     "name": "stderr",
     "output_type": "stream",
     "text": [
      "100%|██████████| 229/229 [00:33<00:00,  6.75it/s]\n",
      "  0%|          | 1/229 [00:00<00:31,  7.14it/s]"
     ]
    },
    {
     "name": "stdout",
     "output_type": "stream",
     "text": [
      "Epoch: 067, Train Acc: 0.8868, Train AUC: 0.9599, Test Acc: 0.8413, Test Auc: 0.9440, Loss: 0.5474\n"
     ]
    },
    {
     "name": "stderr",
     "output_type": "stream",
     "text": [
      "100%|██████████| 229/229 [00:34<00:00,  6.58it/s]\n",
      "  0%|          | 1/229 [00:00<00:31,  7.25it/s]"
     ]
    },
    {
     "name": "stdout",
     "output_type": "stream",
     "text": [
      "Epoch: 068, Train Acc: 0.8996, Train AUC: 0.9626, Test Acc: 0.8635, Test Auc: 0.9409, Loss: 0.5439\n"
     ]
    },
    {
     "name": "stderr",
     "output_type": "stream",
     "text": [
      "100%|██████████| 229/229 [00:34<00:00,  6.62it/s]\n",
      "  0%|          | 1/229 [00:00<00:29,  7.81it/s]"
     ]
    },
    {
     "name": "stdout",
     "output_type": "stream",
     "text": [
      "Epoch: 069, Train Acc: 0.8996, Train AUC: 0.9616, Test Acc: 0.8623, Test Auc: 0.9454, Loss: 0.5251\n"
     ]
    },
    {
     "name": "stderr",
     "output_type": "stream",
     "text": [
      "100%|██████████| 229/229 [00:34<00:00,  6.61it/s]\n",
      "  0%|          | 1/229 [00:00<00:32,  7.08it/s]"
     ]
    },
    {
     "name": "stdout",
     "output_type": "stream",
     "text": [
      "Epoch: 070, Train Acc: 0.9033, Train AUC: 0.9621, Test Acc: 0.8670, Test Auc: 0.9440, Loss: 0.5355\n"
     ]
    },
    {
     "name": "stderr",
     "output_type": "stream",
     "text": [
      "100%|██████████| 229/229 [00:34<00:00,  6.56it/s]\n",
      "  0%|          | 1/229 [00:00<00:29,  7.71it/s]"
     ]
    },
    {
     "name": "stdout",
     "output_type": "stream",
     "text": [
      "Epoch: 071, Train Acc: 0.8999, Train AUC: 0.9629, Test Acc: 0.8600, Test Auc: 0.9463, Loss: 0.5329\n"
     ]
    },
    {
     "name": "stderr",
     "output_type": "stream",
     "text": [
      "100%|██████████| 229/229 [00:34<00:00,  6.56it/s]\n",
      "  0%|          | 1/229 [00:00<00:29,  7.84it/s]"
     ]
    },
    {
     "name": "stdout",
     "output_type": "stream",
     "text": [
      "Epoch: 072, Train Acc: 0.8909, Train AUC: 0.9611, Test Acc: 0.8495, Test Auc: 0.9447, Loss: 0.5197\n"
     ]
    },
    {
     "name": "stderr",
     "output_type": "stream",
     "text": [
      "100%|██████████| 229/229 [00:34<00:00,  6.60it/s]\n",
      "  0%|          | 1/229 [00:00<00:31,  7.22it/s]"
     ]
    },
    {
     "name": "stdout",
     "output_type": "stream",
     "text": [
      "Epoch: 073, Train Acc: 0.8986, Train AUC: 0.9620, Test Acc: 0.8681, Test Auc: 0.9470, Loss: 0.5372\n"
     ]
    },
    {
     "name": "stderr",
     "output_type": "stream",
     "text": [
      "100%|██████████| 229/229 [00:34<00:00,  6.61it/s]\n",
      "  0%|          | 1/229 [00:00<00:31,  7.22it/s]"
     ]
    },
    {
     "name": "stdout",
     "output_type": "stream",
     "text": [
      "Epoch: 074, Train Acc: 0.8958, Train AUC: 0.9629, Test Acc: 0.8670, Test Auc: 0.9452, Loss: 0.5268\n"
     ]
    },
    {
     "name": "stderr",
     "output_type": "stream",
     "text": [
      "100%|██████████| 229/229 [00:34<00:00,  6.58it/s]\n",
      "  0%|          | 1/229 [00:00<00:31,  7.23it/s]"
     ]
    },
    {
     "name": "stdout",
     "output_type": "stream",
     "text": [
      "Epoch: 075, Train Acc: 0.9012, Train AUC: 0.9625, Test Acc: 0.8751, Test Auc: 0.9459, Loss: 0.5021\n"
     ]
    },
    {
     "name": "stderr",
     "output_type": "stream",
     "text": [
      "100%|██████████| 229/229 [00:34<00:00,  6.72it/s]\n",
      "  0%|          | 1/229 [00:00<00:31,  7.15it/s]"
     ]
    },
    {
     "name": "stdout",
     "output_type": "stream",
     "text": [
      "Epoch: 076, Train Acc: 0.9011, Train AUC: 0.9628, Test Acc: 0.8611, Test Auc: 0.9441, Loss: 0.5208\n"
     ]
    },
    {
     "name": "stderr",
     "output_type": "stream",
     "text": [
      "100%|██████████| 229/229 [00:33<00:00,  6.74it/s]\n",
      "  0%|          | 1/229 [00:00<00:29,  7.66it/s]"
     ]
    },
    {
     "name": "stdout",
     "output_type": "stream",
     "text": [
      "Epoch: 077, Train Acc: 0.9014, Train AUC: 0.9638, Test Acc: 0.8576, Test Auc: 0.9460, Loss: 0.5086\n"
     ]
    },
    {
     "name": "stderr",
     "output_type": "stream",
     "text": [
      "100%|██████████| 229/229 [00:33<00:00,  6.75it/s]\n",
      "  0%|          | 1/229 [00:00<00:31,  7.16it/s]"
     ]
    },
    {
     "name": "stdout",
     "output_type": "stream",
     "text": [
      "Epoch: 078, Train Acc: 0.9046, Train AUC: 0.9614, Test Acc: 0.8763, Test Auc: 0.9474, Loss: 0.4969\n"
     ]
    },
    {
     "name": "stderr",
     "output_type": "stream",
     "text": [
      "100%|██████████| 229/229 [00:34<00:00,  6.62it/s]\n",
      "  0%|          | 1/229 [00:00<00:31,  7.33it/s]"
     ]
    },
    {
     "name": "stdout",
     "output_type": "stream",
     "text": [
      "Epoch: 079, Train Acc: 0.8993, Train AUC: 0.9666, Test Acc: 0.8576, Test Auc: 0.9492, Loss: 0.4912\n"
     ]
    },
    {
     "name": "stderr",
     "output_type": "stream",
     "text": [
      "100%|██████████| 229/229 [00:34<00:00,  6.61it/s]\n",
      "  0%|          | 1/229 [00:00<00:31,  7.20it/s]"
     ]
    },
    {
     "name": "stdout",
     "output_type": "stream",
     "text": [
      "Epoch: 080, Train Acc: 0.9160, Train AUC: 0.9646, Test Acc: 0.8786, Test Auc: 0.9463, Loss: 0.4932\n"
     ]
    },
    {
     "name": "stderr",
     "output_type": "stream",
     "text": [
      "100%|██████████| 229/229 [00:34<00:00,  6.57it/s]\n",
      "  0%|          | 1/229 [00:00<00:31,  7.15it/s]"
     ]
    },
    {
     "name": "stdout",
     "output_type": "stream",
     "text": [
      "Epoch: 081, Train Acc: 0.9230, Train AUC: 0.9660, Test Acc: 0.8716, Test Auc: 0.9509, Loss: 0.4750\n"
     ]
    },
    {
     "name": "stderr",
     "output_type": "stream",
     "text": [
      "100%|██████████| 229/229 [00:34<00:00,  6.57it/s]\n",
      "  0%|          | 1/229 [00:00<00:30,  7.45it/s]"
     ]
    },
    {
     "name": "stdout",
     "output_type": "stream",
     "text": [
      "Epoch: 082, Train Acc: 0.9221, Train AUC: 0.9679, Test Acc: 0.8798, Test Auc: 0.9510, Loss: 0.4622\n"
     ]
    },
    {
     "name": "stderr",
     "output_type": "stream",
     "text": [
      "100%|██████████| 229/229 [00:34<00:00,  6.61it/s]\n",
      "  0%|          | 1/229 [00:00<00:31,  7.34it/s]"
     ]
    },
    {
     "name": "stdout",
     "output_type": "stream",
     "text": [
      "Epoch: 083, Train Acc: 0.9113, Train AUC: 0.9656, Test Acc: 0.8681, Test Auc: 0.9459, Loss: 0.4731\n"
     ]
    },
    {
     "name": "stderr",
     "output_type": "stream",
     "text": [
      "100%|██████████| 229/229 [00:34<00:00,  6.61it/s]\n",
      "  0%|          | 1/229 [00:00<00:29,  7.82it/s]"
     ]
    },
    {
     "name": "stdout",
     "output_type": "stream",
     "text": [
      "Epoch: 084, Train Acc: 0.9198, Train AUC: 0.9672, Test Acc: 0.8810, Test Auc: 0.9520, Loss: 0.4706\n"
     ]
    },
    {
     "name": "stderr",
     "output_type": "stream",
     "text": [
      "100%|██████████| 229/229 [00:34<00:00,  6.59it/s]\n",
      "  0%|          | 1/229 [00:00<00:29,  7.74it/s]"
     ]
    },
    {
     "name": "stdout",
     "output_type": "stream",
     "text": [
      "Epoch: 085, Train Acc: 0.9224, Train AUC: 0.9685, Test Acc: 0.8880, Test Auc: 0.9533, Loss: 0.4675\n"
     ]
    },
    {
     "name": "stderr",
     "output_type": "stream",
     "text": [
      "100%|██████████| 229/229 [00:34<00:00,  6.57it/s]\n",
      "  0%|          | 1/229 [00:00<00:29,  7.75it/s]"
     ]
    },
    {
     "name": "stdout",
     "output_type": "stream",
     "text": [
      "Epoch: 086, Train Acc: 0.9148, Train AUC: 0.9697, Test Acc: 0.8833, Test Auc: 0.9538, Loss: 0.4592\n"
     ]
    },
    {
     "name": "stderr",
     "output_type": "stream",
     "text": [
      "100%|██████████| 229/229 [00:33<00:00,  6.75it/s]\n",
      "  0%|          | 1/229 [00:00<00:29,  7.80it/s]"
     ]
    },
    {
     "name": "stdout",
     "output_type": "stream",
     "text": [
      "Epoch: 087, Train Acc: 0.9211, Train AUC: 0.9686, Test Acc: 0.8821, Test Auc: 0.9546, Loss: 0.4759\n"
     ]
    },
    {
     "name": "stderr",
     "output_type": "stream",
     "text": [
      "100%|██████████| 229/229 [00:33<00:00,  6.75it/s]\n",
      "  0%|          | 1/229 [00:00<00:32,  7.06it/s]"
     ]
    },
    {
     "name": "stdout",
     "output_type": "stream",
     "text": [
      "Epoch: 088, Train Acc: 0.9192, Train AUC: 0.9703, Test Acc: 0.8926, Test Auc: 0.9555, Loss: 0.4524\n"
     ]
    },
    {
     "name": "stderr",
     "output_type": "stream",
     "text": [
      "100%|██████████| 229/229 [00:34<00:00,  6.72it/s]\n",
      "  0%|          | 1/229 [00:00<00:31,  7.19it/s]"
     ]
    },
    {
     "name": "stdout",
     "output_type": "stream",
     "text": [
      "Epoch: 089, Train Acc: 0.9252, Train AUC: 0.9695, Test Acc: 0.8716, Test Auc: 0.9548, Loss: 0.4546\n"
     ]
    },
    {
     "name": "stderr",
     "output_type": "stream",
     "text": [
      "100%|██████████| 229/229 [00:34<00:00,  6.61it/s]\n",
      "  0%|          | 1/229 [00:00<00:31,  7.27it/s]"
     ]
    },
    {
     "name": "stdout",
     "output_type": "stream",
     "text": [
      "Epoch: 090, Train Acc: 0.9171, Train AUC: 0.9688, Test Acc: 0.8681, Test Auc: 0.9562, Loss: 0.4440\n"
     ]
    },
    {
     "name": "stderr",
     "output_type": "stream",
     "text": [
      "100%|██████████| 229/229 [00:34<00:00,  6.57it/s]\n",
      "  0%|          | 1/229 [00:00<00:31,  7.21it/s]"
     ]
    },
    {
     "name": "stdout",
     "output_type": "stream",
     "text": [
      "Epoch: 091, Train Acc: 0.9272, Train AUC: 0.9674, Test Acc: 0.8950, Test Auc: 0.9547, Loss: 0.4692\n"
     ]
    },
    {
     "name": "stderr",
     "output_type": "stream",
     "text": [
      "100%|██████████| 229/229 [00:34<00:00,  6.57it/s]\n",
      "  0%|          | 1/229 [00:00<00:31,  7.14it/s]"
     ]
    },
    {
     "name": "stdout",
     "output_type": "stream",
     "text": [
      "Epoch: 092, Train Acc: 0.9256, Train AUC: 0.9716, Test Acc: 0.8950, Test Auc: 0.9570, Loss: 0.4266\n"
     ]
    },
    {
     "name": "stderr",
     "output_type": "stream",
     "text": [
      "100%|██████████| 229/229 [00:34<00:00,  6.61it/s]\n",
      "  0%|          | 1/229 [00:00<00:31,  7.16it/s]"
     ]
    },
    {
     "name": "stdout",
     "output_type": "stream",
     "text": [
      "Epoch: 093, Train Acc: 0.9276, Train AUC: 0.9715, Test Acc: 0.8903, Test Auc: 0.9573, Loss: 0.4311\n"
     ]
    },
    {
     "name": "stderr",
     "output_type": "stream",
     "text": [
      "100%|██████████| 229/229 [00:34<00:00,  6.62it/s]\n",
      "  0%|          | 1/229 [00:00<00:28,  7.87it/s]"
     ]
    },
    {
     "name": "stdout",
     "output_type": "stream",
     "text": [
      "Epoch: 094, Train Acc: 0.9263, Train AUC: 0.9706, Test Acc: 0.8880, Test Auc: 0.9560, Loss: 0.4357\n"
     ]
    },
    {
     "name": "stderr",
     "output_type": "stream",
     "text": [
      "100%|██████████| 229/229 [00:34<00:00,  6.59it/s]\n",
      "  0%|          | 1/229 [00:00<00:32,  7.09it/s]"
     ]
    },
    {
     "name": "stdout",
     "output_type": "stream",
     "text": [
      "Epoch: 095, Train Acc: 0.9211, Train AUC: 0.9707, Test Acc: 0.8868, Test Auc: 0.9570, Loss: 0.4212\n"
     ]
    },
    {
     "name": "stderr",
     "output_type": "stream",
     "text": [
      "100%|██████████| 229/229 [00:34<00:00,  6.57it/s]\n",
      "  0%|          | 1/229 [00:00<00:29,  7.69it/s]"
     ]
    },
    {
     "name": "stdout",
     "output_type": "stream",
     "text": [
      "Epoch: 096, Train Acc: 0.9208, Train AUC: 0.9730, Test Acc: 0.8926, Test Auc: 0.9594, Loss: 0.4225\n"
     ]
    },
    {
     "name": "stderr",
     "output_type": "stream",
     "text": [
      "100%|██████████| 229/229 [00:34<00:00,  6.60it/s]\n",
      "  0%|          | 1/229 [00:00<00:31,  7.22it/s]"
     ]
    },
    {
     "name": "stdout",
     "output_type": "stream",
     "text": [
      "Epoch: 097, Train Acc: 0.8705, Train AUC: 0.9628, Test Acc: 0.8215, Test Auc: 0.9476, Loss: 0.4177\n"
     ]
    },
    {
     "name": "stderr",
     "output_type": "stream",
     "text": [
      "100%|██████████| 229/229 [00:33<00:00,  6.75it/s]\n",
      "  0%|          | 1/229 [00:00<00:29,  7.68it/s]"
     ]
    },
    {
     "name": "stdout",
     "output_type": "stream",
     "text": [
      "Epoch: 098, Train Acc: 0.9311, Train AUC: 0.9716, Test Acc: 0.8845, Test Auc: 0.9578, Loss: 0.4228\n"
     ]
    },
    {
     "name": "stderr",
     "output_type": "stream",
     "text": [
      "100%|██████████| 229/229 [00:33<00:00,  6.76it/s]\n",
      "  0%|          | 1/229 [00:00<00:31,  7.30it/s]"
     ]
    },
    {
     "name": "stdout",
     "output_type": "stream",
     "text": [
      "Epoch: 099, Train Acc: 0.9332, Train AUC: 0.9721, Test Acc: 0.8833, Test Auc: 0.9593, Loss: 0.4103\n"
     ]
    },
    {
     "name": "stderr",
     "output_type": "stream",
     "text": [
      "100%|██████████| 229/229 [00:34<00:00,  6.65it/s]\n",
      "  0%|          | 1/229 [00:00<00:30,  7.45it/s]"
     ]
    },
    {
     "name": "stdout",
     "output_type": "stream",
     "text": [
      "Epoch: 100, Train Acc: 0.9303, Train AUC: 0.9734, Test Acc: 0.8751, Test Auc: 0.9605, Loss: 0.4242\n"
     ]
    },
    {
     "name": "stderr",
     "output_type": "stream",
     "text": [
      "100%|██████████| 229/229 [00:34<00:00,  6.57it/s]\n",
      "  0%|          | 1/229 [00:00<00:31,  7.35it/s]"
     ]
    },
    {
     "name": "stdout",
     "output_type": "stream",
     "text": [
      "Epoch: 101, Train Acc: 0.9380, Train AUC: 0.9725, Test Acc: 0.9043, Test Auc: 0.9589, Loss: 0.4040\n"
     ]
    },
    {
     "name": "stderr",
     "output_type": "stream",
     "text": [
      "100%|██████████| 229/229 [00:34<00:00,  6.56it/s]\n",
      "  0%|          | 1/229 [00:00<00:31,  7.19it/s]"
     ]
    },
    {
     "name": "stdout",
     "output_type": "stream",
     "text": [
      "Epoch: 102, Train Acc: 0.9309, Train AUC: 0.9740, Test Acc: 0.9008, Test Auc: 0.9590, Loss: 0.3996\n"
     ]
    },
    {
     "name": "stderr",
     "output_type": "stream",
     "text": [
      "100%|██████████| 229/229 [00:34<00:00,  6.60it/s]\n",
      "  0%|          | 1/229 [00:00<00:31,  7.16it/s]"
     ]
    },
    {
     "name": "stdout",
     "output_type": "stream",
     "text": [
      "Epoch: 103, Train Acc: 0.9234, Train AUC: 0.9735, Test Acc: 0.8786, Test Auc: 0.9569, Loss: 0.3909\n"
     ]
    },
    {
     "name": "stderr",
     "output_type": "stream",
     "text": [
      "100%|██████████| 229/229 [00:34<00:00,  6.61it/s]\n",
      "  0%|          | 1/229 [00:00<00:29,  7.79it/s]"
     ]
    },
    {
     "name": "stdout",
     "output_type": "stream",
     "text": [
      "Epoch: 104, Train Acc: 0.9357, Train AUC: 0.9757, Test Acc: 0.9043, Test Auc: 0.9614, Loss: 0.4053\n"
     ]
    },
    {
     "name": "stderr",
     "output_type": "stream",
     "text": [
      "100%|██████████| 229/229 [00:34<00:00,  6.59it/s]\n",
      "  0%|          | 1/229 [00:00<00:31,  7.22it/s]"
     ]
    },
    {
     "name": "stdout",
     "output_type": "stream",
     "text": [
      "Epoch: 105, Train Acc: 0.9358, Train AUC: 0.9739, Test Acc: 0.8903, Test Auc: 0.9594, Loss: 0.4048\n"
     ]
    },
    {
     "name": "stderr",
     "output_type": "stream",
     "text": [
      "100%|██████████| 229/229 [00:34<00:00,  6.56it/s]\n",
      "  0%|          | 1/229 [00:00<00:31,  7.23it/s]"
     ]
    },
    {
     "name": "stdout",
     "output_type": "stream",
     "text": [
      "Epoch: 106, Train Acc: 0.9344, Train AUC: 0.9730, Test Acc: 0.8996, Test Auc: 0.9577, Loss: 0.3968\n"
     ]
    },
    {
     "name": "stderr",
     "output_type": "stream",
     "text": [
      "100%|██████████| 229/229 [00:34<00:00,  6.60it/s]\n",
      "  0%|          | 1/229 [00:00<00:30,  7.37it/s]"
     ]
    },
    {
     "name": "stdout",
     "output_type": "stream",
     "text": [
      "Epoch: 107, Train Acc: 0.9400, Train AUC: 0.9737, Test Acc: 0.9090, Test Auc: 0.9598, Loss: 0.3877\n"
     ]
    },
    {
     "name": "stderr",
     "output_type": "stream",
     "text": [
      "100%|██████████| 229/229 [00:34<00:00,  6.61it/s]\n",
      "  0%|          | 1/229 [00:00<00:29,  7.86it/s]"
     ]
    },
    {
     "name": "stdout",
     "output_type": "stream",
     "text": [
      "Epoch: 108, Train Acc: 0.9370, Train AUC: 0.9759, Test Acc: 0.8926, Test Auc: 0.9640, Loss: 0.3860\n"
     ]
    },
    {
     "name": "stderr",
     "output_type": "stream",
     "text": [
      "100%|██████████| 229/229 [00:33<00:00,  6.75it/s]\n",
      "  0%|          | 1/229 [00:00<00:31,  7.32it/s]"
     ]
    },
    {
     "name": "stdout",
     "output_type": "stream",
     "text": [
      "Epoch: 109, Train Acc: 0.9396, Train AUC: 0.9760, Test Acc: 0.8996, Test Auc: 0.9633, Loss: 0.3864\n"
     ]
    },
    {
     "name": "stderr",
     "output_type": "stream",
     "text": [
      "100%|██████████| 229/229 [00:33<00:00,  6.75it/s]\n",
      "  0%|          | 1/229 [00:00<00:29,  7.85it/s]"
     ]
    },
    {
     "name": "stdout",
     "output_type": "stream",
     "text": [
      "Epoch: 110, Train Acc: 0.9414, Train AUC: 0.9749, Test Acc: 0.9078, Test Auc: 0.9627, Loss: 0.3866\n"
     ]
    },
    {
     "name": "stderr",
     "output_type": "stream",
     "text": [
      "100%|██████████| 229/229 [00:34<00:00,  6.57it/s]\n",
      "  0%|          | 1/229 [00:00<00:31,  7.25it/s]"
     ]
    },
    {
     "name": "stdout",
     "output_type": "stream",
     "text": [
      "Epoch: 111, Train Acc: 0.9257, Train AUC: 0.9702, Test Acc: 0.8903, Test Auc: 0.9547, Loss: 0.3947\n"
     ]
    },
    {
     "name": "stderr",
     "output_type": "stream",
     "text": [
      "100%|██████████| 229/229 [00:34<00:00,  6.57it/s]\n",
      "  0%|          | 1/229 [00:00<00:29,  7.71it/s]"
     ]
    },
    {
     "name": "stdout",
     "output_type": "stream",
     "text": [
      "Epoch: 112, Train Acc: 0.9303, Train AUC: 0.9750, Test Acc: 0.8985, Test Auc: 0.9610, Loss: 0.3831\n"
     ]
    },
    {
     "name": "stderr",
     "output_type": "stream",
     "text": [
      "100%|██████████| 229/229 [00:34<00:00,  6.61it/s]\n",
      "  0%|          | 1/229 [00:00<00:31,  7.24it/s]"
     ]
    },
    {
     "name": "stdout",
     "output_type": "stream",
     "text": [
      "Epoch: 113, Train Acc: 0.9365, Train AUC: 0.9741, Test Acc: 0.8903, Test Auc: 0.9613, Loss: 0.3845\n"
     ]
    },
    {
     "name": "stderr",
     "output_type": "stream",
     "text": [
      "100%|██████████| 229/229 [00:34<00:00,  6.61it/s]\n",
      "  0%|          | 1/229 [00:00<00:29,  7.81it/s]"
     ]
    },
    {
     "name": "stdout",
     "output_type": "stream",
     "text": [
      "Epoch: 114, Train Acc: 0.9374, Train AUC: 0.9754, Test Acc: 0.8961, Test Auc: 0.9616, Loss: 0.3649\n"
     ]
    },
    {
     "name": "stderr",
     "output_type": "stream",
     "text": [
      "100%|██████████| 229/229 [00:34<00:00,  6.60it/s]\n",
      "  0%|          | 1/229 [00:00<00:31,  7.26it/s]"
     ]
    },
    {
     "name": "stdout",
     "output_type": "stream",
     "text": [
      "Epoch: 115, Train Acc: 0.9319, Train AUC: 0.9749, Test Acc: 0.8821, Test Auc: 0.9592, Loss: 0.3600\n"
     ]
    },
    {
     "name": "stderr",
     "output_type": "stream",
     "text": [
      "100%|██████████| 229/229 [00:34<00:00,  6.57it/s]\n",
      "  0%|          | 1/229 [00:00<00:32,  7.10it/s]"
     ]
    },
    {
     "name": "stdout",
     "output_type": "stream",
     "text": [
      "Epoch: 116, Train Acc: 0.9371, Train AUC: 0.9761, Test Acc: 0.9008, Test Auc: 0.9616, Loss: 0.3820\n"
     ]
    },
    {
     "name": "stderr",
     "output_type": "stream",
     "text": [
      "100%|██████████| 229/229 [00:34<00:00,  6.59it/s]\n",
      "  0%|          | 1/229 [00:00<00:31,  7.25it/s]"
     ]
    },
    {
     "name": "stdout",
     "output_type": "stream",
     "text": [
      "Epoch: 117, Train Acc: 0.9465, Train AUC: 0.9750, Test Acc: 0.9008, Test Auc: 0.9624, Loss: 0.3448\n"
     ]
    },
    {
     "name": "stderr",
     "output_type": "stream",
     "text": [
      "100%|██████████| 229/229 [00:34<00:00,  6.60it/s]\n",
      "  0%|          | 1/229 [00:00<00:31,  7.26it/s]"
     ]
    },
    {
     "name": "stdout",
     "output_type": "stream",
     "text": [
      "Epoch: 118, Train Acc: 0.9449, Train AUC: 0.9764, Test Acc: 0.9078, Test Auc: 0.9639, Loss: 0.3540\n"
     ]
    },
    {
     "name": "stderr",
     "output_type": "stream",
     "text": [
      "100%|██████████| 229/229 [00:34<00:00,  6.65it/s]\n",
      "  0%|          | 1/229 [00:00<00:30,  7.42it/s]"
     ]
    },
    {
     "name": "stdout",
     "output_type": "stream",
     "text": [
      "Epoch: 119, Train Acc: 0.9416, Train AUC: 0.9768, Test Acc: 0.9043, Test Auc: 0.9639, Loss: 0.3593\n"
     ]
    },
    {
     "name": "stderr",
     "output_type": "stream",
     "text": [
      "100%|██████████| 229/229 [00:33<00:00,  6.75it/s]\n",
      "  0%|          | 1/229 [00:00<00:29,  7.62it/s]"
     ]
    },
    {
     "name": "stdout",
     "output_type": "stream",
     "text": [
      "Epoch: 120, Train Acc: 0.9478, Train AUC: 0.9766, Test Acc: 0.9160, Test Auc: 0.9615, Loss: 0.3482\n"
     ]
    },
    {
     "name": "stderr",
     "output_type": "stream",
     "text": [
      "100%|██████████| 229/229 [00:33<00:00,  6.74it/s]\n",
      "  0%|          | 1/229 [00:00<00:31,  7.16it/s]"
     ]
    },
    {
     "name": "stdout",
     "output_type": "stream",
     "text": [
      "Epoch: 121, Train Acc: 0.9446, Train AUC: 0.9765, Test Acc: 0.9020, Test Auc: 0.9617, Loss: 0.3426\n"
     ]
    },
    {
     "name": "stderr",
     "output_type": "stream",
     "text": [
      "100%|██████████| 229/229 [00:34<00:00,  6.57it/s]\n",
      "  0%|          | 1/229 [00:00<00:30,  7.58it/s]"
     ]
    },
    {
     "name": "stdout",
     "output_type": "stream",
     "text": [
      "Epoch: 122, Train Acc: 0.9457, Train AUC: 0.9752, Test Acc: 0.9020, Test Auc: 0.9612, Loss: 0.3509\n"
     ]
    },
    {
     "name": "stderr",
     "output_type": "stream",
     "text": [
      "100%|██████████| 229/229 [00:34<00:00,  6.61it/s]\n",
      "  0%|          | 1/229 [00:00<00:29,  7.83it/s]"
     ]
    },
    {
     "name": "stdout",
     "output_type": "stream",
     "text": [
      "Epoch: 123, Train Acc: 0.8443, Train AUC: 0.9661, Test Acc: 0.7946, Test Auc: 0.9512, Loss: 0.3488\n"
     ]
    },
    {
     "name": "stderr",
     "output_type": "stream",
     "text": [
      "100%|██████████| 229/229 [00:34<00:00,  6.61it/s]\n",
      "  0%|          | 1/229 [00:00<00:29,  7.73it/s]"
     ]
    },
    {
     "name": "stdout",
     "output_type": "stream",
     "text": [
      "Epoch: 124, Train Acc: 0.9314, Train AUC: 0.9774, Test Acc: 0.8845, Test Auc: 0.9610, Loss: 0.3606\n"
     ]
    },
    {
     "name": "stderr",
     "output_type": "stream",
     "text": [
      "100%|██████████| 229/229 [00:34<00:00,  6.60it/s]\n",
      "  0%|          | 1/229 [00:00<00:31,  7.35it/s]"
     ]
    },
    {
     "name": "stdout",
     "output_type": "stream",
     "text": [
      "Epoch: 125, Train Acc: 0.9425, Train AUC: 0.9771, Test Acc: 0.8961, Test Auc: 0.9642, Loss: 0.3588\n"
     ]
    },
    {
     "name": "stderr",
     "output_type": "stream",
     "text": [
      "100%|██████████| 229/229 [00:34<00:00,  6.56it/s]\n",
      "  0%|          | 1/229 [00:00<00:31,  7.26it/s]"
     ]
    },
    {
     "name": "stdout",
     "output_type": "stream",
     "text": [
      "Epoch: 126, Train Acc: 0.9481, Train AUC: 0.9783, Test Acc: 0.9195, Test Auc: 0.9640, Loss: 0.3412\n"
     ]
    },
    {
     "name": "stderr",
     "output_type": "stream",
     "text": [
      "100%|██████████| 229/229 [00:34<00:00,  6.59it/s]\n",
      "  0%|          | 1/229 [00:00<00:31,  7.18it/s]"
     ]
    },
    {
     "name": "stdout",
     "output_type": "stream",
     "text": [
      "Epoch: 127, Train Acc: 0.9371, Train AUC: 0.9771, Test Acc: 0.9043, Test Auc: 0.9628, Loss: 0.3322\n"
     ]
    },
    {
     "name": "stderr",
     "output_type": "stream",
     "text": [
      "100%|██████████| 229/229 [00:34<00:00,  6.61it/s]\n",
      "  0%|          | 1/229 [00:00<00:32,  7.10it/s]"
     ]
    },
    {
     "name": "stdout",
     "output_type": "stream",
     "text": [
      "Epoch: 128, Train Acc: 0.9501, Train AUC: 0.9784, Test Acc: 0.9102, Test Auc: 0.9654, Loss: 0.3294\n"
     ]
    },
    {
     "name": "stderr",
     "output_type": "stream",
     "text": [
      "100%|██████████| 229/229 [00:34<00:00,  6.61it/s]\n",
      "  0%|          | 1/229 [00:00<00:31,  7.16it/s]"
     ]
    },
    {
     "name": "stdout",
     "output_type": "stream",
     "text": [
      "Epoch: 129, Train Acc: 0.9519, Train AUC: 0.9791, Test Acc: 0.9078, Test Auc: 0.9666, Loss: 0.3422\n"
     ]
    },
    {
     "name": "stderr",
     "output_type": "stream",
     "text": [
      "100%|██████████| 229/229 [00:34<00:00,  6.68it/s]\n",
      "  0%|          | 1/229 [00:00<00:31,  7.27it/s]"
     ]
    },
    {
     "name": "stdout",
     "output_type": "stream",
     "text": [
      "Epoch: 130, Train Acc: 0.9491, Train AUC: 0.9788, Test Acc: 0.9148, Test Auc: 0.9638, Loss: 0.3399\n"
     ]
    },
    {
     "name": "stderr",
     "output_type": "stream",
     "text": [
      "100%|██████████| 229/229 [00:33<00:00,  6.75it/s]\n",
      "  0%|          | 1/229 [00:00<00:29,  7.68it/s]"
     ]
    },
    {
     "name": "stdout",
     "output_type": "stream",
     "text": [
      "Epoch: 131, Train Acc: 0.9485, Train AUC: 0.9777, Test Acc: 0.8996, Test Auc: 0.9651, Loss: 0.3368\n"
     ]
    },
    {
     "name": "stderr",
     "output_type": "stream",
     "text": [
      "100%|██████████| 229/229 [00:33<00:00,  6.74it/s]\n",
      "  0%|          | 1/229 [00:00<00:30,  7.51it/s]"
     ]
    },
    {
     "name": "stdout",
     "output_type": "stream",
     "text": [
      "Epoch: 132, Train Acc: 0.9469, Train AUC: 0.9768, Test Acc: 0.8985, Test Auc: 0.9641, Loss: 0.3320\n"
     ]
    },
    {
     "name": "stderr",
     "output_type": "stream",
     "text": [
      "100%|██████████| 229/229 [00:34<00:00,  6.61it/s]\n",
      "  0%|          | 1/229 [00:00<00:30,  7.40it/s]"
     ]
    },
    {
     "name": "stdout",
     "output_type": "stream",
     "text": [
      "Epoch: 133, Train Acc: 0.9503, Train AUC: 0.9788, Test Acc: 0.9055, Test Auc: 0.9646, Loss: 0.3247\n"
     ]
    },
    {
     "name": "stderr",
     "output_type": "stream",
     "text": [
      "100%|██████████| 229/229 [00:34<00:00,  6.60it/s]\n",
      "  0%|          | 1/229 [00:00<00:29,  7.79it/s]"
     ]
    },
    {
     "name": "stdout",
     "output_type": "stream",
     "text": [
      "Epoch: 134, Train Acc: 0.9446, Train AUC: 0.9779, Test Acc: 0.9008, Test Auc: 0.9633, Loss: 0.3345\n"
     ]
    },
    {
     "name": "stderr",
     "output_type": "stream",
     "text": [
      "100%|██████████| 229/229 [00:33<00:00,  6.91it/s]\n",
      "  0%|          | 1/229 [00:00<00:31,  7.24it/s]"
     ]
    },
    {
     "name": "stdout",
     "output_type": "stream",
     "text": [
      "Epoch: 135, Train Acc: 0.9523, Train AUC: 0.9781, Test Acc: 0.9148, Test Auc: 0.9647, Loss: 0.3303\n"
     ]
    },
    {
     "name": "stderr",
     "output_type": "stream",
     "text": [
      "100%|██████████| 229/229 [00:34<00:00,  6.56it/s]\n",
      "  0%|          | 1/229 [00:00<00:31,  7.30it/s]"
     ]
    },
    {
     "name": "stdout",
     "output_type": "stream",
     "text": [
      "Epoch: 136, Train Acc: 0.9538, Train AUC: 0.9771, Test Acc: 0.9148, Test Auc: 0.9616, Loss: 0.3166\n"
     ]
    },
    {
     "name": "stderr",
     "output_type": "stream",
     "text": [
      "100%|██████████| 229/229 [00:34<00:00,  6.59it/s]\n",
      "  0%|          | 1/229 [00:00<00:31,  7.24it/s]"
     ]
    },
    {
     "name": "stdout",
     "output_type": "stream",
     "text": [
      "Epoch: 137, Train Acc: 0.9543, Train AUC: 0.9783, Test Acc: 0.9160, Test Auc: 0.9646, Loss: 0.3287\n"
     ]
    },
    {
     "name": "stderr",
     "output_type": "stream",
     "text": [
      "100%|██████████| 229/229 [00:34<00:00,  6.60it/s]\n",
      "  0%|          | 1/229 [00:00<00:31,  7.26it/s]"
     ]
    },
    {
     "name": "stdout",
     "output_type": "stream",
     "text": [
      "Epoch: 138, Train Acc: 0.9584, Train AUC: 0.9795, Test Acc: 0.9125, Test Auc: 0.9655, Loss: 0.3119\n"
     ]
    },
    {
     "name": "stderr",
     "output_type": "stream",
     "text": [
      "100%|██████████| 229/229 [00:34<00:00,  6.61it/s]\n",
      "  0%|          | 1/229 [00:00<00:31,  7.22it/s]"
     ]
    },
    {
     "name": "stdout",
     "output_type": "stream",
     "text": [
      "Epoch: 139, Train Acc: 0.9460, Train AUC: 0.9784, Test Acc: 0.8985, Test Auc: 0.9643, Loss: 0.3089\n"
     ]
    },
    {
     "name": "stderr",
     "output_type": "stream",
     "text": [
      "100%|██████████| 229/229 [00:34<00:00,  6.58it/s]\n",
      "  0%|          | 1/229 [00:00<00:31,  7.19it/s]"
     ]
    },
    {
     "name": "stdout",
     "output_type": "stream",
     "text": [
      "Epoch: 140, Train Acc: 0.9364, Train AUC: 0.9777, Test Acc: 0.8833, Test Auc: 0.9635, Loss: 0.3225\n"
     ]
    },
    {
     "name": "stderr",
     "output_type": "stream",
     "text": [
      "100%|██████████| 229/229 [00:34<00:00,  6.58it/s]\n",
      "  0%|          | 1/229 [00:00<00:31,  7.33it/s]"
     ]
    },
    {
     "name": "stdout",
     "output_type": "stream",
     "text": [
      "Epoch: 141, Train Acc: 0.9561, Train AUC: 0.9798, Test Acc: 0.9078, Test Auc: 0.9681, Loss: 0.3238\n"
     ]
    },
    {
     "name": "stderr",
     "output_type": "stream",
     "text": [
      "100%|██████████| 229/229 [00:33<00:00,  6.76it/s]\n",
      "  0%|          | 1/229 [00:00<00:29,  7.67it/s]"
     ]
    },
    {
     "name": "stdout",
     "output_type": "stream",
     "text": [
      "Epoch: 142, Train Acc: 0.9583, Train AUC: 0.9802, Test Acc: 0.9137, Test Auc: 0.9676, Loss: 0.3125\n"
     ]
    },
    {
     "name": "stderr",
     "output_type": "stream",
     "text": [
      "100%|██████████| 229/229 [00:33<00:00,  6.76it/s]\n",
      "  0%|          | 1/229 [00:00<00:31,  7.35it/s]"
     ]
    },
    {
     "name": "stdout",
     "output_type": "stream",
     "text": [
      "Epoch: 143, Train Acc: 0.9565, Train AUC: 0.9805, Test Acc: 0.9172, Test Auc: 0.9671, Loss: 0.3153\n"
     ]
    },
    {
     "name": "stderr",
     "output_type": "stream",
     "text": [
      "100%|██████████| 229/229 [00:34<00:00,  6.68it/s]\n",
      "  0%|          | 1/229 [00:00<00:30,  7.41it/s]"
     ]
    },
    {
     "name": "stdout",
     "output_type": "stream",
     "text": [
      "Epoch: 144, Train Acc: 0.9597, Train AUC: 0.9785, Test Acc: 0.9160, Test Auc: 0.9650, Loss: 0.3035\n"
     ]
    },
    {
     "name": "stderr",
     "output_type": "stream",
     "text": [
      "100%|██████████| 229/229 [00:34<00:00,  6.61it/s]\n",
      "  0%|          | 1/229 [00:00<00:32,  7.05it/s]"
     ]
    },
    {
     "name": "stdout",
     "output_type": "stream",
     "text": [
      "Epoch: 145, Train Acc: 0.9538, Train AUC: 0.9795, Test Acc: 0.9055, Test Auc: 0.9642, Loss: 0.3081\n"
     ]
    },
    {
     "name": "stderr",
     "output_type": "stream",
     "text": [
      "100%|██████████| 229/229 [00:34<00:00,  6.56it/s]\n",
      "  0%|          | 1/229 [00:00<00:32,  7.11it/s]"
     ]
    },
    {
     "name": "stdout",
     "output_type": "stream",
     "text": [
      "Epoch: 146, Train Acc: 0.9600, Train AUC: 0.9798, Test Acc: 0.9125, Test Auc: 0.9673, Loss: 0.3128\n"
     ]
    },
    {
     "name": "stderr",
     "output_type": "stream",
     "text": [
      "100%|██████████| 229/229 [00:34<00:00,  6.58it/s]\n",
      "  0%|          | 1/229 [00:00<00:31,  7.32it/s]"
     ]
    },
    {
     "name": "stdout",
     "output_type": "stream",
     "text": [
      "Epoch: 147, Train Acc: 0.9568, Train AUC: 0.9805, Test Acc: 0.9148, Test Auc: 0.9694, Loss: 0.3149\n"
     ]
    },
    {
     "name": "stderr",
     "output_type": "stream",
     "text": [
      "100%|██████████| 229/229 [00:34<00:00,  6.61it/s]\n",
      "  0%|          | 1/229 [00:00<00:31,  7.17it/s]"
     ]
    },
    {
     "name": "stdout",
     "output_type": "stream",
     "text": [
      "Epoch: 148, Train Acc: 0.9495, Train AUC: 0.9791, Test Acc: 0.8985, Test Auc: 0.9656, Loss: 0.2999\n"
     ]
    },
    {
     "name": "stderr",
     "output_type": "stream",
     "text": [
      "100%|██████████| 229/229 [00:34<00:00,  6.60it/s]\n",
      "  0%|          | 1/229 [00:00<00:31,  7.22it/s]"
     ]
    },
    {
     "name": "stdout",
     "output_type": "stream",
     "text": [
      "Epoch: 149, Train Acc: 0.9535, Train AUC: 0.9794, Test Acc: 0.9067, Test Auc: 0.9659, Loss: 0.2993\n"
     ]
    },
    {
     "name": "stderr",
     "output_type": "stream",
     "text": [
      "100%|██████████| 229/229 [00:34<00:00,  6.57it/s]\n",
      "  0%|          | 1/229 [00:00<00:31,  7.21it/s]"
     ]
    },
    {
     "name": "stdout",
     "output_type": "stream",
     "text": [
      "Epoch: 150, Train Acc: 0.9552, Train AUC: 0.9799, Test Acc: 0.9125, Test Auc: 0.9689, Loss: 0.3092\n"
     ]
    },
    {
     "name": "stderr",
     "output_type": "stream",
     "text": [
      "100%|██████████| 229/229 [00:34<00:00,  6.57it/s]\n",
      "  0%|          | 1/229 [00:00<00:31,  7.29it/s]"
     ]
    },
    {
     "name": "stdout",
     "output_type": "stream",
     "text": [
      "Epoch: 151, Train Acc: 0.9590, Train AUC: 0.9805, Test Acc: 0.9183, Test Auc: 0.9681, Loss: 0.3054\n"
     ]
    },
    {
     "name": "stderr",
     "output_type": "stream",
     "text": [
      "100%|██████████| 229/229 [00:34<00:00,  6.61it/s]\n",
      "  0%|          | 1/229 [00:00<00:29,  7.66it/s]"
     ]
    },
    {
     "name": "stdout",
     "output_type": "stream",
     "text": [
      "Epoch: 152, Train Acc: 0.9559, Train AUC: 0.9807, Test Acc: 0.9207, Test Auc: 0.9693, Loss: 0.2969\n"
     ]
    },
    {
     "name": "stderr",
     "output_type": "stream",
     "text": [
      "100%|██████████| 229/229 [00:33<00:00,  6.76it/s]\n",
      "  0%|          | 1/229 [00:00<00:31,  7.35it/s]"
     ]
    },
    {
     "name": "stdout",
     "output_type": "stream",
     "text": [
      "Epoch: 153, Train Acc: 0.9529, Train AUC: 0.9806, Test Acc: 0.9067, Test Auc: 0.9683, Loss: 0.3243\n"
     ]
    },
    {
     "name": "stderr",
     "output_type": "stream",
     "text": [
      "100%|██████████| 229/229 [00:33<00:00,  6.75it/s]\n",
      "  0%|          | 1/229 [00:00<00:28,  7.86it/s]"
     ]
    },
    {
     "name": "stdout",
     "output_type": "stream",
     "text": [
      "Epoch: 154, Train Acc: 0.9577, Train AUC: 0.9806, Test Acc: 0.9183, Test Auc: 0.9676, Loss: 0.2915\n"
     ]
    },
    {
     "name": "stderr",
     "output_type": "stream",
     "text": [
      "100%|██████████| 229/229 [00:34<00:00,  6.62it/s]\n",
      "  0%|          | 1/229 [00:00<00:31,  7.19it/s]"
     ]
    },
    {
     "name": "stdout",
     "output_type": "stream",
     "text": [
      "Epoch: 155, Train Acc: 0.9575, Train AUC: 0.9802, Test Acc: 0.9172, Test Auc: 0.9666, Loss: 0.2839\n"
     ]
    },
    {
     "name": "stderr",
     "output_type": "stream",
     "text": [
      "100%|██████████| 229/229 [00:34<00:00,  6.57it/s]\n",
      "  0%|          | 1/229 [00:00<00:31,  7.13it/s]"
     ]
    },
    {
     "name": "stdout",
     "output_type": "stream",
     "text": [
      "Epoch: 156, Train Acc: 0.9590, Train AUC: 0.9808, Test Acc: 0.9137, Test Auc: 0.9646, Loss: 0.2795\n"
     ]
    },
    {
     "name": "stderr",
     "output_type": "stream",
     "text": [
      "100%|██████████| 229/229 [00:34<00:00,  6.59it/s]\n",
      "  0%|          | 1/229 [00:00<00:29,  7.80it/s]"
     ]
    },
    {
     "name": "stdout",
     "output_type": "stream",
     "text": [
      "Epoch: 157, Train Acc: 0.9608, Train AUC: 0.9803, Test Acc: 0.9218, Test Auc: 0.9664, Loss: 0.2915\n"
     ]
    },
    {
     "name": "stderr",
     "output_type": "stream",
     "text": [
      "100%|██████████| 229/229 [00:34<00:00,  6.61it/s]\n",
      "  0%|          | 1/229 [00:00<00:31,  7.30it/s]"
     ]
    },
    {
     "name": "stdout",
     "output_type": "stream",
     "text": [
      "Epoch: 158, Train Acc: 0.9484, Train AUC: 0.9803, Test Acc: 0.9008, Test Auc: 0.9651, Loss: 0.3000\n"
     ]
    },
    {
     "name": "stderr",
     "output_type": "stream",
     "text": [
      "100%|██████████| 229/229 [00:34<00:00,  6.61it/s]\n",
      "  0%|          | 1/229 [00:00<00:31,  7.34it/s]"
     ]
    },
    {
     "name": "stdout",
     "output_type": "stream",
     "text": [
      "Epoch: 159, Train Acc: 0.9562, Train AUC: 0.9823, Test Acc: 0.9055, Test Auc: 0.9698, Loss: 0.2925\n"
     ]
    },
    {
     "name": "stderr",
     "output_type": "stream",
     "text": [
      "100%|██████████| 229/229 [00:34<00:00,  6.57it/s]\n",
      "  0%|          | 1/229 [00:00<00:32,  7.06it/s]"
     ]
    },
    {
     "name": "stdout",
     "output_type": "stream",
     "text": [
      "Epoch: 160, Train Acc: 0.9577, Train AUC: 0.9812, Test Acc: 0.9195, Test Auc: 0.9694, Loss: 0.2883\n"
     ]
    },
    {
     "name": "stderr",
     "output_type": "stream",
     "text": [
      "100%|██████████| 229/229 [00:34<00:00,  6.57it/s]\n",
      "  0%|          | 1/229 [00:00<00:31,  7.30it/s]"
     ]
    },
    {
     "name": "stdout",
     "output_type": "stream",
     "text": [
      "Epoch: 161, Train Acc: 0.9613, Train AUC: 0.9798, Test Acc: 0.9020, Test Auc: 0.9652, Loss: 0.2865\n"
     ]
    },
    {
     "name": "stderr",
     "output_type": "stream",
     "text": [
      "100%|██████████| 229/229 [00:34<00:00,  6.61it/s]\n",
      "  0%|          | 1/229 [00:00<00:31,  7.20it/s]"
     ]
    },
    {
     "name": "stdout",
     "output_type": "stream",
     "text": [
      "Epoch: 162, Train Acc: 0.9527, Train AUC: 0.9793, Test Acc: 0.9043, Test Auc: 0.9643, Loss: 0.2862\n"
     ]
    },
    {
     "name": "stderr",
     "output_type": "stream",
     "text": [
      "100%|██████████| 229/229 [00:34<00:00,  6.62it/s]\n",
      "  0%|          | 1/229 [00:00<00:29,  7.62it/s]"
     ]
    },
    {
     "name": "stdout",
     "output_type": "stream",
     "text": [
      "Epoch: 163, Train Acc: 0.9504, Train AUC: 0.9796, Test Acc: 0.9148, Test Auc: 0.9644, Loss: 0.2830\n"
     ]
    },
    {
     "name": "stderr",
     "output_type": "stream",
     "text": [
      "100%|██████████| 229/229 [00:33<00:00,  6.76it/s]\n",
      "  0%|          | 1/229 [00:00<00:29,  7.84it/s]"
     ]
    },
    {
     "name": "stdout",
     "output_type": "stream",
     "text": [
      "Epoch: 164, Train Acc: 0.9567, Train AUC: 0.9812, Test Acc: 0.9218, Test Auc: 0.9669, Loss: 0.2856\n"
     ]
    },
    {
     "name": "stderr",
     "output_type": "stream",
     "text": [
      "100%|██████████| 229/229 [00:33<00:00,  6.76it/s]\n",
      "  0%|          | 1/229 [00:00<00:31,  7.18it/s]"
     ]
    },
    {
     "name": "stdout",
     "output_type": "stream",
     "text": [
      "Epoch: 165, Train Acc: 0.9571, Train AUC: 0.9793, Test Acc: 0.9102, Test Auc: 0.9675, Loss: 0.2971\n"
     ]
    },
    {
     "name": "stderr",
     "output_type": "stream",
     "text": [
      "100%|██████████| 229/229 [00:34<00:00,  6.57it/s]\n",
      "  0%|          | 1/229 [00:00<00:31,  7.19it/s]"
     ]
    },
    {
     "name": "stdout",
     "output_type": "stream",
     "text": [
      "Epoch: 166, Train Acc: 0.9555, Train AUC: 0.9817, Test Acc: 0.9078, Test Auc: 0.9676, Loss: 0.2848\n"
     ]
    },
    {
     "name": "stderr",
     "output_type": "stream",
     "text": [
      "100%|██████████| 229/229 [00:34<00:00,  6.59it/s]\n",
      "  0%|          | 1/229 [00:00<00:31,  7.13it/s]"
     ]
    },
    {
     "name": "stdout",
     "output_type": "stream",
     "text": [
      "Epoch: 167, Train Acc: 0.9612, Train AUC: 0.9827, Test Acc: 0.9218, Test Auc: 0.9681, Loss: 0.2715\n"
     ]
    },
    {
     "name": "stderr",
     "output_type": "stream",
     "text": [
      "100%|██████████| 229/229 [00:34<00:00,  6.62it/s]\n",
      "  0%|          | 1/229 [00:00<00:31,  7.35it/s]"
     ]
    },
    {
     "name": "stdout",
     "output_type": "stream",
     "text": [
      "Epoch: 168, Train Acc: 0.9574, Train AUC: 0.9824, Test Acc: 0.9125, Test Auc: 0.9666, Loss: 0.2781\n"
     ]
    },
    {
     "name": "stderr",
     "output_type": "stream",
     "text": [
      "100%|██████████| 229/229 [00:34<00:00,  6.61it/s]\n",
      "  0%|          | 1/229 [00:00<00:30,  7.51it/s]"
     ]
    },
    {
     "name": "stdout",
     "output_type": "stream",
     "text": [
      "Epoch: 169, Train Acc: 0.9624, Train AUC: 0.9820, Test Acc: 0.9160, Test Auc: 0.9683, Loss: 0.2734\n"
     ]
    },
    {
     "name": "stderr",
     "output_type": "stream",
     "text": [
      "100%|██████████| 229/229 [00:34<00:00,  6.57it/s]\n",
      "  0%|          | 1/229 [00:00<00:32,  7.11it/s]"
     ]
    },
    {
     "name": "stdout",
     "output_type": "stream",
     "text": [
      "Epoch: 170, Train Acc: 0.9599, Train AUC: 0.9812, Test Acc: 0.9067, Test Auc: 0.9667, Loss: 0.2879\n"
     ]
    },
    {
     "name": "stderr",
     "output_type": "stream",
     "text": [
      "100%|██████████| 229/229 [00:34<00:00,  6.57it/s]\n",
      "  0%|          | 1/229 [00:00<00:31,  7.14it/s]"
     ]
    },
    {
     "name": "stdout",
     "output_type": "stream",
     "text": [
      "Epoch: 171, Train Acc: 0.9660, Train AUC: 0.9834, Test Acc: 0.9218, Test Auc: 0.9686, Loss: 0.2733\n"
     ]
    },
    {
     "name": "stderr",
     "output_type": "stream",
     "text": [
      "100%|██████████| 229/229 [00:34<00:00,  6.61it/s]\n",
      "  0%|          | 1/229 [00:00<00:31,  7.19it/s]"
     ]
    },
    {
     "name": "stdout",
     "output_type": "stream",
     "text": [
      "Epoch: 172, Train Acc: 0.9594, Train AUC: 0.9808, Test Acc: 0.9102, Test Auc: 0.9652, Loss: 0.2685\n"
     ]
    },
    {
     "name": "stderr",
     "output_type": "stream",
     "text": [
      "100%|██████████| 229/229 [00:34<00:00,  6.61it/s]\n",
      "  0%|          | 1/229 [00:00<00:30,  7.58it/s]"
     ]
    },
    {
     "name": "stdout",
     "output_type": "stream",
     "text": [
      "Epoch: 173, Train Acc: 0.9522, Train AUC: 0.9817, Test Acc: 0.8938, Test Auc: 0.9696, Loss: 0.2777\n"
     ]
    },
    {
     "name": "stderr",
     "output_type": "stream",
     "text": [
      "100%|██████████| 229/229 [00:34<00:00,  6.66it/s]\n",
      "  0%|          | 1/229 [00:00<00:31,  7.25it/s]"
     ]
    },
    {
     "name": "stdout",
     "output_type": "stream",
     "text": [
      "Epoch: 174, Train Acc: 0.9597, Train AUC: 0.9830, Test Acc: 0.9218, Test Auc: 0.9687, Loss: 0.2838\n"
     ]
    },
    {
     "name": "stderr",
     "output_type": "stream",
     "text": [
      "100%|██████████| 229/229 [00:33<00:00,  6.75it/s]\n",
      "  0%|          | 1/229 [00:00<00:29,  7.68it/s]"
     ]
    },
    {
     "name": "stdout",
     "output_type": "stream",
     "text": [
      "Epoch: 175, Train Acc: 0.9603, Train AUC: 0.9823, Test Acc: 0.9125, Test Auc: 0.9685, Loss: 0.2703\n"
     ]
    },
    {
     "name": "stderr",
     "output_type": "stream",
     "text": [
      "100%|██████████| 229/229 [00:33<00:00,  6.76it/s]\n",
      "  0%|          | 1/229 [00:00<00:31,  7.23it/s]"
     ]
    },
    {
     "name": "stdout",
     "output_type": "stream",
     "text": [
      "Epoch: 176, Train Acc: 0.9676, Train AUC: 0.9829, Test Acc: 0.9230, Test Auc: 0.9697, Loss: 0.2575\n"
     ]
    },
    {
     "name": "stderr",
     "output_type": "stream",
     "text": [
      "100%|██████████| 229/229 [00:34<00:00,  6.58it/s]\n",
      "  0%|          | 1/229 [00:00<00:31,  7.21it/s]"
     ]
    },
    {
     "name": "stdout",
     "output_type": "stream",
     "text": [
      "Epoch: 177, Train Acc: 0.9650, Train AUC: 0.9838, Test Acc: 0.9230, Test Auc: 0.9725, Loss: 0.2727\n"
     ]
    },
    {
     "name": "stderr",
     "output_type": "stream",
     "text": [
      "100%|██████████| 229/229 [00:34<00:00,  6.61it/s]\n",
      "  0%|          | 1/229 [00:00<00:30,  7.49it/s]"
     ]
    },
    {
     "name": "stdout",
     "output_type": "stream",
     "text": [
      "Epoch: 178, Train Acc: 0.9546, Train AUC: 0.9824, Test Acc: 0.9113, Test Auc: 0.9694, Loss: 0.2811\n"
     ]
    },
    {
     "name": "stderr",
     "output_type": "stream",
     "text": [
      "100%|██████████| 229/229 [00:34<00:00,  6.62it/s]\n",
      "  0%|          | 1/229 [00:00<00:31,  7.27it/s]"
     ]
    },
    {
     "name": "stdout",
     "output_type": "stream",
     "text": [
      "Epoch: 179, Train Acc: 0.9565, Train AUC: 0.9835, Test Acc: 0.9125, Test Auc: 0.9680, Loss: 0.2578\n"
     ]
    },
    {
     "name": "stderr",
     "output_type": "stream",
     "text": [
      "100%|██████████| 229/229 [00:34<00:00,  6.57it/s]\n",
      "  0%|          | 1/229 [00:00<00:30,  7.43it/s]"
     ]
    },
    {
     "name": "stdout",
     "output_type": "stream",
     "text": [
      "Epoch: 180, Train Acc: 0.9540, Train AUC: 0.9823, Test Acc: 0.8996, Test Auc: 0.9690, Loss: 0.2676\n"
     ]
    },
    {
     "name": "stderr",
     "output_type": "stream",
     "text": [
      "100%|██████████| 229/229 [00:34<00:00,  6.57it/s]\n",
      "  0%|          | 1/229 [00:00<00:30,  7.51it/s]"
     ]
    },
    {
     "name": "stdout",
     "output_type": "stream",
     "text": [
      "Epoch: 181, Train Acc: 0.9625, Train AUC: 0.9827, Test Acc: 0.9207, Test Auc: 0.9671, Loss: 0.2592\n"
     ]
    },
    {
     "name": "stderr",
     "output_type": "stream",
     "text": [
      "100%|██████████| 229/229 [00:34<00:00,  6.61it/s]\n",
      "  0%|          | 1/229 [00:00<00:31,  7.22it/s]"
     ]
    },
    {
     "name": "stdout",
     "output_type": "stream",
     "text": [
      "Epoch: 182, Train Acc: 0.9646, Train AUC: 0.9814, Test Acc: 0.9253, Test Auc: 0.9677, Loss: 0.2750\n"
     ]
    },
    {
     "name": "stderr",
     "output_type": "stream",
     "text": [
      "100%|██████████| 229/229 [00:34<00:00,  6.61it/s]\n",
      "  0%|          | 1/229 [00:00<00:31,  7.33it/s]"
     ]
    },
    {
     "name": "stdout",
     "output_type": "stream",
     "text": [
      "Epoch: 183, Train Acc: 0.9666, Train AUC: 0.9823, Test Acc: 0.9183, Test Auc: 0.9686, Loss: 0.2712\n"
     ]
    },
    {
     "name": "stderr",
     "output_type": "stream",
     "text": [
      "100%|██████████| 229/229 [00:34<00:00,  6.58it/s]\n",
      "  0%|          | 1/229 [00:00<00:31,  7.28it/s]"
     ]
    },
    {
     "name": "stdout",
     "output_type": "stream",
     "text": [
      "Epoch: 184, Train Acc: 0.9592, Train AUC: 0.9817, Test Acc: 0.9172, Test Auc: 0.9668, Loss: 0.2690\n"
     ]
    },
    {
     "name": "stderr",
     "output_type": "stream",
     "text": [
      "100%|██████████| 229/229 [00:34<00:00,  6.72it/s]\n",
      "  0%|          | 1/229 [00:00<00:29,  7.63it/s]"
     ]
    },
    {
     "name": "stdout",
     "output_type": "stream",
     "text": [
      "Epoch: 185, Train Acc: 0.9611, Train AUC: 0.9820, Test Acc: 0.9137, Test Auc: 0.9673, Loss: 0.2656\n"
     ]
    },
    {
     "name": "stderr",
     "output_type": "stream",
     "text": [
      "100%|██████████| 229/229 [00:33<00:00,  6.76it/s]\n",
      "  0%|          | 1/229 [00:00<00:29,  7.63it/s]"
     ]
    },
    {
     "name": "stdout",
     "output_type": "stream",
     "text": [
      "Epoch: 186, Train Acc: 0.9487, Train AUC: 0.9808, Test Acc: 0.9067, Test Auc: 0.9669, Loss: 0.2755\n"
     ]
    },
    {
     "name": "stderr",
     "output_type": "stream",
     "text": [
      "100%|██████████| 229/229 [00:33<00:00,  6.75it/s]\n",
      "  0%|          | 1/229 [00:00<00:31,  7.18it/s]"
     ]
    },
    {
     "name": "stdout",
     "output_type": "stream",
     "text": [
      "Epoch: 187, Train Acc: 0.9651, Train AUC: 0.9833, Test Acc: 0.9148, Test Auc: 0.9670, Loss: 0.2615\n"
     ]
    },
    {
     "name": "stderr",
     "output_type": "stream",
     "text": [
      "100%|██████████| 229/229 [00:34<00:00,  6.61it/s]\n",
      "  0%|          | 1/229 [00:00<00:31,  7.27it/s]"
     ]
    },
    {
     "name": "stdout",
     "output_type": "stream",
     "text": [
      "Epoch: 188, Train Acc: 0.9653, Train AUC: 0.9825, Test Acc: 0.9242, Test Auc: 0.9680, Loss: 0.2512\n"
     ]
    },
    {
     "name": "stderr",
     "output_type": "stream",
     "text": [
      "100%|██████████| 229/229 [00:34<00:00,  6.62it/s]\n",
      "  0%|          | 1/229 [00:00<00:31,  7.19it/s]"
     ]
    },
    {
     "name": "stdout",
     "output_type": "stream",
     "text": [
      "Epoch: 189, Train Acc: 0.9570, Train AUC: 0.9842, Test Acc: 0.9020, Test Auc: 0.9706, Loss: 0.2442\n"
     ]
    },
    {
     "name": "stderr",
     "output_type": "stream",
     "text": [
      "100%|██████████| 229/229 [00:34<00:00,  6.57it/s]\n",
      "  0%|          | 1/229 [00:00<00:30,  7.37it/s]"
     ]
    },
    {
     "name": "stdout",
     "output_type": "stream",
     "text": [
      "Epoch: 190, Train Acc: 0.9689, Train AUC: 0.9820, Test Acc: 0.9183, Test Auc: 0.9685, Loss: 0.2473\n"
     ]
    },
    {
     "name": "stderr",
     "output_type": "stream",
     "text": [
      "100%|██████████| 229/229 [00:34<00:00,  6.58it/s]\n",
      "  0%|          | 1/229 [00:00<00:31,  7.18it/s]"
     ]
    },
    {
     "name": "stdout",
     "output_type": "stream",
     "text": [
      "Epoch: 191, Train Acc: 0.9605, Train AUC: 0.9821, Test Acc: 0.9067, Test Auc: 0.9686, Loss: 0.2412\n"
     ]
    },
    {
     "name": "stderr",
     "output_type": "stream",
     "text": [
      "100%|██████████| 229/229 [00:34<00:00,  6.62it/s]\n",
      "  0%|          | 1/229 [00:00<00:31,  7.24it/s]"
     ]
    },
    {
     "name": "stdout",
     "output_type": "stream",
     "text": [
      "Epoch: 192, Train Acc: 0.9638, Train AUC: 0.9838, Test Acc: 0.9253, Test Auc: 0.9685, Loss: 0.2572\n"
     ]
    },
    {
     "name": "stderr",
     "output_type": "stream",
     "text": [
      "100%|██████████| 229/229 [00:34<00:00,  6.61it/s]\n",
      "  0%|          | 1/229 [00:00<00:31,  7.32it/s]"
     ]
    },
    {
     "name": "stdout",
     "output_type": "stream",
     "text": [
      "Epoch: 193, Train Acc: 0.9666, Train AUC: 0.9831, Test Acc: 0.9172, Test Auc: 0.9666, Loss: 0.2450\n"
     ]
    },
    {
     "name": "stderr",
     "output_type": "stream",
     "text": [
      "100%|██████████| 229/229 [00:34<00:00,  6.58it/s]\n",
      "  0%|          | 1/229 [00:00<00:31,  7.24it/s]"
     ]
    },
    {
     "name": "stdout",
     "output_type": "stream",
     "text": [
      "Epoch: 194, Train Acc: 0.9698, Train AUC: 0.9827, Test Acc: 0.9148, Test Auc: 0.9690, Loss: 0.2654\n"
     ]
    },
    {
     "name": "stderr",
     "output_type": "stream",
     "text": [
      "100%|██████████| 229/229 [00:34<00:00,  6.56it/s]\n",
      "  0%|          | 1/229 [00:00<00:29,  7.76it/s]"
     ]
    },
    {
     "name": "stdout",
     "output_type": "stream",
     "text": [
      "Epoch: 195, Train Acc: 0.9699, Train AUC: 0.9842, Test Acc: 0.9288, Test Auc: 0.9710, Loss: 0.2588\n"
     ]
    },
    {
     "name": "stderr",
     "output_type": "stream",
     "text": [
      "100%|██████████| 229/229 [00:33<00:00,  6.75it/s]\n",
      "  0%|          | 1/229 [00:00<00:31,  7.18it/s]"
     ]
    },
    {
     "name": "stdout",
     "output_type": "stream",
     "text": [
      "Epoch: 196, Train Acc: 0.9682, Train AUC: 0.9816, Test Acc: 0.9090, Test Auc: 0.9688, Loss: 0.2501\n"
     ]
    },
    {
     "name": "stderr",
     "output_type": "stream",
     "text": [
      "100%|██████████| 229/229 [00:33<00:00,  6.75it/s]\n",
      "  0%|          | 1/229 [00:00<00:29,  7.80it/s]"
     ]
    },
    {
     "name": "stdout",
     "output_type": "stream",
     "text": [
      "Epoch: 197, Train Acc: 0.9685, Train AUC: 0.9838, Test Acc: 0.9172, Test Auc: 0.9711, Loss: 0.2520\n"
     ]
    },
    {
     "name": "stderr",
     "output_type": "stream",
     "text": [
      "100%|██████████| 229/229 [00:34<00:00,  6.71it/s]\n",
      "  0%|          | 1/229 [00:00<00:31,  7.23it/s]"
     ]
    },
    {
     "name": "stdout",
     "output_type": "stream",
     "text": [
      "Epoch: 198, Train Acc: 0.9527, Train AUC: 0.9848, Test Acc: 0.9067, Test Auc: 0.9702, Loss: 0.2629\n"
     ]
    },
    {
     "name": "stderr",
     "output_type": "stream",
     "text": [
      "100%|██████████| 229/229 [00:34<00:00,  6.61it/s]\n",
      "  0%|          | 1/229 [00:00<00:32,  7.05it/s]"
     ]
    },
    {
     "name": "stdout",
     "output_type": "stream",
     "text": [
      "Epoch: 199, Train Acc: 0.9694, Train AUC: 0.9836, Test Acc: 0.9160, Test Auc: 0.9712, Loss: 0.2420\n"
     ]
    },
    {
     "name": "stderr",
     "output_type": "stream",
     "text": [
      "100%|██████████| 229/229 [00:34<00:00,  6.57it/s]\n",
      "  0%|          | 1/229 [00:00<00:31,  7.32it/s]"
     ]
    },
    {
     "name": "stdout",
     "output_type": "stream",
     "text": [
      "Epoch: 200, Train Acc: 0.9689, Train AUC: 0.9834, Test Acc: 0.9137, Test Auc: 0.9718, Loss: 0.2391\n"
     ]
    },
    {
     "name": "stderr",
     "output_type": "stream",
     "text": [
      "100%|██████████| 229/229 [00:34<00:00,  6.57it/s]\n",
      "  0%|          | 1/229 [00:00<00:31,  7.28it/s]"
     ]
    },
    {
     "name": "stdout",
     "output_type": "stream",
     "text": [
      "Epoch: 201, Train Acc: 0.9640, Train AUC: 0.9828, Test Acc: 0.9032, Test Auc: 0.9699, Loss: 0.2430\n"
     ]
    },
    {
     "name": "stderr",
     "output_type": "stream",
     "text": [
      "100%|██████████| 229/229 [00:34<00:00,  6.62it/s]\n",
      "  0%|          | 1/229 [00:00<00:31,  7.35it/s]"
     ]
    },
    {
     "name": "stdout",
     "output_type": "stream",
     "text": [
      "Epoch: 202, Train Acc: 0.9681, Train AUC: 0.9832, Test Acc: 0.9078, Test Auc: 0.9698, Loss: 0.2558\n"
     ]
    },
    {
     "name": "stderr",
     "output_type": "stream",
     "text": [
      "100%|██████████| 229/229 [00:34<00:00,  6.61it/s]\n",
      "  0%|          | 1/229 [00:00<00:31,  7.21it/s]"
     ]
    },
    {
     "name": "stdout",
     "output_type": "stream",
     "text": [
      "Epoch: 203, Train Acc: 0.9616, Train AUC: 0.9832, Test Acc: 0.9043, Test Auc: 0.9692, Loss: 0.2619\n"
     ]
    },
    {
     "name": "stderr",
     "output_type": "stream",
     "text": [
      "100%|██████████| 229/229 [00:34<00:00,  6.59it/s]\n",
      "  0%|          | 1/229 [00:00<00:29,  7.78it/s]"
     ]
    },
    {
     "name": "stdout",
     "output_type": "stream",
     "text": [
      "Epoch: 204, Train Acc: 0.9694, Train AUC: 0.9838, Test Acc: 0.9148, Test Auc: 0.9718, Loss: 0.2418\n"
     ]
    },
    {
     "name": "stderr",
     "output_type": "stream",
     "text": [
      "100%|██████████| 229/229 [00:34<00:00,  6.57it/s]\n",
      "  0%|          | 1/229 [00:00<00:31,  7.23it/s]"
     ]
    },
    {
     "name": "stdout",
     "output_type": "stream",
     "text": [
      "Epoch: 205, Train Acc: 0.9659, Train AUC: 0.9818, Test Acc: 0.9137, Test Auc: 0.9700, Loss: 0.2339\n"
     ]
    },
    {
     "name": "stderr",
     "output_type": "stream",
     "text": [
      "100%|██████████| 229/229 [00:34<00:00,  6.60it/s]\n",
      "  0%|          | 1/229 [00:00<00:29,  7.70it/s]"
     ]
    },
    {
     "name": "stdout",
     "output_type": "stream",
     "text": [
      "Epoch: 206, Train Acc: 0.9713, Train AUC: 0.9834, Test Acc: 0.9195, Test Auc: 0.9700, Loss: 0.2320\n"
     ]
    },
    {
     "name": "stderr",
     "output_type": "stream",
     "text": [
      "100%|██████████| 229/229 [00:33<00:00,  6.76it/s]\n",
      "  0%|          | 1/229 [00:00<00:30,  7.36it/s]"
     ]
    },
    {
     "name": "stdout",
     "output_type": "stream",
     "text": [
      "Epoch: 207, Train Acc: 0.9717, Train AUC: 0.9833, Test Acc: 0.9230, Test Auc: 0.9684, Loss: 0.2437\n"
     ]
    },
    {
     "name": "stderr",
     "output_type": "stream",
     "text": [
      "100%|██████████| 229/229 [00:33<00:00,  6.76it/s]\n",
      "  0%|          | 1/229 [00:00<00:31,  7.22it/s]"
     ]
    },
    {
     "name": "stdout",
     "output_type": "stream",
     "text": [
      "Epoch: 208, Train Acc: 0.9644, Train AUC: 0.9824, Test Acc: 0.9102, Test Auc: 0.9676, Loss: 0.2490\n"
     ]
    },
    {
     "name": "stderr",
     "output_type": "stream",
     "text": [
      "100%|██████████| 229/229 [00:34<00:00,  6.64it/s]\n",
      "  0%|          | 1/229 [00:00<00:31,  7.31it/s]"
     ]
    },
    {
     "name": "stdout",
     "output_type": "stream",
     "text": [
      "Epoch: 209, Train Acc: 0.9710, Train AUC: 0.9834, Test Acc: 0.9300, Test Auc: 0.9707, Loss: 0.2504\n"
     ]
    },
    {
     "name": "stderr",
     "output_type": "stream",
     "text": [
      "100%|██████████| 229/229 [00:34<00:00,  6.57it/s]\n",
      "  0%|          | 1/229 [00:00<00:31,  7.17it/s]"
     ]
    },
    {
     "name": "stdout",
     "output_type": "stream",
     "text": [
      "Epoch: 210, Train Acc: 0.9732, Train AUC: 0.9834, Test Acc: 0.9288, Test Auc: 0.9707, Loss: 0.2380\n"
     ]
    },
    {
     "name": "stderr",
     "output_type": "stream",
     "text": [
      "100%|██████████| 229/229 [00:34<00:00,  6.57it/s]\n",
      "  0%|          | 1/229 [00:00<00:31,  7.25it/s]"
     ]
    },
    {
     "name": "stdout",
     "output_type": "stream",
     "text": [
      "Epoch: 211, Train Acc: 0.9565, Train AUC: 0.9848, Test Acc: 0.9113, Test Auc: 0.9688, Loss: 0.2374\n"
     ]
    },
    {
     "name": "stderr",
     "output_type": "stream",
     "text": [
      "100%|██████████| 229/229 [00:34<00:00,  6.61it/s]\n",
      "  0%|          | 1/229 [00:00<00:29,  7.86it/s]"
     ]
    },
    {
     "name": "stdout",
     "output_type": "stream",
     "text": [
      "Epoch: 212, Train Acc: 0.9667, Train AUC: 0.9844, Test Acc: 0.9183, Test Auc: 0.9706, Loss: 0.2351\n"
     ]
    },
    {
     "name": "stderr",
     "output_type": "stream",
     "text": [
      "100%|██████████| 229/229 [00:34<00:00,  6.61it/s]\n",
      "  0%|          | 1/229 [00:00<00:31,  7.24it/s]"
     ]
    },
    {
     "name": "stdout",
     "output_type": "stream",
     "text": [
      "Epoch: 213, Train Acc: 0.9699, Train AUC: 0.9851, Test Acc: 0.9218, Test Auc: 0.9723, Loss: 0.2357\n"
     ]
    },
    {
     "name": "stderr",
     "output_type": "stream",
     "text": [
      "100%|██████████| 229/229 [00:34<00:00,  6.58it/s]\n",
      "  0%|          | 1/229 [00:00<00:31,  7.24it/s]"
     ]
    },
    {
     "name": "stdout",
     "output_type": "stream",
     "text": [
      "Epoch: 214, Train Acc: 0.9716, Train AUC: 0.9855, Test Acc: 0.9172, Test Auc: 0.9716, Loss: 0.2250\n"
     ]
    },
    {
     "name": "stderr",
     "output_type": "stream",
     "text": [
      "100%|██████████| 229/229 [00:34<00:00,  6.56it/s]\n",
      "  0%|          | 1/229 [00:00<00:31,  7.26it/s]"
     ]
    },
    {
     "name": "stdout",
     "output_type": "stream",
     "text": [
      "Epoch: 215, Train Acc: 0.9664, Train AUC: 0.9842, Test Acc: 0.9183, Test Auc: 0.9700, Loss: 0.2458\n"
     ]
    },
    {
     "name": "stderr",
     "output_type": "stream",
     "text": [
      "100%|██████████| 229/229 [00:34<00:00,  6.61it/s]\n",
      "  0%|          | 1/229 [00:00<00:31,  7.20it/s]"
     ]
    },
    {
     "name": "stdout",
     "output_type": "stream",
     "text": [
      "Epoch: 216, Train Acc: 0.9739, Train AUC: 0.9839, Test Acc: 0.9230, Test Auc: 0.9708, Loss: 0.2413\n"
     ]
    },
    {
     "name": "stderr",
     "output_type": "stream",
     "text": [
      "100%|██████████| 229/229 [00:34<00:00,  6.61it/s]\n",
      "  0%|          | 1/229 [00:00<00:32,  7.07it/s]"
     ]
    },
    {
     "name": "stdout",
     "output_type": "stream",
     "text": [
      "Epoch: 217, Train Acc: 0.9558, Train AUC: 0.9825, Test Acc: 0.9102, Test Auc: 0.9667, Loss: 0.2280\n"
     ]
    },
    {
     "name": "stderr",
     "output_type": "stream",
     "text": [
      "100%|██████████| 229/229 [00:33<00:00,  6.75it/s]\n",
      "  0%|          | 1/229 [00:00<00:31,  7.23it/s]"
     ]
    },
    {
     "name": "stdout",
     "output_type": "stream",
     "text": [
      "Epoch: 218, Train Acc: 0.9707, Train AUC: 0.9842, Test Acc: 0.9253, Test Auc: 0.9713, Loss: 0.2460\n"
     ]
    },
    {
     "name": "stderr",
     "output_type": "stream",
     "text": [
      "100%|██████████| 229/229 [00:33<00:00,  6.75it/s]\n",
      "  0%|          | 1/229 [00:00<00:31,  7.18it/s]"
     ]
    },
    {
     "name": "stdout",
     "output_type": "stream",
     "text": [
      "Epoch: 219, Train Acc: 0.9717, Train AUC: 0.9842, Test Acc: 0.9265, Test Auc: 0.9724, Loss: 0.2168\n"
     ]
    },
    {
     "name": "stderr",
     "output_type": "stream",
     "text": [
      "100%|██████████| 229/229 [00:34<00:00,  6.57it/s]\n",
      "  0%|          | 1/229 [00:00<00:32,  7.04it/s]"
     ]
    },
    {
     "name": "stdout",
     "output_type": "stream",
     "text": [
      "Epoch: 220, Train Acc: 0.9735, Train AUC: 0.9844, Test Acc: 0.9172, Test Auc: 0.9704, Loss: 0.2221\n"
     ]
    },
    {
     "name": "stderr",
     "output_type": "stream",
     "text": [
      "100%|██████████| 229/229 [00:34<00:00,  6.57it/s]\n",
      "  0%|          | 1/229 [00:00<00:30,  7.53it/s]"
     ]
    },
    {
     "name": "stdout",
     "output_type": "stream",
     "text": [
      "Epoch: 221, Train Acc: 0.9758, Train AUC: 0.9849, Test Acc: 0.9230, Test Auc: 0.9713, Loss: 0.2298\n"
     ]
    },
    {
     "name": "stderr",
     "output_type": "stream",
     "text": [
      "100%|██████████| 229/229 [00:34<00:00,  6.61it/s]\n",
      "  0%|          | 1/229 [00:00<00:31,  7.35it/s]"
     ]
    },
    {
     "name": "stdout",
     "output_type": "stream",
     "text": [
      "Epoch: 222, Train Acc: 0.9751, Train AUC: 0.9833, Test Acc: 0.9253, Test Auc: 0.9710, Loss: 0.2112\n"
     ]
    },
    {
     "name": "stderr",
     "output_type": "stream",
     "text": [
      "100%|██████████| 229/229 [00:34<00:00,  6.60it/s]\n",
      "  0%|          | 1/229 [00:00<00:29,  7.78it/s]"
     ]
    },
    {
     "name": "stdout",
     "output_type": "stream",
     "text": [
      "Epoch: 223, Train Acc: 0.9748, Train AUC: 0.9848, Test Acc: 0.9242, Test Auc: 0.9704, Loss: 0.2256\n"
     ]
    },
    {
     "name": "stderr",
     "output_type": "stream",
     "text": [
      "100%|██████████| 229/229 [00:34<00:00,  6.58it/s]\n",
      "  0%|          | 1/229 [00:00<00:30,  7.38it/s]"
     ]
    },
    {
     "name": "stdout",
     "output_type": "stream",
     "text": [
      "Epoch: 224, Train Acc: 0.9735, Train AUC: 0.9833, Test Acc: 0.9300, Test Auc: 0.9705, Loss: 0.2318\n"
     ]
    },
    {
     "name": "stderr",
     "output_type": "stream",
     "text": [
      "100%|██████████| 229/229 [00:34<00:00,  6.56it/s]\n",
      "  0%|          | 1/229 [00:00<00:31,  7.35it/s]"
     ]
    },
    {
     "name": "stdout",
     "output_type": "stream",
     "text": [
      "Epoch: 225, Train Acc: 0.9679, Train AUC: 0.9828, Test Acc: 0.9148, Test Auc: 0.9678, Loss: 0.2359\n"
     ]
    },
    {
     "name": "stderr",
     "output_type": "stream",
     "text": [
      "100%|██████████| 229/229 [00:34<00:00,  6.60it/s]\n",
      "  0%|          | 1/229 [00:00<00:31,  7.29it/s]"
     ]
    },
    {
     "name": "stdout",
     "output_type": "stream",
     "text": [
      "Epoch: 226, Train Acc: 0.9552, Train AUC: 0.9847, Test Acc: 0.8996, Test Auc: 0.9696, Loss: 0.2317\n"
     ]
    },
    {
     "name": "stderr",
     "output_type": "stream",
     "text": [
      "100%|██████████| 229/229 [00:34<00:00,  6.61it/s]\n",
      "  0%|          | 1/229 [00:00<00:31,  7.16it/s]"
     ]
    },
    {
     "name": "stdout",
     "output_type": "stream",
     "text": [
      "Epoch: 227, Train Acc: 0.9673, Train AUC: 0.9846, Test Acc: 0.9102, Test Auc: 0.9710, Loss: 0.2419\n"
     ]
    },
    {
     "name": "stderr",
     "output_type": "stream",
     "text": [
      "100%|██████████| 229/229 [00:34<00:00,  6.66it/s]\n",
      "  0%|          | 1/229 [00:00<00:29,  7.74it/s]"
     ]
    },
    {
     "name": "stdout",
     "output_type": "stream",
     "text": [
      "Epoch: 228, Train Acc: 0.9735, Train AUC: 0.9844, Test Acc: 0.9230, Test Auc: 0.9708, Loss: 0.2231\n"
     ]
    },
    {
     "name": "stderr",
     "output_type": "stream",
     "text": [
      "100%|██████████| 229/229 [00:33<00:00,  6.75it/s]\n",
      "  0%|          | 1/229 [00:00<00:29,  7.73it/s]"
     ]
    },
    {
     "name": "stdout",
     "output_type": "stream",
     "text": [
      "Epoch: 229, Train Acc: 0.9669, Train AUC: 0.9837, Test Acc: 0.9160, Test Auc: 0.9703, Loss: 0.2231\n"
     ]
    },
    {
     "name": "stderr",
     "output_type": "stream",
     "text": [
      "100%|██████████| 229/229 [00:33<00:00,  6.74it/s]\n",
      "  0%|          | 1/229 [00:00<00:31,  7.17it/s]"
     ]
    },
    {
     "name": "stdout",
     "output_type": "stream",
     "text": [
      "Epoch: 230, Train Acc: 0.9735, Train AUC: 0.9850, Test Acc: 0.9277, Test Auc: 0.9710, Loss: 0.2226\n"
     ]
    },
    {
     "name": "stderr",
     "output_type": "stream",
     "text": [
      "100%|██████████| 229/229 [00:34<00:00,  6.56it/s]\n",
      "  0%|          | 1/229 [00:00<00:29,  7.68it/s]"
     ]
    },
    {
     "name": "stdout",
     "output_type": "stream",
     "text": [
      "Epoch: 231, Train Acc: 0.9691, Train AUC: 0.9834, Test Acc: 0.9160, Test Auc: 0.9692, Loss: 0.2304\n"
     ]
    },
    {
     "name": "stderr",
     "output_type": "stream",
     "text": [
      "100%|██████████| 229/229 [00:34<00:00,  6.61it/s]\n",
      "  0%|          | 1/229 [00:00<00:31,  7.26it/s]"
     ]
    },
    {
     "name": "stdout",
     "output_type": "stream",
     "text": [
      "Epoch: 232, Train Acc: 0.9721, Train AUC: 0.9851, Test Acc: 0.9253, Test Auc: 0.9690, Loss: 0.2325\n"
     ]
    },
    {
     "name": "stderr",
     "output_type": "stream",
     "text": [
      "100%|██████████| 229/229 [00:34<00:00,  6.60it/s]\n",
      "  0%|          | 1/229 [00:00<00:31,  7.30it/s]"
     ]
    },
    {
     "name": "stdout",
     "output_type": "stream",
     "text": [
      "Epoch: 233, Train Acc: 0.9689, Train AUC: 0.9849, Test Acc: 0.9207, Test Auc: 0.9717, Loss: 0.2268\n"
     ]
    },
    {
     "name": "stderr",
     "output_type": "stream",
     "text": [
      "100%|██████████| 229/229 [00:34<00:00,  6.57it/s]\n",
      "  0%|          | 1/229 [00:00<00:31,  7.28it/s]"
     ]
    },
    {
     "name": "stdout",
     "output_type": "stream",
     "text": [
      "Epoch: 234, Train Acc: 0.9727, Train AUC: 0.9852, Test Acc: 0.9277, Test Auc: 0.9717, Loss: 0.2171\n"
     ]
    },
    {
     "name": "stderr",
     "output_type": "stream",
     "text": [
      "100%|██████████| 229/229 [00:34<00:00,  6.56it/s]\n",
      "  0%|          | 1/229 [00:00<00:31,  7.20it/s]"
     ]
    },
    {
     "name": "stdout",
     "output_type": "stream",
     "text": [
      "Epoch: 235, Train Acc: 0.9758, Train AUC: 0.9838, Test Acc: 0.9172, Test Auc: 0.9685, Loss: 0.2303\n"
     ]
    },
    {
     "name": "stderr",
     "output_type": "stream",
     "text": [
      "100%|██████████| 229/229 [00:34<00:00,  6.60it/s]\n",
      "  0%|          | 1/229 [00:00<00:31,  7.21it/s]"
     ]
    },
    {
     "name": "stdout",
     "output_type": "stream",
     "text": [
      "Epoch: 236, Train Acc: 0.9730, Train AUC: 0.9836, Test Acc: 0.9230, Test Auc: 0.9691, Loss: 0.2259\n"
     ]
    },
    {
     "name": "stderr",
     "output_type": "stream",
     "text": [
      "100%|██████████| 229/229 [00:34<00:00,  6.60it/s]\n",
      "  0%|          | 1/229 [00:00<00:31,  7.22it/s]"
     ]
    },
    {
     "name": "stdout",
     "output_type": "stream",
     "text": [
      "Epoch: 237, Train Acc: 0.9714, Train AUC: 0.9854, Test Acc: 0.9207, Test Auc: 0.9719, Loss: 0.1991\n"
     ]
    },
    {
     "name": "stderr",
     "output_type": "stream",
     "text": [
      "100%|██████████| 229/229 [00:34<00:00,  6.61it/s]\n",
      "  0%|          | 1/229 [00:00<00:31,  7.18it/s]"
     ]
    },
    {
     "name": "stdout",
     "output_type": "stream",
     "text": [
      "Epoch: 238, Train Acc: 0.9781, Train AUC: 0.9842, Test Acc: 0.9277, Test Auc: 0.9675, Loss: 0.2347\n"
     ]
    },
    {
     "name": "stderr",
     "output_type": "stream",
     "text": [
      "100%|██████████| 229/229 [00:34<00:00,  6.69it/s]\n",
      "  0%|          | 1/229 [00:00<00:29,  7.81it/s]"
     ]
    },
    {
     "name": "stdout",
     "output_type": "stream",
     "text": [
      "Epoch: 239, Train Acc: 0.9765, Train AUC: 0.9850, Test Acc: 0.9253, Test Auc: 0.9707, Loss: 0.2146\n"
     ]
    },
    {
     "name": "stderr",
     "output_type": "stream",
     "text": [
      "100%|██████████| 229/229 [00:33<00:00,  6.74it/s]\n",
      "  0%|          | 1/229 [00:00<00:28,  7.92it/s]"
     ]
    },
    {
     "name": "stdout",
     "output_type": "stream",
     "text": [
      "Epoch: 240, Train Acc: 0.9720, Train AUC: 0.9846, Test Acc: 0.9207, Test Auc: 0.9702, Loss: 0.2120\n"
     ]
    },
    {
     "name": "stderr",
     "output_type": "stream",
     "text": [
      "100%|██████████| 229/229 [00:33<00:00,  6.76it/s]\n",
      "  0%|          | 1/229 [00:00<00:31,  7.18it/s]"
     ]
    },
    {
     "name": "stdout",
     "output_type": "stream",
     "text": [
      "Epoch: 241, Train Acc: 0.9794, Train AUC: 0.9853, Test Acc: 0.9300, Test Auc: 0.9696, Loss: 0.2042\n"
     ]
    },
    {
     "name": "stderr",
     "output_type": "stream",
     "text": [
      "100%|██████████| 229/229 [00:34<00:00,  6.61it/s]\n",
      "  0%|          | 1/229 [00:00<00:29,  7.78it/s]"
     ]
    },
    {
     "name": "stdout",
     "output_type": "stream",
     "text": [
      "Epoch: 242, Train Acc: 0.9735, Train AUC: 0.9843, Test Acc: 0.9277, Test Auc: 0.9717, Loss: 0.2091\n"
     ]
    },
    {
     "name": "stderr",
     "output_type": "stream",
     "text": [
      "100%|██████████| 229/229 [00:34<00:00,  6.62it/s]\n",
      "  0%|          | 1/229 [00:00<00:30,  7.46it/s]"
     ]
    },
    {
     "name": "stdout",
     "output_type": "stream",
     "text": [
      "Epoch: 243, Train Acc: 0.9768, Train AUC: 0.9851, Test Acc: 0.9335, Test Auc: 0.9722, Loss: 0.2151\n"
     ]
    },
    {
     "name": "stderr",
     "output_type": "stream",
     "text": [
      "100%|██████████| 229/229 [00:34<00:00,  6.60it/s]\n",
      "  0%|          | 1/229 [00:00<00:30,  7.37it/s]"
     ]
    },
    {
     "name": "stdout",
     "output_type": "stream",
     "text": [
      "Epoch: 244, Train Acc: 0.9765, Train AUC: 0.9849, Test Acc: 0.9253, Test Auc: 0.9719, Loss: 0.2053\n"
     ]
    },
    {
     "name": "stderr",
     "output_type": "stream",
     "text": [
      "100%|██████████| 229/229 [00:34<00:00,  6.58it/s]\n",
      "  0%|          | 1/229 [00:00<00:31,  7.17it/s]"
     ]
    },
    {
     "name": "stdout",
     "output_type": "stream",
     "text": [
      "Epoch: 245, Train Acc: 0.9727, Train AUC: 0.9847, Test Acc: 0.9207, Test Auc: 0.9706, Loss: 0.2141\n"
     ]
    },
    {
     "name": "stderr",
     "output_type": "stream",
     "text": [
      "100%|██████████| 229/229 [00:34<00:00,  6.62it/s]\n",
      "  0%|          | 1/229 [00:00<00:29,  7.67it/s]"
     ]
    },
    {
     "name": "stdout",
     "output_type": "stream",
     "text": [
      "Epoch: 246, Train Acc: 0.9749, Train AUC: 0.9856, Test Acc: 0.9230, Test Auc: 0.9736, Loss: 0.2020\n"
     ]
    },
    {
     "name": "stderr",
     "output_type": "stream",
     "text": [
      "100%|██████████| 229/229 [00:34<00:00,  6.62it/s]\n",
      "  0%|          | 1/229 [00:00<00:31,  7.32it/s]"
     ]
    },
    {
     "name": "stdout",
     "output_type": "stream",
     "text": [
      "Epoch: 247, Train Acc: 0.9778, Train AUC: 0.9865, Test Acc: 0.9335, Test Auc: 0.9744, Loss: 0.2120\n"
     ]
    },
    {
     "name": "stderr",
     "output_type": "stream",
     "text": [
      "100%|██████████| 229/229 [00:34<00:00,  6.62it/s]\n",
      "  0%|          | 1/229 [00:00<00:31,  7.34it/s]"
     ]
    },
    {
     "name": "stdout",
     "output_type": "stream",
     "text": [
      "Epoch: 248, Train Acc: 0.9759, Train AUC: 0.9860, Test Acc: 0.9242, Test Auc: 0.9727, Loss: 0.2197\n"
     ]
    },
    {
     "name": "stderr",
     "output_type": "stream",
     "text": [
      "100%|██████████| 229/229 [00:34<00:00,  6.58it/s]\n"
     ]
    },
    {
     "name": "stdout",
     "output_type": "stream",
     "text": [
      "Epoch: 249, Train Acc: 0.9778, Train AUC: 0.9867, Test Acc: 0.9288, Test Auc: 0.9752, Loss: 0.2088\n"
     ]
    }
   ],
   "source": [
    "optimizer = torch.optim.Adam(model.parameters(), lr=0.001)\n",
    "criterion = torch.nn.CrossEntropyLoss()\n",
    "\n",
    "def train():\n",
    "    model.train()\n",
    "    avgLoss = 0\n",
    "    for data in tqdm(train_loader, total=229):  # Iterate in batches over the training dataset.\n",
    "        data.x = torch.reshape(data.x, (data.x.shape[0], 1))\n",
    "        data.x = data.x.type(torch.FloatTensor)\n",
    "        data = data.to(device)\n",
    "        out = model(data.x, data.edge_index, data.batch)# Perform a single forward pass.\n",
    "        loss = criterion(out, data.y)  # Compute the loss.\n",
    "        loss.backward()  # Derive gradients.\n",
    "        optimizer.step()  # Update parameters based on gradients.\n",
    "        optimizer.zero_grad()  # Clear gradients.\n",
    "        avgLoss += loss\n",
    "    return avgLoss / 229\n",
    "\n",
    "def test(loader):\n",
    "    model.eval()\n",
    "\n",
    "    correct = 0\n",
    "    avgAUC = 0\n",
    "    for data in loader:  # Iterate in batches over the training/test dataset.\n",
    "        data.x = torch.reshape(data.x, (data.x.shape[0], 1))\n",
    "        data.x = data.x.type(torch.FloatTensor)\n",
    "        data = data.to(device)\n",
    "        out = model(data.x, data.edge_index, data.batch)  \n",
    "        pred = out.argmax(dim=1)  # Use the class with highest probability.\n",
    "        correct += int((pred == data.y).sum())  # Check against ground-truth labels.\n",
    "        avgAUCbatch = 0\n",
    "        aucCounter = 0\n",
    "        one_hot = np.eye(14)[data.y.cpu()]\n",
    "        for i in range(0,14):\n",
    "            try:\n",
    "                roc = roc_auc_score(one_hot[:,i], out.cpu().detach().numpy()[:,i])\n",
    "                avgAUCbatch += roc\n",
    "                aucCounter +=1\n",
    "            except Exception as e:\n",
    "                continue\n",
    "        if aucCounter == 0:\n",
    "            continue\n",
    "        avgAUC += avgAUCbatch/aucCounter\n",
    "    return correct / len(loader.dataset), avgAUC / len(loader)  # Derive ratio of correct predictions.\n",
    "\n",
    "\n",
    "for epoch in range(1, 250):\n",
    "    loss = train()\n",
    "    train_acc, trainAUC = test(train_loader)\n",
    "    test_acc,testAUC = test(test_loader)\n",
    "    print(f'Epoch: {epoch:03d}, Train Acc: {train_acc:.4f}, Train AUC: {trainAUC:.4f}, Test Acc: {test_acc:.4f}, Test Auc: {testAUC:.4f}, Loss: {loss:.4f}')"
   ]
  },
  {
   "cell_type": "code",
   "execution_count": 8,
   "id": "f02f132a",
   "metadata": {},
   "outputs": [
    {
     "name": "stdout",
     "output_type": "stream",
     "text": [
      "{'acinar': 0, 'beta': 1, 'delta': 2, 'activated_stellate': 3, 'ductal': 4, 'alpha': 5, 'epsilon': 6, 'gamma': 7, 'endothelial': 8, 'quiescent_stellate': 9, 'macrophage': 10, 'schwann': 11, 'mast': 12, 't_cell': 13}\n"
     ]
    }
   ],
   "source": [
    "print(dataset.cellToIndex)"
   ]
  },
  {
   "cell_type": "code",
   "execution_count": 18,
   "id": "ab926e3a",
   "metadata": {},
   "outputs": [],
   "source": [
    "torch.save(model.state_dict(), 'model_weightsSept20BaronHuman.pth')"
   ]
  },
  {
   "cell_type": "code",
   "execution_count": 10,
   "id": "e2eac3e8",
   "metadata": {},
   "outputs": [],
   "source": [
    "yee = {}\n",
    "for data in train_loader:\n",
    "    wow = data.y.detach().numpy()[0]\n",
    "    if wow in yee:\n",
    "        yee[wow] +=1\n",
    "    else:\n",
    "        yee[wow] = 0"
   ]
  },
  {
   "cell_type": "code",
   "execution_count": 11,
   "id": "0886ade8",
   "metadata": {},
   "outputs": [
    {
     "data": {
      "text/plain": [
       "{1: 85, 5: 56, 4: 29, 3: 6, 0: 20, 2: 11, 7: 5, 8: 5, 9: 1, 12: 0, 10: 0}"
      ]
     },
     "execution_count": 11,
     "metadata": {},
     "output_type": "execute_result"
    }
   ],
   "source": [
    "yee"
   ]
  },
  {
   "cell_type": "code",
   "execution_count": 19,
   "id": "6d6c2c4a",
   "metadata": {},
   "outputs": [],
   "source": [
    "def testForAUC(loader):\n",
    "    model.eval()\n",
    "\n",
    "    correct = 0\n",
    "    avgAUC = 0\n",
    "    toReturn = np.zeros((len(loader), 14))\n",
    "    ind = 0\n",
    "    actual = np.zeros((len(loader), 14))\n",
    "    for data in loader:  # Iterate in batches over the training/test dataset.\n",
    "        data.x = torch.reshape(data.x, (data.x.shape[0], 1))\n",
    "        data.x = data.x.type(torch.FloatTensor)\n",
    "        data = data.to(device)\n",
    "        out = model(data.x, data.edge_index, data.batch)\n",
    "        toReturn[ind] = out.cpu().detach().numpy()\n",
    "        actual[ind][data.y] = 1\n",
    "        ind+=1\n",
    "    return toReturn, actual"
   ]
  },
  {
   "cell_type": "code",
   "execution_count": 21,
   "id": "50d7d321",
   "metadata": {},
   "outputs": [],
   "source": [
    "test_loader_auc = DataLoader(test_data, batch_size=1, shuffle=False)\n",
    "predics, test_labels = testForAUC(test_loader_auc)"
   ]
  },
  {
   "cell_type": "code",
   "execution_count": 14,
   "id": "545d6437",
   "metadata": {},
   "outputs": [
    {
     "name": "stdout",
     "output_type": "stream",
     "text": [
      "(1713, 14)\n",
      "(1713, 14)\n"
     ]
    }
   ],
   "source": [
    "print(test_labels.shape)\n",
    "print(predics.shape)"
   ]
  },
  {
   "cell_type": "code",
   "execution_count": 22,
   "id": "afed5ec8",
   "metadata": {},
   "outputs": [
    {
     "name": "stderr",
     "output_type": "stream",
     "text": [
      "/gpfs/home/hzaki1/celltypefromgrn/env/lib/python3.7/site-packages/sklearn/metrics/_ranking.py:951: UndefinedMetricWarning: No positive samples in y_true, true positive value should be meaningless\n",
      "  UndefinedMetricWarning)\n",
      "/gpfs/home/hzaki1/celltypefromgrn/env/lib/python3.7/site-packages/sklearn/metrics/_ranking.py:951: UndefinedMetricWarning: No positive samples in y_true, true positive value should be meaningless\n",
      "  UndefinedMetricWarning)\n"
     ]
    },
    {
     "data": {
      "text/plain": [
       "Text(0, 0.5, 'True Positive Rate')"
      ]
     },
     "execution_count": 22,
     "metadata": {},
     "output_type": "execute_result"
    },
    {
     "data": {
      "image/png": "[encoded data removed]",
      "text/plain": [
       "<Figure size 648x648 with 1 Axes>"
      ]
     },
     "metadata": {
      "needs_background": "light"
     },
     "output_type": "display_data"
    }
   ],
   "source": [
    "from sklearn.metrics import roc_curve, auc\n",
    "import matplotlib.pyplot as plt\n",
    "%matplotlib inline\n",
    "\n",
    "fig, c_ax = plt.subplots(1,1, figsize = (9, 9))\n",
    "\n",
    "all_labels = list(dataset.cellToIndex.keys())\n",
    "test_labels = np.array(test_labels)\n",
    "\n",
    "for (idx, c_label) in enumerate(all_labels):\n",
    "    fpr, tpr, thresholds = roc_curve(test_labels[:,idx].astype(int), predics[:,idx])\n",
    "    c_ax.plot(fpr, tpr, label = '%s (AUC:%0.2f)'  % (c_label, auc(fpr, tpr)))\n",
    "c_ax.legend()\n",
    "c_ax.set_xlabel('False Positive Rate')\n",
    "c_ax.set_ylabel('True Positive Rate')"
   ]
  },
  {
   "cell_type": "code",
   "execution_count": 24,
   "id": "7096fe28",
   "metadata": {},
   "outputs": [
    {
     "name": "stdout",
     "output_type": "stream",
     "text": [
      "[[0. 0. 1. ... 0. 0. 0.]\n",
      " [0. 1. 0. ... 0. 0. 0.]\n",
      " [0. 0. 0. ... 0. 0. 0.]\n",
      " ...\n",
      " [0. 1. 0. ... 0. 0. 0.]\n",
      " [0. 0. 0. ... 0. 0. 0.]\n",
      " [0. 0. 0. ... 0. 0. 0.]]\n",
      "[[0. 0. 1. ... 0. 0. 0.]\n",
      " [0. 1. 0. ... 0. 0. 0.]\n",
      " [0. 0. 0. ... 0. 0. 0.]\n",
      " ...\n",
      " [0. 1. 0. ... 0. 0. 0.]\n",
      " [0. 0. 0. ... 0. 0. 0.]\n",
      " [0. 0. 0. ... 0. 0. 0.]]\n"
     ]
    }
   ],
   "source": [
    "print(test_labels)\n",
    "b = np.zeros_like(predics)\n",
    "b[np.arange(len(predics)), predics.argmax(1)] = 1\n",
    "print(b)"
   ]
  },
  {
   "cell_type": "code",
   "execution_count": 23,
   "id": "2dbec577",
   "metadata": {},
   "outputs": [],
   "source": [
    "torch.save(train_dataset, 'train_loader_aug24.pt')\n",
    "torch.save(test_dataset, 'test_loader_aug24.pt')"
   ]
  },
  {
   "cell_type": "code",
   "execution_count": 8,
   "id": "83d6905b",
   "metadata": {},
   "outputs": [
    {
     "data": {
      "text/plain": [
       "<All keys matched successfully>"
      ]
     },
     "execution_count": 8,
     "metadata": {},
     "output_type": "execute_result"
    }
   ],
   "source": [
    "model.load_state_dict(torch.load('model_weightsSept20BaronHuman.pth'))"
   ]
  },
  {
   "cell_type": "code",
   "execution_count": 11,
   "id": "64d40ece",
   "metadata": {},
   "outputs": [
    {
     "ename": "ValueError",
     "evalue": "multiclass format is not supported",
     "output_type": "error",
     "traceback": [
      "\u001b[0;31m---------------------------------------------------------------------------\u001b[0m",
      "\u001b[0;31mValueError\u001b[0m                                Traceback (most recent call last)",
      "\u001b[0;32m<ipython-input-11-1dd7885cd566>\u001b[0m in \u001b[0;36m<module>\u001b[0;34m\u001b[0m\n\u001b[1;32m     17\u001b[0m         \u001b[0mprint\u001b[0m\u001b[0;34m(\u001b[0m\u001b[0mwowowow\u001b[0m\u001b[0;34m)\u001b[0m\u001b[0;34m\u001b[0m\u001b[0;34m\u001b[0m\u001b[0m\n\u001b[1;32m     18\u001b[0m \u001b[0;34m\u001b[0m\u001b[0m\n\u001b[0;32m---> 19\u001b[0;31m \u001b[0mtestForAUPR\u001b[0m\u001b[0;34m(\u001b[0m\u001b[0mtest_loader\u001b[0m\u001b[0;34m)\u001b[0m\u001b[0;34m\u001b[0m\u001b[0;34m\u001b[0m\u001b[0m\n\u001b[0m",
      "\u001b[0;32m<ipython-input-11-1dd7885cd566>\u001b[0m in \u001b[0;36mtestForAUPR\u001b[0;34m(loader)\u001b[0m\n\u001b[1;32m     14\u001b[0m         \u001b[0mdata\u001b[0m \u001b[0;34m=\u001b[0m \u001b[0mdata\u001b[0m\u001b[0;34m.\u001b[0m\u001b[0mto\u001b[0m\u001b[0;34m(\u001b[0m\u001b[0mdevice\u001b[0m\u001b[0;34m)\u001b[0m\u001b[0;34m\u001b[0m\u001b[0;34m\u001b[0m\u001b[0m\n\u001b[1;32m     15\u001b[0m         \u001b[0mout\u001b[0m \u001b[0;34m=\u001b[0m \u001b[0mmodel\u001b[0m\u001b[0;34m(\u001b[0m\u001b[0mdata\u001b[0m\u001b[0;34m.\u001b[0m\u001b[0mx\u001b[0m\u001b[0;34m,\u001b[0m \u001b[0mdata\u001b[0m\u001b[0;34m.\u001b[0m\u001b[0medge_index\u001b[0m\u001b[0;34m,\u001b[0m \u001b[0mdata\u001b[0m\u001b[0;34m.\u001b[0m\u001b[0mbatch\u001b[0m\u001b[0;34m)\u001b[0m\u001b[0;34m\u001b[0m\u001b[0;34m\u001b[0m\u001b[0m\n\u001b[0;32m---> 16\u001b[0;31m         \u001b[0mwowow\u001b[0m \u001b[0;34m=\u001b[0m \u001b[0maverage_precision_score\u001b[0m\u001b[0;34m(\u001b[0m\u001b[0mdata\u001b[0m\u001b[0;34m.\u001b[0m\u001b[0my\u001b[0m\u001b[0;34m.\u001b[0m\u001b[0mcpu\u001b[0m\u001b[0;34m(\u001b[0m\u001b[0;34m)\u001b[0m\u001b[0;34m.\u001b[0m\u001b[0mdetach\u001b[0m\u001b[0;34m(\u001b[0m\u001b[0;34m)\u001b[0m\u001b[0;34m.\u001b[0m\u001b[0mnumpy\u001b[0m\u001b[0;34m(\u001b[0m\u001b[0;34m)\u001b[0m\u001b[0;34m,\u001b[0m \u001b[0mout\u001b[0m\u001b[0;34m.\u001b[0m\u001b[0mcpu\u001b[0m\u001b[0;34m(\u001b[0m\u001b[0;34m)\u001b[0m\u001b[0;34m.\u001b[0m\u001b[0mdetach\u001b[0m\u001b[0;34m(\u001b[0m\u001b[0;34m)\u001b[0m\u001b[0;34m.\u001b[0m\u001b[0mnumpy\u001b[0m\u001b[0;34m(\u001b[0m\u001b[0;34m)\u001b[0m\u001b[0;34m,\u001b[0m \u001b[0maverage\u001b[0m\u001b[0;34m=\u001b[0m\u001b[0;34m'micro'\u001b[0m\u001b[0;34m)\u001b[0m\u001b[0;34m\u001b[0m\u001b[0;34m\u001b[0m\u001b[0m\n\u001b[0m\u001b[1;32m     17\u001b[0m         \u001b[0mprint\u001b[0m\u001b[0;34m(\u001b[0m\u001b[0mwowowow\u001b[0m\u001b[0;34m)\u001b[0m\u001b[0;34m\u001b[0m\u001b[0;34m\u001b[0m\u001b[0m\n\u001b[1;32m     18\u001b[0m \u001b[0;34m\u001b[0m\u001b[0m\n",
      "\u001b[0;32m/gpfs/home/hzaki1/celltypefromgrn/env/lib/python3.7/site-packages/sklearn/utils/validation.py\u001b[0m in \u001b[0;36minner_f\u001b[0;34m(*args, **kwargs)\u001b[0m\n\u001b[1;32m     61\u001b[0m             \u001b[0mextra_args\u001b[0m \u001b[0;34m=\u001b[0m \u001b[0mlen\u001b[0m\u001b[0;34m(\u001b[0m\u001b[0margs\u001b[0m\u001b[0;34m)\u001b[0m \u001b[0;34m-\u001b[0m \u001b[0mlen\u001b[0m\u001b[0;34m(\u001b[0m\u001b[0mall_args\u001b[0m\u001b[0;34m)\u001b[0m\u001b[0;34m\u001b[0m\u001b[0;34m\u001b[0m\u001b[0m\n\u001b[1;32m     62\u001b[0m             \u001b[0;32mif\u001b[0m \u001b[0mextra_args\u001b[0m \u001b[0;34m<=\u001b[0m \u001b[0;36m0\u001b[0m\u001b[0;34m:\u001b[0m\u001b[0;34m\u001b[0m\u001b[0;34m\u001b[0m\u001b[0m\n\u001b[0;32m---> 63\u001b[0;31m                 \u001b[0;32mreturn\u001b[0m \u001b[0mf\u001b[0m\u001b[0;34m(\u001b[0m\u001b[0;34m*\u001b[0m\u001b[0margs\u001b[0m\u001b[0;34m,\u001b[0m \u001b[0;34m**\u001b[0m\u001b[0mkwargs\u001b[0m\u001b[0;34m)\u001b[0m\u001b[0;34m\u001b[0m\u001b[0;34m\u001b[0m\u001b[0m\n\u001b[0m\u001b[1;32m     64\u001b[0m \u001b[0;34m\u001b[0m\u001b[0m\n\u001b[1;32m     65\u001b[0m             \u001b[0;31m# extra_args > 0\u001b[0m\u001b[0;34m\u001b[0m\u001b[0;34m\u001b[0m\u001b[0;34m\u001b[0m\u001b[0m\n",
      "\u001b[0;32m/gpfs/home/hzaki1/celltypefromgrn/env/lib/python3.7/site-packages/sklearn/metrics/_ranking.py\u001b[0m in \u001b[0;36maverage_precision_score\u001b[0;34m(y_true, y_score, average, pos_label, sample_weight)\u001b[0m\n\u001b[1;32m    223\u001b[0m                                 pos_label=pos_label)\n\u001b[1;32m    224\u001b[0m     return _average_binary_score(average_precision, y_true, y_score,\n\u001b[0;32m--> 225\u001b[0;31m                                  average, sample_weight=sample_weight)\n\u001b[0m\u001b[1;32m    226\u001b[0m \u001b[0;34m\u001b[0m\u001b[0m\n\u001b[1;32m    227\u001b[0m \u001b[0;34m\u001b[0m\u001b[0m\n",
      "\u001b[0;32m/gpfs/home/hzaki1/celltypefromgrn/env/lib/python3.7/site-packages/sklearn/metrics/_base.py\u001b[0m in \u001b[0;36m_average_binary_score\u001b[0;34m(binary_metric, y_true, y_score, average, sample_weight)\u001b[0m\n\u001b[1;32m     72\u001b[0m     \u001b[0my_type\u001b[0m \u001b[0;34m=\u001b[0m \u001b[0mtype_of_target\u001b[0m\u001b[0;34m(\u001b[0m\u001b[0my_true\u001b[0m\u001b[0;34m)\u001b[0m\u001b[0;34m\u001b[0m\u001b[0;34m\u001b[0m\u001b[0m\n\u001b[1;32m     73\u001b[0m     \u001b[0;32mif\u001b[0m \u001b[0my_type\u001b[0m \u001b[0;32mnot\u001b[0m \u001b[0;32min\u001b[0m \u001b[0;34m(\u001b[0m\u001b[0;34m\"binary\"\u001b[0m\u001b[0;34m,\u001b[0m \u001b[0;34m\"multilabel-indicator\"\u001b[0m\u001b[0;34m)\u001b[0m\u001b[0;34m:\u001b[0m\u001b[0;34m\u001b[0m\u001b[0;34m\u001b[0m\u001b[0m\n\u001b[0;32m---> 74\u001b[0;31m         \u001b[0;32mraise\u001b[0m \u001b[0mValueError\u001b[0m\u001b[0;34m(\u001b[0m\u001b[0;34m\"{0} format is not supported\"\u001b[0m\u001b[0;34m.\u001b[0m\u001b[0mformat\u001b[0m\u001b[0;34m(\u001b[0m\u001b[0my_type\u001b[0m\u001b[0;34m)\u001b[0m\u001b[0;34m)\u001b[0m\u001b[0;34m\u001b[0m\u001b[0;34m\u001b[0m\u001b[0m\n\u001b[0m\u001b[1;32m     75\u001b[0m \u001b[0;34m\u001b[0m\u001b[0m\n\u001b[1;32m     76\u001b[0m     \u001b[0;32mif\u001b[0m \u001b[0my_type\u001b[0m \u001b[0;34m==\u001b[0m \u001b[0;34m\"binary\"\u001b[0m\u001b[0;34m:\u001b[0m\u001b[0;34m\u001b[0m\u001b[0;34m\u001b[0m\u001b[0m\n",
      "\u001b[0;31mValueError\u001b[0m: multiclass format is not supported"
     ]
    }
   ],
   "source": [
    "from sklearn.metrics import average_precision_score\n",
    "\n",
    "def testForAUPR(loader):\n",
    "    model.eval()\n",
    "\n",
    "    correct = 0\n",
    "    avgAUC = 0\n",
    "    toReturn = np.zeros((len(loader), 14))\n",
    "    ind = 0\n",
    "    actual = np.zeros((len(loader), 14))\n",
    "    for data in loader:  # Iterate in batches over the training/test dataset.\n",
    "        data.x = torch.reshape(data.x, (data.x.shape[0], 1))\n",
    "        data.x = data.x.type(torch.FloatTensor)\n",
    "        data = data.to(device)\n",
    "        out = model(data.x, data.edge_index, data.batch)\n",
    "        wowow = average_precision_score(data.y.cpu().detach().numpy(), out.cpu().detach().numpy(), average='micro')\n",
    "        print(wowowow)\n",
    "    \n",
    "testForAUPR(test_loader)"
   ]
  },
  {
   "cell_type": "code",
   "execution_count": null,
   "id": "e3eb946f",
   "metadata": {},
   "outputs": [],
   "source": []
  }
 ],
 "metadata": {
  "kernelspec": {
   "display_name": "Python 3 (ipykernel)",
   "language": "python",
   "name": "python3"
  },
  "language_info": {
   "codemirror_mode": {
    "name": "ipython",
    "version": 3
   },
   "file_extension": ".py",
   "mimetype": "text/x-python",
   "name": "python",
   "nbconvert_exporter": "python",
   "pygments_lexer": "ipython3",
   "version": "3.7.4"
  }
 },
 "nbformat": 4,
 "nbformat_minor": 5
}
