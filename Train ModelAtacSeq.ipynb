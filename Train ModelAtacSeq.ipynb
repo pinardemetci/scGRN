{
 "cells": [
  {
   "cell_type": "markdown",
   "id": "f8e937c5",
   "metadata": {},
   "source": [
    "# Train model using Mouse Brain dataset"
   ]
  },
  {
   "cell_type": "markdown",
   "id": "df641d71",
   "metadata": {},
   "source": [
    "In this notebook, we're going to train our model using the Mouse Brain dataset (GSE60361). \n",
    "\n",
    "This assumes that you've made the graph using the ```Infer GRN.ipynb``` code."
   ]
  },
  {
   "cell_type": "code",
   "execution_count": 1,
   "id": "65a9a75a",
   "metadata": {},
   "outputs": [
    {
     "name": "stdout",
     "output_type": "stream",
     "text": [
      "Torch version: 1.8.0+cu111\n",
      "Cuda available: True\n",
      "Torch geometric version: 2.0.3\n"
     ]
    }
   ],
   "source": [
    "import os\n",
    "\n",
    "import numpy as np\n",
    "import pandas as pd\n",
    "import torch\n",
    "import torch_geometric\n",
    "from torch_geometric.data import Data, Dataset\n",
    "from tqdm import tqdm\n",
    "from datasets.datasetAtacSeq import AtacSeqDataset\n",
    "from scipy.special import softmax\n",
    "%matplotlib inline\n",
    "import matplotlib.pyplot as plt\n",
    "from sklearn.manifold import TSNE\n",
    "from tqdm import tqdm\n",
    "from sklearn.metrics import (auc, precision_recall_curve, roc_auc_score,\n",
    "                             roc_curve)\n",
    "from statistics import mean"
   ]
  },
  {
   "cell_type": "markdown",
   "id": "419e7c62",
   "metadata": {},
   "source": [
    "Load up the dataset. Read ```datasetMouseBrain.py``` on how the dataset was built. "
   ]
  },
  {
   "cell_type": "code",
   "execution_count": 2,
   "id": "2da40b66",
   "metadata": {},
   "outputs": [
    {
     "name": "stderr",
     "output_type": "stream",
     "text": [
      "100%|██████████| 103480/103480 [00:39<00:00, 2597.98it/s]\n"
     ]
    }
   ],
   "source": [
    "dataset = AtacSeqDataset(\"/gpfs/data/rsingh47/hzaki1/atacseqdata\")"
   ]
  },
  {
   "cell_type": "code",
   "execution_count": 3,
   "id": "fefcae56",
   "metadata": {
    "scrolled": true
   },
   "outputs": [
    {
     "name": "stdout",
     "output_type": "stream",
     "text": [
      "\n",
      "Dataset: AtacSeqDataset(1047):\n",
      "====================\n",
      "Number of graphs: 1047\n",
      "Number of features: 1\n",
      "\n",
      "Data(x=[18666], edge_index=[2, 103480], y=[1])\n",
      "=============================================================\n",
      "Number of nodes: 18666\n",
      "Number of edges: 103480\n",
      "Average node degree: 5.54\n",
      "Contains isolated nodes: True\n",
      "Contains self-loops: False\n",
      "Is undirected: False\n"
     ]
    },
    {
     "name": "stderr",
     "output_type": "stream",
     "text": [
      "/gpfs/home/hzaki1/celltypefromgrn/env-gpu/lib/python3.7/site-packages/torch_geometric/deprecation.py:13: UserWarning: 'contains_isolated_nodes' is deprecated, use 'has_isolated_nodes' instead\n",
      "  warnings.warn(out)\n",
      "/gpfs/home/hzaki1/celltypefromgrn/env-gpu/lib/python3.7/site-packages/torch_geometric/deprecation.py:13: UserWarning: 'contains_self_loops' is deprecated, use 'has_self_loops' instead\n",
      "  warnings.warn(out)\n"
     ]
    }
   ],
   "source": [
    "print()\n",
    "print(f'Dataset: {dataset}:')\n",
    "print('====================')\n",
    "print(f'Number of graphs: {len(dataset)}')\n",
    "print(f'Number of features: {dataset.num_features}')\n",
    "\n",
    "data = dataset[0]  # Get the first graph object.\n",
    "\n",
    "print()\n",
    "print(data)\n",
    "print('=============================================================')\n",
    "\n",
    "# Gather some statistics about the first graph.\n",
    "print(f'Number of nodes: {data.num_nodes}')\n",
    "print(f'Number of edges: {data.num_edges}')\n",
    "print(f'Average node degree: {data.num_edges / data.num_nodes:.2f}')\n",
    "print(f'Contains isolated nodes: {data.contains_isolated_nodes()}')\n",
    "print(f'Contains self-loops: {data.contains_self_loops()}')\n",
    "print(f'Is undirected: {data.is_undirected()}')"
   ]
  },
  {
   "cell_type": "code",
   "execution_count": 8,
   "id": "2965aec9",
   "metadata": {},
   "outputs": [],
   "source": [
    "rangeNp = np.arange(0, 1047)\n",
    "np.random.shuffle(rangeNp)"
   ]
  },
  {
   "cell_type": "code",
   "execution_count": 10,
   "id": "f3eacf5e",
   "metadata": {},
   "outputs": [
    {
     "name": "stdout",
     "output_type": "stream",
     "text": [
      "[936 657 512 ... 356 237  18]\n"
     ]
    }
   ],
   "source": [
    "print(rangeNp)\n",
    "np.savetxt('shuffle_indices/atacseqShuffleIndex.txt', rangeNp)"
   ]
  },
  {
   "cell_type": "code",
   "execution_count": 11,
   "id": "8a66c7cb",
   "metadata": {},
   "outputs": [
    {
     "name": "stdout",
     "output_type": "stream",
     "text": [
      "Number of training graphs: 837\n",
      "Number of validation graphs: 105\n",
      "Number of test graphs: 105\n"
     ]
    }
   ],
   "source": [
    "torch.manual_seed(12345)\n",
    "dataset = dataset.shuffle()\n",
    "\n",
    "\n",
    "shuffle_index = np.loadtxt('shuffle_indices/atacseqShuffleIndex.txt')\n",
    "shuffle_index = shuffle_index.astype(np.int32)\n",
    "train_size, val_size = int(len(shuffle_index)* 0.8), int(len(shuffle_index)* 0.9)\n",
    "train_dataset = [dataset[i] for i in shuffle_index[0:train_size]]\n",
    "val_dataset = [dataset[i] for i in shuffle_index[train_size: val_size]]\n",
    "test_dataset =  [dataset[i] for i in shuffle_index[val_size:]]\n",
    "\n",
    "# train_dataset = torch.load('trainDataset.pt')\n",
    "# test_dataset = torch.load('testDataset.pt')\n",
    "\n",
    "# train_dataset = dataset[:837]\n",
    "# test_dataset = dataset[837:]\n",
    "\n",
    "# train_dataset = dataset[:40]\n",
    "# test_dataset = dataset[40:60]\n",
    "\n",
    "print(f'Number of training graphs: {len(train_dataset)}')\n",
    "print(f'Number of validation graphs: {len(val_dataset)}')\n",
    "print(f'Number of test graphs: {len(test_dataset)}')"
   ]
  },
  {
   "cell_type": "code",
   "execution_count": 12,
   "id": "5dce17cb",
   "metadata": {},
   "outputs": [
    {
     "name": "stderr",
     "output_type": "stream",
     "text": [
      "/gpfs/home/hzaki1/celltypefromgrn/env-gpu/lib/python3.7/site-packages/torch_geometric/deprecation.py:13: UserWarning: 'data.DataLoader' is deprecated, use 'loader.DataLoader' instead\n",
      "  warnings.warn(out)\n"
     ]
    }
   ],
   "source": [
    "from torch_geometric.data import DataLoader\n",
    "\n",
    "train_loader = DataLoader(train_dataset, batch_size=30, shuffle=True)\n",
    "train_loader_testing = DataLoader(train_dataset, batch_size=1, shuffle=True)\n",
    "val_loader = DataLoader(val_dataset, batch_size=1, shuffle=False)\n",
    "test_loader = DataLoader(test_dataset, batch_size=1, shuffle=False)"
   ]
  },
  {
   "cell_type": "code",
   "execution_count": 13,
   "id": "ad8a9de2",
   "metadata": {},
   "outputs": [
    {
     "name": "stdout",
     "output_type": "stream",
     "text": [
      "GCN(\n",
      "  (conv1): SAGEConv(1, 128)\n",
      "  (conv2): SAGEConv(128, 128)\n",
      "  (conv3): SAGEConv(128, 128)\n",
      "  (lin): Linear(in_features=128, out_features=4, bias=True)\n",
      ")\n"
     ]
    }
   ],
   "source": [
    "from gcnmodel import GCN\n",
    "device = torch.device('cuda' if torch.cuda.is_available() else 'cpu')\n",
    "\n",
    "model = GCN(hidden_channels=128, data=dataset, output_size=4).to(device)\n",
    "print(model)"
   ]
  },
  {
   "cell_type": "code",
   "execution_count": 14,
   "id": "783ea868",
   "metadata": {
    "scrolled": true
   },
   "outputs": [
    {
     "name": "stderr",
     "output_type": "stream",
     "text": [
      " 93%|█████████▎| 28/30 [00:06<00:00,  4.23it/s]\n"
     ]
    },
    {
     "name": "stdout",
     "output_type": "stream",
     "text": [
      "Epoch: 001, Train Acc: 0.3572, Train AUC: 0.5877, Train AUPR: 0.3096, Test Acc: 0.3714, Test Auc: 0.6010, Test AUPR: 0.3267,  Loss: 1.2530\n"
     ]
    },
    {
     "name": "stderr",
     "output_type": "stream",
     "text": [
      " 93%|█████████▎| 28/30 [00:04<00:00,  6.47it/s]\n"
     ]
    },
    {
     "name": "stdout",
     "output_type": "stream",
     "text": [
      "Epoch: 002, Train Acc: 0.3740, Train AUC: 0.6363, Train AUPR: 0.3471, Test Acc: 0.3905, Test Auc: 0.6580, Test AUPR: 0.3781,  Loss: 1.2367\n"
     ]
    },
    {
     "name": "stderr",
     "output_type": "stream",
     "text": [
      " 93%|█████████▎| 28/30 [00:07<00:00,  3.94it/s]\n"
     ]
    },
    {
     "name": "stdout",
     "output_type": "stream",
     "text": [
      "Epoch: 003, Train Acc: 0.4576, Train AUC: 0.6524, Train AUPR: 0.3595, Test Acc: 0.4857, Test Auc: 0.6701, Test AUPR: 0.4085,  Loss: 1.2037\n"
     ]
    },
    {
     "name": "stderr",
     "output_type": "stream",
     "text": [
      " 93%|█████████▎| 28/30 [00:07<00:00,  3.88it/s]\n"
     ]
    },
    {
     "name": "stdout",
     "output_type": "stream",
     "text": [
      "Epoch: 004, Train Acc: 0.4624, Train AUC: 0.6388, Train AUPR: 0.3602, Test Acc: 0.4952, Test Auc: 0.6660, Test AUPR: 0.3727,  Loss: 1.1814\n"
     ]
    },
    {
     "name": "stderr",
     "output_type": "stream",
     "text": [
      " 93%|█████████▎| 28/30 [00:07<00:00,  3.95it/s]\n"
     ]
    },
    {
     "name": "stdout",
     "output_type": "stream",
     "text": [
      "Epoch: 005, Train Acc: 0.4922, Train AUC: 0.6604, Train AUPR: 0.3648, Test Acc: 0.5333, Test Auc: 0.6808, Test AUPR: 0.3937,  Loss: 1.1824\n"
     ]
    },
    {
     "name": "stderr",
     "output_type": "stream",
     "text": [
      " 93%|█████████▎| 28/30 [00:08<00:00,  3.19it/s]\n"
     ]
    },
    {
     "name": "stdout",
     "output_type": "stream",
     "text": [
      "Epoch: 006, Train Acc: 0.4779, Train AUC: 0.6774, Train AUPR: 0.3822, Test Acc: 0.5524, Test Auc: 0.7037, Test AUPR: 0.4213,  Loss: 1.1388\n"
     ]
    },
    {
     "name": "stderr",
     "output_type": "stream",
     "text": [
      " 93%|█████████▎| 28/30 [00:08<00:00,  3.47it/s]\n"
     ]
    },
    {
     "name": "stdout",
     "output_type": "stream",
     "text": [
      "Epoch: 007, Train Acc: 0.4719, Train AUC: 0.6530, Train AUPR: 0.3731, Test Acc: 0.5238, Test Auc: 0.6677, Test AUPR: 0.3891,  Loss: 1.1713\n"
     ]
    },
    {
     "name": "stderr",
     "output_type": "stream",
     "text": [
      " 93%|█████████▎| 28/30 [00:07<00:00,  3.53it/s]\n"
     ]
    },
    {
     "name": "stdout",
     "output_type": "stream",
     "text": [
      "Epoch: 008, Train Acc: 0.5054, Train AUC: 0.7061, Train AUPR: 0.4109, Test Acc: 0.5619, Test Auc: 0.7362, Test AUPR: 0.4474,  Loss: 1.1291\n"
     ]
    },
    {
     "name": "stderr",
     "output_type": "stream",
     "text": [
      " 93%|█████████▎| 28/30 [00:08<00:00,  3.40it/s]\n"
     ]
    },
    {
     "name": "stdout",
     "output_type": "stream",
     "text": [
      "Epoch: 009, Train Acc: 0.4994, Train AUC: 0.7023, Train AUPR: 0.4280, Test Acc: 0.5333, Test Auc: 0.7061, Test AUPR: 0.4209,  Loss: 1.1124\n"
     ]
    },
    {
     "name": "stderr",
     "output_type": "stream",
     "text": [
      " 93%|█████████▎| 28/30 [00:07<00:00,  3.95it/s]\n"
     ]
    },
    {
     "name": "stdout",
     "output_type": "stream",
     "text": [
      "Epoch: 010, Train Acc: 0.4636, Train AUC: 0.6930, Train AUPR: 0.4214, Test Acc: 0.5048, Test Auc: 0.7060, Test AUPR: 0.4537,  Loss: 1.1025\n"
     ]
    },
    {
     "name": "stderr",
     "output_type": "stream",
     "text": [
      " 93%|█████████▎| 28/30 [00:05<00:00,  5.03it/s]\n"
     ]
    },
    {
     "name": "stdout",
     "output_type": "stream",
     "text": [
      "Epoch: 011, Train Acc: 0.4994, Train AUC: 0.7170, Train AUPR: 0.4520, Test Acc: 0.5333, Test Auc: 0.7359, Test AUPR: 0.4621,  Loss: 1.0903\n"
     ]
    },
    {
     "name": "stderr",
     "output_type": "stream",
     "text": [
      " 93%|█████████▎| 28/30 [00:07<00:00,  3.72it/s]\n"
     ]
    },
    {
     "name": "stdout",
     "output_type": "stream",
     "text": [
      "Epoch: 012, Train Acc: 0.5042, Train AUC: 0.7124, Train AUPR: 0.4438, Test Acc: 0.5333, Test Auc: 0.7286, Test AUPR: 0.4524,  Loss: 1.0963\n"
     ]
    },
    {
     "name": "stderr",
     "output_type": "stream",
     "text": [
      " 93%|█████████▎| 28/30 [00:07<00:00,  3.87it/s]\n"
     ]
    },
    {
     "name": "stdout",
     "output_type": "stream",
     "text": [
      "Epoch: 013, Train Acc: 0.5137, Train AUC: 0.7265, Train AUPR: 0.4624, Test Acc: 0.5524, Test Auc: 0.7439, Test AUPR: 0.4714,  Loss: 1.1017\n"
     ]
    },
    {
     "name": "stderr",
     "output_type": "stream",
     "text": [
      " 93%|█████████▎| 28/30 [00:08<00:00,  3.18it/s]\n"
     ]
    },
    {
     "name": "stdout",
     "output_type": "stream",
     "text": [
      "Epoch: 014, Train Acc: 0.5245, Train AUC: 0.7288, Train AUPR: 0.4630, Test Acc: 0.5619, Test Auc: 0.7315, Test AUPR: 0.4731,  Loss: 1.0843\n"
     ]
    },
    {
     "name": "stderr",
     "output_type": "stream",
     "text": [
      " 93%|█████████▎| 28/30 [00:07<00:00,  3.87it/s]\n"
     ]
    },
    {
     "name": "stdout",
     "output_type": "stream",
     "text": [
      "Epoch: 015, Train Acc: 0.5125, Train AUC: 0.7273, Train AUPR: 0.4633, Test Acc: 0.5714, Test Auc: 0.7553, Test AUPR: 0.5000,  Loss: 1.1066\n"
     ]
    },
    {
     "name": "stderr",
     "output_type": "stream",
     "text": [
      " 93%|█████████▎| 28/30 [00:07<00:00,  3.73it/s]\n"
     ]
    },
    {
     "name": "stdout",
     "output_type": "stream",
     "text": [
      "Epoch: 016, Train Acc: 0.5090, Train AUC: 0.7323, Train AUPR: 0.4771, Test Acc: 0.5333, Test Auc: 0.7442, Test AUPR: 0.4828,  Loss: 1.0783\n"
     ]
    },
    {
     "name": "stderr",
     "output_type": "stream",
     "text": [
      " 93%|█████████▎| 28/30 [00:09<00:00,  3.08it/s]\n"
     ]
    },
    {
     "name": "stdout",
     "output_type": "stream",
     "text": [
      "Epoch: 017, Train Acc: 0.5006, Train AUC: 0.7350, Train AUPR: 0.4708, Test Acc: 0.5619, Test Auc: 0.7495, Test AUPR: 0.4720,  Loss: 1.0549\n"
     ]
    },
    {
     "name": "stderr",
     "output_type": "stream",
     "text": [
      " 93%|█████████▎| 28/30 [00:07<00:00,  3.72it/s]\n"
     ]
    },
    {
     "name": "stdout",
     "output_type": "stream",
     "text": [
      "Epoch: 018, Train Acc: 0.4934, Train AUC: 0.7325, Train AUPR: 0.4811, Test Acc: 0.5429, Test Auc: 0.7265, Test AUPR: 0.4565,  Loss: 1.0800\n"
     ]
    },
    {
     "name": "stderr",
     "output_type": "stream",
     "text": [
      " 93%|█████████▎| 28/30 [00:07<00:00,  3.58it/s]\n"
     ]
    },
    {
     "name": "stdout",
     "output_type": "stream",
     "text": [
      "Epoch: 019, Train Acc: 0.5066, Train AUC: 0.7232, Train AUPR: 0.4672, Test Acc: 0.5429, Test Auc: 0.7403, Test AUPR: 0.4861,  Loss: 1.0826\n"
     ]
    },
    {
     "name": "stderr",
     "output_type": "stream",
     "text": [
      " 93%|█████████▎| 28/30 [00:08<00:00,  3.30it/s]\n"
     ]
    },
    {
     "name": "stdout",
     "output_type": "stream",
     "text": [
      "Epoch: 020, Train Acc: 0.5352, Train AUC: 0.7463, Train AUPR: 0.4924, Test Acc: 0.5714, Test Auc: 0.7582, Test AUPR: 0.4850,  Loss: 1.0532\n"
     ]
    },
    {
     "name": "stderr",
     "output_type": "stream",
     "text": [
      " 93%|█████████▎| 28/30 [00:07<00:00,  3.79it/s]\n"
     ]
    },
    {
     "name": "stdout",
     "output_type": "stream",
     "text": [
      "Epoch: 021, Train Acc: 0.5484, Train AUC: 0.7537, Train AUPR: 0.5086, Test Acc: 0.5905, Test Auc: 0.7680, Test AUPR: 0.5104,  Loss: 1.0678\n"
     ]
    },
    {
     "name": "stderr",
     "output_type": "stream",
     "text": [
      " 93%|█████████▎| 28/30 [00:08<00:00,  3.45it/s]\n"
     ]
    },
    {
     "name": "stdout",
     "output_type": "stream",
     "text": [
      "Epoch: 022, Train Acc: 0.5568, Train AUC: 0.7699, Train AUPR: 0.5273, Test Acc: 0.5810, Test Auc: 0.7796, Test AUPR: 0.5259,  Loss: 1.0403\n"
     ]
    },
    {
     "name": "stderr",
     "output_type": "stream",
     "text": [
      " 93%|█████████▎| 28/30 [00:07<00:00,  3.73it/s]\n"
     ]
    },
    {
     "name": "stdout",
     "output_type": "stream",
     "text": [
      "Epoch: 023, Train Acc: 0.5221, Train AUC: 0.7525, Train AUPR: 0.5017, Test Acc: 0.5905, Test Auc: 0.7769, Test AUPR: 0.5270,  Loss: 1.0538\n"
     ]
    },
    {
     "name": "stderr",
     "output_type": "stream",
     "text": [
      " 93%|█████████▎| 28/30 [00:07<00:00,  3.91it/s]\n"
     ]
    },
    {
     "name": "stdout",
     "output_type": "stream",
     "text": [
      "Epoch: 024, Train Acc: 0.5305, Train AUC: 0.7707, Train AUPR: 0.5379, Test Acc: 0.5714, Test Auc: 0.7612, Test AUPR: 0.4842,  Loss: 1.0374\n"
     ]
    },
    {
     "name": "stderr",
     "output_type": "stream",
     "text": [
      " 93%|█████████▎| 28/30 [00:08<00:00,  3.15it/s]\n"
     ]
    },
    {
     "name": "stdout",
     "output_type": "stream",
     "text": [
      "Epoch: 025, Train Acc: 0.5603, Train AUC: 0.7724, Train AUPR: 0.5403, Test Acc: 0.5905, Test Auc: 0.7852, Test AUPR: 0.5145,  Loss: 1.0448\n"
     ]
    },
    {
     "name": "stderr",
     "output_type": "stream",
     "text": [
      " 93%|█████████▎| 28/30 [00:07<00:00,  3.95it/s]\n"
     ]
    },
    {
     "name": "stdout",
     "output_type": "stream",
     "text": [
      "Epoch: 026, Train Acc: 0.5663, Train AUC: 0.7822, Train AUPR: 0.5516, Test Acc: 0.5905, Test Auc: 0.7834, Test AUPR: 0.5184,  Loss: 1.0138\n"
     ]
    },
    {
     "name": "stderr",
     "output_type": "stream",
     "text": [
      " 93%|█████████▎| 28/30 [00:07<00:00,  3.73it/s]\n"
     ]
    },
    {
     "name": "stdout",
     "output_type": "stream",
     "text": [
      "Epoch: 027, Train Acc: 0.5579, Train AUC: 0.7740, Train AUPR: 0.5471, Test Acc: 0.6000, Test Auc: 0.7776, Test AUPR: 0.5242,  Loss: 1.0224\n"
     ]
    },
    {
     "name": "stderr",
     "output_type": "stream",
     "text": [
      " 93%|█████████▎| 28/30 [00:08<00:00,  3.24it/s]\n"
     ]
    },
    {
     "name": "stdout",
     "output_type": "stream",
     "text": [
      "Epoch: 028, Train Acc: 0.5675, Train AUC: 0.7798, Train AUPR: 0.5498, Test Acc: 0.6190, Test Auc: 0.7974, Test AUPR: 0.5432,  Loss: 1.0198\n"
     ]
    },
    {
     "name": "stderr",
     "output_type": "stream",
     "text": [
      " 93%|█████████▎| 28/30 [00:07<00:00,  3.78it/s]\n"
     ]
    },
    {
     "name": "stdout",
     "output_type": "stream",
     "text": [
      "Epoch: 029, Train Acc: 0.5484, Train AUC: 0.7865, Train AUPR: 0.5581, Test Acc: 0.6000, Test Auc: 0.7951, Test AUPR: 0.5440,  Loss: 1.0241\n"
     ]
    },
    {
     "name": "stderr",
     "output_type": "stream",
     "text": [
      " 93%|█████████▎| 28/30 [00:07<00:00,  3.61it/s]\n"
     ]
    },
    {
     "name": "stdout",
     "output_type": "stream",
     "text": [
      "Epoch: 030, Train Acc: 0.5591, Train AUC: 0.7778, Train AUPR: 0.5476, Test Acc: 0.5810, Test Auc: 0.7786, Test AUPR: 0.5185,  Loss: 1.0187\n"
     ]
    },
    {
     "name": "stderr",
     "output_type": "stream",
     "text": [
      " 93%|█████████▎| 28/30 [00:07<00:00,  3.54it/s]\n"
     ]
    },
    {
     "name": "stdout",
     "output_type": "stream",
     "text": [
      "Epoch: 031, Train Acc: 0.5854, Train AUC: 0.8006, Train AUPR: 0.5783, Test Acc: 0.6381, Test Auc: 0.8144, Test AUPR: 0.5660,  Loss: 0.9956\n"
     ]
    },
    {
     "name": "stderr",
     "output_type": "stream",
     "text": [
      " 93%|█████████▎| 28/30 [00:07<00:00,  3.91it/s]\n"
     ]
    },
    {
     "name": "stdout",
     "output_type": "stream",
     "text": [
      "Epoch: 032, Train Acc: 0.5842, Train AUC: 0.7997, Train AUPR: 0.5779, Test Acc: 0.6190, Test Auc: 0.7875, Test AUPR: 0.5467,  Loss: 0.9758\n"
     ]
    },
    {
     "name": "stderr",
     "output_type": "stream",
     "text": [
      " 93%|█████████▎| 28/30 [00:08<00:00,  3.46it/s]\n"
     ]
    },
    {
     "name": "stdout",
     "output_type": "stream",
     "text": [
      "Epoch: 033, Train Acc: 0.5771, Train AUC: 0.7921, Train AUPR: 0.5622, Test Acc: 0.5905, Test Auc: 0.8145, Test AUPR: 0.5751,  Loss: 0.9983\n"
     ]
    },
    {
     "name": "stderr",
     "output_type": "stream",
     "text": [
      " 93%|█████████▎| 28/30 [00:07<00:00,  3.77it/s]\n"
     ]
    },
    {
     "name": "stdout",
     "output_type": "stream",
     "text": [
      "Epoch: 034, Train Acc: 0.5926, Train AUC: 0.8032, Train AUPR: 0.5834, Test Acc: 0.6095, Test Auc: 0.8140, Test AUPR: 0.5860,  Loss: 0.9766\n"
     ]
    },
    {
     "name": "stderr",
     "output_type": "stream",
     "text": [
      " 93%|█████████▎| 28/30 [00:07<00:00,  3.91it/s]\n"
     ]
    },
    {
     "name": "stdout",
     "output_type": "stream",
     "text": [
      "Epoch: 035, Train Acc: 0.5914, Train AUC: 0.8133, Train AUPR: 0.5896, Test Acc: 0.6190, Test Auc: 0.8178, Test AUPR: 0.5983,  Loss: 0.9676\n"
     ]
    },
    {
     "name": "stderr",
     "output_type": "stream",
     "text": [
      " 93%|█████████▎| 28/30 [00:08<00:00,  3.15it/s]\n"
     ]
    },
    {
     "name": "stdout",
     "output_type": "stream",
     "text": [
      "Epoch: 036, Train Acc: 0.5639, Train AUC: 0.7973, Train AUPR: 0.5735, Test Acc: 0.5810, Test Auc: 0.7853, Test AUPR: 0.5489,  Loss: 0.9672\n"
     ]
    },
    {
     "name": "stderr",
     "output_type": "stream",
     "text": [
      " 93%|█████████▎| 28/30 [00:07<00:00,  3.93it/s]\n"
     ]
    },
    {
     "name": "stdout",
     "output_type": "stream",
     "text": [
      "Epoch: 037, Train Acc: 0.6010, Train AUC: 0.8134, Train AUPR: 0.5925, Test Acc: 0.6190, Test Auc: 0.7957, Test AUPR: 0.5356,  Loss: 0.9518\n"
     ]
    },
    {
     "name": "stderr",
     "output_type": "stream",
     "text": [
      " 93%|█████████▎| 28/30 [00:07<00:00,  3.79it/s]\n"
     ]
    },
    {
     "name": "stdout",
     "output_type": "stream",
     "text": [
      "Epoch: 038, Train Acc: 0.5783, Train AUC: 0.7954, Train AUPR: 0.5625, Test Acc: 0.6095, Test Auc: 0.7979, Test AUPR: 0.5468,  Loss: 0.9655\n"
     ]
    },
    {
     "name": "stderr",
     "output_type": "stream",
     "text": [
      " 93%|█████████▎| 28/30 [00:09<00:00,  3.08it/s]\n"
     ]
    },
    {
     "name": "stdout",
     "output_type": "stream",
     "text": [
      "Epoch: 039, Train Acc: 0.5962, Train AUC: 0.8158, Train AUPR: 0.6001, Test Acc: 0.6381, Test Auc: 0.7954, Test AUPR: 0.5674,  Loss: 0.9583\n"
     ]
    },
    {
     "name": "stderr",
     "output_type": "stream",
     "text": [
      " 93%|█████████▎| 28/30 [00:07<00:00,  3.67it/s]\n"
     ]
    },
    {
     "name": "stdout",
     "output_type": "stream",
     "text": [
      "Epoch: 040, Train Acc: 0.5938, Train AUC: 0.8116, Train AUPR: 0.5831, Test Acc: 0.6000, Test Auc: 0.8247, Test AUPR: 0.5971,  Loss: 0.9444\n"
     ]
    },
    {
     "name": "stderr",
     "output_type": "stream",
     "text": [
      " 93%|█████████▎| 28/30 [00:08<00:00,  3.38it/s]\n"
     ]
    },
    {
     "name": "stdout",
     "output_type": "stream",
     "text": [
      "Epoch: 041, Train Acc: 0.5257, Train AUC: 0.8052, Train AUPR: 0.5546, Test Acc: 0.5429, Test Auc: 0.8046, Test AUPR: 0.5429,  Loss: 0.9712\n"
     ]
    },
    {
     "name": "stderr",
     "output_type": "stream",
     "text": [
      " 93%|█████████▎| 28/30 [00:07<00:00,  3.59it/s]\n"
     ]
    },
    {
     "name": "stdout",
     "output_type": "stream",
     "text": [
      "Epoch: 042, Train Acc: 0.6010, Train AUC: 0.8153, Train AUPR: 0.5973, Test Acc: 0.6190, Test Auc: 0.8144, Test AUPR: 0.5899,  Loss: 0.9414\n"
     ]
    },
    {
     "name": "stderr",
     "output_type": "stream",
     "text": [
      " 93%|█████████▎| 28/30 [00:07<00:00,  3.84it/s]\n"
     ]
    },
    {
     "name": "stdout",
     "output_type": "stream",
     "text": [
      "Epoch: 043, Train Acc: 0.6189, Train AUC: 0.8225, Train AUPR: 0.6076, Test Acc: 0.6000, Test Auc: 0.8087, Test AUPR: 0.5617,  Loss: 0.9359\n"
     ]
    },
    {
     "name": "stderr",
     "output_type": "stream",
     "text": [
      " 93%|█████████▎| 28/30 [00:08<00:00,  3.19it/s]\n"
     ]
    },
    {
     "name": "stdout",
     "output_type": "stream",
     "text": [
      "Epoch: 044, Train Acc: 0.6189, Train AUC: 0.8302, Train AUPR: 0.6133, Test Acc: 0.6667, Test Auc: 0.8056, Test AUPR: 0.5453,  Loss: 0.9314\n"
     ]
    },
    {
     "name": "stderr",
     "output_type": "stream",
     "text": [
      " 93%|█████████▎| 28/30 [00:07<00:00,  3.87it/s]\n"
     ]
    },
    {
     "name": "stdout",
     "output_type": "stream",
     "text": [
      "Epoch: 045, Train Acc: 0.6093, Train AUC: 0.8148, Train AUPR: 0.5959, Test Acc: 0.6190, Test Auc: 0.8111, Test AUPR: 0.5761,  Loss: 0.9514\n"
     ]
    },
    {
     "name": "stderr",
     "output_type": "stream",
     "text": [
      " 93%|█████████▎| 28/30 [00:07<00:00,  3.73it/s]\n"
     ]
    },
    {
     "name": "stdout",
     "output_type": "stream",
     "text": [
      "Epoch: 046, Train Acc: 0.6201, Train AUC: 0.8210, Train AUPR: 0.5980, Test Acc: 0.6381, Test Auc: 0.8023, Test AUPR: 0.6002,  Loss: 0.9349\n"
     ]
    },
    {
     "name": "stderr",
     "output_type": "stream",
     "text": [
      " 93%|█████████▎| 28/30 [00:08<00:00,  3.17it/s]\n"
     ]
    },
    {
     "name": "stdout",
     "output_type": "stream",
     "text": [
      "Epoch: 047, Train Acc: 0.5974, Train AUC: 0.8146, Train AUPR: 0.6072, Test Acc: 0.6190, Test Auc: 0.8021, Test AUPR: 0.5691,  Loss: 0.9553\n"
     ]
    },
    {
     "name": "stderr",
     "output_type": "stream",
     "text": [
      " 93%|█████████▎| 28/30 [00:07<00:00,  3.92it/s]\n"
     ]
    },
    {
     "name": "stdout",
     "output_type": "stream",
     "text": [
      "Epoch: 048, Train Acc: 0.5448, Train AUC: 0.8063, Train AUPR: 0.5786, Test Acc: 0.6095, Test Auc: 0.7751, Test AUPR: 0.5418,  Loss: 0.9396\n"
     ]
    },
    {
     "name": "stderr",
     "output_type": "stream",
     "text": [
      " 93%|█████████▎| 28/30 [00:07<00:00,  3.96it/s]\n"
     ]
    },
    {
     "name": "stdout",
     "output_type": "stream",
     "text": [
      "Epoch: 049, Train Acc: 0.6117, Train AUC: 0.8239, Train AUPR: 0.6020, Test Acc: 0.6476, Test Auc: 0.8251, Test AUPR: 0.6007,  Loss: 0.9747\n"
     ]
    },
    {
     "name": "stderr",
     "output_type": "stream",
     "text": [
      " 93%|█████████▎| 28/30 [00:08<00:00,  3.25it/s]\n"
     ]
    },
    {
     "name": "stdout",
     "output_type": "stream",
     "text": [
      "Epoch: 050, Train Acc: 0.6010, Train AUC: 0.8113, Train AUPR: 0.5925, Test Acc: 0.6000, Test Auc: 0.8002, Test AUPR: 0.5750,  Loss: 0.9369\n"
     ]
    },
    {
     "name": "stderr",
     "output_type": "stream",
     "text": [
      " 93%|█████████▎| 28/30 [00:07<00:00,  3.94it/s]\n"
     ]
    },
    {
     "name": "stdout",
     "output_type": "stream",
     "text": [
      "Epoch: 051, Train Acc: 0.5938, Train AUC: 0.8181, Train AUPR: 0.5882, Test Acc: 0.6095, Test Auc: 0.8228, Test AUPR: 0.5890,  Loss: 0.9208\n"
     ]
    },
    {
     "name": "stderr",
     "output_type": "stream",
     "text": [
      " 93%|█████████▎| 28/30 [00:07<00:00,  3.66it/s]\n"
     ]
    },
    {
     "name": "stdout",
     "output_type": "stream",
     "text": [
      "Epoch: 052, Train Acc: 0.6189, Train AUC: 0.8313, Train AUPR: 0.6234, Test Acc: 0.6190, Test Auc: 0.8245, Test AUPR: 0.5888,  Loss: 0.9328\n"
     ]
    },
    {
     "name": "stderr",
     "output_type": "stream",
     "text": [
      " 93%|█████████▎| 28/30 [00:08<00:00,  3.42it/s]\n"
     ]
    },
    {
     "name": "stdout",
     "output_type": "stream",
     "text": [
      "Epoch: 053, Train Acc: 0.6177, Train AUC: 0.8198, Train AUPR: 0.6008, Test Acc: 0.6476, Test Auc: 0.8014, Test AUPR: 0.5563,  Loss: 0.9188\n"
     ]
    },
    {
     "name": "stderr",
     "output_type": "stream",
     "text": [
      " 93%|█████████▎| 28/30 [00:07<00:00,  3.90it/s]\n"
     ]
    },
    {
     "name": "stdout",
     "output_type": "stream",
     "text": [
      "Epoch: 054, Train Acc: 0.6177, Train AUC: 0.8282, Train AUPR: 0.6248, Test Acc: 0.6286, Test Auc: 0.8118, Test AUPR: 0.5834,  Loss: 0.9378\n"
     ]
    },
    {
     "name": "stderr",
     "output_type": "stream",
     "text": [
      " 93%|█████████▎| 28/30 [00:08<00:00,  3.12it/s]\n"
     ]
    },
    {
     "name": "stdout",
     "output_type": "stream",
     "text": [
      "Epoch: 055, Train Acc: 0.6105, Train AUC: 0.8319, Train AUPR: 0.6216, Test Acc: 0.6286, Test Auc: 0.8150, Test AUPR: 0.5821,  Loss: 0.9186\n"
     ]
    },
    {
     "name": "stderr",
     "output_type": "stream",
     "text": [
      " 93%|█████████▎| 28/30 [00:07<00:00,  3.93it/s]\n"
     ]
    },
    {
     "name": "stdout",
     "output_type": "stream",
     "text": [
      "Epoch: 056, Train Acc: 0.6045, Train AUC: 0.8318, Train AUPR: 0.6216, Test Acc: 0.6667, Test Auc: 0.8363, Test AUPR: 0.6003,  Loss: 0.9286\n"
     ]
    },
    {
     "name": "stderr",
     "output_type": "stream",
     "text": [
      " 93%|█████████▎| 28/30 [00:07<00:00,  3.97it/s]\n"
     ]
    },
    {
     "name": "stdout",
     "output_type": "stream",
     "text": [
      "Epoch: 057, Train Acc: 0.6380, Train AUC: 0.8353, Train AUPR: 0.6353, Test Acc: 0.5905, Test Auc: 0.8279, Test AUPR: 0.5895,  Loss: 0.9177\n"
     ]
    },
    {
     "name": "stderr",
     "output_type": "stream",
     "text": [
      " 93%|█████████▎| 28/30 [00:08<00:00,  3.14it/s]\n"
     ]
    },
    {
     "name": "stdout",
     "output_type": "stream",
     "text": [
      "Epoch: 058, Train Acc: 0.6260, Train AUC: 0.8285, Train AUPR: 0.6168, Test Acc: 0.6381, Test Auc: 0.8153, Test AUPR: 0.5749,  Loss: 0.9218\n"
     ]
    },
    {
     "name": "stderr",
     "output_type": "stream",
     "text": [
      " 93%|█████████▎| 28/30 [00:07<00:00,  3.96it/s]\n"
     ]
    },
    {
     "name": "stdout",
     "output_type": "stream",
     "text": [
      "Epoch: 059, Train Acc: 0.6117, Train AUC: 0.8272, Train AUPR: 0.6290, Test Acc: 0.6095, Test Auc: 0.8130, Test AUPR: 0.5728,  Loss: 0.9358\n"
     ]
    },
    {
     "name": "stderr",
     "output_type": "stream",
     "text": [
      " 93%|█████████▎| 28/30 [00:07<00:00,  3.71it/s]\n"
     ]
    },
    {
     "name": "stdout",
     "output_type": "stream",
     "text": [
      "Epoch: 060, Train Acc: 0.6010, Train AUC: 0.8243, Train AUPR: 0.6212, Test Acc: 0.6286, Test Auc: 0.8062, Test AUPR: 0.5751,  Loss: 0.9213\n"
     ]
    },
    {
     "name": "stderr",
     "output_type": "stream",
     "text": [
      " 93%|█████████▎| 28/30 [00:09<00:00,  2.92it/s]\n"
     ]
    },
    {
     "name": "stdout",
     "output_type": "stream",
     "text": [
      "Epoch: 061, Train Acc: 0.6249, Train AUC: 0.8351, Train AUPR: 0.6317, Test Acc: 0.6381, Test Auc: 0.8212, Test AUPR: 0.5836,  Loss: 0.9141\n"
     ]
    },
    {
     "name": "stderr",
     "output_type": "stream",
     "text": [
      " 93%|█████████▎| 28/30 [00:07<00:00,  3.88it/s]\n"
     ]
    },
    {
     "name": "stdout",
     "output_type": "stream",
     "text": [
      "Epoch: 062, Train Acc: 0.6272, Train AUC: 0.8393, Train AUPR: 0.6351, Test Acc: 0.6286, Test Auc: 0.8292, Test AUPR: 0.5820,  Loss: 0.9051\n"
     ]
    },
    {
     "name": "stderr",
     "output_type": "stream",
     "text": [
      " 93%|█████████▎| 28/30 [00:07<00:00,  3.83it/s]\n"
     ]
    },
    {
     "name": "stdout",
     "output_type": "stream",
     "text": [
      "Epoch: 063, Train Acc: 0.6237, Train AUC: 0.8346, Train AUPR: 0.6282, Test Acc: 0.6571, Test Auc: 0.8274, Test AUPR: 0.5773,  Loss: 0.9146\n"
     ]
    },
    {
     "name": "stderr",
     "output_type": "stream",
     "text": [
      " 93%|█████████▎| 28/30 [00:08<00:00,  3.50it/s]\n"
     ]
    },
    {
     "name": "stdout",
     "output_type": "stream",
     "text": [
      "Epoch: 064, Train Acc: 0.5974, Train AUC: 0.8176, Train AUPR: 0.6085, Test Acc: 0.6286, Test Auc: 0.7940, Test AUPR: 0.5579,  Loss: 0.9148\n"
     ]
    },
    {
     "name": "stderr",
     "output_type": "stream",
     "text": [
      " 93%|█████████▎| 28/30 [00:07<00:00,  3.95it/s]\n"
     ]
    },
    {
     "name": "stdout",
     "output_type": "stream",
     "text": [
      "Epoch: 065, Train Acc: 0.6260, Train AUC: 0.8381, Train AUPR: 0.6385, Test Acc: 0.6286, Test Auc: 0.8079, Test AUPR: 0.5678,  Loss: 0.9030\n"
     ]
    },
    {
     "name": "stderr",
     "output_type": "stream",
     "text": [
      " 93%|█████████▎| 28/30 [00:08<00:00,  3.46it/s]\n"
     ]
    },
    {
     "name": "stdout",
     "output_type": "stream",
     "text": [
      "Epoch: 066, Train Acc: 0.5950, Train AUC: 0.8270, Train AUPR: 0.6177, Test Acc: 0.6286, Test Auc: 0.7944, Test AUPR: 0.5734,  Loss: 0.9084\n"
     ]
    },
    {
     "name": "stderr",
     "output_type": "stream",
     "text": [
      " 93%|█████████▎| 28/30 [00:07<00:00,  3.78it/s]\n"
     ]
    },
    {
     "name": "stdout",
     "output_type": "stream",
     "text": [
      "Epoch: 067, Train Acc: 0.6153, Train AUC: 0.8312, Train AUPR: 0.6244, Test Acc: 0.6857, Test Auc: 0.8262, Test AUPR: 0.5719,  Loss: 0.9520\n"
     ]
    },
    {
     "name": "stderr",
     "output_type": "stream",
     "text": [
      " 93%|█████████▎| 28/30 [00:07<00:00,  3.93it/s]\n"
     ]
    },
    {
     "name": "stdout",
     "output_type": "stream",
     "text": [
      "Epoch: 068, Train Acc: 0.6165, Train AUC: 0.8333, Train AUPR: 0.6183, Test Acc: 0.6286, Test Auc: 0.7991, Test AUPR: 0.5560,  Loss: 0.9215\n"
     ]
    },
    {
     "name": "stderr",
     "output_type": "stream",
     "text": [
      " 93%|█████████▎| 28/30 [00:09<00:00,  2.99it/s]\n"
     ]
    },
    {
     "name": "stdout",
     "output_type": "stream",
     "text": [
      "Epoch: 069, Train Acc: 0.6284, Train AUC: 0.8367, Train AUPR: 0.6268, Test Acc: 0.6476, Test Auc: 0.8167, Test AUPR: 0.5443,  Loss: 0.9040\n"
     ]
    },
    {
     "name": "stderr",
     "output_type": "stream",
     "text": [
      " 93%|█████████▎| 28/30 [00:07<00:00,  3.92it/s]\n"
     ]
    },
    {
     "name": "stdout",
     "output_type": "stream",
     "text": [
      "Epoch: 070, Train Acc: 0.6332, Train AUC: 0.8461, Train AUPR: 0.6483, Test Acc: 0.6571, Test Auc: 0.8149, Test AUPR: 0.5679,  Loss: 0.9049\n"
     ]
    },
    {
     "name": "stderr",
     "output_type": "stream",
     "text": [
      " 93%|█████████▎| 28/30 [00:07<00:00,  3.58it/s]\n"
     ]
    },
    {
     "name": "stdout",
     "output_type": "stream",
     "text": [
      "Epoch: 071, Train Acc: 0.6225, Train AUC: 0.8409, Train AUPR: 0.6391, Test Acc: 0.6667, Test Auc: 0.8349, Test AUPR: 0.5837,  Loss: 0.8991\n"
     ]
    },
    {
     "name": "stderr",
     "output_type": "stream",
     "text": [
      " 93%|█████████▎| 28/30 [00:09<00:00,  2.88it/s]\n"
     ]
    },
    {
     "name": "stdout",
     "output_type": "stream",
     "text": [
      "Epoch: 072, Train Acc: 0.6177, Train AUC: 0.8444, Train AUPR: 0.6330, Test Acc: 0.6381, Test Auc: 0.8084, Test AUPR: 0.5358,  Loss: 0.9048\n"
     ]
    },
    {
     "name": "stderr",
     "output_type": "stream",
     "text": [
      " 93%|█████████▎| 28/30 [00:07<00:00,  3.82it/s]\n"
     ]
    },
    {
     "name": "stdout",
     "output_type": "stream",
     "text": [
      "Epoch: 073, Train Acc: 0.6356, Train AUC: 0.8474, Train AUPR: 0.6513, Test Acc: 0.6190, Test Auc: 0.8249, Test AUPR: 0.5747,  Loss: 0.8886\n"
     ]
    },
    {
     "name": "stderr",
     "output_type": "stream",
     "text": [
      " 93%|█████████▎| 28/30 [00:07<00:00,  3.93it/s]\n"
     ]
    },
    {
     "name": "stdout",
     "output_type": "stream",
     "text": [
      "Epoch: 074, Train Acc: 0.6356, Train AUC: 0.8396, Train AUPR: 0.6401, Test Acc: 0.6190, Test Auc: 0.8161, Test AUPR: 0.5580,  Loss: 0.8951\n"
     ]
    },
    {
     "name": "stderr",
     "output_type": "stream",
     "text": [
      " 93%|█████████▎| 28/30 [00:08<00:00,  3.36it/s]\n"
     ]
    },
    {
     "name": "stdout",
     "output_type": "stream",
     "text": [
      "Epoch: 075, Train Acc: 0.6320, Train AUC: 0.8437, Train AUPR: 0.6379, Test Acc: 0.6381, Test Auc: 0.8075, Test AUPR: 0.5556,  Loss: 0.8970\n"
     ]
    },
    {
     "name": "stderr",
     "output_type": "stream",
     "text": [
      " 93%|█████████▎| 28/30 [00:07<00:00,  3.94it/s]\n"
     ]
    },
    {
     "name": "stdout",
     "output_type": "stream",
     "text": [
      "Epoch: 076, Train Acc: 0.6249, Train AUC: 0.8476, Train AUPR: 0.6522, Test Acc: 0.6000, Test Auc: 0.8105, Test AUPR: 0.5442,  Loss: 0.9052\n"
     ]
    },
    {
     "name": "stderr",
     "output_type": "stream",
     "text": [
      " 93%|█████████▎| 28/30 [00:07<00:00,  3.63it/s]\n"
     ]
    },
    {
     "name": "stdout",
     "output_type": "stream",
     "text": [
      "Epoch: 077, Train Acc: 0.6093, Train AUC: 0.8360, Train AUPR: 0.6418, Test Acc: 0.6571, Test Auc: 0.8012, Test AUPR: 0.5583,  Loss: 0.8719\n"
     ]
    },
    {
     "name": "stderr",
     "output_type": "stream",
     "text": [
      " 93%|█████████▎| 28/30 [00:07<00:00,  3.70it/s]\n"
     ]
    },
    {
     "name": "stdout",
     "output_type": "stream",
     "text": [
      "Epoch: 078, Train Acc: 0.6344, Train AUC: 0.8351, Train AUPR: 0.6386, Test Acc: 0.6286, Test Auc: 0.8081, Test AUPR: 0.5720,  Loss: 0.9256\n"
     ]
    },
    {
     "name": "stderr",
     "output_type": "stream",
     "text": [
      " 93%|█████████▎| 28/30 [00:07<00:00,  3.91it/s]\n"
     ]
    },
    {
     "name": "stdout",
     "output_type": "stream",
     "text": [
      "Epoch: 079, Train Acc: 0.6189, Train AUC: 0.8357, Train AUPR: 0.6301, Test Acc: 0.6190, Test Auc: 0.8284, Test AUPR: 0.5653,  Loss: 0.8994\n"
     ]
    },
    {
     "name": "stderr",
     "output_type": "stream",
     "text": [
      " 93%|█████████▎| 28/30 [00:08<00:00,  3.32it/s]\n"
     ]
    },
    {
     "name": "stdout",
     "output_type": "stream",
     "text": [
      "Epoch: 080, Train Acc: 0.6380, Train AUC: 0.8509, Train AUPR: 0.6590, Test Acc: 0.6476, Test Auc: 0.8168, Test AUPR: 0.5735,  Loss: 0.8944\n"
     ]
    },
    {
     "name": "stderr",
     "output_type": "stream",
     "text": [
      " 93%|█████████▎| 28/30 [00:07<00:00,  3.89it/s]\n"
     ]
    },
    {
     "name": "stdout",
     "output_type": "stream",
     "text": [
      "Epoch: 081, Train Acc: 0.6404, Train AUC: 0.8449, Train AUPR: 0.6509, Test Acc: 0.6381, Test Auc: 0.8013, Test AUPR: 0.5593,  Loss: 0.8852\n"
     ]
    },
    {
     "name": "stderr",
     "output_type": "stream",
     "text": [
      " 93%|█████████▎| 28/30 [00:07<00:00,  3.84it/s]\n"
     ]
    },
    {
     "name": "stdout",
     "output_type": "stream",
     "text": [
      "Epoch: 082, Train Acc: 0.6105, Train AUC: 0.8336, Train AUPR: 0.6242, Test Acc: 0.6000, Test Auc: 0.8253, Test AUPR: 0.5610,  Loss: 0.8937\n"
     ]
    },
    {
     "name": "stderr",
     "output_type": "stream",
     "text": [
      " 93%|█████████▎| 28/30 [00:10<00:00,  2.76it/s]\n"
     ]
    },
    {
     "name": "stdout",
     "output_type": "stream",
     "text": [
      "Epoch: 083, Train Acc: 0.6320, Train AUC: 0.8366, Train AUPR: 0.6360, Test Acc: 0.6190, Test Auc: 0.7911, Test AUPR: 0.5493,  Loss: 0.9186\n"
     ]
    },
    {
     "name": "stderr",
     "output_type": "stream",
     "text": [
      " 93%|█████████▎| 28/30 [00:07<00:00,  3.77it/s]\n"
     ]
    },
    {
     "name": "stdout",
     "output_type": "stream",
     "text": [
      "Epoch: 084, Train Acc: 0.6416, Train AUC: 0.8373, Train AUPR: 0.6304, Test Acc: 0.6286, Test Auc: 0.8225, Test AUPR: 0.5475,  Loss: 0.9197\n"
     ]
    },
    {
     "name": "stderr",
     "output_type": "stream",
     "text": [
      " 93%|█████████▎| 28/30 [00:07<00:00,  3.58it/s]\n"
     ]
    },
    {
     "name": "stdout",
     "output_type": "stream",
     "text": [
      "Epoch: 085, Train Acc: 0.6499, Train AUC: 0.8451, Train AUPR: 0.6521, Test Acc: 0.6571, Test Auc: 0.8048, Test AUPR: 0.5538,  Loss: 0.9000\n"
     ]
    },
    {
     "name": "stderr",
     "output_type": "stream",
     "text": [
      " 93%|█████████▎| 28/30 [00:09<00:00,  2.97it/s]\n"
     ]
    },
    {
     "name": "stdout",
     "output_type": "stream",
     "text": [
      "Epoch: 086, Train Acc: 0.6213, Train AUC: 0.8373, Train AUPR: 0.6269, Test Acc: 0.6286, Test Auc: 0.8082, Test AUPR: 0.5461,  Loss: 0.8722\n"
     ]
    },
    {
     "name": "stderr",
     "output_type": "stream",
     "text": [
      " 93%|█████████▎| 28/30 [00:07<00:00,  3.96it/s]\n"
     ]
    },
    {
     "name": "stdout",
     "output_type": "stream",
     "text": [
      "Epoch: 087, Train Acc: 0.6571, Train AUC: 0.8580, Train AUPR: 0.6722, Test Acc: 0.6190, Test Auc: 0.8159, Test AUPR: 0.5686,  Loss: 0.8747\n"
     ]
    },
    {
     "name": "stderr",
     "output_type": "stream",
     "text": [
      " 93%|█████████▎| 28/30 [00:08<00:00,  3.41it/s]\n"
     ]
    },
    {
     "name": "stdout",
     "output_type": "stream",
     "text": [
      "Epoch: 088, Train Acc: 0.6511, Train AUC: 0.8560, Train AUPR: 0.6705, Test Acc: 0.6095, Test Auc: 0.8301, Test AUPR: 0.5813,  Loss: 0.8727\n"
     ]
    },
    {
     "name": "stderr",
     "output_type": "stream",
     "text": [
      " 93%|█████████▎| 28/30 [00:08<00:00,  3.47it/s]\n"
     ]
    },
    {
     "name": "stdout",
     "output_type": "stream",
     "text": [
      "Epoch: 089, Train Acc: 0.6368, Train AUC: 0.8458, Train AUPR: 0.6570, Test Acc: 0.5905, Test Auc: 0.8252, Test AUPR: 0.5798,  Loss: 0.8468\n"
     ]
    },
    {
     "name": "stderr",
     "output_type": "stream",
     "text": [
      " 93%|█████████▎| 28/30 [00:07<00:00,  3.92it/s]\n"
     ]
    },
    {
     "name": "stdout",
     "output_type": "stream",
     "text": [
      "Epoch: 090, Train Acc: 0.6416, Train AUC: 0.8474, Train AUPR: 0.6540, Test Acc: 0.6286, Test Auc: 0.8157, Test AUPR: 0.5696,  Loss: 0.8898\n"
     ]
    },
    {
     "name": "stderr",
     "output_type": "stream",
     "text": [
      " 93%|█████████▎| 28/30 [00:08<00:00,  3.35it/s]\n"
     ]
    },
    {
     "name": "stdout",
     "output_type": "stream",
     "text": [
      "Epoch: 091, Train Acc: 0.6571, Train AUC: 0.8569, Train AUPR: 0.6716, Test Acc: 0.5905, Test Auc: 0.8301, Test AUPR: 0.5794,  Loss: 0.8683\n"
     ]
    },
    {
     "name": "stderr",
     "output_type": "stream",
     "text": [
      " 93%|█████████▎| 28/30 [00:07<00:00,  3.88it/s]\n"
     ]
    },
    {
     "name": "stdout",
     "output_type": "stream",
     "text": [
      "Epoch: 092, Train Acc: 0.5962, Train AUC: 0.8294, Train AUPR: 0.6221, Test Acc: 0.6190, Test Auc: 0.7764, Test AUPR: 0.5423,  Loss: 0.8610\n"
     ]
    },
    {
     "name": "stderr",
     "output_type": "stream",
     "text": [
      " 93%|█████████▎| 28/30 [00:07<00:00,  3.93it/s]\n"
     ]
    },
    {
     "name": "stdout",
     "output_type": "stream",
     "text": [
      "Epoch: 093, Train Acc: 0.6440, Train AUC: 0.8413, Train AUPR: 0.6477, Test Acc: 0.6095, Test Auc: 0.8058, Test AUPR: 0.5621,  Loss: 0.9224\n"
     ]
    },
    {
     "name": "stderr",
     "output_type": "stream",
     "text": [
      " 93%|█████████▎| 28/30 [00:08<00:00,  3.16it/s]\n"
     ]
    },
    {
     "name": "stdout",
     "output_type": "stream",
     "text": [
      "Epoch: 094, Train Acc: 0.6416, Train AUC: 0.8441, Train AUPR: 0.6452, Test Acc: 0.6381, Test Auc: 0.8050, Test AUPR: 0.5717,  Loss: 0.9136\n"
     ]
    },
    {
     "name": "stderr",
     "output_type": "stream",
     "text": [
      " 93%|█████████▎| 28/30 [00:07<00:00,  3.94it/s]\n"
     ]
    },
    {
     "name": "stdout",
     "output_type": "stream",
     "text": [
      "Epoch: 095, Train Acc: 0.6452, Train AUC: 0.8459, Train AUPR: 0.6522, Test Acc: 0.6476, Test Auc: 0.8220, Test AUPR: 0.5776,  Loss: 0.8933\n"
     ]
    },
    {
     "name": "stderr",
     "output_type": "stream",
     "text": [
      " 93%|█████████▎| 28/30 [00:07<00:00,  3.84it/s]\n"
     ]
    },
    {
     "name": "stdout",
     "output_type": "stream",
     "text": [
      "Epoch: 096, Train Acc: 0.6129, Train AUC: 0.8343, Train AUPR: 0.6162, Test Acc: 0.6571, Test Auc: 0.8209, Test AUPR: 0.5489,  Loss: 0.8838\n"
     ]
    },
    {
     "name": "stderr",
     "output_type": "stream",
     "text": [
      " 93%|█████████▎| 28/30 [00:09<00:00,  2.82it/s]\n"
     ]
    },
    {
     "name": "stdout",
     "output_type": "stream",
     "text": [
      "Epoch: 097, Train Acc: 0.6225, Train AUC: 0.8431, Train AUPR: 0.6453, Test Acc: 0.5619, Test Auc: 0.8046, Test AUPR: 0.5347,  Loss: 0.8955\n"
     ]
    },
    {
     "name": "stderr",
     "output_type": "stream",
     "text": [
      " 93%|█████████▎| 28/30 [00:07<00:00,  3.78it/s]\n"
     ]
    },
    {
     "name": "stdout",
     "output_type": "stream",
     "text": [
      "Epoch: 098, Train Acc: 0.6368, Train AUC: 0.8470, Train AUPR: 0.6467, Test Acc: 0.6476, Test Auc: 0.8227, Test AUPR: 0.5496,  Loss: 0.8882\n"
     ]
    },
    {
     "name": "stderr",
     "output_type": "stream",
     "text": [
      " 93%|█████████▎| 28/30 [00:08<00:00,  3.37it/s]\n"
     ]
    },
    {
     "name": "stdout",
     "output_type": "stream",
     "text": [
      "Epoch: 099, Train Acc: 0.6452, Train AUC: 0.8601, Train AUPR: 0.6726, Test Acc: 0.6000, Test Auc: 0.8043, Test AUPR: 0.5430,  Loss: 0.8684\n"
     ]
    },
    {
     "name": "stderr",
     "output_type": "stream",
     "text": [
      " 93%|█████████▎| 28/30 [00:08<00:00,  3.22it/s]\n"
     ]
    },
    {
     "name": "stdout",
     "output_type": "stream",
     "text": [
      "Epoch: 100, Train Acc: 0.6511, Train AUC: 0.8563, Train AUPR: 0.6710, Test Acc: 0.5810, Test Auc: 0.8070, Test AUPR: 0.5378,  Loss: 0.8715\n"
     ]
    },
    {
     "name": "stderr",
     "output_type": "stream",
     "text": [
      " 93%|█████████▎| 28/30 [00:07<00:00,  3.92it/s]\n"
     ]
    },
    {
     "name": "stdout",
     "output_type": "stream",
     "text": [
      "Epoch: 101, Train Acc: 0.6356, Train AUC: 0.8423, Train AUPR: 0.6437, Test Acc: 0.6000, Test Auc: 0.8196, Test AUPR: 0.5554,  Loss: 0.8703\n"
     ]
    },
    {
     "name": "stderr",
     "output_type": "stream",
     "text": [
      " 93%|█████████▎| 28/30 [00:08<00:00,  3.22it/s]\n"
     ]
    },
    {
     "name": "stdout",
     "output_type": "stream",
     "text": [
      "Epoch: 102, Train Acc: 0.6213, Train AUC: 0.8561, Train AUPR: 0.6631, Test Acc: 0.6381, Test Auc: 0.8016, Test AUPR: 0.5378,  Loss: 0.8836\n"
     ]
    },
    {
     "name": "stderr",
     "output_type": "stream",
     "text": [
      " 93%|█████████▎| 28/30 [00:07<00:00,  3.80it/s]\n"
     ]
    },
    {
     "name": "stdout",
     "output_type": "stream",
     "text": [
      "Epoch: 103, Train Acc: 0.6464, Train AUC: 0.8452, Train AUPR: 0.6544, Test Acc: 0.6381, Test Auc: 0.7998, Test AUPR: 0.5611,  Loss: 0.8738\n"
     ]
    },
    {
     "name": "stderr",
     "output_type": "stream",
     "text": [
      " 93%|█████████▎| 28/30 [00:07<00:00,  3.91it/s]\n"
     ]
    },
    {
     "name": "stdout",
     "output_type": "stream",
     "text": [
      "Epoch: 104, Train Acc: 0.6117, Train AUC: 0.8454, Train AUPR: 0.6641, Test Acc: 0.5810, Test Auc: 0.8135, Test AUPR: 0.5715,  Loss: 0.8882\n"
     ]
    },
    {
     "name": "stderr",
     "output_type": "stream",
     "text": [
      " 93%|█████████▎| 28/30 [00:08<00:00,  3.28it/s]\n"
     ]
    },
    {
     "name": "stdout",
     "output_type": "stream",
     "text": [
      "Epoch: 105, Train Acc: 0.6487, Train AUC: 0.8549, Train AUPR: 0.6701, Test Acc: 0.6476, Test Auc: 0.8281, Test AUPR: 0.5600,  Loss: 0.8919\n"
     ]
    },
    {
     "name": "stderr",
     "output_type": "stream",
     "text": [
      " 93%|█████████▎| 28/30 [00:07<00:00,  3.93it/s]\n"
     ]
    },
    {
     "name": "stdout",
     "output_type": "stream",
     "text": [
      "Epoch: 106, Train Acc: 0.6428, Train AUC: 0.8564, Train AUPR: 0.6663, Test Acc: 0.6190, Test Auc: 0.8029, Test AUPR: 0.5446,  Loss: 0.8576\n"
     ]
    },
    {
     "name": "stderr",
     "output_type": "stream",
     "text": [
      " 93%|█████████▎| 28/30 [00:07<00:00,  3.93it/s]\n"
     ]
    },
    {
     "name": "stdout",
     "output_type": "stream",
     "text": [
      "Epoch: 107, Train Acc: 0.6153, Train AUC: 0.8485, Train AUPR: 0.6576, Test Acc: 0.6667, Test Auc: 0.8265, Test AUPR: 0.5603,  Loss: 0.8984\n"
     ]
    },
    {
     "name": "stderr",
     "output_type": "stream",
     "text": [
      " 93%|█████████▎| 28/30 [00:08<00:00,  3.13it/s]\n"
     ]
    },
    {
     "name": "stdout",
     "output_type": "stream",
     "text": [
      "Epoch: 108, Train Acc: 0.6392, Train AUC: 0.8470, Train AUPR: 0.6578, Test Acc: 0.6286, Test Auc: 0.8169, Test AUPR: 0.5513,  Loss: 0.9044\n"
     ]
    },
    {
     "name": "stderr",
     "output_type": "stream",
     "text": [
      " 93%|█████████▎| 28/30 [00:07<00:00,  3.93it/s]\n"
     ]
    },
    {
     "name": "stdout",
     "output_type": "stream",
     "text": [
      "Epoch: 109, Train Acc: 0.6643, Train AUC: 0.8623, Train AUPR: 0.6828, Test Acc: 0.6286, Test Auc: 0.8206, Test AUPR: 0.5720,  Loss: 0.8569\n"
     ]
    },
    {
     "name": "stderr",
     "output_type": "stream",
     "text": [
      " 93%|█████████▎| 28/30 [00:07<00:00,  3.83it/s]\n"
     ]
    },
    {
     "name": "stdout",
     "output_type": "stream",
     "text": [
      "Epoch: 110, Train Acc: 0.6559, Train AUC: 0.8575, Train AUPR: 0.6737, Test Acc: 0.6571, Test Auc: 0.8073, Test AUPR: 0.5425,  Loss: 0.8441\n"
     ]
    },
    {
     "name": "stderr",
     "output_type": "stream",
     "text": [
      " 93%|█████████▎| 28/30 [00:09<00:00,  2.94it/s]\n"
     ]
    },
    {
     "name": "stdout",
     "output_type": "stream",
     "text": [
      "Epoch: 111, Train Acc: 0.6440, Train AUC: 0.8472, Train AUPR: 0.6599, Test Acc: 0.6190, Test Auc: 0.8026, Test AUPR: 0.5616,  Loss: 0.8593\n"
     ]
    },
    {
     "name": "stderr",
     "output_type": "stream",
     "text": [
      " 93%|█████████▎| 28/30 [00:07<00:00,  3.75it/s]\n"
     ]
    },
    {
     "name": "stdout",
     "output_type": "stream",
     "text": [
      "Epoch: 112, Train Acc: 0.6607, Train AUC: 0.8572, Train AUPR: 0.6756, Test Acc: 0.6190, Test Auc: 0.8143, Test AUPR: 0.5678,  Loss: 0.8765\n"
     ]
    },
    {
     "name": "stderr",
     "output_type": "stream",
     "text": [
      " 93%|█████████▎| 28/30 [00:08<00:00,  3.24it/s]\n"
     ]
    },
    {
     "name": "stdout",
     "output_type": "stream",
     "text": [
      "Epoch: 113, Train Acc: 0.6667, Train AUC: 0.8626, Train AUPR: 0.6864, Test Acc: 0.6286, Test Auc: 0.8258, Test AUPR: 0.5834,  Loss: 0.8516\n"
     ]
    },
    {
     "name": "stderr",
     "output_type": "stream",
     "text": [
      " 93%|█████████▎| 28/30 [00:08<00:00,  3.22it/s]\n"
     ]
    },
    {
     "name": "stdout",
     "output_type": "stream",
     "text": [
      "Epoch: 114, Train Acc: 0.6762, Train AUC: 0.8632, Train AUPR: 0.6869, Test Acc: 0.6000, Test Auc: 0.8110, Test AUPR: 0.5500,  Loss: 0.8532\n"
     ]
    },
    {
     "name": "stderr",
     "output_type": "stream",
     "text": [
      " 93%|█████████▎| 28/30 [00:07<00:00,  3.81it/s]\n"
     ]
    },
    {
     "name": "stdout",
     "output_type": "stream",
     "text": [
      "Epoch: 115, Train Acc: 0.6308, Train AUC: 0.8477, Train AUPR: 0.6548, Test Acc: 0.6000, Test Auc: 0.7908, Test AUPR: 0.5594,  Loss: 0.9057\n"
     ]
    },
    {
     "name": "stderr",
     "output_type": "stream",
     "text": [
      " 93%|█████████▎| 28/30 [00:08<00:00,  3.31it/s]\n"
     ]
    },
    {
     "name": "stdout",
     "output_type": "stream",
     "text": [
      "Epoch: 116, Train Acc: 0.6559, Train AUC: 0.8569, Train AUPR: 0.6765, Test Acc: 0.6190, Test Auc: 0.8047, Test AUPR: 0.5602,  Loss: 0.8600\n"
     ]
    },
    {
     "name": "stderr",
     "output_type": "stream",
     "text": [
      " 93%|█████████▎| 28/30 [00:07<00:00,  3.86it/s]\n"
     ]
    },
    {
     "name": "stdout",
     "output_type": "stream",
     "text": [
      "Epoch: 117, Train Acc: 0.6655, Train AUC: 0.8643, Train AUPR: 0.6872, Test Acc: 0.6095, Test Auc: 0.8150, Test AUPR: 0.5733,  Loss: 0.8373\n"
     ]
    },
    {
     "name": "stderr",
     "output_type": "stream",
     "text": [
      " 93%|█████████▎| 28/30 [00:07<00:00,  3.91it/s]\n"
     ]
    },
    {
     "name": "stdout",
     "output_type": "stream",
     "text": [
      "Epoch: 118, Train Acc: 0.6487, Train AUC: 0.8565, Train AUPR: 0.6725, Test Acc: 0.6381, Test Auc: 0.8179, Test AUPR: 0.5725,  Loss: 0.8607\n"
     ]
    },
    {
     "name": "stderr",
     "output_type": "stream",
     "text": [
      " 93%|█████████▎| 28/30 [00:08<00:00,  3.18it/s]\n"
     ]
    },
    {
     "name": "stdout",
     "output_type": "stream",
     "text": [
      "Epoch: 119, Train Acc: 0.6583, Train AUC: 0.8647, Train AUPR: 0.6852, Test Acc: 0.6286, Test Auc: 0.8230, Test AUPR: 0.5601,  Loss: 0.8384\n"
     ]
    },
    {
     "name": "stderr",
     "output_type": "stream",
     "text": [
      " 93%|█████████▎| 28/30 [00:07<00:00,  3.94it/s]\n"
     ]
    },
    {
     "name": "stdout",
     "output_type": "stream",
     "text": [
      "Epoch: 120, Train Acc: 0.6165, Train AUC: 0.8408, Train AUPR: 0.6515, Test Acc: 0.6095, Test Auc: 0.7888, Test AUPR: 0.5375,  Loss: 0.8488\n"
     ]
    },
    {
     "name": "stderr",
     "output_type": "stream",
     "text": [
      " 93%|█████████▎| 28/30 [00:07<00:00,  3.83it/s]\n"
     ]
    },
    {
     "name": "stdout",
     "output_type": "stream",
     "text": [
      "Epoch: 121, Train Acc: 0.6643, Train AUC: 0.8634, Train AUPR: 0.6844, Test Acc: 0.6381, Test Auc: 0.7974, Test AUPR: 0.5394,  Loss: 0.8602\n"
     ]
    },
    {
     "name": "stderr",
     "output_type": "stream",
     "text": [
      " 93%|█████████▎| 28/30 [00:09<00:00,  2.91it/s]\n"
     ]
    },
    {
     "name": "stdout",
     "output_type": "stream",
     "text": [
      "Epoch: 122, Train Acc: 0.6511, Train AUC: 0.8620, Train AUPR: 0.6823, Test Acc: 0.6571, Test Auc: 0.8241, Test AUPR: 0.5646,  Loss: 0.8626\n"
     ]
    },
    {
     "name": "stderr",
     "output_type": "stream",
     "text": [
      " 93%|█████████▎| 28/30 [00:07<00:00,  3.84it/s]\n"
     ]
    },
    {
     "name": "stdout",
     "output_type": "stream",
     "text": [
      "Epoch: 123, Train Acc: 0.6583, Train AUC: 0.8635, Train AUPR: 0.6886, Test Acc: 0.6190, Test Auc: 0.8008, Test AUPR: 0.5648,  Loss: 0.8359\n"
     ]
    },
    {
     "name": "stderr",
     "output_type": "stream",
     "text": [
      " 93%|█████████▎| 28/30 [00:07<00:00,  3.80it/s]\n"
     ]
    },
    {
     "name": "stdout",
     "output_type": "stream",
     "text": [
      "Epoch: 124, Train Acc: 0.6691, Train AUC: 0.8620, Train AUPR: 0.6883, Test Acc: 0.6000, Test Auc: 0.8220, Test AUPR: 0.5639,  Loss: 0.8296\n"
     ]
    },
    {
     "name": "stderr",
     "output_type": "stream",
     "text": [
      " 93%|█████████▎| 28/30 [00:08<00:00,  3.14it/s]\n"
     ]
    },
    {
     "name": "stdout",
     "output_type": "stream",
     "text": [
      "Epoch: 125, Train Acc: 0.6726, Train AUC: 0.8677, Train AUPR: 0.6950, Test Acc: 0.6286, Test Auc: 0.8136, Test AUPR: 0.5655,  Loss: 0.8525\n"
     ]
    },
    {
     "name": "stderr",
     "output_type": "stream",
     "text": [
      " 93%|█████████▎| 28/30 [00:07<00:00,  3.93it/s]\n"
     ]
    },
    {
     "name": "stdout",
     "output_type": "stream",
     "text": [
      "Epoch: 126, Train Acc: 0.6583, Train AUC: 0.8667, Train AUPR: 0.7030, Test Acc: 0.6000, Test Auc: 0.8127, Test AUPR: 0.5612,  Loss: 0.8369\n"
     ]
    },
    {
     "name": "stderr",
     "output_type": "stream",
     "text": [
      " 93%|█████████▎| 28/30 [00:09<00:00,  3.11it/s]\n"
     ]
    },
    {
     "name": "stdout",
     "output_type": "stream",
     "text": [
      "Epoch: 127, Train Acc: 0.6452, Train AUC: 0.8496, Train AUPR: 0.6612, Test Acc: 0.6190, Test Auc: 0.7981, Test AUPR: 0.5536,  Loss: 0.8820\n"
     ]
    },
    {
     "name": "stderr",
     "output_type": "stream",
     "text": [
      " 93%|█████████▎| 28/30 [00:07<00:00,  3.84it/s]\n"
     ]
    },
    {
     "name": "stdout",
     "output_type": "stream",
     "text": [
      "Epoch: 128, Train Acc: 0.6511, Train AUC: 0.8607, Train AUPR: 0.6802, Test Acc: 0.6381, Test Auc: 0.8189, Test AUPR: 0.5711,  Loss: 0.8637\n"
     ]
    },
    {
     "name": "stderr",
     "output_type": "stream",
     "text": [
      " 93%|█████████▎| 28/30 [00:07<00:00,  3.90it/s]\n"
     ]
    },
    {
     "name": "stdout",
     "output_type": "stream",
     "text": [
      "Epoch: 129, Train Acc: 0.6607, Train AUC: 0.8630, Train AUPR: 0.6884, Test Acc: 0.6381, Test Auc: 0.8161, Test AUPR: 0.5656,  Loss: 0.8419\n"
     ]
    },
    {
     "name": "stderr",
     "output_type": "stream",
     "text": [
      " 93%|█████████▎| 28/30 [00:08<00:00,  3.11it/s]\n"
     ]
    },
    {
     "name": "stdout",
     "output_type": "stream",
     "text": [
      "Epoch: 130, Train Acc: 0.6511, Train AUC: 0.8513, Train AUPR: 0.6681, Test Acc: 0.6571, Test Auc: 0.8035, Test AUPR: 0.5578,  Loss: 0.8533\n"
     ]
    },
    {
     "name": "stderr",
     "output_type": "stream",
     "text": [
      " 93%|█████████▎| 28/30 [00:07<00:00,  3.66it/s]\n"
     ]
    },
    {
     "name": "stdout",
     "output_type": "stream",
     "text": [
      "Epoch: 131, Train Acc: 0.6607, Train AUC: 0.8605, Train AUPR: 0.6898, Test Acc: 0.6381, Test Auc: 0.8169, Test AUPR: 0.5753,  Loss: 0.8645\n"
     ]
    },
    {
     "name": "stderr",
     "output_type": "stream",
     "text": [
      " 93%|█████████▎| 28/30 [00:07<00:00,  3.76it/s]\n"
     ]
    },
    {
     "name": "stdout",
     "output_type": "stream",
     "text": [
      "Epoch: 132, Train Acc: 0.6691, Train AUC: 0.8643, Train AUPR: 0.6915, Test Acc: 0.6286, Test Auc: 0.8283, Test AUPR: 0.5802,  Loss: 0.8526\n"
     ]
    },
    {
     "name": "stderr",
     "output_type": "stream",
     "text": [
      " 93%|█████████▎| 28/30 [00:08<00:00,  3.28it/s]\n"
     ]
    },
    {
     "name": "stdout",
     "output_type": "stream",
     "text": [
      "Epoch: 133, Train Acc: 0.6738, Train AUC: 0.8642, Train AUPR: 0.6911, Test Acc: 0.6095, Test Auc: 0.8199, Test AUPR: 0.5472,  Loss: 0.8321\n"
     ]
    },
    {
     "name": "stderr",
     "output_type": "stream",
     "text": [
      " 93%|█████████▎| 28/30 [00:07<00:00,  3.96it/s]\n"
     ]
    },
    {
     "name": "stdout",
     "output_type": "stream",
     "text": [
      "Epoch: 134, Train Acc: 0.6619, Train AUC: 0.8581, Train AUPR: 0.6805, Test Acc: 0.6381, Test Auc: 0.8102, Test AUPR: 0.5628,  Loss: 0.8491\n"
     ]
    },
    {
     "name": "stderr",
     "output_type": "stream",
     "text": [
      " 93%|█████████▎| 28/30 [00:07<00:00,  3.83it/s]\n"
     ]
    },
    {
     "name": "stdout",
     "output_type": "stream",
     "text": [
      "Epoch: 135, Train Acc: 0.6798, Train AUC: 0.8638, Train AUPR: 0.6898, Test Acc: 0.6095, Test Auc: 0.8336, Test AUPR: 0.5803,  Loss: 0.8321\n"
     ]
    },
    {
     "name": "stderr",
     "output_type": "stream",
     "text": [
      " 93%|█████████▎| 28/30 [00:08<00:00,  3.12it/s]\n"
     ]
    },
    {
     "name": "stdout",
     "output_type": "stream",
     "text": [
      "Epoch: 136, Train Acc: 0.6655, Train AUC: 0.8671, Train AUPR: 0.6994, Test Acc: 0.5714, Test Auc: 0.8269, Test AUPR: 0.5648,  Loss: 0.8341\n"
     ]
    },
    {
     "name": "stderr",
     "output_type": "stream",
     "text": [
      " 93%|█████████▎| 28/30 [00:07<00:00,  3.96it/s]\n"
     ]
    },
    {
     "name": "stdout",
     "output_type": "stream",
     "text": [
      "Epoch: 137, Train Acc: 0.6738, Train AUC: 0.8668, Train AUPR: 0.6994, Test Acc: 0.6095, Test Auc: 0.8161, Test AUPR: 0.5665,  Loss: 0.8427\n"
     ]
    },
    {
     "name": "stderr",
     "output_type": "stream",
     "text": [
      " 93%|█████████▎| 28/30 [00:09<00:00,  3.06it/s]\n"
     ]
    },
    {
     "name": "stdout",
     "output_type": "stream",
     "text": [
      "Epoch: 138, Train Acc: 0.6440, Train AUC: 0.8482, Train AUPR: 0.6597, Test Acc: 0.6667, Test Auc: 0.8030, Test AUPR: 0.5653,  Loss: 0.8432\n"
     ]
    },
    {
     "name": "stderr",
     "output_type": "stream",
     "text": [
      " 93%|█████████▎| 28/30 [00:08<00:00,  3.26it/s]\n"
     ]
    },
    {
     "name": "stdout",
     "output_type": "stream",
     "text": [
      "Epoch: 139, Train Acc: 0.6619, Train AUC: 0.8682, Train AUPR: 0.7021, Test Acc: 0.6095, Test Auc: 0.8157, Test AUPR: 0.5751,  Loss: 0.8542\n"
     ]
    },
    {
     "name": "stderr",
     "output_type": "stream",
     "text": [
      " 93%|█████████▎| 28/30 [00:07<00:00,  3.71it/s]\n"
     ]
    },
    {
     "name": "stdout",
     "output_type": "stream",
     "text": [
      "Epoch: 140, Train Acc: 0.6308, Train AUC: 0.8608, Train AUPR: 0.6767, Test Acc: 0.5905, Test Auc: 0.8079, Test AUPR: 0.5372,  Loss: 0.8456\n"
     ]
    },
    {
     "name": "stderr",
     "output_type": "stream",
     "text": [
      " 93%|█████████▎| 28/30 [00:10<00:00,  2.80it/s]\n"
     ]
    },
    {
     "name": "stdout",
     "output_type": "stream",
     "text": [
      "Epoch: 141, Train Acc: 0.6559, Train AUC: 0.8607, Train AUPR: 0.6850, Test Acc: 0.5810, Test Auc: 0.8241, Test AUPR: 0.5511,  Loss: 0.8603\n"
     ]
    },
    {
     "name": "stderr",
     "output_type": "stream",
     "text": [
      " 93%|█████████▎| 28/30 [00:07<00:00,  3.85it/s]\n"
     ]
    },
    {
     "name": "stdout",
     "output_type": "stream",
     "text": [
      "Epoch: 142, Train Acc: 0.6201, Train AUC: 0.8520, Train AUPR: 0.6578, Test Acc: 0.6095, Test Auc: 0.8109, Test AUPR: 0.5500,  Loss: 0.8504\n"
     ]
    },
    {
     "name": "stderr",
     "output_type": "stream",
     "text": [
      " 93%|█████████▎| 28/30 [00:07<00:00,  3.95it/s]\n"
     ]
    },
    {
     "name": "stdout",
     "output_type": "stream",
     "text": [
      "Epoch: 143, Train Acc: 0.6559, Train AUC: 0.8621, Train AUPR: 0.6880, Test Acc: 0.6286, Test Auc: 0.8285, Test AUPR: 0.5690,  Loss: 0.8463\n"
     ]
    },
    {
     "name": "stderr",
     "output_type": "stream",
     "text": [
      " 93%|█████████▎| 28/30 [00:08<00:00,  3.17it/s]\n"
     ]
    },
    {
     "name": "stdout",
     "output_type": "stream",
     "text": [
      "Epoch: 144, Train Acc: 0.6523, Train AUC: 0.8616, Train AUPR: 0.6886, Test Acc: 0.6286, Test Auc: 0.8239, Test AUPR: 0.5722,  Loss: 0.8329\n"
     ]
    },
    {
     "name": "stderr",
     "output_type": "stream",
     "text": [
      " 93%|█████████▎| 28/30 [00:07<00:00,  3.97it/s]\n"
     ]
    },
    {
     "name": "stdout",
     "output_type": "stream",
     "text": [
      "Epoch: 145, Train Acc: 0.6284, Train AUC: 0.8662, Train AUPR: 0.6836, Test Acc: 0.6571, Test Auc: 0.8117, Test AUPR: 0.5655,  Loss: 0.8286\n"
     ]
    },
    {
     "name": "stderr",
     "output_type": "stream",
     "text": [
      " 93%|█████████▎| 28/30 [00:07<00:00,  3.93it/s]\n"
     ]
    },
    {
     "name": "stdout",
     "output_type": "stream",
     "text": [
      "Epoch: 146, Train Acc: 0.6714, Train AUC: 0.8691, Train AUPR: 0.7010, Test Acc: 0.6000, Test Auc: 0.8226, Test AUPR: 0.5726,  Loss: 0.8229\n"
     ]
    },
    {
     "name": "stderr",
     "output_type": "stream",
     "text": [
      " 93%|█████████▎| 28/30 [00:08<00:00,  3.24it/s]\n"
     ]
    },
    {
     "name": "stdout",
     "output_type": "stream",
     "text": [
      "Epoch: 147, Train Acc: 0.6738, Train AUC: 0.8723, Train AUPR: 0.7077, Test Acc: 0.6190, Test Auc: 0.8329, Test AUPR: 0.5831,  Loss: 0.8168\n"
     ]
    },
    {
     "name": "stderr",
     "output_type": "stream",
     "text": [
      " 93%|█████████▎| 28/30 [00:07<00:00,  3.93it/s]\n"
     ]
    },
    {
     "name": "stdout",
     "output_type": "stream",
     "text": [
      "Epoch: 148, Train Acc: 0.6643, Train AUC: 0.8668, Train AUPR: 0.6877, Test Acc: 0.6667, Test Auc: 0.8018, Test AUPR: 0.5625,  Loss: 0.8306\n"
     ]
    },
    {
     "name": "stderr",
     "output_type": "stream",
     "text": [
      " 93%|█████████▎| 28/30 [00:09<00:00,  3.09it/s]\n"
     ]
    },
    {
     "name": "stdout",
     "output_type": "stream",
     "text": [
      "Epoch: 149, Train Acc: 0.6774, Train AUC: 0.8700, Train AUPR: 0.7009, Test Acc: 0.6286, Test Auc: 0.8095, Test AUPR: 0.5701,  Loss: 0.8491\n"
     ]
    }
   ],
   "source": [
    "optimizer = torch.optim.Adam(model.parameters(), lr=0.005)\n",
    "criterion = torch.nn.CrossEntropyLoss()\n",
    "    \n",
    "def test(loader, size):\n",
    "    model.eval()\n",
    "    output = np.zeros((len(loader), size))\n",
    "    actual = np.zeros((len(loader), size))\n",
    "    accuracy = 0\n",
    "    for ind, data in enumerate(loader):  # Iterate in batches over the training/test dataset.\n",
    "        data.x = torch.reshape(data.x, (data.x.shape[0], 1))\n",
    "        data.x = data.x.type(torch.FloatTensor)\n",
    "        data = data.to(device)\n",
    "        out = model(data.x, data.edge_index, data.batch)\n",
    "        output[ind] = softmax(out.cpu().detach().numpy())\n",
    "        actual[ind][data.y] = 1\n",
    "        accuracy += int((out.argmax(dim=1) == data.y).sum())\n",
    "    all_labels = list(dataset.cellToIndex.keys())\n",
    "    actual = np.array(actual)\n",
    "    precision = dict()\n",
    "    recall = dict()\n",
    "    averageAUROC = []\n",
    "    averageAUPR = []\n",
    "    for (idx, c_label) in enumerate(all_labels):\n",
    "        \n",
    "        fpr, tpr, thresholds = roc_curve(actual[:,idx].astype(int), output[:,idx])\n",
    "        precision[idx], recall[idx], _ = precision_recall_curve(actual[:, idx],\n",
    "                                                        output[:, idx])\n",
    "        averageAUROC.append(auc(fpr, tpr))\n",
    "        averageAUPR.append(round(auc(recall[idx], precision[idx]),4))\n",
    "\n",
    "    return accuracy/len(loader.dataset), mean(averageAUROC), mean(averageAUPR)\n",
    "\n",
    "\n",
    "def train():\n",
    "    model.train()\n",
    "    avgLoss = 0\n",
    "    for data in tqdm(train_loader, total=30):  # Iterate in batches over the training dataset.\n",
    "        data.x = torch.reshape(data.x, (data.x.shape[0], 1))\n",
    "        data.x = data.x.type(torch.FloatTensor)\n",
    "        data = data.to(device)\n",
    "        out = model(data.x, data.edge_index, data.batch)# Perform a single forward pass.\n",
    "        loss = criterion(out, data.y)  # Compute the loss.\n",
    "        loss.backward()  # Derive gradients.\n",
    "        optimizer.step()  # Update parameters based on gradients.\n",
    "        optimizer.zero_grad()  # Clear gradients.\n",
    "        avgLoss += loss\n",
    "    return avgLoss / 30\n",
    "\n",
    "\n",
    "for epoch in range(1, 150):\n",
    "        loss = train()\n",
    "        train_acc, trainAUC, trainAUPR = test(train_loader_testing, 4)\n",
    "        test_acc,testAUC, testAUPR = test(val_loader, 4)\n",
    "        print(f'Epoch: {epoch:03d}, Train Acc: {train_acc:.4f}, Train AUC: {trainAUC:.4f}, Train AUPR: {trainAUPR:.4f}, Test Acc: {test_acc:.4f}, Test Auc: {testAUC:.4f}, Test AUPR: {testAUPR:.4f},  Loss: {loss:.4f}')"
   ]
  },
  {
   "cell_type": "code",
   "execution_count": 15,
   "id": "ab926e3a",
   "metadata": {},
   "outputs": [],
   "source": [
    "torch.save(model.state_dict(), 'model_weightsjun3_atacseq_data.pth')"
   ]
  },
  {
   "cell_type": "code",
   "execution_count": 9,
   "id": "2ec33c0b",
   "metadata": {},
   "outputs": [
    {
     "name": "stdout",
     "output_type": "stream",
     "text": [
      "Fri Mar 11 23:20:13 2022       \r\n",
      "+-----------------------------------------------------------------------------+\r\n",
      "| NVIDIA-SMI 470.82.01    Driver Version: 470.82.01    CUDA Version: 11.4     |\r\n",
      "|-------------------------------+----------------------+----------------------+\r\n",
      "| GPU  Name        Persistence-M| Bus-Id        Disp.A | Volatile Uncorr. ECC |\r\n",
      "| Fan  Temp  Perf  Pwr:Usage/Cap|         Memory-Usage | GPU-Util  Compute M. |\r\n",
      "|                               |                      |               MIG M. |\r\n",
      "|===============================+======================+======================|\r\n",
      "|   0  NVIDIA GeForce ...  Off  | 00000000:24:00.0 Off |                  N/A |\r\n",
      "| 62%   62C    P2   249W / 350W |  13415MiB / 24268MiB |     44%      Default |\r\n",
      "|                               |                      |                  N/A |\r\n",
      "+-------------------------------+----------------------+----------------------+\r\n",
      "                                                                               \r\n",
      "+-----------------------------------------------------------------------------+\r\n",
      "| Processes:                                                                  |\r\n",
      "|  GPU   GI   CI        PID   Type   Process name                  GPU Memory |\r\n",
      "|        ID   ID                                                   Usage      |\r\n",
      "|=============================================================================|\r\n",
      "|    0   N/A  N/A     16829      G   X                                   5MiB |\r\n",
      "|    0   N/A  N/A     20616      C   ...omgrn/env-gpu/bin/python3     2075MiB |\r\n",
      "|    0   N/A  N/A     31521      C   ...omgrn/env-gpu/bin/python3     5657MiB |\r\n",
      "|    0   N/A  N/A     34861      C   ...omgrn/env-gpu/bin/python3     5673MiB |\r\n",
      "+-----------------------------------------------------------------------------+\r\n"
     ]
    }
   ],
   "source": [
    "!nvidia-smi"
   ]
  },
  {
   "cell_type": "code",
   "execution_count": null,
   "id": "3ecbaab0",
   "metadata": {},
   "outputs": [],
   "source": []
  }
 ],
 "metadata": {
  "kernelspec": {
   "display_name": "Python 3 (ipykernel)",
   "language": "python",
   "name": "python3"
  },
  "language_info": {
   "codemirror_mode": {
    "name": "ipython",
    "version": 3
   },
   "file_extension": ".py",
   "mimetype": "text/x-python",
   "name": "python",
   "nbconvert_exporter": "python",
   "pygments_lexer": "ipython3",
   "version": "3.7.4"
  }
 },
 "nbformat": 4,
 "nbformat_minor": 5
}
